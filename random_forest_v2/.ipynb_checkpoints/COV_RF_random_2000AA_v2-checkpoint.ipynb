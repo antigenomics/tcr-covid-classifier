{
 "cells": [
  {
   "cell_type": "markdown",
   "metadata": {},
   "source": [
    "# Contents\n",
    "\n",
    "0) Import and define some functions\n",
    "\n",
    "1) Filter-out non-functional TCR\n",
    "\n",
    "2) Take random 2000 functional amino acid TCR sequences from each file\n",
    " \n",
    "2.1) Adaptive\n",
    "\n",
    "2.2) HIP\n",
    "\n",
    "2.3) FMBA\n",
    "\n",
    "3) Read COVID-associated clonotypes (found by Dasha)  #OR ANY other clonotype tabels :)\n",
    "\n",
    "4) Find fraction of each of these COVID -associated clonotypes with ONE mismatch/indel in each sample \n",
    "(BOUNDED! levenshtein distance <=1)\n",
    "\n",
    "4.1) Adaptive\n",
    "\n",
    "4.2) HIP\n",
    "\n",
    "4.3) FMBA\n",
    "\n",
    "5) Random Forest\n",
    "\n",
    "5.1) train on Adaptive vs HIP and test on them\n",
    "\n",
    "5.1.1) Test on different Datasets from Adaptive\n",
    "\n",
    "5.2) apply RF trained on Adaptive vs HIP to FMBA\n",
    "\n",
    "5.3) Train RF on FMBA\n",
    "\n"
   ]
  },
  {
   "cell_type": "markdown",
   "metadata": {},
   "source": [
    " # 0) Import and define some functions"
   ]
  },
  {
   "cell_type": "code",
   "execution_count": 1,
   "metadata": {},
   "outputs": [],
   "source": [
    "import os #\n",
    "import re\n",
    "import pandas as pd#\n",
    "import numpy as np #\n",
    "import multiprocessing as mp #\n",
    "#from subprocess import Popen, PIPE\n",
    "#from multiprocessing import Pool\n",
    "from matplotlib import pyplot as plt #\n",
    "from polyleven import levenshtein #\n",
    "import statsmodels.stats.multitest as multitest #"
   ]
  },
  {
   "cell_type": "code",
   "execution_count": 2,
   "metadata": {},
   "outputs": [],
   "source": [
    "# override IPython's default %%bash to not buffer all output\n",
    "from IPython.core.magic import register_cell_magic\n",
    "@register_cell_magic\n",
    "def bash(line, cell): get_ipython().system(cell)"
   ]
  },
  {
   "cell_type": "code",
   "execution_count": 3,
   "metadata": {},
   "outputs": [],
   "source": [
    "%load_ext rpy2.ipython"
   ]
  },
  {
   "cell_type": "code",
   "execution_count": 4,
   "metadata": {},
   "outputs": [],
   "source": [
    "%%R\n",
    "library(ggplot2)"
   ]
  },
  {
   "cell_type": "code",
   "execution_count": 5,
   "metadata": {},
   "outputs": [],
   "source": [
    "# Take N random amino acid TCR from samples, do not use any singletone TCRs!\n",
    "\n",
    "def takeRandomAA(input_file_name, out_file_name, N=200):\n",
    "    #---read input file and save TCR amino acid sequence and their counts to dataAA\n",
    "    dataAA={}\n",
    "    with open(input_file_name,\"r\") as in_file:\n",
    "        first_line=in_file.readline()\n",
    "        if not first_line.startswith(\"count\"): #check header\n",
    "            #print(\"proplems with file \"+str(in_file))\n",
    "            return \"proplems with file \"+str(in_file)\n",
    "        for line in in_file:\n",
    "            temp=line.split(\"\\t\")\n",
    "            if temp[3] not in dataAA:\n",
    "                dataAA[temp[3]]=float(temp[0])\n",
    "            else:\n",
    "                dataAA[temp[3]]+=float(temp[0]) \n",
    "                \n",
    "    #---filter out singletones and randommly select N other TCR !!!\n",
    "    shuffledOut=[]\n",
    "    for aa in dataAA:\n",
    "        if int(dataAA[aa]) >1:\n",
    "            shuffledOut.append(aa)\n",
    "    np.random.shuffle(shuffledOut)\n",
    "    if len(shuffledOut)<N:\n",
    "            return \"not enougth clonotypes in \"+str(in_file)\n",
    "                \n",
    "    #---write to output file            \n",
    "    with open(out_file_name,\"w\") as outData:\n",
    "        outData.write(\"pseudo_count\\t_pseudo_freq\\tcdr3_aa\")        \n",
    "        for clonotype in shuffledOut[:N]:\n",
    "            outData.write(\"\\n1\") #count\n",
    "            outData.write(\"\\t\"+str(float(1)/N)) #freq\n",
    "            outData.write(\"\\t\"+str(clonotype)) #aa TCR\n",
    "            \n",
    "    #---finish:)        \n",
    "    return \"good\" \n",
    "\n"
   ]
  },
  {
   "cell_type": "markdown",
   "metadata": {},
   "source": [
    "# 1) Filter-out non-functional TCR"
   ]
  },
  {
   "cell_type": "markdown",
   "metadata": {},
   "source": [
    "### Adaptive"
   ]
  },
  {
   "cell_type": "code",
   "execution_count": 7,
   "metadata": {},
   "outputs": [],
   "source": [
    "#make metadata file for vdjtools\n",
    "with open(\"AB_metadata.txt\",\"w\") as AB_meta_file:\n",
    "    AB_meta_file.write(\"#file.name\\tsample.id\")\n",
    "    files=os.listdir(\"/projects/fmba_covid/adaptive_new/corr\")\n",
    "    for file_name in files:\n",
    "        if re.search(\".TCRB.tsv.txt\",file_name): #check \"extension\" of file\n",
    "            AB_meta_file.write(\"\\n/projects/fmba_covid/adaptive_new/corr/\"+str(file_name)+\"\\t\"+str(file_name))\n",
    "            "
   ]
  },
  {
   "cell_type": "code",
   "execution_count": null,
   "metadata": {},
   "outputs": [],
   "source": [
    "%%bash\n",
    "vdjtools FilterNonFunctional -m AB_metadata.txt AB_corr_functional/"
   ]
  },
  {
   "cell_type": "markdown",
   "metadata": {},
   "source": [
    "### HIP"
   ]
  },
  {
   "cell_type": "code",
   "execution_count": 8,
   "metadata": {},
   "outputs": [],
   "source": [
    "#make metadata file for vdjtools\n",
    "with open(\"HIP_full_metadata.txt\",\"w\") as out_hip_meta:\n",
    "    with open(\"/projects/fmba_covid/hip_full/metadata.txt\",\"r\") as in_hip_meta:\n",
    "        for line in in_hip_meta:\n",
    "            line=re.sub(r\"../mixcr/../corr/\",r\"/projects/fmba_covid/hip_full/corr/\",line)\n",
    "            out_hip_meta.write(line)\n",
    "            "
   ]
  },
  {
   "cell_type": "code",
   "execution_count": null,
   "metadata": {},
   "outputs": [],
   "source": [
    "%%bash\n",
    "vdjtools FilterNonFunctional -m HIP_full_metadata.txt hip_corr_func/\n"
   ]
  },
  {
   "cell_type": "markdown",
   "metadata": {},
   "source": [
    "### FMBA"
   ]
  },
  {
   "cell_type": "code",
   "execution_count": 9,
   "metadata": {},
   "outputs": [],
   "source": [
    "#make metadata file for vdjtools\n",
    "with open(\"fmba_new_corr_TRB_metadata.txt\",\"w\") as out_fmba_meta:\n",
    "    with open(\"/projects/fmba_covid/fmba_new/corr/metadata.txt\",\"r\") as in_fmba_meta:\n",
    "        out_fmba_meta.write(\"file_name\\tsample_id\\t..filter..\\n\")\n",
    "        for line in in_fmba_meta:\n",
    "            if re.search(\"Undetermined\",line): #skip Undetermined samples\n",
    "                continue\n",
    "            elif re.search(\"clonotypes.TRB\",line):\n",
    "                out_fmba_meta.write(\"/projects/fmba_covid/fmba_new/corr/\"+str(line))\n",
    "                "
   ]
  },
  {
   "cell_type": "code",
   "execution_count": null,
   "metadata": {},
   "outputs": [],
   "source": [
    "%%bash\n",
    "vdjtools FilterNonFunctional -m fmba_new_corr_TRB_metadata.txt fmba_new_corr_TRB_func/\n"
   ]
  },
  {
   "cell_type": "code",
   "execution_count": null,
   "metadata": {},
   "outputs": [],
   "source": []
  },
  {
   "cell_type": "markdown",
   "metadata": {},
   "source": [
    "# Take random 2000 functional amino acid TCR sequences from each file\n",
    "\n",
    "singletones from initial clonotype tabels will not be used, counts in resulted tabels will be sent to 1"
   ]
  },
  {
   "cell_type": "markdown",
   "metadata": {},
   "source": [
    "### Adaptive"
   ]
  },
  {
   "cell_type": "code",
   "execution_count": 3,
   "metadata": {},
   "outputs": [
    {
     "name": "stdout",
     "output_type": "stream",
     "text": [
      "fraction of samples that will not pass filter\n"
     ]
    },
    {
     "data": {
      "text/plain": [
       "0.0007072135785007072"
      ]
     },
     "execution_count": 3,
     "metadata": {},
     "output_type": "execute_result"
    },
    {
     "data": {
      "image/png": "[encoded data removed]",
      "text/plain": [
       "<Figure size 432x288 with 1 Axes>"
      ]
     },
     "metadata": {
      "needs_background": "light"
     },
     "output_type": "display_data"
    }
   ],
   "source": [
    "#PLOT size distribution\n",
    "adaptive_stats=pd.read_csv(\"AB_corr_functional/ncfilter.summary.txt\",\n",
    "                           sep=\"\\t\",header=0)\n",
    "plt.hist(adaptive_stats[\"passed_clones\"])\n",
    "print(\"fraction of samples that will not pass filter\")\n",
    "sum(adaptive_stats[\"passed_clones\"]<2000)/adaptive_stats.shape[0]\n"
   ]
  },
  {
   "cell_type": "code",
   "execution_count": null,
   "metadata": {},
   "outputs": [],
   "source": [
    "#-----Take top 2000 and save them to folder\n",
    "number_of_TCRs_to_take=2000\n",
    "\n",
    "adaptive_stats=pd.read_csv(\"AB_corr_functional/ncfilter.summary.txt\",\n",
    "                           sep=\"\\t\",header=0)\n",
    "normal_size_sammples=list(adaptive_stats.loc[adaptive_stats[\"passed_clones\"]>number_of_TCRs_to_take,\"sample_id\"])\n",
    "\n",
    "input_folder=\"AB_corr_functional\"\n",
    "output_folder=\"AB_corr_functional_random\"+str(number_of_TCRs_to_take)+\"AA\"\n",
    "#---make output folder\n",
    "print(output_folder)\n",
    "try:\n",
    "    os.mkdir(output_folder)\n",
    "except:\n",
    "    pass\n",
    "\n",
    "#--define function wrapper for takeTopAA\n",
    "def takeRandomAA_wrap(sample_id, input_folder=input_folder, output_folder=output_folder, number_of_TCRs_to_take=number_of_TCRs_to_take):\n",
    "    result=takeRandomAA(str(input_folder) +\"/\"+str(sample_id),\n",
    "                             str(output_folder)+\"/\"+str(sample_id),\n",
    "                             number_of_TCRs_to_take)\n",
    "    return (sample_id, result)\n",
    "\n",
    "#--run multiprocess                                   \n",
    "print(\"START\")    \n",
    "pool = mp.Pool(30) #SET THE NUMBER OF CORES THAT YOU GOING TO USE\n",
    "results=pool.map(takeRandomAA_wrap, normal_size_sammples)\n",
    "pool.close()\n",
    "good_or_bad=dict(results)\n",
    "print(\"DONE\")\n",
    "\n",
    "#--make metadata file\n",
    "with open(str(output_folder)+\"/metadata.txt\",\"w\") as meta_file:\n",
    "    for sample_id in good_or_bad:\n",
    "        if good_or_bad[sample_id]==\"good\":\n",
    "            meta_file.write(str(sample_id)+\"\\n\")\n",
    "        else:\n",
    "            print(good_or_bad[sample_id])\n",
    "        \n",
    "        "
   ]
  },
  {
   "cell_type": "code",
   "execution_count": null,
   "metadata": {},
   "outputs": [],
   "source": []
  },
  {
   "cell_type": "markdown",
   "metadata": {},
   "source": [
    "### HIP"
   ]
  },
  {
   "cell_type": "code",
   "execution_count": 12,
   "metadata": {},
   "outputs": [
    {
     "name": "stdout",
     "output_type": "stream",
     "text": [
      "fraction of samples that will not pass filter\n"
     ]
    },
    {
     "data": {
      "text/plain": [
       "0.001272264631043257"
      ]
     },
     "execution_count": 12,
     "metadata": {},
     "output_type": "execute_result"
    },
    {
     "data": {
      "image/png": "[encoded data removed]",
      "text/plain": [
       "<Figure size 432x288 with 1 Axes>"
      ]
     },
     "metadata": {
      "needs_background": "light"
     },
     "output_type": "display_data"
    }
   ],
   "source": [
    "#PLOT size distribution\n",
    "hip_stats=pd.read_csv(\"hip_corr_func/ncfilter.summary.txt\",\n",
    "                           sep=\"\\t\",header=0)\n",
    "plt.hist(hip_stats[\"passed_clones\"])\n",
    "print(\"fraction of samples that will not pass filter\")\n",
    "sum(hip_stats[\"passed_clones\"]<2000)/hip_stats.shape[0]\n"
   ]
  },
  {
   "cell_type": "code",
   "execution_count": 13,
   "metadata": {},
   "outputs": [
    {
     "name": "stdout",
     "output_type": "stream",
     "text": [
      "hip_corr_functional_random2000AA\n",
      "START\n",
      "DONE\n",
      "not enougth clonotypes in <_io.TextIOWrapper name='hip_corr_func/HIP13753.txt' mode='r' encoding='UTF-8'>\n",
      "not enougth clonotypes in <_io.TextIOWrapper name='hip_corr_func/Keck0052_MC1.txt' mode='r' encoding='UTF-8'>\n"
     ]
    }
   ],
   "source": [
    "#-----Take top 2000 and save them to folder\n",
    "number_of_TCRs_to_take=2000\n",
    "\n",
    "hip_stats=pd.read_csv(\"hip_corr_func/ncfilter.summary.txt\",\n",
    "                           sep=\"\\t\",header=0)\n",
    "normal_size_sammples=list(hip_stats.loc[hip_stats[\"passed_clones\"]>number_of_TCRs_to_take,\"sample_id\"])\n",
    "normal_size_sammples=[str(xT)+\".txt\" for xT in normal_size_sammples] #add .txt to the end of files to be like Adaptive\n",
    "\n",
    "input_folder=\"hip_corr_func\"\n",
    "output_folder=\"hip_corr_functional_random\"+str(number_of_TCRs_to_take)+\"AA\"\n",
    "\n",
    "#---make output folder\n",
    "print(output_folder)\n",
    "try:\n",
    "    os.mkdir(output_folder)\n",
    "except:\n",
    "    pass\n",
    "\n",
    "#--define function wrapper for takeTopAA\n",
    "def takeRandomAA_wrap(sample_id, input_folder=input_folder, output_folder=output_folder, number_of_TCRs_to_take=number_of_TCRs_to_take):\n",
    "    result=takeRandomAA(str(input_folder) +\"/\"+str(sample_id),\n",
    "                             str(output_folder)+\"/\"+str(sample_id),\n",
    "                             number_of_TCRs_to_take)\n",
    "    return (sample_id, result)\n",
    "\n",
    "#--run multiprocess                                   \n",
    "print(\"START\")    \n",
    "pool = mp.Pool(30) #SET THE NUMBER OF CORES THAT YOU GOING TO USE\n",
    "results=pool.map(takeRandomAA_wrap, normal_size_sammples)\n",
    "pool.close()\n",
    "good_or_bad=dict(results)\n",
    "print(\"DONE\")\n",
    "\n",
    "#--make metadata file\n",
    "with open(str(output_folder)+\"/metadata.txt\",\"w\") as meta_file:\n",
    "    for sample_id in good_or_bad:\n",
    "        if good_or_bad[sample_id]==\"good\":\n",
    "            meta_file.write(str(sample_id)+\"\\n\")\n",
    "        else:\n",
    "            print(good_or_bad[sample_id])\n",
    "        \n",
    "        "
   ]
  },
  {
   "cell_type": "code",
   "execution_count": null,
   "metadata": {},
   "outputs": [],
   "source": []
  },
  {
   "cell_type": "markdown",
   "metadata": {},
   "source": [
    "### FMBA"
   ]
  },
  {
   "cell_type": "code",
   "execution_count": 19,
   "metadata": {},
   "outputs": [
    {
     "name": "stdout",
     "output_type": "stream",
     "text": [
      "fraction of samples that will not pass filter\n"
     ]
    },
    {
     "data": {
      "text/plain": [
       "0.2671353251318102"
      ]
     },
     "execution_count": 19,
     "metadata": {},
     "output_type": "execute_result"
    },
    {
     "data": {
      "image/png": "[encoded data removed]",
      "text/plain": [
       "<Figure size 432x288 with 1 Axes>"
      ]
     },
     "metadata": {
      "needs_background": "light"
     },
     "output_type": "display_data"
    }
   ],
   "source": [
    "#PLOT size distribution\n",
    "fmba_stats=pd.read_csv(\"fmba_new_corr_TRB_func/ncfilter.summary.txt\",\n",
    "                           sep=\"\\t\",header=0)\n",
    "plt.hist(fmba_stats[\"passed_clones\"])\n",
    "print(\"fraction of samples that will not pass filter\")\n",
    "sum(fmba_stats[\"passed_clones\"]<2000)/fmba_stats.shape[0]\n",
    "\n"
   ]
  },
  {
   "cell_type": "code",
   "execution_count": 20,
   "metadata": {},
   "outputs": [
    {
     "name": "stdout",
     "output_type": "stream",
     "text": [
      "current       821\n",
      "healthy       409\n",
      "suspicious     20\n",
      "Name: sample.COVID_status, dtype: int64\n"
     ]
    },
    {
     "data": {
      "text/plain": [
       "{'whiskers': [<matplotlib.lines.Line2D at 0x7f92f643e9d0>,\n",
       "  <matplotlib.lines.Line2D at 0x7f92f6445b90>,\n",
       "  <matplotlib.lines.Line2D at 0x7f92f6452a50>,\n",
       "  <matplotlib.lines.Line2D at 0x7f92f8d24850>,\n",
       "  <matplotlib.lines.Line2D at 0x7f92f63e1d90>,\n",
       "  <matplotlib.lines.Line2D at 0x7f92f63eb390>],\n",
       " 'caps': [<matplotlib.lines.Line2D at 0x7f92f642bd10>,\n",
       "  <matplotlib.lines.Line2D at 0x7f92f644a5d0>,\n",
       "  <matplotlib.lines.Line2D at 0x7f92f644aad0>,\n",
       "  <matplotlib.lines.Line2D at 0x7f92f645a950>,\n",
       "  <matplotlib.lines.Line2D at 0x7f92f63eb810>,\n",
       "  <matplotlib.lines.Line2D at 0x7f92f63ebd10>],\n",
       " 'boxes': [<matplotlib.lines.Line2D at 0x7f92f643e990>,\n",
       "  <matplotlib.lines.Line2D at 0x7f92f6452550>,\n",
       "  <matplotlib.lines.Line2D at 0x7f92f63e1890>],\n",
       " 'medians': [<matplotlib.lines.Line2D at 0x7f92f644ab10>,\n",
       "  <matplotlib.lines.Line2D at 0x7f92f645ae50>,\n",
       "  <matplotlib.lines.Line2D at 0x7f92f63ebdd0>],\n",
       " 'fliers': [<matplotlib.lines.Line2D at 0x7f92f6445c10>,\n",
       "  <matplotlib.lines.Line2D at 0x7f92f6452f90>,\n",
       "  <matplotlib.lines.Line2D at 0x7f92f63f2790>],\n",
       " 'means': []}"
      ]
     },
     "execution_count": 20,
     "metadata": {},
     "output_type": "execute_result"
    },
    {
     "data": {
      "image/png": "[encoded data removed]",
      "text/plain": [
       "<Figure size 432x288 with 1 Axes>"
      ]
     },
     "metadata": {
      "needs_background": "light"
     },
     "output_type": "display_data"
    }
   ],
   "source": [
    "#PLOT number of clonotypes in healthy and in covid samples\n",
    "FMBA_metadata=pd.read_csv(\"/projects/fmba_covid/metadata_fmba_full_v2.txt\",\n",
    "                          sep=\"\\t\",header=0)\n",
    "\n",
    "print(FMBA_metadata[\"sample.COVID_status\"].value_counts())\n",
    "fmba_stats[\"short_name\"]=[int(xT.split(\"_\")[0]) for xT in fmba_stats[\"sample_id\"]]\n",
    "fmba_stats=fmba_stats.merge(FMBA_metadata, how='inner', left_on=\"short_name\", right_on=\"CSP\")\n",
    "\n",
    "plt.boxplot([fmba_stats.loc[fmba_stats[\"sample.COVID_status\"]==\"healthy\",\"passed_clones\"],\n",
    "             fmba_stats.loc[(fmba_stats[\"sample.COVID_status\"]==\"current\") &\n",
    "                            (fmba_stats[\"sample.COVID_IgG\"]==\"yes\"),\"passed_clones\"],\n",
    "             fmba_stats.loc[(fmba_stats[\"sample.COVID_status\"]==\"current\") &\n",
    "                            (fmba_stats[\"sample.COVID_IgG\"]==\"no\"),\"passed_clones\"]],\n",
    "           labels=[\"healthy\",\"current_IgG+\",\"current_IgG-\"])\n",
    "\n"
   ]
  },
  {
   "cell_type": "code",
   "execution_count": null,
   "metadata": {},
   "outputs": [],
   "source": []
  },
  {
   "cell_type": "code",
   "execution_count": 21,
   "metadata": {},
   "outputs": [
    {
     "name": "stdout",
     "output_type": "stream",
     "text": [
      "fmba_new_corr_TRB_functional_random2000AA\n",
      "START\n",
      "DONE\n",
      "not enougth clonotypes in <_io.TextIOWrapper name='fmba_new_corr_TRB_func/050000070808_S18_L001.clonotypes.TRB.txt' mode='r' encoding='UTF-8'>\n",
      "not enougth clonotypes in <_io.TextIOWrapper name='fmba_new_corr_TRB_func/050000130808_S85_L001.clonotypes.TRB.txt' mode='r' encoding='UTF-8'>\n",
      "not enougth clonotypes in <_io.TextIOWrapper name='fmba_new_corr_TRB_func/050002000808_S73_L001.clonotypes.TRB.txt' mode='r' encoding='UTF-8'>\n",
      "not enougth clonotypes in <_io.TextIOWrapper name='fmba_new_corr_TRB_func/050002050808_S131_L002.clonotypes.TRB.txt' mode='r' encoding='UTF-8'>\n",
      "not enougth clonotypes in <_io.TextIOWrapper name='fmba_new_corr_TRB_func/210002270808_S160_L002.clonotypes.TRB.txt' mode='r' encoding='UTF-8'>\n",
      "not enougth clonotypes in <_io.TextIOWrapper name='fmba_new_corr_TRB_func/250002690808_S109_L002.clonotypes.TRB.txt' mode='r' encoding='UTF-8'>\n",
      "not enougth clonotypes in <_io.TextIOWrapper name='fmba_new_corr_TRB_func/260000320807_S144_L002.clonotypes.TRB.txt' mode='r' encoding='UTF-8'>\n",
      "not enougth clonotypes in <_io.TextIOWrapper name='fmba_new_corr_TRB_func/260002790807_S164_L002.clonotypes.TRB.txt' mode='r' encoding='UTF-8'>\n",
      "not enougth clonotypes in <_io.TextIOWrapper name='fmba_new_corr_TRB_func/280000260807_S119_L002.clonotypes.TRB.txt' mode='r' encoding='UTF-8'>\n",
      "not enougth clonotypes in <_io.TextIOWrapper name='fmba_new_corr_TRB_func/330001930808_S98_L002.clonotypes.TRB.txt' mode='r' encoding='UTF-8'>\n",
      "not enougth clonotypes in <_io.TextIOWrapper name='fmba_new_corr_TRB_func/440000300808_S78_L001.clonotypes.TRB.txt' mode='r' encoding='UTF-8'>\n",
      "not enougth clonotypes in <_io.TextIOWrapper name='fmba_new_corr_TRB_func/440000480808_S94_L001.clonotypes.TRB.txt' mode='r' encoding='UTF-8'>\n",
      "not enougth clonotypes in <_io.TextIOWrapper name='fmba_new_corr_TRB_func/440001210808_S70_L001.clonotypes.TRB.txt' mode='r' encoding='UTF-8'>\n",
      "not enougth clonotypes in <_io.TextIOWrapper name='fmba_new_corr_TRB_func/440002150807_S183_L002.clonotypes.TRB.txt' mode='r' encoding='UTF-8'>\n",
      "not enougth clonotypes in <_io.TextIOWrapper name='fmba_new_corr_TRB_func/440003240808_S14_L001.clonotypes.TRB.txt' mode='r' encoding='UTF-8'>\n",
      "not enougth clonotypes in <_io.TextIOWrapper name='fmba_new_corr_TRB_func/460002780808_S19_L001.clonotypes.TRB.txt' mode='r' encoding='UTF-8'>\n",
      "not enougth clonotypes in <_io.TextIOWrapper name='fmba_new_corr_TRB_func/470003170807_S116_L002.clonotypes.TRB.txt' mode='r' encoding='UTF-8'>\n",
      "not enougth clonotypes in <_io.TextIOWrapper name='fmba_new_corr_TRB_func/500004290808_S32_L001.clonotypes.TRB.txt' mode='r' encoding='UTF-8'>\n",
      "not enougth clonotypes in <_io.TextIOWrapper name='fmba_new_corr_TRB_func/520002210808_S57_L001.clonotypes.TRB.txt' mode='r' encoding='UTF-8'>\n",
      "not enougth clonotypes in <_io.TextIOWrapper name='fmba_new_corr_TRB_func/540002640808_S161_L002.clonotypes.TRB.txt' mode='r' encoding='UTF-8'>\n",
      "not enougth clonotypes in <_io.TextIOWrapper name='fmba_new_corr_TRB_func/540002700808_S114_L002.clonotypes.TRB.txt' mode='r' encoding='UTF-8'>\n",
      "not enougth clonotypes in <_io.TextIOWrapper name='fmba_new_corr_TRB_func/540003420808_S4_L001.clonotypes.TRB.txt' mode='r' encoding='UTF-8'>\n",
      "not enougth clonotypes in <_io.TextIOWrapper name='fmba_new_corr_TRB_func/590002690808_S72_L001.clonotypes.TRB.txt' mode='r' encoding='UTF-8'>\n",
      "not enougth clonotypes in <_io.TextIOWrapper name='fmba_new_corr_TRB_func/640003540808_S10_L001.clonotypes.TRB.txt' mode='r' encoding='UTF-8'>\n",
      "not enougth clonotypes in <_io.TextIOWrapper name='fmba_new_corr_TRB_func/670005070808_S140_L002.clonotypes.TRB.txt' mode='r' encoding='UTF-8'>\n",
      "not enougth clonotypes in <_io.TextIOWrapper name='fmba_new_corr_TRB_func/670005530808_S192_L002.clonotypes.TRB.txt' mode='r' encoding='UTF-8'>\n",
      "not enougth clonotypes in <_io.TextIOWrapper name='fmba_new_corr_TRB_func/690000110808_S116_L002.clonotypes.TRB.txt' mode='r' encoding='UTF-8'>\n",
      "not enougth clonotypes in <_io.TextIOWrapper name='fmba_new_corr_TRB_func/690001030807_S11_L001.clonotypes.TRB.txt' mode='r' encoding='UTF-8'>\n",
      "not enougth clonotypes in <_io.TextIOWrapper name='fmba_new_corr_TRB_func/770103470808_S166_L002.clonotypes.TRB.txt' mode='r' encoding='UTF-8'>\n",
      "not enougth clonotypes in <_io.TextIOWrapper name='fmba_new_corr_TRB_func/780004790808_S155_L002.clonotypes.TRB.txt' mode='r' encoding='UTF-8'>\n",
      "not enougth clonotypes in <_io.TextIOWrapper name='fmba_new_corr_TRB_func/780004910808_S146_L002.clonotypes.TRB.txt' mode='r' encoding='UTF-8'>\n",
      "not enougth clonotypes in <_io.TextIOWrapper name='fmba_new_corr_TRB_func/780004960808_S144_L002.clonotypes.TRB.txt' mode='r' encoding='UTF-8'>\n",
      "not enougth clonotypes in <_io.TextIOWrapper name='fmba_new_corr_TRB_func/780005000808_S153_L002.clonotypes.TRB.txt' mode='r' encoding='UTF-8'>\n",
      "not enougth clonotypes in <_io.TextIOWrapper name='fmba_new_corr_TRB_func/780008520808_S181_L002.clonotypes.TRB.txt' mode='r' encoding='UTF-8'>\n"
     ]
    }
   ],
   "source": [
    "#-----Take top 2000 and save them to folder\n",
    "number_of_TCRs_to_take=2000\n",
    "\n",
    "fmba_stats=pd.read_csv(\"fmba_new_corr_TRB_func/ncfilter.summary.txt\",\n",
    "                           sep=\"\\t\",header=0)\n",
    "normal_size_sammples=list(fmba_stats.loc[fmba_stats[\"passed_clones\"]>number_of_TCRs_to_take,\"sample_id\"])\n",
    "normal_size_sammples=[str(xT)+\".txt\" for xT in normal_size_sammples] #add .txt to the end of files to be like Adaptive\n",
    "\n",
    "input_folder=\"fmba_new_corr_TRB_func\"\n",
    "output_folder=\"fmba_new_corr_TRB_functional_random\"+str(number_of_TCRs_to_take)+\"AA\"\n",
    "\n",
    "#---make output folder\n",
    "print(output_folder)\n",
    "try:\n",
    "    os.mkdir(output_folder)\n",
    "except:\n",
    "    pass\n",
    "\n",
    "#--define function wrapper for takeTopAA\n",
    "def takeRandomAA_wrap(sample_id, input_folder=input_folder, output_folder=output_folder, number_of_TCRs_to_take=number_of_TCRs_to_take):\n",
    "    result=takeRandomAA(str(input_folder) +\"/\"+str(sample_id),\n",
    "                             str(output_folder)+\"/\"+str(sample_id),\n",
    "                             number_of_TCRs_to_take)\n",
    "    return (sample_id,result)\n",
    "\n",
    "#--run multiprocess                                   \n",
    "print(\"START\")    \n",
    "pool = mp.Pool(30) #SET THE NUMBER OF CORES THAT YOU GOING TO USE\n",
    "results=pool.map(takeRandomAA_wrap, normal_size_sammples)\n",
    "pool.close()\n",
    "good_or_bad=dict(results)\n",
    "print(\"DONE\")\n",
    "\n",
    "#--make metadata file\n",
    "with open(str(output_folder)+\"/metadata.txt\",\"w\") as meta_file:\n",
    "    for sample_id in good_or_bad:\n",
    "        if good_or_bad[sample_id]==\"good\":\n",
    "            meta_file.write(str(sample_id)+\"\\n\")\n",
    "        else:\n",
    "            print(good_or_bad[sample_id])\n",
    "        \n",
    "        "
   ]
  },
  {
   "cell_type": "code",
   "execution_count": null,
   "metadata": {},
   "outputs": [],
   "source": []
  },
  {
   "cell_type": "markdown",
   "metadata": {},
   "source": [
    "## Read COVID-associated clonotypes (found by Dasha)"
   ]
  },
  {
   "cell_type": "code",
   "execution_count": 23,
   "metadata": {},
   "outputs": [
    {
     "name": "stdout",
     "output_type": "stream",
     "text": [
      "            cdr3aa  Found_COVID-  nFound_COVID-  Found_COVID+  nFound_COVID+  \\\n",
      "0      CSARSGHEQYF             8            346           311            796   \n",
      "1      CSASSGHEQYF             9            345           273            834   \n",
      "2      CSATSGHEQYF             3            351           177            930   \n",
      "3      CSARSGFEQYF             3            351           177            930   \n",
      "4  CASSQGNRANTEAFF             3            351           172            935   \n",
      "\n",
      "   odds_ratio       p_value  \n",
      "0   16.897927  3.460932e-32  \n",
      "1   12.547962  6.753469e-26  \n",
      "2   22.267742  3.472910e-19  \n",
      "3   22.267742  3.472910e-19  \n",
      "4   21.522995  1.797573e-18  \n",
      "total\n",
      "20212\n",
      "pass fdr correction\n",
      "20212\n",
      "pass bonferroni correction\n",
      "105\n"
     ]
    }
   ],
   "source": [
    "clones=pd.read_csv(\"AB_prediction/covid_status_top.txt\",sep=\"\\t\", index_col=0)\n",
    "print(clones.head())\n",
    "print(\"total\")\n",
    "print(clones.shape[0])\n",
    "print(\"pass fdr correction\")\n",
    "print(sum(multitest.multipletests(clones[\"p_value\"],method=\"fdr_bh\")[0]))\n",
    "print(\"pass bonferroni correction\")\n",
    "print(sum(multitest.multipletests(clones[\"p_value\"],method=\"bonferroni\")[0]))"
   ]
  },
  {
   "cell_type": "code",
   "execution_count": 24,
   "metadata": {},
   "outputs": [
    {
     "data": {
      "text/plain": [
       "1000"
      ]
     },
     "execution_count": 24,
     "metadata": {},
     "output_type": "execute_result"
    }
   ],
   "source": [
    "#Take top 1000 clonotypes\n",
    "COVID_associated_clones=set(clones.head(1000)[\"cdr3aa\"]) #check for duplicates\n",
    "COVID_associated_clones=list(COVID_associated_clones)\n",
    "len(COVID_associated_clones) #some of them are non-functional, but i will apply them to functional-filtred clonotypes\n"
   ]
  },
  {
   "cell_type": "markdown",
   "metadata": {},
   "source": [
    "## Find fraction of each of these COVID -associated clonotypes with ONE mismatch/indel in each sample "
   ]
  },
  {
   "cell_type": "code",
   "execution_count": 25,
   "metadata": {},
   "outputs": [],
   "source": [
    "def get_clonotypes_frequences_levenshtein1(sample_name, path_to_folder_with_sample, clones_for_analyse , treshold=100):\n",
    "    local_clones_in_samples=dict([(xT,0) for xT in clones_for_analyse]) #initialize by all zeroes\n",
    "    #------read clonotype tabel    \n",
    "    with open(str(path_to_folder_with_sample)+\"/\"+str(sample_name),\"r\") as clonotype_file:\n",
    "        total_counts=0\n",
    "        for clone in clonotype_file.readlines()[1:]: #skip header\n",
    "            clone=clone.strip().split(\"\\t\")\n",
    "            total_counts+=float(clone[0]) #clone[0] is clone count\n",
    "            #zero or one mismatch/indel (clone[2] is amino acid CDR3 sequence)\n",
    "            for clone_of_interest in local_clones_in_samples:\n",
    "                if levenshtein(clone_of_interest, clone[2], 1)<=1: #!!!FUNCTION FOR UPPER BOUNDED LEVENSHTIEN!!!\n",
    "                    local_clones_in_samples[clone_of_interest]+=float(clone[1]) #clone[1] is fraction\n",
    "        if total_counts<treshold: #we will remember names of too small samples\n",
    "            return (sample_name,\"too_small\")\n",
    "        return (sample_name, local_clones_in_samples)"
   ]
  },
  {
   "cell_type": "markdown",
   "metadata": {},
   "source": [
    "#### Adaptive"
   ]
  },
  {
   "cell_type": "code",
   "execution_count": 27,
   "metadata": {},
   "outputs": [
    {
     "name": "stdout",
     "output_type": "stream",
     "text": [
      "START\n",
      "DONE\n",
      "0\n"
     ]
    }
   ],
   "source": [
    "treshold=100 #remove samples smaller than this treshold\n",
    "folder_with_samples=\"AB_corr_functional_random2000AA\" #must contain metadata.txt\n",
    "output_file_name=\"AB_prediction/AB_random2000AA_freq_of_top1000_leven1.tsv\"\n",
    "\n",
    "#----------read sample names----------\n",
    "samples=pd.read_csv(str(folder_with_samples)+\"/metadata.txt\",sep=\"\\t\",\n",
    "                   header=None)\n",
    "samples=list(samples[0])\n",
    "#-------------------------------------\n",
    "#----find fraction of clonotypes of interest in samples\n",
    "def get_clonotypes_frequences_levenshtein1_wrapper(sample_name,\n",
    "                                                   path_to_folder_with_sample=folder_with_samples,\n",
    "                                                   clones_for_analyse=COVID_associated_clones,\n",
    "                                                   treshold=treshold):\n",
    "    return get_clonotypes_frequences_levenshtein1(sample_name,\n",
    "                                                  path_to_folder_with_sample=path_to_folder_with_sample,\n",
    "                                                  clones_for_analyse=clones_for_analyse,\n",
    "                                                  treshold=treshold)\n",
    "\n",
    "\n",
    "\n",
    "print(\"START\")    \n",
    "pool = mp.Pool(30) #SET THE NUMBER OF CORES THAT YOU GOING TO USE\n",
    "results=pool.map(get_clonotypes_frequences_levenshtein1_wrapper, samples)\n",
    "pool.close()\n",
    "clones_in_samples=dict(results)\n",
    "print(\"DONE\")\n",
    "\n",
    "#----save results\n",
    "bad_files=0\n",
    "with open(output_file_name,\"w\") as out_file:\n",
    "    out_file.write(\"\\t\".join(COVID_associated_clones))\n",
    "    for sample_name in clones_in_samples:\n",
    "        if clones_in_samples[sample_name]==\"too_small\":\n",
    "            bad_files+=1\n",
    "            continue\n",
    "        else:\n",
    "            out_file.write(\"\\n\")\n",
    "            out_file.write(str(sample_name)+\"\\t\")\n",
    "            out_file.write(\"\\t\".join([str(clones_in_samples[sample_name][clone]) for clone in COVID_associated_clones]))\n",
    "            \n",
    "print(bad_files)\n",
    "\n"
   ]
  },
  {
   "cell_type": "markdown",
   "metadata": {},
   "source": [
    "#### HIP"
   ]
  },
  {
   "cell_type": "code",
   "execution_count": 28,
   "metadata": {},
   "outputs": [
    {
     "name": "stdout",
     "output_type": "stream",
     "text": [
      "START\n",
      "DONE\n",
      "0\n"
     ]
    }
   ],
   "source": [
    "treshold=100 #remove samples smaller than this treshold\n",
    "folder_with_samples=\"hip_corr_functional_random2000AA\" #must contain metadata.txt\n",
    "output_file_name=\"AB_prediction/HIP_random2000AA_freq_of_top1000_leven1.tsv\"\n",
    "\n",
    "#----------read sample names----------\n",
    "samples=pd.read_csv(str(folder_with_samples)+\"/metadata.txt\",sep=\"\\t\",\n",
    "                   header=None)\n",
    "samples=list(samples[0])\n",
    "#-------------------------------------\n",
    "#----find fraction of clonotypes of interest in samples\n",
    "def get_clonotypes_frequences_levenshtein1_wrapper(sample_name,\n",
    "                                                   path_to_folder_with_sample=folder_with_samples,\n",
    "                                                   clones_for_analyse=COVID_associated_clones,\n",
    "                                                   treshold=treshold):\n",
    "    return get_clonotypes_frequences_levenshtein1(sample_name,\n",
    "                                                  path_to_folder_with_sample=path_to_folder_with_sample,\n",
    "                                                  clones_for_analyse=clones_for_analyse,\n",
    "                                                  treshold=treshold)\n",
    "\n",
    "\n",
    "\n",
    "print(\"START\")    \n",
    "pool = mp.Pool(30) #SET THE NUMBER OF CORES THAT YOU GOING TO USE\n",
    "results=pool.map(get_clonotypes_frequences_levenshtein1_wrapper, samples)\n",
    "pool.close()\n",
    "clones_in_samples=dict(results)\n",
    "print(\"DONE\")\n",
    "\n",
    "#----save results\n",
    "bad_files=0\n",
    "with open(output_file_name,\"w\") as out_file:\n",
    "    out_file.write(\"\\t\".join(COVID_associated_clones))\n",
    "    for sample_name in clones_in_samples:\n",
    "        if clones_in_samples[sample_name]==\"too_small\":\n",
    "            bad_files+=1\n",
    "            continue\n",
    "        else:\n",
    "            out_file.write(\"\\n\")\n",
    "            out_file.write(str(sample_name)+\"\\t\")\n",
    "            out_file.write(\"\\t\".join([str(clones_in_samples[sample_name][clone]) for clone in COVID_associated_clones]))\n",
    "            \n",
    "print(bad_files)\n",
    "\n",
    "\n"
   ]
  },
  {
   "cell_type": "markdown",
   "metadata": {},
   "source": [
    "#### FMBA"
   ]
  },
  {
   "cell_type": "code",
   "execution_count": 111,
   "metadata": {},
   "outputs": [
    {
     "name": "stdout",
     "output_type": "stream",
     "text": [
      "START\n",
      "DONE\n",
      "0\n"
     ]
    }
   ],
   "source": [
    "treshold=100 #remove samples smaller than this treshold\n",
    "folder_with_samples=\"fmba_new_corr_TRB_functional_random2000AA\" #must contain metadata.txt\n",
    "output_file_name=\"AB_prediction/FMBA_new_random2000AA_freq_of_top1000_leven1.tsv\"\n",
    "\n",
    "#----------read sample names----------\n",
    "samples=pd.read_csv(str(folder_with_samples)+\"/metadata.txt\",sep=\"\\t\",\n",
    "                   header=None)\n",
    "samples=list(samples[0])\n",
    "#-------------------------------------\n",
    "#----find fraction of clonotypes of interest in samples\n",
    "def get_clonotypes_frequences_levenshtein1_wrapper(sample_name,\n",
    "                                                   path_to_folder_with_sample=folder_with_samples,\n",
    "                                                   clones_for_analyse=COVID_associated_clones,\n",
    "                                                   treshold=treshold):\n",
    "    return get_clonotypes_frequences_levenshtein1(sample_name,\n",
    "                                                  path_to_folder_with_sample=path_to_folder_with_sample,\n",
    "                                                  clones_for_analyse=clones_for_analyse,\n",
    "                                                  treshold=treshold)\n",
    "\n",
    "\n",
    "\n",
    "print(\"START\")    \n",
    "pool = mp.Pool(30) #SET THE NUMBER OF CORES THAT YOU GOING TO USE\n",
    "results=pool.map(get_clonotypes_frequences_levenshtein1_wrapper, samples)\n",
    "pool.close()\n",
    "clones_in_samples=dict(results)\n",
    "print(\"DONE\")\n",
    "\n",
    "#----save results\n",
    "bad_files=0\n",
    "with open(output_file_name,\"w\") as out_file:\n",
    "    out_file.write(\"\\t\".join(COVID_associated_clones))\n",
    "    for sample_name in clones_in_samples:\n",
    "        if clones_in_samples[sample_name]==\"too_small\":\n",
    "            bad_files+=1\n",
    "            continue\n",
    "        else:\n",
    "            out_file.write(\"\\n\")\n",
    "            out_file.write(str(sample_name)+\"\\t\")\n",
    "            out_file.write(\"\\t\".join([str(clones_in_samples[sample_name][clone]) for clone in COVID_associated_clones]))\n",
    "            \n",
    "print(bad_files)\n",
    "\n"
   ]
  },
  {
   "cell_type": "markdown",
   "metadata": {},
   "source": [
    "## Vizalization"
   ]
  },
  {
   "cell_type": "code",
   "execution_count": null,
   "metadata": {},
   "outputs": [],
   "source": [
    "#here some plots will look appropriate"
   ]
  },
  {
   "cell_type": "code",
   "execution_count": null,
   "metadata": {},
   "outputs": [],
   "source": []
  },
  {
   "cell_type": "code",
   "execution_count": null,
   "metadata": {},
   "outputs": [],
   "source": []
  },
  {
   "cell_type": "markdown",
   "metadata": {},
   "source": [
    "## 5) Random Forest"
   ]
  },
  {
   "cell_type": "code",
   "execution_count": 44,
   "metadata": {},
   "outputs": [],
   "source": [
    "#RANDOMM FOREST with nested cross-validation\n",
    "#HEAVILY BASED ON https://machinelearningmastery.com/nested-cross-validation-for-machine-learning-with-python/\n",
    "\n",
    "# manual nested cross-validation for random forest on a classification dataset\n",
    "from numpy import mean\n",
    "from numpy import std\n",
    "from sklearn.datasets import make_classification\n",
    "from sklearn.model_selection import KFold\n",
    "from sklearn.model_selection import StratifiedKFold\n",
    "from sklearn.metrics import confusion_matrix\n",
    "from sklearn.model_selection import GridSearchCV\n",
    "from sklearn.ensemble import RandomForestClassifier\n",
    "from sklearn.metrics import balanced_accuracy_score\n",
    "\n",
    "def nested_cross_validation(X_to_fit, y_to_fit, \n",
    "                            max_features=[20, 50, 100],\n",
    "                            max_depth=[5,7,9]):\n",
    "    \n",
    "    # configure the cross-validation procedure\n",
    "    cv_outer = StratifiedKFold(n_splits=5, shuffle=True, random_state=1)\n",
    "\n",
    "    # enumerate splits\n",
    "    outer_results = list()\n",
    "    #class_weight = dict({\"acute\":784, \"healthy\":1108}) #weights reverse to sample sizes\n",
    "\n",
    "    for train_ix, test_ix in cv_outer.split(X_to_fit, y_to_fit):\n",
    "        # split data\n",
    "        X_train, X_test = X_to_fit.iloc[train_ix], X_to_fit.iloc[test_ix]\n",
    "        y_train, y_test = [y_to_fit[i] for i in train_ix],[y_to_fit[i] for i in test_ix]\n",
    "        # configure the cross-validation procedure\n",
    "        cv_inner = StratifiedKFold(n_splits=3, shuffle=True, random_state=1)\n",
    "        # define the model\n",
    "        model = RandomForestClassifier(random_state=1,\n",
    "                                       class_weight=\"balanced\",\n",
    "                                       n_estimators=500,\n",
    "                                       n_jobs=40)\n",
    "        # define search space\n",
    "        space = dict()\n",
    "        space['max_features'] = max_features\n",
    "        space['max_depth']=max_depth\n",
    "        # define search\n",
    "        search = GridSearchCV(model, space, scoring='balanced_accuracy', cv=cv_inner, refit=True)\n",
    "        # execute search\n",
    "        result = search.fit(X_train, y_train)\n",
    "        # get the best performing model fit on the whole training set\n",
    "        best_model = result.best_estimator_\n",
    "        # evaluate model on the hold out dataset\n",
    "        yhat = best_model.predict(X_test)\n",
    "        y_train_hat = best_model.predict(X_train)\n",
    "        # evaluate the model\n",
    "        acc = balanced_accuracy_score(y_test, yhat)\n",
    "        # store the result\n",
    "        outer_results.append(acc)\n",
    "        # report progress\n",
    "        print('>acc=%.3f, est=%.3f, cfg=%s' % (acc, result.best_score_, result.best_params_))\n",
    "        print(\"balanced accuracy on train set \" + str(balanced_accuracy_score(y_train, y_train_hat)))\n",
    "        # output confusion matrix\n",
    "        conf_mat = confusion_matrix(y_test, yhat)\n",
    "        print(conf_mat)\n",
    "    # summarize the estimated performance of the model\n",
    "    print('Balanced accuracy: %.3f (%.3f)' % (mean(outer_results), std(outer_results)))"
   ]
  },
  {
   "cell_type": "markdown",
   "metadata": {},
   "source": [
    "### 5.1) train on Adaptive vs HIP and test on them"
   ]
  },
  {
   "cell_type": "code",
   "execution_count": 52,
   "metadata": {},
   "outputs": [],
   "source": [
    "#Read Adaptive and HIP data\n",
    "AB_data=pd.read_csv(\"AB_prediction/AB_random2000AA_freq_of_top1000_leven1.tsv\",\n",
    "                    sep=\"\\t\")\n",
    "AB_data.index=[xT.split(\"_\")[0] for xT in AB_data.index]\n",
    "\n",
    "HIP_data=pd.read_csv(\"AB_prediction/HIP_random2000AA_freq_of_top1000_leven1.tsv\",\n",
    "                    sep=\"\\t\")\n",
    "HIP_data.index=[xT.split(\".\")[0] for xT in HIP_data.index]\n"
   ]
  },
  {
   "cell_type": "code",
   "execution_count": 53,
   "metadata": {},
   "outputs": [
    {
     "name": "stdout",
     "output_type": "stream",
     "text": [
      "0.05326007326007325\n"
     ]
    },
    {
     "data": {
      "text/plain": [
       "0.02348148148148137"
      ]
     },
     "execution_count": 53,
     "metadata": {},
     "output_type": "execute_result"
    }
   ],
   "source": [
    "#Adaptive samples have more clonotypes from COVID set than HIP\n",
    "print(sum(AB_data.sum())/AB_data.shape[0])\n",
    "sum(HIP_data.sum()/HIP_data.shape[0])"
   ]
  },
  {
   "cell_type": "code",
   "execution_count": 54,
   "metadata": {},
   "outputs": [
    {
     "data": {
      "text/plain": [
       "acute        1140\n",
       "recovered     239\n",
       "baseline       74\n",
       "exposed        26\n",
       "non-acute       4\n",
       "Name: COVID-19-status, dtype: int64"
      ]
     },
     "execution_count": 54,
     "metadata": {},
     "output_type": "execute_result"
    }
   ],
   "source": [
    "#Read Adaptive metadata\n",
    "metadata=pd.read_csv(\"AB_prediction/adaptive-metadata-edited.tsv\",sep=\"\\t\")\n",
    "metadata[\"sample_short_name\"]=metadata[\"sample_name\"].apply(lambda x: x[:-5]) #remove _TCRB from end of names\n",
    "adaptive_acute=set(metadata.loc[metadata[\"COVID-19-status\"]==\"acute\",\"sample_short_name\"])\n",
    "metadata[\"COVID-19-status\"].value_counts()\n"
   ]
  },
  {
   "cell_type": "code",
   "execution_count": 55,
   "metadata": {},
   "outputs": [
    {
     "name": "stdout",
     "output_type": "stream",
     "text": [
      "1005\n",
      "783\n"
     ]
    }
   ],
   "source": [
    "#select samples with ONLY status \"acute\" from Adaptive\n",
    "#and take all HIP samples as healthy\n",
    "adaptive_acute=set(metadata.loc[metadata[\"COVID-19-status\"].isin([\"acute\"]),\"sample_short_name\"])\n",
    "common_columns_order=list(HIP_data.columns)\n",
    "AB_data_acute=AB_data.loc[set(AB_data.index.values)&adaptive_acute, common_columns_order]\n",
    "\n",
    "AB_data_acute[\"status\"]=\"acute\"\n",
    "HIP_data[\"status\"]=\"healthy\"\n",
    "\n",
    "print(len(AB_data_acute))\n",
    "print(len(HIP_data))\n"
   ]
  },
  {
   "cell_type": "code",
   "execution_count": 56,
   "metadata": {},
   "outputs": [
    {
     "name": "stdout",
     "output_type": "stream",
     "text": [
      "1001\n"
     ]
    }
   ],
   "source": [
    "#combine data to one data_frame\n",
    "print(sum(AB_data_acute.columns==common_columns_order+[\"status\"]))\n",
    "AB_acute_and_HIP_data = pd.concat([AB_data_acute, HIP_data])\n"
   ]
  },
  {
   "cell_type": "code",
   "execution_count": 57,
   "metadata": {},
   "outputs": [],
   "source": [
    "#split into features matrix X and vector with ansvers y\n",
    "X=AB_acute_and_HIP_data[AB_acute_and_HIP_data.columns[~AB_acute_and_HIP_data.columns.isin([\"status\"])]]\n",
    "y=AB_acute_and_HIP_data[\"status\"]\n"
   ]
  },
  {
   "cell_type": "code",
   "execution_count": 58,
   "metadata": {},
   "outputs": [],
   "source": [
    "#MAKE HOLD-OUT SET (15%)\n",
    "from sklearn.model_selection import StratifiedShuffleSplit, StratifiedKFold\n",
    "\n",
    "shufflesplit = StratifiedShuffleSplit(n_splits=1, random_state=42, test_size=int(len(y)*0.15))\n",
    "\n",
    "for train_index, test_index in shufflesplit.split(X, y):\n",
    "    #print(\"TRAIN:\", train_index, \"TEST:\", test_index)\n",
    "    X_to_fit, y_to_fit = X.iloc[train_index] , [y[i] for i in train_index]\n",
    "    X_hold_out, y_hold_out = X.iloc[test_index] , [y[i] for i in test_index]"
   ]
  },
  {
   "cell_type": "code",
   "execution_count": 59,
   "metadata": {},
   "outputs": [
    {
     "name": "stdout",
     "output_type": "stream",
     "text": [
      ">acc=0.846, est=0.816, cfg={'max_depth': 5, 'max_features': 20}\n",
      "balanced accuracy on train set 0.8798892426360911\n",
      "[[135  36]\n",
      " [ 13 120]]\n",
      ">acc=0.822, est=0.821, cfg={'max_depth': 5, 'max_features': 20}\n",
      "balanced accuracy on train set 0.8807353058326168\n",
      "[[141  30]\n",
      " [ 24 109]]\n",
      ">acc=0.821, est=0.819, cfg={'max_depth': 5, 'max_features': 20}\n",
      "balanced accuracy on train set 0.8863638236562565\n",
      "[[133  38]\n",
      " [ 18 115]]\n",
      ">acc=0.815, est=0.816, cfg={'max_depth': 5, 'max_features': 20}\n",
      "balanced accuracy on train set 0.8797752438612346\n",
      "[[141  30]\n",
      " [ 26 107]]\n",
      ">acc=0.796, est=0.825, cfg={'max_depth': 5, 'max_features': 20}\n",
      "balanced accuracy on train set 0.8851294903926483\n",
      "[[136  34]\n",
      " [ 28 106]]\n",
      "Balanced accuracy: 0.820 (0.016)\n"
     ]
    }
   ],
   "source": [
    "#choose hyperparameters\n",
    "nested_cross_validation(X_to_fit, y_to_fit, max_features=[20, 50, 100], max_depth=[3,5])\n"
   ]
  },
  {
   "cell_type": "code",
   "execution_count": 60,
   "metadata": {},
   "outputs": [
    {
     "data": {
      "text/plain": [
       "RandomForestClassifier(bootstrap=True, ccp_alpha=0.0, class_weight='balanced',\n",
       "                       criterion='gini', max_depth=5, max_features=20,\n",
       "                       max_leaf_nodes=None, max_samples=None,\n",
       "                       min_impurity_decrease=0.0, min_impurity_split=None,\n",
       "                       min_samples_leaf=1, min_samples_split=2,\n",
       "                       min_weight_fraction_leaf=0.0, n_estimators=500,\n",
       "                       n_jobs=40, oob_score=False, random_state=None, verbose=0,\n",
       "                       warm_start=False)"
      ]
     },
     "execution_count": 60,
     "metadata": {},
     "output_type": "execute_result"
    }
   ],
   "source": [
    "#train model on all adaptive samples (except hold-out) using hyperparameters from\n",
    "#above cell\n",
    "adaptive_RF=RandomForestClassifier(class_weight=\"balanced\",n_estimators=500,\n",
    "                                       n_jobs=40,\n",
    "                                          max_depth=5, max_features=20)\n",
    "\n",
    "\n",
    "adaptive_RF.fit(X_to_fit, y_to_fit)"
   ]
  },
  {
   "cell_type": "code",
   "execution_count": 61,
   "metadata": {},
   "outputs": [
    {
     "name": "stdout",
     "output_type": "stream",
     "text": [
      "0.819465670459048\n",
      "[[121  30]\n",
      " [ 19  98]]\n"
     ]
    }
   ],
   "source": [
    "#and apply this model to hold-out set\n",
    "label_prob=adaptive_RF.predict_proba(X_hold_out)\n",
    "y_hold_out_predicted=adaptive_RF.predict(X_hold_out)\n",
    "acc = balanced_accuracy_score(y_hold_out, y_hold_out_predicted)\n",
    "print(acc)\n",
    "conf_mat = confusion_matrix(y_hold_out, y_hold_out_predicted)\n",
    "print(conf_mat)\n",
    "\n",
    "a=pd.DataFrame(label_prob)\n",
    "a[\"label\"]=list(y_hold_out)\n",
    "a[\"healthy_prob\"]=a[1]-0.5 #make it from -0.5 to +0.5\n",
    "a=a.sort_values(by=['healthy_prob'])\n",
    "a[\"index\"]=range(len(list(y_hold_out)))\n",
    "a.to_csv(\"AB_prediction/AB_vs_HIP_random2000_hold_out.tsv\",sep=\"\\t\")\n"
   ]
  },
  {
   "cell_type": "code",
   "execution_count": 62,
   "metadata": {},
   "outputs": [
    {
     "data": {
      "image/png": "[encoded data removed]"
     },
     "metadata": {},
     "output_type": "display_data"
    }
   ],
   "source": [
    "%%R -w 800 -h 400\n",
    "a=read.csv(\"AB_prediction/AB_vs_HIP_random2000_hold_out.tsv\",sep=\"\\t\",header=TRUE)\n",
    "ggplot(a,aes(x=index,y=healthy_prob,fill=label))+geom_col()+theme_bw()"
   ]
  },
  {
   "cell_type": "markdown",
   "metadata": {},
   "source": [
    "### 5.1.1) Test on different Datasets from Adaptive"
   ]
  },
  {
   "cell_type": "code",
   "execution_count": null,
   "metadata": {},
   "outputs": [],
   "source": [
    "#split Adaptive"
   ]
  },
  {
   "cell_type": "code",
   "execution_count": 73,
   "metadata": {},
   "outputs": [],
   "source": [
    "#Read Adaptive and HIP data\n",
    "AB_data=pd.read_csv(\"AB_prediction/AB_random2000AA_freq_of_top1000_leven1.tsv\",\n",
    "                    sep=\"\\t\")\n",
    "AB_data.index=[xT.split(\"_\")[0] for xT in AB_data.index]\n",
    "\n",
    "HIP_data=pd.read_csv(\"AB_prediction/HIP_random2000AA_freq_of_top1000_leven1.tsv\",\n",
    "                    sep=\"\\t\")\n",
    "HIP_data.index=[xT.split(\".\")[0] for xT in HIP_data.index]\n",
    "\n",
    "common_columns_order=list(HIP_data.columns)"
   ]
  },
  {
   "cell_type": "code",
   "execution_count": 51,
   "metadata": {},
   "outputs": [
    {
     "data": {
      "text/html": [
       "<div>\n",
       "<style scoped>\n",
       "    .dataframe tbody tr th:only-of-type {\n",
       "        vertical-align: middle;\n",
       "    }\n",
       "\n",
       "    .dataframe tbody tr th {\n",
       "        vertical-align: top;\n",
       "    }\n",
       "\n",
       "    .dataframe thead th {\n",
       "        text-align: right;\n",
       "    }\n",
       "</style>\n",
       "<table border=\"1\" class=\"dataframe\">\n",
       "  <thead>\n",
       "    <tr style=\"text-align: right;\">\n",
       "      <th>Dataset</th>\n",
       "      <th>COVID-19-Adaptive</th>\n",
       "      <th>COVID-19-Adaptive-MIRAMatched</th>\n",
       "      <th>COVID-19-BWNW</th>\n",
       "      <th>COVID-19-DLS</th>\n",
       "      <th>COVID-19-HUniv12Oct</th>\n",
       "      <th>COVID-19-IRST/AUSL</th>\n",
       "      <th>COVID-19-ISB</th>\n",
       "      <th>COVID-19-NIH/NIAID</th>\n",
       "    </tr>\n",
       "    <tr>\n",
       "      <th>COVID-19-status</th>\n",
       "      <th></th>\n",
       "      <th></th>\n",
       "      <th></th>\n",
       "      <th></th>\n",
       "      <th></th>\n",
       "      <th></th>\n",
       "      <th></th>\n",
       "      <th></th>\n",
       "    </tr>\n",
       "  </thead>\n",
       "  <tbody>\n",
       "    <tr>\n",
       "      <td>acute</td>\n",
       "      <td>37</td>\n",
       "      <td>3</td>\n",
       "      <td>0</td>\n",
       "      <td>433</td>\n",
       "      <td>177</td>\n",
       "      <td>64</td>\n",
       "      <td>69</td>\n",
       "      <td>357</td>\n",
       "    </tr>\n",
       "    <tr>\n",
       "      <td>baseline</td>\n",
       "      <td>0</td>\n",
       "      <td>0</td>\n",
       "      <td>0</td>\n",
       "      <td>0</td>\n",
       "      <td>0</td>\n",
       "      <td>0</td>\n",
       "      <td>74</td>\n",
       "      <td>0</td>\n",
       "    </tr>\n",
       "    <tr>\n",
       "      <td>exposed</td>\n",
       "      <td>23</td>\n",
       "      <td>3</td>\n",
       "      <td>0</td>\n",
       "      <td>0</td>\n",
       "      <td>0</td>\n",
       "      <td>0</td>\n",
       "      <td>0</td>\n",
       "      <td>0</td>\n",
       "    </tr>\n",
       "    <tr>\n",
       "      <td>non-acute</td>\n",
       "      <td>0</td>\n",
       "      <td>4</td>\n",
       "      <td>0</td>\n",
       "      <td>0</td>\n",
       "      <td>0</td>\n",
       "      <td>0</td>\n",
       "      <td>0</td>\n",
       "      <td>0</td>\n",
       "    </tr>\n",
       "    <tr>\n",
       "      <td>recovered</td>\n",
       "      <td>97</td>\n",
       "      <td>62</td>\n",
       "      <td>50</td>\n",
       "      <td>0</td>\n",
       "      <td>16</td>\n",
       "      <td>0</td>\n",
       "      <td>14</td>\n",
       "      <td>0</td>\n",
       "    </tr>\n",
       "  </tbody>\n",
       "</table>\n",
       "</div>"
      ],
      "text/plain": [
       "Dataset          COVID-19-Adaptive  COVID-19-Adaptive-MIRAMatched  \\\n",
       "COVID-19-status                                                     \n",
       "acute                           37                              3   \n",
       "baseline                         0                              0   \n",
       "exposed                         23                              3   \n",
       "non-acute                        0                              4   \n",
       "recovered                       97                             62   \n",
       "\n",
       "Dataset          COVID-19-BWNW  COVID-19-DLS  COVID-19-HUniv12Oct  \\\n",
       "COVID-19-status                                                     \n",
       "acute                        0           433                  177   \n",
       "baseline                     0             0                    0   \n",
       "exposed                      0             0                    0   \n",
       "non-acute                    0             0                    0   \n",
       "recovered                   50             0                   16   \n",
       "\n",
       "Dataset          COVID-19-IRST/AUSL  COVID-19-ISB  COVID-19-NIH/NIAID  \n",
       "COVID-19-status                                                        \n",
       "acute                            64            69                 357  \n",
       "baseline                          0            74                   0  \n",
       "exposed                           0             0                   0  \n",
       "non-acute                         0             0                   0  \n",
       "recovered                         0            14                   0  "
      ]
     },
     "execution_count": 51,
     "metadata": {},
     "output_type": "execute_result"
    }
   ],
   "source": [
    "pd.crosstab(metadata[\"COVID-19-status\"], metadata[\"Dataset\"], dropna=False)"
   ]
  },
  {
   "cell_type": "code",
   "execution_count": 74,
   "metadata": {},
   "outputs": [],
   "source": [
    "train_adaptive=set(metadata.loc[metadata[\"COVID-19-status\"].isin([\"acute\"]),\"sample_short_name\"])& \\\n",
    "               set(metadata.loc[metadata[\"Dataset\"].isin([\"COVID-19-Adaptive\",\n",
    "                                                          \"COVID-19-Adaptive-MIRAMatched\",\n",
    "                                                          \"COVID-19-DLS\",\n",
    "                                                          \"COVID-19-NIH/NIAID\"]),\"sample_short_name\"])\n",
    "\n",
    "\n",
    "\n",
    "test_adaptive=set(metadata.loc[metadata[\"COVID-19-status\"].isin([\"acute\"]),\"sample_short_name\"])& \\\n",
    "              set(metadata.loc[metadata[\"Dataset\"].isin([\"COVID-19-HUniv12Oct\",\n",
    "                                                         \"COVID-19-IRST/AUSL\",\n",
    "                                                         \"COVID-19-ISB\"]),\"sample_short_name\"])\n",
    "\n",
    "\n",
    "\n",
    "AB_data_train=AB_data.loc[set(AB_data.index.values)&train_adaptive, common_columns_order]\n",
    "AB_data_test=AB_data.loc[set(AB_data.index.values)&test_adaptive, common_columns_order]\n",
    "AB_data_train[\"status\"]=\"acute\"\n",
    "AB_data_test[\"status\"]=\"acute\"\n"
   ]
  },
  {
   "cell_type": "code",
   "execution_count": 85,
   "metadata": {},
   "outputs": [
    {
     "name": "stdout",
     "output_type": "stream",
     "text": [
      "830\n",
      "310\n"
     ]
    }
   ],
   "source": [
    "print(len(train_adaptive))\n",
    "print(len(test_adaptive))"
   ]
  },
  {
   "cell_type": "code",
   "execution_count": 86,
   "metadata": {},
   "outputs": [
    {
     "name": "stdout",
     "output_type": "stream",
     "text": [
      "(664, 1001)\n",
      "(119, 1001)\n"
     ]
    }
   ],
   "source": [
    "#Split HIP into train and test\n",
    "HIP_data[\"status\"]=\"healthy\"\n",
    "HIP_train=[xT for xT in HIP_data.index if xT.startswith(\"HIP\")]\n",
    "HIP_data_train=HIP_data.loc[HIP_train,]\n",
    "HIP_test=[xT for xT in HIP_data.index if xT.startswith(\"Keck\")]\n",
    "HIP_data_test=HIP_data.loc[HIP_test,]\n",
    "\n",
    "print(HIP_data_train.shape)\n",
    "print(HIP_data_test.shape)\n"
   ]
  },
  {
   "cell_type": "code",
   "execution_count": 87,
   "metadata": {},
   "outputs": [],
   "source": [
    "AB_and_HIP_data_train = pd.concat([AB_data_train, HIP_data_train])\n",
    "X_to_fit=AB_and_HIP_data_train[AB_and_HIP_data_train.columns[~AB_and_HIP_data_train.columns.isin([\"status\"])]]\n",
    "y_to_fit=AB_and_HIP_data_train[\"status\"]\n",
    "\n",
    "AB_and_HIP_data_test = pd.concat([AB_data_test, HIP_data_test])\n",
    "X_hold_out=AB_and_HIP_data_test[AB_and_HIP_data_test.columns[~AB_and_HIP_data_test.columns.isin([\"status\"])]]\n",
    "y_hold_out=AB_and_HIP_data_test[\"status\"]\n",
    "                                  "
   ]
  },
  {
   "cell_type": "code",
   "execution_count": 88,
   "metadata": {},
   "outputs": [
    {
     "name": "stdout",
     "output_type": "stream",
     "text": [
      ">acc=0.867, est=0.856, cfg={'max_depth': 5, 'max_features': 20}\n",
      "balanced accuracy on train set 0.914861476177528\n",
      "[[114  27]\n",
      " [ 10 123]]\n",
      ">acc=0.854, est=0.858, cfg={'max_depth': 5, 'max_features': 20}\n",
      "balanced accuracy on train set 0.9188629997453527\n",
      "[[120  21]\n",
      " [ 19 113]]\n",
      ">acc=0.855, est=0.850, cfg={'max_depth': 5, 'max_features': 20}\n",
      "balanced accuracy on train set 0.914181930286641\n",
      "[[113  27]\n",
      " [ 13 120]]\n",
      ">acc=0.880, est=0.858, cfg={'max_depth': 5, 'max_features': 20}\n",
      "balanced accuracy on train set 0.9222929274651332\n",
      "[[118  22]\n",
      " [ 11 122]]\n",
      ">acc=0.836, est=0.868, cfg={'max_depth': 5, 'max_features': 20}\n",
      "balanced accuracy on train set 0.9178445288886208\n",
      "[[111  29]\n",
      " [ 16 117]]\n",
      "Balanced accuracy: 0.858 (0.015)\n"
     ]
    }
   ],
   "source": [
    "#choose hyperparameters\n",
    "nested_cross_validation(X_to_fit, y_to_fit, max_features=[20, 50, 100], max_depth=[3,5])\n"
   ]
  },
  {
   "cell_type": "code",
   "execution_count": 89,
   "metadata": {},
   "outputs": [
    {
     "data": {
      "text/plain": [
       "RandomForestClassifier(bootstrap=True, ccp_alpha=0.0, class_weight='balanced',\n",
       "                       criterion='gini', max_depth=5, max_features=20,\n",
       "                       max_leaf_nodes=None, max_samples=None,\n",
       "                       min_impurity_decrease=0.0, min_impurity_split=None,\n",
       "                       min_samples_leaf=1, min_samples_split=2,\n",
       "                       min_weight_fraction_leaf=0.0, n_estimators=500,\n",
       "                       n_jobs=40, oob_score=False, random_state=None, verbose=0,\n",
       "                       warm_start=False)"
      ]
     },
     "execution_count": 89,
     "metadata": {},
     "output_type": "execute_result"
    }
   ],
   "source": [
    "#train model on all adaptive samples (except hold-out) using hyperparameters from\n",
    "#above cell\n",
    "adaptive_RF_difsets=RandomForestClassifier(class_weight=\"balanced\",n_estimators=500,\n",
    "                                       n_jobs=40,\n",
    "                                          max_depth=5, max_features=20)\n",
    "\n",
    "\n",
    "adaptive_RF_difsets.fit(X_to_fit, y_to_fit)\n"
   ]
  },
  {
   "cell_type": "code",
   "execution_count": 90,
   "metadata": {},
   "outputs": [
    {
     "name": "stdout",
     "output_type": "stream",
     "text": [
      "0.6304323709681893\n",
      "[[242  61]\n",
      " [ 64  55]]\n"
     ]
    }
   ],
   "source": [
    "#and apply this model to hold-out set\n",
    "label_prob=adaptive_RF_difsets.predict_proba(X_hold_out)\n",
    "y_hold_out_predicted=adaptive_RF_difsets.predict(X_hold_out)\n",
    "acc = balanced_accuracy_score(y_hold_out, y_hold_out_predicted)\n",
    "print(acc)\n",
    "conf_mat = confusion_matrix(y_hold_out, y_hold_out_predicted)\n",
    "print(conf_mat)\n",
    "\n",
    "a=pd.DataFrame(label_prob)\n",
    "a[\"label\"]=list(y_hold_out)\n",
    "a[\"healthy_prob\"]=a[1]-0.5 #make it from -0.5 to +0.5\n",
    "a=a.sort_values(by=['healthy_prob'])\n",
    "a[\"index\"]=range(len(list(y_hold_out)))\n",
    "a.to_csv(\"AB_prediction/AB_vs_HIP_random2000_hold_out_diff_sets.tsv\",sep=\"\\t\")\n",
    "\n"
   ]
  },
  {
   "cell_type": "code",
   "execution_count": 91,
   "metadata": {},
   "outputs": [
    {
     "data": {
      "image/png": "[encoded data removed]"
     },
     "metadata": {},
     "output_type": "display_data"
    }
   ],
   "source": [
    "%%R -w 800 -h 400\n",
    "a=read.csv(\"AB_prediction/AB_vs_HIP_random2000_hold_out_diff_sets.tsv\",sep=\"\\t\",header=TRUE)\n",
    "ggplot(a,aes(x=index,y=healthy_prob,fill=label))+geom_col()+theme_bw()\n"
   ]
  },
  {
   "cell_type": "code",
   "execution_count": null,
   "metadata": {},
   "outputs": [],
   "source": []
  },
  {
   "cell_type": "markdown",
   "metadata": {},
   "source": [
    "### 5.2) apply RF trained on Adaptive vs HIP to FMBA\n"
   ]
  },
  {
   "cell_type": "code",
   "execution_count": 112,
   "metadata": {},
   "outputs": [
    {
     "data": {
      "text/plain": [
       "current       821\n",
       "healthy       409\n",
       "suspicious     20\n",
       "Name: sample.COVID_status, dtype: int64"
      ]
     },
     "execution_count": 112,
     "metadata": {},
     "output_type": "execute_result"
    }
   ],
   "source": [
    "FMBA_data=pd.read_csv(\"AB_prediction/FMBA_new_random2000AA_freq_of_top1000_leven1.tsv\",\n",
    "                    sep=\"\\t\")\n",
    "FMBA_data.index=[xT.split(\"_\")[0] for xT in FMBA_data.index]\n",
    "\n",
    "FMBA_metadata=pd.read_csv(\"/projects/fmba_covid/metadata_fmba_full_v2.txt\",\n",
    "                          sep=\"\\t\",header=0, dtype = str)\n",
    "FMBA_metadata[\"sample.COVID_status\"].value_counts()\n"
   ]
  },
  {
   "cell_type": "code",
   "execution_count": 113,
   "metadata": {},
   "outputs": [
    {
     "data": {
      "text/plain": [
       "current    491\n",
       "healthy    296\n",
       "Name: status, dtype: int64"
      ]
     },
     "execution_count": 113,
     "metadata": {},
     "output_type": "execute_result"
    }
   ],
   "source": [
    "#SUBSAMMPLE current or healthy\n",
    "#USE ALL CURRENT do not split by IgG+/-\n",
    "fmba_healthy=set(FMBA_metadata.loc[FMBA_metadata[\"sample.COVID_status\"]==\"healthy\",\"CSP\"])\n",
    "fmba_current=set(FMBA_metadata.loc[FMBA_metadata[\"sample.COVID_status\"]==\"current\",\"CSP\"])\n",
    "fmba_healthy_or_current_id=fmba_healthy|fmba_current\n",
    "\n",
    "FMBA_data_healthy_or_current=FMBA_data.loc[set(FMBA_data.index.values)&fmba_healthy_or_current_id,\n",
    "                                               HIP_data.columns[HIP_data.columns!=\"status\"]]\n",
    "\n",
    "#FMBA_data_healthy_or_current=FMBA_data_healthy_or_current.loc[set(FMBA_data_healthy_or_current.index.values)&\n",
    "#                                                              (set(FMBA_metadata.loc[FMBA_metadata[\"sample.COVID_status\"]==\"healthy\",\"CSP\"])|\n",
    "#                                                              set(FMBA_metadata.loc[FMBA_metadata[\"sample.COVID_IgG\"]==\"yes\",\"CSP\"])),:]\n",
    "\n",
    "FMBA_data_healthy_or_current[\"status\"]=\"current\"\n",
    "FMBA_data_healthy_or_current.loc[set(FMBA_data_healthy_or_current.index.values)&fmba_healthy,\"status\"]=\"healthy\"\n",
    "FMBA_data_healthy_or_current[\"status\"].value_counts()\n"
   ]
  },
  {
   "cell_type": "code",
   "execution_count": 114,
   "metadata": {},
   "outputs": [],
   "source": [
    "X_fmba=FMBA_data_healthy_or_current[FMBA_data_healthy_or_current.columns[~FMBA_data_healthy_or_current.columns.isin([\"status\"])]]\n",
    "y_fmba=list(FMBA_data_healthy_or_current[\"status\"])\n"
   ]
  },
  {
   "cell_type": "code",
   "execution_count": 115,
   "metadata": {},
   "outputs": [],
   "source": [
    "FMBA_data_healthy_or_current[\"status_G\"]=\"COVID_IgG_Unknown\"\n",
    "FMBA_data_healthy_or_current.loc[set(FMBA_data_healthy_or_current.index.values)&\n",
    "                             set(FMBA_metadata.loc[FMBA_metadata[\"sample.COVID_status\"]==\"current\",\"CSP\"])&\n",
    "                             set(FMBA_metadata.loc[FMBA_metadata[\"sample.COVID_IgG\"]==\"yes\",\"CSP\"]) ,\"status_G\"]=\"COVID_IgG+\"\n",
    "FMBA_data_healthy_or_current.loc[set(FMBA_data_healthy_or_current.index.values)&\n",
    "                             set(FMBA_metadata.loc[FMBA_metadata[\"sample.COVID_status\"]==\"current\",\"CSP\"])&\n",
    "                             set(FMBA_metadata.loc[FMBA_metadata[\"sample.COVID_IgG\"]==\"no\",\"CSP\"]) ,\"status_G\"]=\"COVID_IgG-\"\n",
    "FMBA_data_healthy_or_current.loc[set(FMBA_data_healthy_or_current.index.values)&\n",
    "                             set(FMBA_metadata.loc[FMBA_metadata[\"sample.COVID_status\"]==\"healthy\",\"CSP\"]) ,\"status_G\"]=\"healthy\"\n",
    "\n"
   ]
  },
  {
   "cell_type": "code",
   "execution_count": 116,
   "metadata": {},
   "outputs": [],
   "source": [
    "FMBA_data_healthy_or_current[\"status_M\"]=\"COVID_IgM_Unknown\"\n",
    "FMBA_data_healthy_or_current.loc[set(FMBA_data_healthy_or_current.index.values)&\n",
    "                             set(FMBA_metadata.loc[FMBA_metadata[\"sample.COVID_status\"]==\"current\",\"CSP\"])&\n",
    "                             set(FMBA_metadata.loc[FMBA_metadata[\"sample.COVID_IgM\"]==\"yes\",\"CSP\"]) ,\"status_M\"]=\"COVID_IgM+\"\n",
    "FMBA_data_healthy_or_current.loc[set(FMBA_data_healthy_or_current.index.values)&\n",
    "                             set(FMBA_metadata.loc[FMBA_metadata[\"sample.COVID_status\"]==\"current\",\"CSP\"])&\n",
    "                             set(FMBA_metadata.loc[FMBA_metadata[\"sample.COVID_IgM\"]==\"no\",\"CSP\"]) ,\"status_M\"]=\"COVID_IgM-\"\n",
    "FMBA_data_healthy_or_current.loc[set(FMBA_data_healthy_or_current.index.values)&\n",
    "                             set(FMBA_metadata.loc[FMBA_metadata[\"sample.COVID_status\"]==\"healthy\",\"CSP\"]) ,\"status_M\"]=\"healthy\"\n",
    "\n",
    "\n",
    "\n"
   ]
  },
  {
   "cell_type": "code",
   "execution_count": 117,
   "metadata": {},
   "outputs": [],
   "source": [
    "#change label to becomme like adaptive\n",
    "y_fmba = [\"acute\" if y_t ==\"current\"  else y_t for y_t in y_fmba]\n"
   ]
  },
  {
   "cell_type": "code",
   "execution_count": 118,
   "metadata": {},
   "outputs": [
    {
     "name": "stdout",
     "output_type": "stream",
     "text": [
      "0.595224170198712\n",
      "[[271 220]\n",
      " [107 189]]\n"
     ]
    }
   ],
   "source": [
    "#Apply Adaptive Tree to IgG+ and IgG- FMBA\n",
    "y_fmba_predicted=adaptive_RF.predict(X_fmba)\n",
    "acc = balanced_accuracy_score(y_fmba, y_fmba_predicted)\n",
    "print(acc)\n",
    "conf_mat = confusion_matrix(y_fmba, y_fmba_predicted)\n",
    "print(conf_mat)"
   ]
  },
  {
   "cell_type": "code",
   "execution_count": 119,
   "metadata": {},
   "outputs": [],
   "source": [
    "label_prob=adaptive_RF.predict_proba(X_fmba)\n",
    "a=pd.DataFrame(label_prob)\n",
    "a[\"label\"]=list(y_fmba)\n",
    "#a[\"label\"]=list(FMBA_data_healthy_or_current[\"status_M\"])\n",
    "a[\"healthy_prob\"]=a[1]-0.5\n",
    "a=a.sort_values(by=['healthy_prob'])\n",
    "a[\"index\"]=range(len(list(y_fmba)))\n",
    "a.to_csv(\"AB_prediction/AB_to_FMBA_rf_random.tsv\",sep=\"\\t\")\n"
   ]
  },
  {
   "cell_type": "code",
   "execution_count": 120,
   "metadata": {},
   "outputs": [
    {
     "data": {
      "image/png": "[encoded data removed]"
     },
     "metadata": {},
     "output_type": "display_data"
    }
   ],
   "source": [
    "%%R -w 800 -h 400\n",
    "#IgG+ and IgG-\n",
    "a=read.csv(\"AB_prediction/AB_to_FMBA_rf_random.tsv\",sep=\"\\t\",header=TRUE)\n",
    "ggplot(a,aes(x=index,y=healthy_prob,fill=label))+geom_col()+theme_bw()\n",
    "\n"
   ]
  },
  {
   "cell_type": "code",
   "execution_count": 121,
   "metadata": {},
   "outputs": [],
   "source": [
    "label_prob=adaptive_RF.predict_proba(X_fmba)\n",
    "a=pd.DataFrame(label_prob)\n",
    "a[\"label\"]=list(y_fmba)\n",
    "a[\"label\"]=list(FMBA_data_healthy_or_current[\"status_G\"])\n",
    "#a[\"label\"]=[\"#FF0000\" if xT==\"acute\" else \"#0000FF\" for xT in list(y)]\n",
    "a[\"healthy_prob\"]=a[1]-0.5\n",
    "a=a.sort_values(by=['healthy_prob'])\n",
    "a[\"index\"]=range(len(list(y_fmba)))\n",
    "a.to_csv(\"AB_prediction/AB_to_FMBA_rf_random_IgG.tsv\",sep=\"\\t\")"
   ]
  },
  {
   "cell_type": "code",
   "execution_count": 122,
   "metadata": {},
   "outputs": [
    {
     "data": {
      "image/png": "[encoded data removed]"
     },
     "metadata": {},
     "output_type": "display_data"
    }
   ],
   "source": [
    "%%R -w 800 -h 400\n",
    "# IgG+ and IgG-\n",
    "a=read.csv(\"AB_prediction/AB_to_FMBA_rf_random_IgG.tsv\",sep=\"\\t\",header=TRUE)\n",
    "ggplot(a,aes(x=index,y=healthy_prob,fill=label))+geom_col()+theme_bw()"
   ]
  },
  {
   "cell_type": "code",
   "execution_count": null,
   "metadata": {},
   "outputs": [],
   "source": []
  },
  {
   "cell_type": "markdown",
   "metadata": {},
   "source": [
    "### 5.3) Train RF on FMBA"
   ]
  },
  {
   "cell_type": "code",
   "execution_count": 123,
   "metadata": {},
   "outputs": [],
   "source": [
    "from sklearn.model_selection import StratifiedShuffleSplit, StratifiedKFold\n",
    "\n",
    "shufflesplit = StratifiedShuffleSplit(n_splits=1, random_state=42, test_size=int(len(y_fmba)*0.15))\n",
    "\n",
    "for train_index, test_index in shufflesplit.split(X_fmba, y_fmba):\n",
    "    #print(\"TRAIN:\", train_index, \"TEST:\", test_index)\n",
    "    X_to_fit, y_to_fit = X_fmba.iloc[train_index] , [y_fmba[i] for i in train_index]\n",
    "    X_hold_out, y_hold_out = X_fmba.iloc[test_index] , [y_fmba[i] for i in test_index]"
   ]
  },
  {
   "cell_type": "code",
   "execution_count": 124,
   "metadata": {},
   "outputs": [
    {
     "name": "stdout",
     "output_type": "stream",
     "text": [
      ">acc=0.553, est=0.602, cfg={'max_depth': 3, 'max_features': 50}\n",
      "balanced accuracy on train set 0.8858328119879644\n",
      "[[56 27]\n",
      " [29 22]]\n",
      ">acc=0.668, est=0.568, cfg={'max_depth': 3, 'max_features': 20}\n",
      "balanced accuracy on train set 0.8893109303780499\n",
      "[[54 29]\n",
      " [16 35]]\n",
      ">acc=0.537, est=0.574, cfg={'max_depth': 5, 'max_features': 20}\n",
      "balanced accuracy on train set 0.947001456902447\n",
      "[[60 24]\n",
      " [32 18]]\n",
      ">acc=0.623, est=0.597, cfg={'max_depth': 5, 'max_features': 20}\n",
      "balanced accuracy on train set 0.9489489489489489\n",
      "[[61 23]\n",
      " [24 26]]\n",
      ">acc=0.583, est=0.624, cfg={'max_depth': 3, 'max_features': 100}\n",
      "balanced accuracy on train set 0.8515740795636451\n",
      "[[62 21]\n",
      " [29 21]]\n",
      "Balanced accuracy: 0.593 (0.048)\n"
     ]
    }
   ],
   "source": [
    "nested_cross_validation(X_to_fit, y_to_fit, max_features=[20, 50, 100], max_depth=[3,5])"
   ]
  },
  {
   "cell_type": "code",
   "execution_count": 128,
   "metadata": {},
   "outputs": [
    {
     "name": "stdout",
     "output_type": "stream",
     "text": [
      "0.5986937590711175\n"
     ]
    }
   ],
   "source": [
    "fmba_RF=RandomForestClassifier(class_weight=\"balanced\",n_estimators=500,\n",
    "                                       n_jobs=40,\n",
    "                                          max_depth=3, max_features=20)\n",
    "\n",
    "\n",
    "fmba_RF.fit(X_to_fit,y_to_fit)\n",
    "label_prob=fmba_RF.predict_proba(X_hold_out)\n",
    "yhat = fmba_RF.predict(X_hold_out)\n",
    "print(balanced_accuracy_score(yhat, y_hold_out))\n",
    "a=pd.DataFrame(label_prob)\n",
    "a[\"label\"]=list(y_hold_out)\n",
    "a[\"IgG\"]=list(FMBA_data_healthy_or_current.iloc[test_index][\"status_G\"])\n",
    "#a[\"IgM\"]=list(FMBA_data_healthy_or_current.iloc[test_index][\"IgM\"])\n",
    "#a[\"donor\"]=list(FMBA_data_healthy_or_current.iloc[test_index].index)\n",
    "#a[\"functional_clonotypes\"]=[clonotypes[s_id] for s_id in list(a[\"donor\"])]\n",
    "#a[\"label\"]=[\"#FF0000\" if xT==\"acute\" else \"#0000FF\" for xT in list(y)]\n",
    "a[\"healthy_prob\"]=a[1]-0.5\n",
    "#a=a.loc[a[\"functional_clonotypes\"]>2000,]\n",
    "a=a.sort_values(by=['healthy_prob'])\n",
    "a[\"index\"]=range(a.shape[0])\n",
    "a.to_csv(\"AB_prediction/FMBA_RF_random2000_top1000.tsv\",sep=\"\\t\")\n",
    "\n"
   ]
  },
  {
   "cell_type": "code",
   "execution_count": 131,
   "metadata": {},
   "outputs": [
    {
     "data": {
      "image/png": "[encoded data removed]"
     },
     "metadata": {},
     "output_type": "display_data"
    }
   ],
   "source": [
    "%%R -w 800 -h 400\n",
    "#FMBA\n",
    "a=read.csv(\"AB_prediction/FMBA_RF_random2000_top1000.tsv\",sep=\"\\t\",header=TRUE)\n",
    "ggplot(a,aes(x=index,y=healthy_prob,fill=label))+geom_col()+theme_bw()"
   ]
  },
  {
   "cell_type": "code",
   "execution_count": 130,
   "metadata": {},
   "outputs": [
    {
     "data": {
      "image/png": "[encoded data removed]"
     },
     "metadata": {},
     "output_type": "display_data"
    }
   ],
   "source": [
    "%%R -w 800 -h 400\n",
    "#FMBA\n",
    "a=read.csv(\"AB_prediction/FMBA_RF_random2000_top1000.tsv\",sep=\"\\t\",header=TRUE)\n",
    "ggplot(a,aes(x=index,y=healthy_prob,fill=IgG))+geom_col()+theme_bw()"
   ]
  },
  {
   "cell_type": "code",
   "execution_count": null,
   "metadata": {},
   "outputs": [],
   "source": []
  }
 ],
 "metadata": {
  "kernelspec": {
   "display_name": "Python 3",
   "language": "python",
   "name": "python3"
  },
  "language_info": {
   "codemirror_mode": {
    "name": "ipython",
    "version": 3
   },
   "file_extension": ".py",
   "mimetype": "text/x-python",
   "name": "python",
   "nbconvert_exporter": "python",
   "pygments_lexer": "ipython3",
   "version": "3.7.4"
  }
 },
 "nbformat": 4,
 "nbformat_minor": 2
}
