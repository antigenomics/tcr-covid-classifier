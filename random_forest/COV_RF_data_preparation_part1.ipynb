{
 "cells": [
  {
   "cell_type": "code",
   "execution_count": 1,
   "metadata": {},
   "outputs": [],
   "source": [
    "import os\n",
    "import re\n",
    "import pandas as pd\n",
    "from subprocess import Popen, PIPE\n",
    "from multiprocessing import Pool\n",
    "from matplotlib import pyplot as plt\n",
    "import statsmodels.stats.multitest as multitest"
   ]
  },
  {
   "cell_type": "code",
   "execution_count": 2,
   "metadata": {},
   "outputs": [],
   "source": [
    "# override IPython's default %%bash to not buffer all output\n",
    "from IPython.core.magic import register_cell_magic\n",
    "@register_cell_magic\n",
    "def bash(line, cell): get_ipython().system(cell)"
   ]
  },
  {
   "cell_type": "markdown",
   "metadata": {},
   "source": [
    "# Filter non-functional clonotypes (from vdjtools-formated clonotype tabels)"
   ]
  },
  {
   "cell_type": "markdown",
   "metadata": {},
   "source": [
    "#### Adaptive"
   ]
  },
  {
   "cell_type": "code",
   "execution_count": 8,
   "metadata": {},
   "outputs": [],
   "source": [
    "#make metadata file\n",
    "input_folder=\"/projects/fmba_covid/adaptive_new/corr\"\n",
    "output_folder=\"/home/taumata/COV_AdaptiveBiotech/AB_corr\"\n",
    "\n",
    "\n",
    "try:\n",
    "    os.mkdir(output_folder)\n",
    "except:\n",
    "    pass\n",
    "\n",
    "with (str(output_folder)+\"/metadata.tsv\",\"w\") as meta_file :\n",
    "    meta_file.write(\"#file.name\\tsample.id\")\n",
    "    files=os.listdir(input_folder)\n",
    "    for file_name in files:\n",
    "        if re.search(\".TCRB.tsv.txt\",file_name): #check \"extension\" of file\n",
    "            meta_file.write(\"\\n\"+str(input_folder)+\"/\"+str(file_name)+\"\\t\"+str(file_name))\n"
   ]
  },
  {
   "cell_type": "code",
   "execution_count": null,
   "metadata": {},
   "outputs": [],
   "source": [
    "%%bash\n",
    "vdjtools FilterNonFunctional -m /home/taumata/COV_AdaptiveBiotech/AB_corr/metadata.tsv /home/taumata/COV_AdaptiveBiotech/AB_corr_functional/\n",
    "\n"
   ]
  },
  {
   "cell_type": "markdown",
   "metadata": {},
   "source": [
    "#### HIP"
   ]
  },
  {
   "cell_type": "code",
   "execution_count": 66,
   "metadata": {},
   "outputs": [],
   "source": [
    "#make metadata file\n",
    "with open(\"/home/taumata/COV_AdaptiveBiotech/hip_full_metadata.txt\",\"w\") as out_hip_meta:\n",
    "    with open(\"/projects/fmba_covid/hip_full/metadata.txt\",\"r\") as in_hip_meta:\n",
    "        for line in in_hip_meta:\n",
    "            line=re.sub(r\"../mixcr/../corr/\",r\"/projects/fmba_covid/hip_full/corr/\",line)\n",
    "            out_hip_meta.write(line)"
   ]
  },
  {
   "cell_type": "code",
   "execution_count": null,
   "metadata": {},
   "outputs": [],
   "source": [
    "%%bash\n",
    "vdjtools FilterNonFunctional -m /home/taumata/COV_AdaptiveBiotech/hip_full_metadata.txt /home/taumata/COV_AdaptiveBiotech/hip_corr_func/\n"
   ]
  },
  {
   "cell_type": "markdown",
   "metadata": {},
   "source": [
    "#### FMBA"
   ]
  },
  {
   "cell_type": "code",
   "execution_count": 84,
   "metadata": {},
   "outputs": [],
   "source": [
    "#make metadata file\n",
    "with open(\"/home/taumata/COV_AdaptiveBiotech/fmba_new_corr_TRB_metadata.txt\",\"w\") as out_fmba_meta:\n",
    "    with open(\"/projects/fmba_covid/fmba_new/corr/metadata.txt\",\"r\") as in_fmba_meta:\n",
    "        out_fmba_meta.write(\"file_name\\tsample_id\\t..filter..\\n\")\n",
    "        for line in in_fmba_meta:\n",
    "            if re.search(\"Undetermined\",line):\n",
    "                continue\n",
    "            elif re.search(\"clonotypes.TRB\",line):\n",
    "                out_fmba_meta.write(\"/projects/fmba_covid/fmba_new/corr/\"+str(line))\n",
    "               "
   ]
  },
  {
   "cell_type": "code",
   "execution_count": null,
   "metadata": {},
   "outputs": [],
   "source": [
    "%%bash\n",
    "vdjtools FilterNonFunctional -m /home/taumata/COV_AdaptiveBiotech/fmba_new_corr_TRB_metadata.txt /home/taumata/COV_AdaptiveBiotech/fmba_new_corr_TRB_func/\n"
   ]
  },
  {
   "cell_type": "code",
   "execution_count": null,
   "metadata": {},
   "outputs": [],
   "source": []
  },
  {
   "cell_type": "code",
   "execution_count": null,
   "metadata": {},
   "outputs": [],
   "source": []
  },
  {
   "cell_type": "markdown",
   "metadata": {},
   "source": [
    "# Describe feature"
   ]
  },
  {
   "cell_type": "markdown",
   "metadata": {},
   "source": [
    "## (1) top 1000 from adaptive_new vs hip "
   ]
  },
  {
   "cell_type": "code",
   "execution_count": 86,
   "metadata": {},
   "outputs": [],
   "source": [
    "clones=pd.read_csv(\"/home/taumata/COV_AdaptiveBiotech/AB_prediction/covid_status_top.txt\",sep=\"\\t\", index_col=0)"
   ]
  },
  {
   "cell_type": "code",
   "execution_count": 87,
   "metadata": {},
   "outputs": [
    {
     "name": "stdout",
     "output_type": "stream",
     "text": [
      "fdr\n",
      "20212\n",
      "bonferroni\n",
      "105\n"
     ]
    }
   ],
   "source": [
    "print(\"fdr\")\n",
    "print(sum(multitest.multipletests(clones[\"p_value\"],method=\"fdr_bh\")[0]))\n",
    "print(\"bonferroni\")\n",
    "print(sum(multitest.multipletests(clones[\"p_value\"],method=\"bonferroni\")[0]))"
   ]
  },
  {
   "cell_type": "code",
   "execution_count": 88,
   "metadata": {},
   "outputs": [],
   "source": [
    "#with FDR correction all 20212 clones are significant, with bonferroni - only top 105, but we will take top 1000"
   ]
  },
  {
   "cell_type": "code",
   "execution_count": 89,
   "metadata": {},
   "outputs": [],
   "source": [
    "COVID_associated_clones=set(clones.head(1000)[\"cdr3aa\"]) #check for duplicates\n",
    "COVID_associated_clones=list(COVID_associated_clones)"
   ]
  },
  {
   "cell_type": "code",
   "execution_count": 90,
   "metadata": {},
   "outputs": [
    {
     "data": {
      "text/plain": [
       "1000"
      ]
     },
     "execution_count": 90,
     "metadata": {},
     "output_type": "execute_result"
    }
   ],
   "source": [
    "len(COVID_associated_clones) #some of them are non-functional, but i will apply them to functional-filtred clonotypes"
   ]
  },
  {
   "cell_type": "markdown",
   "metadata": {},
   "source": [
    "### (1.1) find fraction of each of these clonotypes with ONE mismatch/indel in each sample "
   ]
  },
  {
   "cell_type": "markdown",
   "metadata": {},
   "source": [
    "#### Adaptive"
   ]
  },
  {
   "cell_type": "code",
   "execution_count": 96,
   "metadata": {},
   "outputs": [
    {
     "name": "stdout",
     "output_type": "stream",
     "text": [
      "START\n",
      "DONE\n"
     ]
    }
   ],
   "source": [
    "import multiprocessing as mp\n",
    "from polyleven import levenshtein\n",
    "\n",
    "#clones_in_samples={} #store fractions of clones of interes in each sample\n",
    "\n",
    "treshold=100 #less than this treshold\n",
    "\n",
    "#----------read sample names----------\n",
    "samples=pd.read_csv(\"/home/taumata/COV_AdaptiveBiotech/AB_corr_functional/ncfilter.summary.txt\",sep=\"\\t\")\n",
    "samples=list(samples[\"sample_id\"])\n",
    "#-------------------------------------\n",
    "\n",
    "def get_clonotypes_frequences(sample_name, COVID_associated_clones = COVID_associated_clones, treshold=100):\n",
    "    sample_short_name=sample_name.split(\"_TCRB\")[0]\n",
    "    #print(sample_short_name)\n",
    "    local_clones_in_samples=dict([(xT,0) for xT in COVID_associated_clones]) #initialize by all zeroes\n",
    "    #------read clonotype tabel    \n",
    "    with open(\"/home/taumata/COV_AdaptiveBiotech/AB_corr_functional/\"+str(sample_name),\"r\") as clonotype_file:\n",
    "        total_counts=0\n",
    "        for clone in clonotype_file.readlines()[1:]: #skip header\n",
    "            clone=clone.split(\"\\t\")\n",
    "            total_counts+=int(clone[0]) #clone[0] is clone count\n",
    "            #zero or one mismatch/indel (clone[3] is amino acid CDR3 sequence)\n",
    "            for clone_of_interest in local_clones_in_samples:\n",
    "                if levenshtein(clone_of_interest, clone[3], 1)<=1:\n",
    "                    local_clones_in_samples[clone_of_interest]+=float(clone[1]) #clone[1] is fraction\n",
    "        if total_counts<treshold: #we will remember names of too small samples\n",
    "            return (sample_short_name,\"too_small\")\n",
    "        return (sample_short_name, local_clones_in_samples)\n",
    "\n",
    "\n",
    "print(\"START\")    \n",
    "pool = mp.Pool(30) #SET THE NUMBER OF CORES THAT YOU GOING TO USE\n",
    "results=pool.map(get_clonotypes_frequences, samples)\n",
    "pool.close()\n",
    "clones_in_samples=dict(results)\n",
    "print(\"DONE\")"
   ]
  },
  {
   "cell_type": "code",
   "execution_count": 98,
   "metadata": {},
   "outputs": [
    {
     "name": "stdout",
     "output_type": "stream",
     "text": [
      "INCOV067-AC-3\n",
      "1\n"
     ]
    }
   ],
   "source": [
    "count=0\n",
    "with open(\"/home/taumata/COV_AdaptiveBiotech/AB_prediction/AB_freq_of_top1000_leven1_v2.tsv\",\"w\") as out_file:\n",
    "    out_file.write(\"\\t\".join(COVID_associated_clones))\n",
    "    for sample_name in clones_in_samples:\n",
    "        if clones_in_samples[sample_name]==\"too_small\":\n",
    "            print(sample_name)\n",
    "            count+=1\n",
    "            continue\n",
    "        else:\n",
    "            out_file.write(\"\\n\")\n",
    "            out_file.write(str(sample_name)+\"\\t\")\n",
    "            out_file.write(\"\\t\".join([str(clones_in_samples[sample_name][clone]) for clone in COVID_associated_clones]))\n",
    "            \n",
    "print(count)\n",
    "\n"
   ]
  },
  {
   "cell_type": "markdown",
   "metadata": {},
   "source": [
    "#### HIP"
   ]
  },
  {
   "cell_type": "code",
   "execution_count": 99,
   "metadata": {},
   "outputs": [
    {
     "name": "stdout",
     "output_type": "stream",
     "text": [
      "START\n",
      "DONE\n"
     ]
    }
   ],
   "source": [
    "import multiprocessing as mp\n",
    "from polyleven import levenshtein\n",
    "\n",
    "#clones_in_samples={} #store fractions of clones of interes in each sample\n",
    "\n",
    "treshold=100 #less than this treshold\n",
    "\n",
    "#----------read sample names----------\n",
    "samples=pd.read_csv(\"/home/taumata/COV_AdaptiveBiotech/hip_corr_func/ncfilter.summary.txt\",sep=\"\\t\")\n",
    "samples=list(samples[\"sample_id\"])\n",
    "#-------------------------------------\n",
    "\n",
    "def get_clonotypes_frequences(sample_name, COVID_associated_clones = COVID_associated_clones, treshold=100):\n",
    "    sample_short_name=sample_name\n",
    "    #print(sample_short_name)\n",
    "    local_clones_in_samples=dict([(xT,0) for xT in COVID_associated_clones]) #initialize by all zeroes\n",
    "    #------read clonotype tabel    \n",
    "    with open(\"/home/taumata/COV_AdaptiveBiotech/hip_corr_func/\"+str(sample_name)+\".txt\",\"r\") as clonotype_file:\n",
    "        total_counts=0\n",
    "        for clone in clonotype_file.readlines()[1:]: #skip header\n",
    "            clone=clone.split(\"\\t\")\n",
    "            total_counts+=int(clone[0]) #clone[0] is clone count\n",
    "            #zero or one mismatch/indel (clone[3] is amino acid CDR3 sequence)\n",
    "            for clone_of_interest in local_clones_in_samples:\n",
    "                if levenshtein(clone_of_interest, clone[3], 1)<=1:\n",
    "                    local_clones_in_samples[clone_of_interest]+=float(clone[1]) #clone[1] is fraction\n",
    "        if total_counts<treshold: #we will remember names of too small samples\n",
    "            return (sample_short_name,\"too_small\")\n",
    "        return (sample_short_name, local_clones_in_samples)\n",
    "\n",
    "\n",
    "print(\"START\")    \n",
    "pool = mp.Pool(30) #SET THE NUMBER OF CORES THAT YOU GOING TO USE\n",
    "results=pool.map(get_clonotypes_frequences, samples)\n",
    "pool.close()\n",
    "clones_in_samples=dict(results)\n",
    "print(\"DONE\")"
   ]
  },
  {
   "cell_type": "code",
   "execution_count": 100,
   "metadata": {},
   "outputs": [
    {
     "name": "stdout",
     "output_type": "stream",
     "text": [
      "0\n"
     ]
    }
   ],
   "source": [
    "count=0\n",
    "with open(\"/home/taumata/COV_AdaptiveBiotech/AB_prediction/HIP_freq_of_top1000_leven1_v2.tsv\",\"w\") as out_file:\n",
    "    out_file.write(\"\\t\".join(COVID_associated_clones))\n",
    "    for sample_name in clones_in_samples:\n",
    "        if clones_in_samples[sample_name]==\"too_small\":\n",
    "            print(sample_name)\n",
    "            count+=1\n",
    "            continue\n",
    "        else:\n",
    "            out_file.write(\"\\n\")\n",
    "            out_file.write(str(sample_name)+\"\\t\")\n",
    "            out_file.write(\"\\t\".join([str(clones_in_samples[sample_name][clone]) for clone in COVID_associated_clones]))\n",
    "            \n",
    "print(count)\n",
    "\n",
    "\n"
   ]
  },
  {
   "cell_type": "markdown",
   "metadata": {},
   "source": [
    "#### FMBA"
   ]
  },
  {
   "cell_type": "code",
   "execution_count": 93,
   "metadata": {},
   "outputs": [
    {
     "name": "stdout",
     "output_type": "stream",
     "text": [
      "START\n",
      "DONE\n"
     ]
    }
   ],
   "source": [
    "import multiprocessing as mp\n",
    "from polyleven import levenshtein\n",
    "\n",
    "#clones_in_samples={} #store fractions of clones of interes in each sample\n",
    "\n",
    "treshold=100 #less than this treshold\n",
    "\n",
    "#----------read sample names----------\n",
    "samples=pd.read_csv(\"/home/taumata/COV_AdaptiveBiotech/fmba_new_corr_TRB_func/ncfilter.summary.txt\",sep=\"\\t\")\n",
    "samples=list(samples[\"sample_id\"])\n",
    "#-------------------------------------\n",
    "\n",
    "def get_clonotypes_frequences(sample_name, COVID_associated_clones = COVID_associated_clones, treshold=100):\n",
    "    sample_short_name=sample_name.split(\"_S\")[0]\n",
    "    #print(sample_short_name)\n",
    "    local_clones_in_samples=dict([(xT,0) for xT in COVID_associated_clones]) #initialize by all zeroes\n",
    "    #------read clonotype tabel    \n",
    "    with open(\"/home/taumata/COV_AdaptiveBiotech/fmba_new_corr_TRB_func/\"+str(sample_name)+\".txt\",\"r\") as clonotype_file:\n",
    "        total_counts=0\n",
    "        for clone in clonotype_file.readlines()[1:]: #skip header\n",
    "            clone=clone.split(\"\\t\")\n",
    "            total_counts+=int(clone[0]) #clone[0] is clone count\n",
    "            #zero or one mismatch/indel via levensthein clone[3] is amino acid CDR3 sequence\n",
    "            for clone_of_interest in local_clones_in_samples:\n",
    "                if levenshtein(clone_of_interest, clone[3], 1)<=1:\n",
    "                    local_clones_in_samples[clone_of_interest]+=float(clone[1]) #clone[1] is fraction\n",
    "        if total_counts<treshold: #we will remember names of too small samples\n",
    "            return (sample_short_name,\"too_small\")\n",
    "        return (sample_short_name, local_clones_in_samples)\n",
    "\n",
    "\n",
    "print(\"START\")    \n",
    "pool = mp.Pool(30) #SET THE NUMBER OF CORES THAT YOU GOING TO USE\n",
    "results=pool.map(get_clonotypes_frequences, samples)\n",
    "pool.close()\n",
    "clones_in_samples=dict(results)\n",
    "print(\"DONE\")"
   ]
  },
  {
   "cell_type": "code",
   "execution_count": 94,
   "metadata": {},
   "outputs": [
    {
     "name": "stdout",
     "output_type": "stream",
     "text": [
      "020000330808\n",
      "020003830808\n",
      "050000520808\n",
      "050000710808\n",
      "050000880808\n",
      "050000930808\n",
      "050001200808\n",
      "050001350808\n",
      "050001690807\n",
      "050001700808\n",
      "050001780808\n",
      "050001790808\n",
      "050001820808\n",
      "050002010808\n",
      "050002170808\n",
      "140003720808\n",
      "140003810808\n",
      "210000170808\n",
      "210000620808\n",
      "210003270808\n",
      "210003330808\n",
      "210003340808\n",
      "250002250808\n",
      "260002780807\n",
      "260002860808\n",
      "260002910808\n",
      "260002940808\n",
      "260003000808\n",
      "260003040807\n",
      "260004150808\n",
      "260004200808\n",
      "260004290808\n",
      "330001570808\n",
      "330001670808\n",
      "330001860808\n",
      "330001910808\n",
      "330002550808\n",
      "440000050808\n",
      "440000240808\n",
      "440003270808\n",
      "460001920808\n",
      "500000220808\n",
      "500000930808\n",
      "500003850808\n",
      "500003870808\n",
      "500003990808\n",
      "500004180808\n",
      "520000800808\n",
      "520001220808\n",
      "540003110808\n",
      "550001550808\n",
      "550001860808\n",
      "550001890808\n",
      "590001290808\n",
      "590001680808\n",
      "590002670808\n",
      "590002820808\n",
      "590002830808\n",
      "590002840808\n",
      "590004410808\n",
      "640000670808\n",
      "640000850808\n",
      "640002170808\n",
      "640003040808\n",
      "640003530808\n",
      "670002310808\n",
      "670004740808\n",
      "670004750808\n",
      "670004880808\n",
      "670005040808\n",
      "670005090808\n",
      "670005400808\n",
      "690000060808\n",
      "690000770808\n",
      "690000780808\n",
      "690000970808\n",
      "690000990808\n",
      "690001010808\n",
      "690001180808\n",
      "690002520808\n",
      "730000400808\n",
      "730000410808\n",
      "730000520808\n",
      "730000980808\n",
      "730001060808\n",
      "730003390808\n",
      "730003400808\n",
      "730003410808\n",
      "730003490808\n",
      "780000760808\n",
      "780000770808\n",
      "780000840808\n",
      "780002130808\n",
      "780003440808\n",
      "780004320807\n",
      "780004770808\n",
      "780004860808\n",
      "780004980808\n",
      "780005040808\n",
      "780005120808\n",
      "780005150808\n",
      "780005180808\n",
      "780005190808\n",
      "780005220808\n",
      "780005250808\n",
      "780008280807\n",
      "780008490808\n",
      "107\n"
     ]
    }
   ],
   "source": [
    "count=0\n",
    "with open(\"/home/taumata/COV_AdaptiveBiotech/AB_prediction/FMBA_freq_of_top1000_leven1_v2.tsv\",\"w\") as out_file:\n",
    "    out_file.write(\"\\t\".join(COVID_associated_clones))\n",
    "    for sample_name in clones_in_samples:\n",
    "        if clones_in_samples[sample_name]==\"too_small\":\n",
    "            print(sample_name)\n",
    "            count+=1\n",
    "            continue\n",
    "        else:\n",
    "            out_file.write(\"\\n\")\n",
    "            out_file.write(str(sample_name)+\"\\t\")\n",
    "            out_file.write(\"\\t\".join([str(clones_in_samples[sample_name][clone]) for clone in COVID_associated_clones]))\n",
    "            \n",
    "print(count)\n",
    "\n",
    "\n",
    "\n"
   ]
  },
  {
   "cell_type": "markdown",
   "metadata": {},
   "source": [
    "### (1.2) find fraction of each of these clonotypes without mismatch in each sample \n",
    "\n"
   ]
  },
  {
   "cell_type": "markdown",
   "metadata": {},
   "source": [
    "#### Adaptive"
   ]
  },
  {
   "cell_type": "code",
   "execution_count": null,
   "metadata": {},
   "outputs": [],
   "source": [
    "import multiprocessing as mp\n",
    "import distance\n",
    "\n",
    "#clones_in_samples={} #store fractions of clones of interes in each sample\n",
    "\n",
    "treshold=100 #less than this treshold\n",
    "\n",
    "#----------read sample names----------\n",
    "samples=pd.read_csv(\"/home/taumata/COV_AdaptiveBiotech/AB_corr_functional/ncfilter.summary.txt\",sep=\"\\t\")\n",
    "samples=list(samples[\"sample_id\"])\n",
    "#-------------------------------------\n",
    "\n",
    "def get_clonotypes_frequences(sample_name, COVID_associated_clones = COVID_associated_clones, treshold=100):\n",
    "    sample_short_name=sample_name.split(\"_TCRB\")[0]\n",
    "    #print(sample_short_name)\n",
    "    local_clones_in_samples=dict([(xT,0) for xT in COVID_associated_clones]) #initialize by all zeroes\n",
    "    #------read clonotype tabel    \n",
    "    with open(\"/home/taumata/COV_AdaptiveBiotech/AB_corr_functional/\"+str(sample_name),\"r\") as clonotype_file:\n",
    "        total_counts=0\n",
    "        for clone in clonotype_file.readlines()[1:]: #skip header\n",
    "            clone=clone.split(\"\\t\")\n",
    "            total_counts+=int(clone[0]) #clone[0] is clone count\n",
    "            if clone[3] in COVID_associated_clones: #exact match check via hash (clone[3] is amino acid CDR3 sequence)\n",
    "                    local_clones_in_samples[clone[3]]+=float(clone[1])\n",
    "        if total_counts<treshold: #we will remember names of too small samples\n",
    "            return (sample_short_name,\"too_small\")\n",
    "        return (sample_short_name, local_clones_in_samples)\n",
    "\n",
    "\n",
    "print(\"START\")    \n",
    "pool = mp.Pool(30) #SET THE NUMBER OF CORES THAT YOU GOING TO USE\n",
    "results=pool.map(get_clonotypes_frequences, samples)\n",
    "pool.close()\n",
    "clones_in_samples=dict(results)\n",
    "print(\"DONE\")"
   ]
  },
  {
   "cell_type": "code",
   "execution_count": null,
   "metadata": {},
   "outputs": [],
   "source": [
    "count=0\n",
    "with open(\"/home/taumata/COV_AdaptiveBiotech/AB_prediction/AB_freq_of_top1000_exact.tsv\",\"w\") as out_file:\n",
    "    out_file.write(\"\\t\".join(COVID_associated_clones))\n",
    "    for sample_name in clones_in_samples:\n",
    "        if clones_in_samples[sample_name]==\"too_small\":\n",
    "            print(sample_name)\n",
    "            count+=1\n",
    "            continue\n",
    "        else:\n",
    "            out_file.write(\"\\n\")\n",
    "            out_file.write(str(sample_name)+\"\\t\")\n",
    "            out_file.write(\"\\t\".join([str(clones_in_samples[sample_name][clone]) for clone in COVID_associated_clones]))\n",
    "            \n",
    "print(count)\n",
    "\n",
    "\n"
   ]
  },
  {
   "cell_type": "markdown",
   "metadata": {},
   "source": [
    "#### HIP"
   ]
  },
  {
   "cell_type": "code",
   "execution_count": null,
   "metadata": {},
   "outputs": [],
   "source": [
    "import multiprocessing as mp\n",
    "import distance\n",
    "\n",
    "#clones_in_samples={} #store fractions of clones of interes in each sample\n",
    "\n",
    "treshold=100 #less than this treshold\n",
    "\n",
    "#----------read sample names----------\n",
    "samples=pd.read_csv(\"/home/taumata/COV_AdaptiveBiotech/AB_corr_functional/ncfilter.summary.txt\",sep=\"\\t\")\n",
    "samples=list(samples[\"sample_id\"])\n",
    "#-------------------------------------\n",
    "\n",
    "def get_clonotypes_frequences(sample_name, COVID_associated_clones = COVID_associated_clones, treshold=100):\n",
    "    sample_short_name=sample_name\n",
    "    #print(sample_short_name)\n",
    "    local_clones_in_samples=dict([(xT,0) for xT in COVID_associated_clones]) #initialize by all zeroes\n",
    "    #------read clonotype tabel    \n",
    "    with open(\"/home/taumata/COV_AdaptiveBiotech/AB_corr_functional/\"+str(sample_name)+\".txt\",\"r\") as clonotype_file:\n",
    "        total_counts=0\n",
    "        for clone in clonotype_file.readlines()[1:]: #skip header\n",
    "            clone=clone.split(\"\\t\")\n",
    "            total_counts+=int(clone[0]) #clone[0] is clone count\n",
    "            if clone[3] in COVID_associated_clones: #exact match check via hash (clone[3] is amino acid CDR3 sequence)\n",
    "                    local_clones_in_samples[clone[3]]+=float(clone[1])\n",
    "        if total_counts<treshold: #we will remember names of too small samples\n",
    "            return (sample_short_name,\"too_small\")\n",
    "        return (sample_short_name, local_clones_in_samples)\n",
    "\n",
    "\n",
    "print(\"START\")    \n",
    "pool = mp.Pool(30) #SET THE NUMBER OF CORES THAT YOU GOING TO USE\n",
    "results=pool.map(get_clonotypes_frequences, samples)\n",
    "pool.close()\n",
    "clones_in_samples=dict(results)\n",
    "print(\"DONE\")"
   ]
  },
  {
   "cell_type": "code",
   "execution_count": null,
   "metadata": {},
   "outputs": [],
   "source": [
    "count=0\n",
    "with open(\"/home/taumata/COV_AdaptiveBiotech/AB_prediction/HIP_freq_of_top1000_exact.tsv\",\"w\") as out_file:\n",
    "    out_file.write(\"\\t\".join(COVID_associated_clones))\n",
    "    for sample_name in clones_in_samples:\n",
    "        if clones_in_samples[sample_name]==\"too_small\":\n",
    "            print(sample_name)\n",
    "            count+=1\n",
    "            continue\n",
    "        else:\n",
    "            out_file.write(\"\\n\")\n",
    "            out_file.write(str(sample_name)+\"\\t\")\n",
    "            out_file.write(\"\\t\".join([str(clones_in_samples[sample_name][clone]) for clone in COVID_associated_clones]))\n",
    "            \n",
    "print(count)\n",
    "\n",
    "\n",
    "\n"
   ]
  },
  {
   "cell_type": "code",
   "execution_count": null,
   "metadata": {},
   "outputs": [],
   "source": []
  },
  {
   "cell_type": "code",
   "execution_count": null,
   "metadata": {},
   "outputs": [],
   "source": []
  },
  {
   "cell_type": "code",
   "execution_count": null,
   "metadata": {},
   "outputs": [],
   "source": []
  },
  {
   "cell_type": "markdown",
   "metadata": {},
   "source": [
    "## (2) Use clusters based on TCRnet (?)"
   ]
  },
  {
   "cell_type": "markdown",
   "metadata": {},
   "source": [
    "### load file with clusters"
   ]
  },
  {
   "cell_type": "code",
   "execution_count": 4,
   "metadata": {},
   "outputs": [],
   "source": [
    "clusters_TRA={}\n",
    "clusters_TRA_back={}\n",
    "clusters_TRB={}\n",
    "clusters_TRB_back={}\n",
    "cluster_file=pd.read_csv(\"clusters_final.txt\",sep=\"\\t\")\n",
    "for index, row in cluster_file.loc[cluster_file.chain==\"TRA\",].iterrows():\n",
    "    if row[\"cid\"] not in clusters_TRA:\n",
    "        clusters_TRA[row[\"cid\"]]=set()\n",
    "    clusters_TRA[row[\"cid\"]].add(row[\"cdr3aa\"])\n",
    "    clusters_TRA_back[row[\"cdr3aa\"]]=row[\"cid\"]\n",
    "    \n",
    "for index, row in cluster_file.loc[cluster_file.chain==\"TRB\",].iterrows():\n",
    "    if row[\"cid\"] not in clusters_TRB:\n",
    "        clusters_TRB[row[\"cid\"]]=set()\n",
    "    clusters_TRB[row[\"cid\"]].add(row[\"cdr3aa\"])\n",
    "    clusters_TRB_back[row[\"cdr3aa\"]]=row[\"cid\"]"
   ]
  },
  {
   "cell_type": "markdown",
   "metadata": {},
   "source": [
    "### check frequencies of clones from clusters in samples"
   ]
  },
  {
   "cell_type": "code",
   "execution_count": 23,
   "metadata": {},
   "outputs": [],
   "source": [
    "#TRB first\n",
    "too_small_beta=set()\n",
    "all_TRB_clusters=list(clusters_TRB.keys())\n",
    "\n",
    "TRB_samples_clusters={}\n",
    "\n",
    "TRB_samples=os.listdir(\"/home/taumata/COV_AdaptiveBiotech/FMBA_vdjtools_functional/\")\n",
    "for TRB_sample in TRB_samples:\n",
    "    if TRB_sample.startswith(\"Undetermined\"):\n",
    "        continue\n",
    "    elif re.search(\"clonotypes.TRB.txt\",TRB_sample):\n",
    "        sample_name=TRB_sample.split(\"_S\")[0]\n",
    "        TRB_samples_clusters[sample_name]=dict([(xT,0) for xT in all_TRB_clusters])\n",
    "        with open(\"/home/taumata/COV_AdaptiveBiotech/FMBA_vdjtools_functional/\"+str(TRB_sample),\"r\") as clonotypes:\n",
    "            total_counts=0\n",
    "            for clone in clonotypes.readlines()[1:]:\n",
    "                temp=clone.split(\"\\t\")\n",
    "                total_counts+=int(temp[0])\n",
    "                if temp[3] in clusters_TRB_back:\n",
    "                    TRB_samples_clusters[sample_name][clusters_TRB_back[temp[3]]]+=float(temp[1])\n",
    "            if total_counts<100:\n",
    "                too_small_beta.add(sample_name)\n"
   ]
  },
  {
   "cell_type": "code",
   "execution_count": 24,
   "metadata": {},
   "outputs": [],
   "source": [
    "#now TRA\n",
    "too_small_alpha=set()\n",
    "all_TRA_clusters=list(clusters_TRA.keys())\n",
    "\n",
    "TRA_samples_clusters={}\n",
    "\n",
    "TRA_samples=os.listdir(\"/home/taumata/COV_AdaptiveBiotech/FMBA_vdjtools_TRA/\")\n",
    "for TRA_sample in TRA_samples:\n",
    "    if TRA_sample.startswith(\"Undetermined\"):\n",
    "        continue\n",
    "    elif re.search(\"clonotypes.TRA.txt\",TRA_sample):\n",
    "        sample_name=TRA_sample.split(\"_S\")[0]\n",
    "        TRA_samples_clusters[sample_name]=dict([(xT,0) for xT in all_TRA_clusters])\n",
    "        with open(\"/home/taumata/COV_AdaptiveBiotech/FMBA_vdjtools_TRA/\"+str(TRA_sample),\"r\") as clonotypes:\n",
    "            total_counts=0\n",
    "            for clone in clonotypes.readlines()[1:]:\n",
    "                temp=clone.split(\"\\t\")\n",
    "                total_counts+=int(temp[0])\n",
    "                if temp[3] in clusters_TRA_back:\n",
    "                    TRA_samples_clusters[sample_name][clusters_TRA_back[temp[3]]]+=float(temp[1])\n",
    "                if total_counts<100:\n",
    "                    too_small_alpha.add(sample_name)\n",
    "\n"
   ]
  },
  {
   "cell_type": "code",
   "execution_count": 31,
   "metadata": {},
   "outputs": [
    {
     "name": "stdout",
     "output_type": "stream",
     "text": [
      "99\n",
      "75\n",
      "120\n",
      "54\n"
     ]
    }
   ],
   "source": [
    "print(len(too_small_alpha))\n",
    "print(len(too_small_beta))\n",
    "print(len(too_small_alpha|too_small_beta))\n",
    "print(len(too_small_alpha&too_small_beta))\n"
   ]
  },
  {
   "cell_type": "markdown",
   "metadata": {},
   "source": [
    "### save results"
   ]
  },
  {
   "cell_type": "code",
   "execution_count": 29,
   "metadata": {},
   "outputs": [],
   "source": [
    "sample_names=list(TRB_samples_clusters.keys())\n",
    "data_matrix=[]\n",
    "for sample_name in sample_names:\n",
    "    sample_row=[sample_name]\n",
    "    for TRB in all_TRB_clusters:\n",
    "        sample_row.append(TRB_samples_clusters[sample_name][TRB])\n",
    "    for TRA in all_TRA_clusters:\n",
    "        sample_row.append(TRA_samples_clusters[sample_name][TRA])\n",
    "    data_matrix.append(sample_row)\n",
    "sample_clusters=pd.DataFrame(data_matrix, columns=[\"sample_name\"]+list(all_TRB_clusters)+\n",
    "                            list(all_TRA_clusters))        \n",
    "    "
   ]
  },
  {
   "cell_type": "code",
   "execution_count": 30,
   "metadata": {},
   "outputs": [],
   "source": [
    "sample_clusters.to_csv(\"count_of_clusters_in_samples.tsv\",sep=\"\\t\",index=False)"
   ]
  },
  {
   "cell_type": "markdown",
   "metadata": {},
   "source": [
    "### save results only for samples with number of counts greater than treshold (100)"
   ]
  },
  {
   "cell_type": "code",
   "execution_count": 33,
   "metadata": {},
   "outputs": [
    {
     "name": "stdout",
     "output_type": "stream",
     "text": [
      "572\n",
      "518\n"
     ]
    }
   ],
   "source": [
    "sample_names=set(TRB_samples_clusters.keys())\n",
    "print(len(sample_names))\n",
    "sample_names=sample_names-(too_small_alpha&too_small_beta)\n",
    "sample_names=list(sample_names)\n",
    "print(len(sample_names))\n",
    "data_matrix=[]\n",
    "for sample_name in sample_names:\n",
    "    sample_row=[sample_name]\n",
    "    for TRB in all_TRB_clusters:\n",
    "        sample_row.append(TRB_samples_clusters[sample_name][TRB])\n",
    "    for TRA in all_TRA_clusters:\n",
    "        sample_row.append(TRA_samples_clusters[sample_name][TRA])\n",
    "    data_matrix.append(sample_row)\n",
    "sample_clusters=pd.DataFrame(data_matrix, columns=[\"sample_name\"]+list(all_TRB_clusters)+\n",
    "                            list(all_TRA_clusters))        \n",
    "    "
   ]
  },
  {
   "cell_type": "code",
   "execution_count": 34,
   "metadata": {},
   "outputs": [],
   "source": [
    "sample_clusters.to_csv(\"count_of_clusters_in_samples_filt100.tsv\",sep=\"\\t\",index=False)"
   ]
  },
  {
   "cell_type": "code",
   "execution_count": null,
   "metadata": {},
   "outputs": [],
   "source": []
  },
  {
   "cell_type": "code",
   "execution_count": null,
   "metadata": {},
   "outputs": [],
   "source": []
  },
  {
   "cell_type": "code",
   "execution_count": null,
   "metadata": {},
   "outputs": [],
   "source": []
  },
  {
   "cell_type": "code",
   "execution_count": null,
   "metadata": {},
   "outputs": [],
   "source": [
    "#TO DO:\n",
    "#Downsample all samples to 10000 clonotypes and repeat work with them"
   ]
  }
 ],
 "metadata": {
  "kernelspec": {
   "display_name": "Python 3",
   "language": "python",
   "name": "python3"
  },
  "language_info": {
   "codemirror_mode": {
    "name": "ipython",
    "version": 3
   },
   "file_extension": ".py",
   "mimetype": "text/x-python",
   "name": "python",
   "nbconvert_exporter": "python",
   "pygments_lexer": "ipython3",
   "version": "3.7.4"
  }
 },
 "nbformat": 4,
 "nbformat_minor": 2
}
