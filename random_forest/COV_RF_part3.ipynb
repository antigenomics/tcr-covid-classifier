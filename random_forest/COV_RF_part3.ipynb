{
 "cells": [
  {
   "cell_type": "code",
   "execution_count": 8,
   "metadata": {},
   "outputs": [],
   "source": [
    "import os\n",
    "import re\n",
    "import pandas as pd\n",
    "import numpy as np\n",
    "from subprocess import Popen, PIPE\n",
    "from multiprocessing import Pool\n",
    "from matplotlib import pyplot as plt\n",
    "import statsmodels.stats.multitest as multitest"
   ]
  },
  {
   "cell_type": "code",
   "execution_count": 9,
   "metadata": {},
   "outputs": [],
   "source": [
    "# override IPython's default %%bash to not buffer all output\n",
    "from IPython.core.magic import register_cell_magic\n",
    "@register_cell_magic\n",
    "def bash(line, cell): get_ipython().system(cell)"
   ]
  },
  {
   "cell_type": "markdown",
   "metadata": {},
   "source": [
    "## Read data and sample labels"
   ]
  },
  {
   "cell_type": "code",
   "execution_count": 10,
   "metadata": {},
   "outputs": [
    {
     "data": {
      "text/plain": [
       "acute        1140\n",
       "recovered     239\n",
       "baseline       74\n",
       "exposed        26\n",
       "non-acute       4\n",
       "Name: COVID-19-status, dtype: int64"
      ]
     },
     "execution_count": 10,
     "metadata": {},
     "output_type": "execute_result"
    }
   ],
   "source": [
    "metadata=pd.read_csv(\"/home/taumata/COV_AdaptiveBiotech/AB_prediction/adaptive-metadata-edited.tsv\",sep=\"\\t\")\n",
    "metadata[\"sample_short_name\"]=metadata[\"sample_name\"].apply(lambda x: x[:-5]) #remove _TCRB from end of names\n",
    "metadata[\"COVID-19-status\"].value_counts()\n"
   ]
  },
  {
   "cell_type": "code",
   "execution_count": 11,
   "metadata": {},
   "outputs": [
    {
     "data": {
      "text/html": [
       "<div>\n",
       "<style scoped>\n",
       "    .dataframe tbody tr th:only-of-type {\n",
       "        vertical-align: middle;\n",
       "    }\n",
       "\n",
       "    .dataframe tbody tr th {\n",
       "        vertical-align: top;\n",
       "    }\n",
       "\n",
       "    .dataframe thead th {\n",
       "        text-align: right;\n",
       "    }\n",
       "</style>\n",
       "<table border=\"1\" class=\"dataframe\">\n",
       "  <thead>\n",
       "    <tr style=\"text-align: right;\">\n",
       "      <th>diseases</th>\n",
       "      <th>covid--positive</th>\n",
       "      <th>covid--positive;adenocarcinoma--positive</th>\n",
       "      <th>covid--positive;brain-cancer--positive</th>\n",
       "      <th>covid--positive;breast-cancer--positive;hypertension--positive</th>\n",
       "      <th>covid--positive;breast-cancer--positive;t2d--positive;hypertension--positive;ckd--positive</th>\n",
       "      <th>covid--positive;ckd--positive;copd--positive</th>\n",
       "      <th>covid--positive;cll--positive</th>\n",
       "      <th>covid--positive;cll--positive;heart_failure--positive;copd--positive;coronary_artery_disease--positive</th>\n",
       "      <th>covid--positive;colon-cancer--positive;copd--positive</th>\n",
       "      <th>covid--positive;heart_failure--positive</th>\n",
       "      <th>...</th>\n",
       "      <th>covid--positive;renal-cancer--positive</th>\n",
       "      <th>covid--positive;t1d--positive</th>\n",
       "      <th>covid--positive;t1d--positive;hypertension--positive;ckd--positive;coronary_artery_disease--positive</th>\n",
       "      <th>covid--positive;t2d--positive</th>\n",
       "      <th>covid--positive;t2d--positive;ckd--positive;coronary_artery_disease--positive</th>\n",
       "      <th>covid--positive;t2d--positive;hypertension--positive</th>\n",
       "      <th>covid--positive;t2d--positive;hypertension--positive;copd--positive</th>\n",
       "      <th>covid--positive;t2d--positive;hypertension--positive;heart_failure--positive;coronary_artery_disease--positive</th>\n",
       "      <th>covid--positive;thyroid-cancer--positive</th>\n",
       "      <th>covid--positive;uterine-cancer--positive;hypertension--positive</th>\n",
       "    </tr>\n",
       "    <tr>\n",
       "      <th>COVID-19-status</th>\n",
       "      <th></th>\n",
       "      <th></th>\n",
       "      <th></th>\n",
       "      <th></th>\n",
       "      <th></th>\n",
       "      <th></th>\n",
       "      <th></th>\n",
       "      <th></th>\n",
       "      <th></th>\n",
       "      <th></th>\n",
       "      <th></th>\n",
       "      <th></th>\n",
       "      <th></th>\n",
       "      <th></th>\n",
       "      <th></th>\n",
       "      <th></th>\n",
       "      <th></th>\n",
       "      <th></th>\n",
       "      <th></th>\n",
       "      <th></th>\n",
       "      <th></th>\n",
       "    </tr>\n",
       "  </thead>\n",
       "  <tbody>\n",
       "    <tr>\n",
       "      <td>acute</td>\n",
       "      <td>818</td>\n",
       "      <td>1</td>\n",
       "      <td>1</td>\n",
       "      <td>1</td>\n",
       "      <td>1</td>\n",
       "      <td>1</td>\n",
       "      <td>1</td>\n",
       "      <td>1</td>\n",
       "      <td>1</td>\n",
       "      <td>1</td>\n",
       "      <td>...</td>\n",
       "      <td>0</td>\n",
       "      <td>1</td>\n",
       "      <td>1</td>\n",
       "      <td>2</td>\n",
       "      <td>0</td>\n",
       "      <td>8</td>\n",
       "      <td>0</td>\n",
       "      <td>1</td>\n",
       "      <td>1</td>\n",
       "      <td>1</td>\n",
       "    </tr>\n",
       "    <tr>\n",
       "      <td>baseline</td>\n",
       "      <td>31</td>\n",
       "      <td>1</td>\n",
       "      <td>1</td>\n",
       "      <td>1</td>\n",
       "      <td>1</td>\n",
       "      <td>1</td>\n",
       "      <td>1</td>\n",
       "      <td>1</td>\n",
       "      <td>1</td>\n",
       "      <td>1</td>\n",
       "      <td>...</td>\n",
       "      <td>1</td>\n",
       "      <td>1</td>\n",
       "      <td>1</td>\n",
       "      <td>1</td>\n",
       "      <td>1</td>\n",
       "      <td>8</td>\n",
       "      <td>1</td>\n",
       "      <td>0</td>\n",
       "      <td>1</td>\n",
       "      <td>1</td>\n",
       "    </tr>\n",
       "    <tr>\n",
       "      <td>recovered</td>\n",
       "      <td>159</td>\n",
       "      <td>0</td>\n",
       "      <td>0</td>\n",
       "      <td>0</td>\n",
       "      <td>0</td>\n",
       "      <td>0</td>\n",
       "      <td>0</td>\n",
       "      <td>0</td>\n",
       "      <td>0</td>\n",
       "      <td>0</td>\n",
       "      <td>...</td>\n",
       "      <td>0</td>\n",
       "      <td>0</td>\n",
       "      <td>0</td>\n",
       "      <td>1</td>\n",
       "      <td>0</td>\n",
       "      <td>1</td>\n",
       "      <td>0</td>\n",
       "      <td>1</td>\n",
       "      <td>0</td>\n",
       "      <td>0</td>\n",
       "    </tr>\n",
       "  </tbody>\n",
       "</table>\n",
       "<p>3 rows × 29 columns</p>\n",
       "</div>"
      ],
      "text/plain": [
       "diseases         covid--positive  covid--positive;adenocarcinoma--positive  \\\n",
       "COVID-19-status                                                              \n",
       "acute                        818                                         1   \n",
       "baseline                      31                                         1   \n",
       "recovered                    159                                         0   \n",
       "\n",
       "diseases         covid--positive;brain-cancer--positive  \\\n",
       "COVID-19-status                                           \n",
       "acute                                                 1   \n",
       "baseline                                              1   \n",
       "recovered                                             0   \n",
       "\n",
       "diseases         covid--positive;breast-cancer--positive;hypertension--positive  \\\n",
       "COVID-19-status                                                                   \n",
       "acute                                                            1                \n",
       "baseline                                                         1                \n",
       "recovered                                                        0                \n",
       "\n",
       "diseases         covid--positive;breast-cancer--positive;t2d--positive;hypertension--positive;ckd--positive  \\\n",
       "COVID-19-status                                                                                               \n",
       "acute                                                            1                                            \n",
       "baseline                                                         1                                            \n",
       "recovered                                                        0                                            \n",
       "\n",
       "diseases         covid--positive;ckd--positive;copd--positive  \\\n",
       "COVID-19-status                                                 \n",
       "acute                                                       1   \n",
       "baseline                                                    1   \n",
       "recovered                                                   0   \n",
       "\n",
       "diseases         covid--positive;cll--positive  \\\n",
       "COVID-19-status                                  \n",
       "acute                                        1   \n",
       "baseline                                     1   \n",
       "recovered                                    0   \n",
       "\n",
       "diseases         covid--positive;cll--positive;heart_failure--positive;copd--positive;coronary_artery_disease--positive  \\\n",
       "COVID-19-status                                                                                                           \n",
       "acute                                                            1                                                        \n",
       "baseline                                                         1                                                        \n",
       "recovered                                                        0                                                        \n",
       "\n",
       "diseases         covid--positive;colon-cancer--positive;copd--positive  \\\n",
       "COVID-19-status                                                          \n",
       "acute                                                            1       \n",
       "baseline                                                         1       \n",
       "recovered                                                        0       \n",
       "\n",
       "diseases         covid--positive;heart_failure--positive  ...  \\\n",
       "COVID-19-status                                           ...   \n",
       "acute                                                  1  ...   \n",
       "baseline                                               1  ...   \n",
       "recovered                                              0  ...   \n",
       "\n",
       "diseases         covid--positive;renal-cancer--positive  \\\n",
       "COVID-19-status                                           \n",
       "acute                                                 0   \n",
       "baseline                                              1   \n",
       "recovered                                             0   \n",
       "\n",
       "diseases         covid--positive;t1d--positive  \\\n",
       "COVID-19-status                                  \n",
       "acute                                        1   \n",
       "baseline                                     1   \n",
       "recovered                                    0   \n",
       "\n",
       "diseases         covid--positive;t1d--positive;hypertension--positive;ckd--positive;coronary_artery_disease--positive  \\\n",
       "COVID-19-status                                                                                                         \n",
       "acute                                                            1                                                      \n",
       "baseline                                                         1                                                      \n",
       "recovered                                                        0                                                      \n",
       "\n",
       "diseases         covid--positive;t2d--positive  \\\n",
       "COVID-19-status                                  \n",
       "acute                                        2   \n",
       "baseline                                     1   \n",
       "recovered                                    1   \n",
       "\n",
       "diseases         covid--positive;t2d--positive;ckd--positive;coronary_artery_disease--positive  \\\n",
       "COVID-19-status                                                                                  \n",
       "acute                                                            0                               \n",
       "baseline                                                         1                               \n",
       "recovered                                                        0                               \n",
       "\n",
       "diseases         covid--positive;t2d--positive;hypertension--positive  \\\n",
       "COVID-19-status                                                         \n",
       "acute                                                            8      \n",
       "baseline                                                         8      \n",
       "recovered                                                        1      \n",
       "\n",
       "diseases         covid--positive;t2d--positive;hypertension--positive;copd--positive  \\\n",
       "COVID-19-status                                                                        \n",
       "acute                                                            0                     \n",
       "baseline                                                         1                     \n",
       "recovered                                                        0                     \n",
       "\n",
       "diseases         covid--positive;t2d--positive;hypertension--positive;heart_failure--positive;coronary_artery_disease--positive  \\\n",
       "COVID-19-status                                                                                                                   \n",
       "acute                                                            1                                                                \n",
       "baseline                                                         0                                                                \n",
       "recovered                                                        1                                                                \n",
       "\n",
       "diseases         covid--positive;thyroid-cancer--positive  \\\n",
       "COVID-19-status                                             \n",
       "acute                                                   1   \n",
       "baseline                                                1   \n",
       "recovered                                               0   \n",
       "\n",
       "diseases         covid--positive;uterine-cancer--positive;hypertension--positive  \n",
       "COVID-19-status                                                                   \n",
       "acute                                                            1                \n",
       "baseline                                                         1                \n",
       "recovered                                                        0                \n",
       "\n",
       "[3 rows x 29 columns]"
      ]
     },
     "execution_count": 11,
     "metadata": {},
     "output_type": "execute_result"
    }
   ],
   "source": [
    "pd.crosstab(metadata[\"COVID-19-status\"], metadata[\"diseases\"], dropna=False)\n"
   ]
  },
  {
   "cell_type": "code",
   "execution_count": 12,
   "metadata": {},
   "outputs": [],
   "source": [
    "adaptive_acute=set(metadata.loc[metadata[\"COVID-19-status\"]==\"acute\",\"sample_short_name\"])"
   ]
  },
  {
   "cell_type": "code",
   "execution_count": 13,
   "metadata": {},
   "outputs": [],
   "source": [
    "adaptive_recovered=set(metadata.loc[metadata[\"COVID-19-status\"]==\"recovered\",\"sample_short_name\"])"
   ]
  },
  {
   "cell_type": "code",
   "execution_count": 15,
   "metadata": {},
   "outputs": [],
   "source": [
    "AB_data=pd.read_csv(\"/home/taumata/COV_AdaptiveBiotech/AB_prediction/AB_freq_of_top1000_leven1_v2.tsv\",\n",
    "                    sep=\"\\t\")\n",
    "\n",
    "HIP_data=pd.read_csv(\"/home/taumata/COV_AdaptiveBiotech/AB_prediction/HIP_freq_of_top1000_leven1_v2.tsv\",\n",
    "                    sep=\"\\t\")"
   ]
  },
  {
   "cell_type": "code",
   "execution_count": 16,
   "metadata": {},
   "outputs": [
    {
     "name": "stdout",
     "output_type": "stream",
     "text": [
      "1136\n",
      "786\n"
     ]
    }
   ],
   "source": [
    "#select samples with status acute from Adaptive\n",
    "#and take all HIP samples as healthy\n",
    "AB_data_acute=AB_data.loc[set(AB_data.index.values)&adaptive_acute]\n",
    "\n",
    "AB_data_acute[\"status\"]=\"acute\"\n",
    "HIP_data[\"status\"]=\"healthy\"\n",
    "\n",
    "print(len(AB_data_acute))\n",
    "print(len(HIP_data))"
   ]
  },
  {
   "cell_type": "code",
   "execution_count": 17,
   "metadata": {},
   "outputs": [],
   "source": [
    "#combine data to one data_frame\n",
    "AB_acute_and_HIP_data = pd.concat([AB_data_acute,HIP_data])"
   ]
  },
  {
   "cell_type": "code",
   "execution_count": 18,
   "metadata": {},
   "outputs": [],
   "source": [
    "#extract from data dependent and independent variables\n",
    "X=AB_acute_and_HIP_data[AB_acute_and_HIP_data.columns[~AB_acute_and_HIP_data.columns.isin([\"status\"])]]\n",
    "y=AB_acute_and_HIP_data[\"status\"]"
   ]
  },
  {
   "cell_type": "markdown",
   "metadata": {},
   "source": [
    "### Random Forest on Adaptive vs HIP\n",
    "using top 1000 clonotypes from Adaptive and frequencies of clonotypes"
   ]
  },
  {
   "cell_type": "code",
   "execution_count": 26,
   "metadata": {},
   "outputs": [
    {
     "name": "stdout",
     "output_type": "stream",
     "text": [
      ">acc=0.920, est=0.926, cfg={'max_depth': 5, 'max_features': 40}\n",
      "[[222   6]\n",
      " [ 21 136]]\n",
      ">acc=0.925, est=0.907, cfg={'max_depth': 5, 'max_features': 40}\n",
      "[[216  11]\n",
      " [ 16 142]]\n",
      ">acc=0.911, est=0.922, cfg={'max_depth': 5, 'max_features': 40}\n",
      "[[211  16]\n",
      " [ 17 140]]\n",
      ">acc=0.949, est=0.919, cfg={'max_depth': 5, 'max_features': 40}\n",
      "[[224   3]\n",
      " [ 14 143]]\n",
      ">acc=0.924, est=0.924, cfg={'max_depth': 5, 'max_features': 40}\n",
      "[[217  10]\n",
      " [ 17 140]]\n",
      "Balanced accuracy: 0.926 (0.013)\n"
     ]
    }
   ],
   "source": [
    "#HEAVILY BASED ON https://machinelearningmastery.com/nested-cross-validation-for-machine-learning-with-python/\n",
    "\n",
    "# manual nested cross-validation for random forest on a classification dataset\n",
    "from numpy import mean\n",
    "from numpy import std\n",
    "from sklearn.datasets import make_classification\n",
    "from sklearn.model_selection import KFold\n",
    "from sklearn.model_selection import StratifiedKFold\n",
    "from sklearn.metrics import confusion_matrix\n",
    "from sklearn.model_selection import GridSearchCV\n",
    "from sklearn.ensemble import RandomForestClassifier\n",
    "from sklearn.metrics import balanced_accuracy_score\n",
    "\n",
    "# configure the cross-validation procedure\n",
    "cv_outer = StratifiedKFold(n_splits=5, shuffle=True, random_state=1)\n",
    "\n",
    "# enumerate splits\n",
    "outer_results = list()\n",
    "class_weight = dict({\"acute\":786, \"healthy\":1140}) #weights reverse to sample sizes\n",
    "\n",
    "for train_ix, test_ix in cv_outer.split(X,y):\n",
    "    # split data\n",
    "    X_train, X_test = X.iloc[train_ix], X.iloc[test_ix]\n",
    "    y_train, y_test = [y[i] for i in train_ix],[y[i] for i in test_ix]\n",
    "    # configure the cross-validation procedure\n",
    "    cv_inner = StratifiedKFold(n_splits=3, shuffle=True, random_state=1)\n",
    "    # define the model\n",
    "    model = RandomForestClassifier(random_state=1,\n",
    "                                   class_weight=class_weight,\n",
    "                                   n_estimators=500,\n",
    "                                   n_jobs=25)\n",
    "    # define search space\n",
    "    space = dict()\n",
    "    space['max_features'] = [10, 20, 40]\n",
    "    space['max_depth']=[5,9,13]\n",
    "    # define search\n",
    "    search = GridSearchCV(model, space, scoring='balanced_accuracy', cv=cv_inner, refit=True)\n",
    "    # execute search\n",
    "    result = search.fit(X_train, y_train)\n",
    "    # get the best performing model fit on the whole training set\n",
    "    best_model = result.best_estimator_\n",
    "    # evaluate model on the hold out dataset\n",
    "    yhat = best_model.predict(X_test)\n",
    "    # evaluate the model\n",
    "    acc = balanced_accuracy_score(y_test, yhat)\n",
    "    # store the result\n",
    "    outer_results.append(acc)\n",
    "    # report progress\n",
    "    print('>acc=%.3f, est=%.3f, cfg=%s' % (acc, result.best_score_, result.best_params_))\n",
    "    # output confusion matrix\n",
    "    conf_mat = confusion_matrix(y_test, yhat)\n",
    "    print(conf_mat)\n",
    "# summarize the estimated performance of the model\n",
    "print('Balanced accuracy: %.3f (%.3f)' % (mean(outer_results), std(outer_results)))"
   ]
  },
  {
   "cell_type": "code",
   "execution_count": 28,
   "metadata": {},
   "outputs": [
    {
     "data": {
      "image/png": "[encoded data removed]",
      "text/plain": [
       "<Figure size 576x576 with 1 Axes>"
      ]
     },
     "metadata": {
      "needs_background": "light"
     },
     "output_type": "display_data"
    }
   ],
   "source": [
    "#MOSTLY COPIED FROM https://scikit-learn.org/stable/auto_examples/model_selection/plot_roc_crossval.html\n",
    "import numpy as np\n",
    "import matplotlib.pyplot as plt\n",
    "\n",
    "from sklearn import svm, datasets\n",
    "from sklearn.metrics import auc\n",
    "from sklearn.metrics import plot_roc_curve\n",
    "from sklearn.model_selection import StratifiedKFold\n",
    "\n",
    "# #############################################################################\n",
    "# Classification and ROC analysis\n",
    "# Run classifier with cross-validation and plot ROC curves\n",
    "cv = StratifiedKFold(n_splits=5,shuffle=True)\n",
    "\n",
    "class_weight = dict({\"acute\":786, \"healthy\":1140})\n",
    "\n",
    "clf=RandomForestClassifier(class_weight=class_weight,\n",
    "                          max_depth=5, max_features=40,\n",
    "                          n_estimators=500,n_jobs=25)\n",
    "\n",
    "tprs = []\n",
    "aucs = []\n",
    "mean_fpr = np.linspace(0, 1, 100)\n",
    "plt.rcParams[\"figure.figsize\"] = (8,8)\n",
    "\n",
    "\n",
    "fig, ax = plt.subplots()\n",
    "plt.rcParams[\"figure.figsize\"] = (1,1)\n",
    "for i, (train, test) in enumerate(cv.split(X, y)):\n",
    "    clf.fit(X.iloc[train], [y[i] for i in train])\n",
    "    viz = plot_roc_curve(clf, X.iloc[test], [y[i] for i in test],\n",
    "                         name='ROC fold {}'.format(i),\n",
    "                         alpha=0.3, lw=1, ax=ax)\n",
    "    interp_tpr = np.interp(mean_fpr, viz.fpr, viz.tpr)\n",
    "    interp_tpr[0] = 0.0\n",
    "    tprs.append(interp_tpr)\n",
    "    aucs.append(viz.roc_auc)\n",
    "\n",
    "ax.plot([0, 1], [0, 1], linestyle='--', lw=2, color='r',\n",
    "        label='Chance', alpha=.8)\n",
    "\n",
    "mean_tpr = np.mean(tprs, axis=0)\n",
    "mean_tpr[-1] = 1.0\n",
    "mean_auc = auc(mean_fpr, mean_tpr)\n",
    "std_auc = np.std(aucs)\n",
    "ax.plot(mean_fpr, mean_tpr, color='b',\n",
    "        label=r'Mean ROC (AUC = %0.2f $\\pm$ %0.2f)' % (mean_auc, std_auc),\n",
    "        lw=2, alpha=.8)\n",
    "\n",
    "std_tpr = np.std(tprs, axis=0)\n",
    "tprs_upper = np.minimum(mean_tpr + std_tpr, 1)\n",
    "tprs_lower = np.maximum(mean_tpr - std_tpr, 0)\n",
    "ax.fill_between(mean_fpr, tprs_lower, tprs_upper, color='grey', alpha=.2,\n",
    "                label=r'$\\pm$ 1 std. dev.')\n",
    "\n",
    "ax.set(xlim=[-0.05, 1.05], ylim=[-0.05, 1.05],\n",
    "       title=\"Adaptive acute VS HIP all\")\n",
    "ax.legend(loc=\"lower right\")\n",
    "plt.show()\n",
    "\n"
   ]
  },
  {
   "cell_type": "markdown",
   "metadata": {},
   "source": [
    "### Random forest FMBA healthy vs current\n",
    "using top 1000 clonotypes from Adaptive and frequencies of clonotypes"
   ]
  },
  {
   "cell_type": "code",
   "execution_count": 29,
   "metadata": {},
   "outputs": [],
   "source": [
    "FMBA_data=pd.read_csv(\"/home/taumata/COV_AdaptiveBiotech/AB_prediction/FMBA_freq_of_top1000_leven1_v2.tsv\",\n",
    "                    sep=\"\\t\")\n"
   ]
  },
  {
   "cell_type": "code",
   "execution_count": 30,
   "metadata": {},
   "outputs": [
    {
     "data": {
      "text/plain": [
       "healthy                472\n",
       "current                410\n",
       "past                   330\n",
       "early                   22\n",
       "undiagnosed disease     11\n",
       "Name: sample.COVID_status, dtype: int64"
      ]
     },
     "execution_count": 30,
     "metadata": {},
     "output_type": "execute_result"
    }
   ],
   "source": [
    "FMBA_metadata=pd.read_csv(\"/projects/fmba_covid/metadata_fmba_full.txt\",sep=\"\\t\")\n",
    "FMBA_metadata[\"sample.COVID_status\"].value_counts()\n"
   ]
  },
  {
   "cell_type": "code",
   "execution_count": 31,
   "metadata": {},
   "outputs": [],
   "source": [
    "fmba_healthy=set(FMBA_metadata.loc[FMBA_metadata[\"sample.COVID_status\"]==\"healthy\",\"id\"])\n",
    "fmba_current=set(FMBA_metadata.loc[FMBA_metadata[\"sample.COVID_status\"]==\"current\",\"id\"])\n",
    "fmba_healthy_or_current_id=fmba_healthy|fmba_current"
   ]
  },
  {
   "cell_type": "code",
   "execution_count": 32,
   "metadata": {},
   "outputs": [
    {
     "data": {
      "text/plain": [
       "healthy    310\n",
       "current    301\n",
       "Name: status, dtype: int64"
      ]
     },
     "execution_count": 32,
     "metadata": {},
     "output_type": "execute_result"
    }
   ],
   "source": [
    "FMBA_data_healthy_or_current=FMBA_data.loc[set(FMBA_data.index.values)&fmba_healthy_or_current_id]\n",
    "FMBA_data_healthy_or_current[\"status\"]=\"current\"\n",
    "FMBA_data_healthy_or_current.loc[set(FMBA_data_healthy_or_current.index.values)&fmba_healthy,\"status\"]=\"healthy\"\n",
    "FMBA_data_healthy_or_current[\"status\"].value_counts()"
   ]
  },
  {
   "cell_type": "code",
   "execution_count": 33,
   "metadata": {},
   "outputs": [],
   "source": [
    "X=FMBA_data_healthy_or_current[FMBA_data_healthy_or_current.columns[~FMBA_data_healthy_or_current.columns.isin([\"status\"])]]\n",
    "y=list(FMBA_data_healthy_or_current[\"status\"])\n"
   ]
  },
  {
   "cell_type": "code",
   "execution_count": 34,
   "metadata": {},
   "outputs": [
    {
     "name": "stdout",
     "output_type": "stream",
     "text": [
      ">acc=0.708, est=0.732, cfg={'max_depth': 5, 'max_features': 20}\n",
      "[[46 15]\n",
      " [21 41]]\n",
      ">acc=0.763, est=0.707, cfg={'max_depth': 9, 'max_features': 20}\n",
      "[[49 11]\n",
      " [18 44]]\n",
      ">acc=0.700, est=0.722, cfg={'max_depth': 9, 'max_features': 20}\n",
      "[[53  7]\n",
      " [30 32]]\n",
      ">acc=0.721, est=0.717, cfg={'max_depth': 13, 'max_features': 40}\n",
      "[[43 17]\n",
      " [17 45]]\n",
      ">acc=0.723, est=0.710, cfg={'max_depth': 13, 'max_features': 40}\n",
      "[[48 12]\n",
      " [22 40]]\n",
      "Balanced accuracy: 0.723 (0.022)\n"
     ]
    }
   ],
   "source": [
    "#HEAVILY BASED ON https://machinelearningmastery.com/nested-cross-validation-for-machine-learning-with-python/\n",
    "\n",
    "# manual nested cross-validation for random forest on a classification dataset\n",
    "from numpy import mean\n",
    "from numpy import std\n",
    "from sklearn.datasets import make_classification\n",
    "from sklearn.model_selection import KFold\n",
    "from sklearn.model_selection import StratifiedKFold\n",
    "from sklearn.model_selection import GridSearchCV\n",
    "from sklearn.ensemble import RandomForestClassifier\n",
    "from sklearn.metrics import balanced_accuracy_score\n",
    "# create dataset\n",
    "#X, y = make_classification(n_samples=1000, n_features=20, random_state=1, n_informative=10, n_redundant=10)\n",
    "\n",
    "# configure the cross-validation procedure\n",
    "cv_outer = StratifiedKFold(n_splits=5, shuffle=True, random_state=1)\n",
    "# enumerate splits\n",
    "outer_results = list()\n",
    "class_weight = dict({\"current\":310, \"healthy\":301}) #weights reverse to sample sizes\n",
    "\n",
    "for train_ix, test_ix in cv_outer.split(X,y):\n",
    "    # split data\n",
    "    X_train, X_test = X.iloc[train_ix], X.iloc[test_ix]\n",
    "    y_train, y_test = [y[i] for i in train_ix],[y[i] for i in test_ix]\n",
    "    # configure the cross-validation procedure\n",
    "    cv_inner = StratifiedKFold(n_splits=3, shuffle=True, random_state=1)\n",
    "    # define the model\n",
    "    model = RandomForestClassifier(random_state=1,\n",
    "                                   class_weight=class_weight,\n",
    "                                   n_estimators=500,\n",
    "                                   n_jobs=25)\n",
    "    # define search space\n",
    "    space = dict()\n",
    "    space['max_features'] = [10, 20, 40]\n",
    "    space['max_depth']=[5,9,13]\n",
    "\n",
    "    # define search\n",
    "    search = GridSearchCV(model, space, scoring='balanced_accuracy', cv=cv_inner, refit=True)\n",
    "    # execute search\n",
    "    result = search.fit(X_train, y_train)\n",
    "    # get the best performing model fit on the whole training set\n",
    "    best_model = result.best_estimator_\n",
    "    # evaluate model on the hold out dataset\n",
    "    yhat = best_model.predict(X_test)\n",
    "    # evaluate the model\n",
    "    acc = balanced_accuracy_score(y_test, yhat)\n",
    "    # store the result\n",
    "    outer_results.append(acc)\n",
    "    # report progress\n",
    "    print('>acc=%.3f, est=%.3f, cfg=%s' % (acc, result.best_score_, result.best_params_))\n",
    "    conf_mat = confusion_matrix(y_test, yhat)\n",
    "    print(conf_mat)\n",
    "# summarize the estimated performance of the model\n",
    "print('Balanced accuracy: %.3f (%.3f)' % (mean(outer_results), std(outer_results)))"
   ]
  },
  {
   "cell_type": "code",
   "execution_count": 36,
   "metadata": {},
   "outputs": [
    {
     "data": {
      "image/png": "[encoded data removed]",
      "text/plain": [
       "<Figure size 576x576 with 1 Axes>"
      ]
     },
     "metadata": {
      "needs_background": "light"
     },
     "output_type": "display_data"
    }
   ],
   "source": [
    "#MOSTLY COPIED FROM https://scikit-learn.org/stable/auto_examples/model_selection/plot_roc_crossval.html\n",
    "import numpy as np\n",
    "import matplotlib.pyplot as plt\n",
    "\n",
    "from sklearn import svm, datasets\n",
    "from sklearn.metrics import auc\n",
    "from sklearn.metrics import plot_roc_curve\n",
    "from sklearn.model_selection import StratifiedKFold\n",
    "\n",
    "# #############################################################################\n",
    "# Classification and ROC analysis\n",
    "# Run classifier with cross-validation and plot ROC curves\n",
    "cv = StratifiedKFold(n_splits=5,shuffle=True)\n",
    "\n",
    "class_weight = dict({\"current\":310, \"healthy\":301})\n",
    "\n",
    "clf=RandomForestClassifier(class_weight=class_weight,n_estimators=500,\n",
    "                                       n_jobs=25,\n",
    "                          max_depth=5, max_features=20)\n",
    "\n",
    "tprs = []\n",
    "aucs = []\n",
    "mean_fpr = np.linspace(0, 1, 100)\n",
    "plt.rcParams[\"figure.figsize\"] = (8,8)\n",
    "\n",
    "\n",
    "fig, ax = plt.subplots()\n",
    "plt.rcParams[\"figure.figsize\"] = (1,1)\n",
    "for i, (train, test) in enumerate(cv.split(X, y)):\n",
    "    clf.fit(X.iloc[train], [y[i] for i in train])\n",
    "    viz = plot_roc_curve(clf, X.iloc[test], [y[i] for i in test],\n",
    "                         name='ROC fold {}'.format(i),\n",
    "                         alpha=0.3, lw=1, ax=ax)\n",
    "    interp_tpr = np.interp(mean_fpr, viz.fpr, viz.tpr)\n",
    "    interp_tpr[0] = 0.0\n",
    "    tprs.append(interp_tpr)\n",
    "    aucs.append(viz.roc_auc)\n",
    "\n",
    "ax.plot([0, 1], [0, 1], linestyle='--', lw=2, color='r',\n",
    "        label='Chance', alpha=.8)\n",
    "\n",
    "mean_tpr = np.mean(tprs, axis=0)\n",
    "mean_tpr[-1] = 1.0\n",
    "mean_auc = auc(mean_fpr, mean_tpr)\n",
    "std_auc = np.std(aucs)\n",
    "ax.plot(mean_fpr, mean_tpr, color='b',\n",
    "        label=r'Mean ROC (AUC = %0.2f $\\pm$ %0.2f)' % (mean_auc, std_auc),\n",
    "        lw=2, alpha=.8)\n",
    "\n",
    "std_tpr = np.std(tprs, axis=0)\n",
    "tprs_upper = np.minimum(mean_tpr + std_tpr, 1)\n",
    "tprs_lower = np.maximum(mean_tpr - std_tpr, 0)\n",
    "ax.fill_between(mean_fpr, tprs_lower, tprs_upper, color='grey', alpha=.2,\n",
    "                label=r'$\\pm$ 1 std. dev.')\n",
    "\n",
    "ax.set(xlim=[-0.05, 1.05], ylim=[-0.05, 1.05],\n",
    "       title=\"FMBA healthy vs current\")\n",
    "ax.legend(loc=\"lower right\")\n",
    "plt.show()\n",
    "\n",
    "\n"
   ]
  },
  {
   "cell_type": "markdown",
   "metadata": {},
   "source": [
    "### Try to apply Random Forest trained on adaptive to FMBA\n",
    "based on clonotypes absense/presence (because frequencies do nor work well in this case)"
   ]
  },
  {
   "cell_type": "code",
   "execution_count": 43,
   "metadata": {},
   "outputs": [],
   "source": [
    "X=AB_acute_and_HIP_data[AB_acute_and_HIP_data.columns[~AB_acute_and_HIP_data.columns.isin([\"status\"])]]\n",
    "y=AB_acute_and_HIP_data[\"status\"]"
   ]
  },
  {
   "cell_type": "code",
   "execution_count": 53,
   "metadata": {},
   "outputs": [
    {
     "name": "stderr",
     "output_type": "stream",
     "text": [
      "/home/taumata/anaconda3/lib/python3.7/site-packages/ipykernel_launcher.py:1: SettingWithCopyWarning: \n",
      "A value is trying to be set on a copy of a slice from a DataFrame.\n",
      "Try using .loc[row_indexer,col_indexer] = value instead\n",
      "\n",
      "See the caveats in the documentation: http://pandas.pydata.org/pandas-docs/stable/user_guide/indexing.html#returning-a-view-versus-a-copy\n",
      "  \"\"\"Entry point for launching an IPython kernel.\n"
     ]
    }
   ],
   "source": [
    "X[X != 0] = 1"
   ]
  },
  {
   "cell_type": "code",
   "execution_count": 60,
   "metadata": {},
   "outputs": [
    {
     "name": "stdout",
     "output_type": "stream",
     "text": [
      ">acc=0.808, est=0.812, cfg={'max_depth': 13, 'max_features': 20}\n",
      "[[194  34]\n",
      " [ 37 120]]\n",
      ">acc=0.821, est=0.810, cfg={'max_depth': 9, 'max_features': 40}\n",
      "[[173  54]\n",
      " [ 19 139]]\n",
      ">acc=0.798, est=0.819, cfg={'max_depth': 9, 'max_features': 20}\n",
      "[[176  51]\n",
      " [ 28 129]]\n",
      ">acc=0.793, est=0.814, cfg={'max_depth': 9, 'max_features': 20}\n",
      "[[175  52]\n",
      " [ 29 128]]\n",
      ">acc=0.836, est=0.811, cfg={'max_depth': 9, 'max_features': 20}\n",
      "[[180  47]\n",
      " [ 19 138]]\n",
      "Balanced accuracy: 0.811 (0.016)\n"
     ]
    }
   ],
   "source": [
    "#HEAVILY BASED ON https://machinelearningmastery.com/nested-cross-validation-for-machine-learning-with-python/\n",
    "\n",
    "# manual nested cross-validation for random forest on a classification dataset\n",
    "from numpy import mean\n",
    "from numpy import std\n",
    "from sklearn.datasets import make_classification\n",
    "from sklearn.model_selection import KFold\n",
    "from sklearn.model_selection import StratifiedKFold\n",
    "from sklearn.metrics import confusion_matrix\n",
    "from sklearn.model_selection import GridSearchCV\n",
    "from sklearn.ensemble import RandomForestClassifier\n",
    "from sklearn.metrics import balanced_accuracy_score\n",
    "\n",
    "# configure the cross-validation procedure\n",
    "cv_outer = StratifiedKFold(n_splits=5, shuffle=True, random_state=1)\n",
    "\n",
    "# enumerate splits\n",
    "outer_results = list()\n",
    "class_weight = dict({\"acute\":786, \"healthy\":1140}) #weights reverse to sample sizes\n",
    "\n",
    "for train_ix, test_ix in cv_outer.split(X,y):\n",
    "    # split data\n",
    "    X_train, X_test = X.iloc[train_ix], X.iloc[test_ix]\n",
    "    y_train, y_test = [y[i] for i in train_ix],[y[i] for i in test_ix]\n",
    "    # configure the cross-validation procedure\n",
    "    cv_inner = StratifiedKFold(n_splits=3, shuffle=True, random_state=1)\n",
    "    # define the model\n",
    "    model = RandomForestClassifier(random_state=1,\n",
    "                                   class_weight=class_weight,\n",
    "                                   n_estimators=500,\n",
    "                                   n_jobs=25)\n",
    "    # define search space\n",
    "    space = dict()\n",
    "    space['max_features'] = [10, 20, 40]\n",
    "    space['max_depth']=[5,9,13]\n",
    "    # define search\n",
    "    search = GridSearchCV(model, space, scoring='balanced_accuracy', cv=cv_inner, refit=True)\n",
    "    # execute search\n",
    "    result = search.fit(X_train, y_train)\n",
    "    # get the best performing model fit on the whole training set\n",
    "    best_model = result.best_estimator_\n",
    "    # evaluate model on the hold out dataset\n",
    "    yhat = best_model.predict(X_test)\n",
    "    # evaluate the model\n",
    "    acc = balanced_accuracy_score(y_test, yhat)\n",
    "    # store the result\n",
    "    outer_results.append(acc)\n",
    "    # report progress\n",
    "    print('>acc=%.3f, est=%.3f, cfg=%s' % (acc, result.best_score_, result.best_params_))\n",
    "    # output confusion matrix\n",
    "    conf_mat = confusion_matrix(y_test, yhat)\n",
    "    print(conf_mat)\n",
    "# summarize the estimated performance of the model\n",
    "print('Balanced accuracy: %.3f (%.3f)' % (mean(outer_results), std(outer_results)))"
   ]
  },
  {
   "cell_type": "code",
   "execution_count": 61,
   "metadata": {},
   "outputs": [
    {
     "data": {
      "text/plain": [
       "RandomForestClassifier(bootstrap=True, ccp_alpha=0.0,\n",
       "                       class_weight={'acute': 786, 'healthy': 1140},\n",
       "                       criterion='gini', max_depth=9, max_features=20,\n",
       "                       max_leaf_nodes=None, max_samples=None,\n",
       "                       min_impurity_decrease=0.0, min_impurity_split=None,\n",
       "                       min_samples_leaf=1, min_samples_split=2,\n",
       "                       min_weight_fraction_leaf=0.0, n_estimators=500,\n",
       "                       n_jobs=25, oob_score=False, random_state=None, verbose=0,\n",
       "                       warm_start=False)"
      ]
     },
     "execution_count": 61,
     "metadata": {},
     "output_type": "execute_result"
    }
   ],
   "source": [
    "#train model on all adaptive samples\n",
    "adaptive_absence=RandomForestClassifier(class_weight=class_weight,n_estimators=500,\n",
    "                                       n_jobs=25,\n",
    "                                          max_depth=9, max_features=20)\n",
    "\n",
    "\n",
    "adaptive_absence.fit(X,y)"
   ]
  },
  {
   "cell_type": "code",
   "execution_count": null,
   "metadata": {},
   "outputs": [],
   "source": [
    "#apply this model to FMBA"
   ]
  },
  {
   "cell_type": "code",
   "execution_count": 71,
   "metadata": {},
   "outputs": [],
   "source": [
    "X_fmba=FMBA_data_healthy_or_current[FMBA_data_healthy_or_current.columns[~FMBA_data_healthy_or_current.columns.isin([\"status\"])]]\n",
    "y_fmba=list(FMBA_data_healthy_or_current[\"status\"])\n"
   ]
  },
  {
   "cell_type": "code",
   "execution_count": 76,
   "metadata": {},
   "outputs": [
    {
     "name": "stderr",
     "output_type": "stream",
     "text": [
      "/home/taumata/anaconda3/lib/python3.7/site-packages/ipykernel_launcher.py:2: SettingWithCopyWarning: \n",
      "A value is trying to be set on a copy of a slice from a DataFrame.\n",
      "Try using .loc[row_indexer,col_indexer] = value instead\n",
      "\n",
      "See the caveats in the documentation: http://pandas.pydata.org/pandas-docs/stable/user_guide/indexing.html#returning-a-view-versus-a-copy\n",
      "  \n",
      "/home/taumata/anaconda3/lib/python3.7/site-packages/pandas/core/frame.py:3515: SettingWithCopyWarning: \n",
      "A value is trying to be set on a copy of a slice from a DataFrame\n",
      "\n",
      "See the caveats in the documentation: http://pandas.pydata.org/pandas-docs/stable/user_guide/indexing.html#returning-a-view-versus-a-copy\n",
      "  self._where(-key, value, inplace=True)\n"
     ]
    }
   ],
   "source": [
    "#turn to absence/presence\n",
    "X_fmba[X_fmba!=0]=1"
   ]
  },
  {
   "cell_type": "code",
   "execution_count": 72,
   "metadata": {},
   "outputs": [],
   "source": [
    "#change label to becomme like adaptive\n",
    "y_fmba = [\"acute\" if y_t ==\"current\"  else y_t for y_t in y_fmba]"
   ]
  },
  {
   "cell_type": "code",
   "execution_count": 78,
   "metadata": {},
   "outputs": [
    {
     "name": "stdout",
     "output_type": "stream",
     "text": [
      "0.5\n",
      "[[301   0]\n",
      " [310   0]]\n"
     ]
    }
   ],
   "source": [
    "y_fmba_predicted=adaptive_absence.predict(X_fmba)\n",
    "acc = balanced_accuracy_score(y_fmba, y_fmba_predicted)\n",
    "print(acc)\n",
    "conf_mat = confusion_matrix(y_fmba, y_fmba_predicted)\n",
    "print(conf_mat)"
   ]
  },
  {
   "cell_type": "code",
   "execution_count": null,
   "metadata": {},
   "outputs": [],
   "source": []
  }
 ],
 "metadata": {
  "kernelspec": {
   "display_name": "Python 3",
   "language": "python",
   "name": "python3"
  },
  "language_info": {
   "codemirror_mode": {
    "name": "ipython",
    "version": 3
   },
   "file_extension": ".py",
   "mimetype": "text/x-python",
   "name": "python",
   "nbconvert_exporter": "python",
   "pygments_lexer": "ipython3",
   "version": "3.7.4"
  }
 },
 "nbformat": 4,
 "nbformat_minor": 2
}
