{
 "cells": [
  {
   "cell_type": "code",
   "execution_count": 165,
   "metadata": {},
   "outputs": [],
   "source": [
    "import os #\n",
    "import re\n",
    "import pandas as pd#\n",
    "import numpy as np #\n",
    "import multiprocessing as mp #\n",
    "#from subprocess import Popen, PIPE\n",
    "#from multiprocessing import Pool\n",
    "from matplotlib import pyplot as plt #\n",
    "import statsmodels.stats.multitest as multitest #\n",
    "from statistics import median\n",
    "from statistics import mean\n",
    "from skbio.diversity import alpha_diversity\n",
    "import skbio.diversity"
   ]
  },
  {
   "cell_type": "code",
   "execution_count": 8,
   "metadata": {},
   "outputs": [],
   "source": [
    "%load_ext rpy2.ipython"
   ]
  },
  {
   "cell_type": "code",
   "execution_count": 9,
   "metadata": {},
   "outputs": [],
   "source": [
    "%%R\n",
    "library(ggplot2)"
   ]
  },
  {
   "cell_type": "markdown",
   "metadata": {},
   "source": [
    "### Let's start"
   ]
  },
  {
   "cell_type": "code",
   "execution_count": 3,
   "metadata": {},
   "outputs": [],
   "source": [
    "#get_alpha_diversity_shannon based on frequencies\n",
    "def get_alpha_diversity_shannon(sample_name, path_to_folder_with_sample):\n",
    "    #------read clonotype tabel\n",
    "    diversity_shannon_array=[]\n",
    "    with open(str(path_to_folder_with_sample)+\"/\"+str(sample_name),\"r\") as clonotype_file:\n",
    "        #total_counts=0\n",
    "        #clone_counts=0\n",
    "        local_sample_clone_array=[]\n",
    "        for clone in clonotype_file.readlines()[1:]: #skip header\n",
    "            clone=clone.split('\\t')[1]\n",
    "            local_sample_clone_array.append(float(clone))\n",
    "            #total_counts+=1\n",
    "        diversity_shannon=skbio.diversity.alpha.shannon(local_sample_clone_array, base=2)\n",
    "   \n",
    "    diversity_shannon_array.append(diversity_shannon)  \n",
    "    \n",
    "    return diversity_shannon_array"
   ]
  },
  {
   "cell_type": "code",
   "execution_count": 6,
   "metadata": {},
   "outputs": [],
   "source": [
    "#Metadata import\n",
    "metadata_fmba = pd.read_csv('/projects/fmba_covid/metadata_fmba_full_v2.txt', sep='\\t')\n",
    "metadata_fmba = metadata_fmba.rename(columns={\"sample.COVID_status\": \"COVID_status\"})\n",
    "\n",
    "metadata_AB = pd.read_csv('../../random_forest_v2/AB_prediction/adaptive-metadata-edited.tsv', sep='\\t')\n",
    "metadata_AB[\"sample_short_name\"] = metadata_AB[\"sample_name\"].apply(lambda x: x[:-5]) #remove _TCRB from end of names"
   ]
  },
  {
   "cell_type": "code",
   "execution_count": 7,
   "metadata": {},
   "outputs": [
    {
     "name": "stdout",
     "output_type": "stream",
     "text": [
      "fmba_healthy: 409\n",
      "fmba_IgM_yes: 410\n",
      "fmba_IgM_no_IgG_yes: 340\n",
      "AB_acute: 1140\n",
      "AB_recovered: 239\n",
      "AB_baseline: 74\n",
      "AB_exposed: 26\n",
      "HIP: 666\n",
      "Keck: 120\n"
     ]
    }
   ],
   "source": [
    "#Make a cohorts of FMBA\n",
    "fmba_healthy = set(metadata_fmba.loc[metadata_fmba.COVID_status == 'healthy', \"CSP\"])\n",
    "print('fmba_healthy:', len(fmba_healthy))\n",
    "fmba_IgM_yes = set(metadata_fmba.loc[metadata_fmba['sample.COVID_IgM'] == 'yes', \"CSP\"])\n",
    "print('fmba_IgM_yes:', len(fmba_IgM_yes))\n",
    "fmba_IgM_no_IgG_yes = set(metadata_fmba.loc[(metadata_fmba['sample.COVID_IgM'] == 'no')\n",
    "                       & (metadata_fmba['sample.COVID_IgG'] == 'yes'), \"CSP\"])\n",
    "print('fmba_IgM_no_IgG_yes:', len(fmba_IgM_no_IgG_yes))\n",
    "\n",
    "#Make a cohorts of Adaptive\n",
    "AB_acute = set(metadata_AB.loc[(metadata_AB[\"COVID-19-status\"]=='acute', \"sample_short_name\")])\n",
    "print('AB_acute:', len(AB_acute))\n",
    "AB_recovered = set(metadata_AB.loc[(metadata_AB[\"COVID-19-status\"]=='recovered', \"sample_short_name\")])\n",
    "print('AB_recovered:', len(AB_recovered))\n",
    "AB_baseline = set(metadata_AB.loc[(metadata_AB[\"COVID-19-status\"]=='baseline', \"sample_short_name\")])\n",
    "print('AB_baseline:', len(AB_baseline))\n",
    "AB_exposed = set(metadata_AB.loc[(metadata_AB[\"COVID-19-status\"]=='exposed', \"sample_short_name\")])\n",
    "print('AB_exposed:', len(AB_exposed))\n",
    "\n",
    "#HIP cohort\n",
    "hip = set([i[: -4] for i in os.listdir('/projects/fmba_covid/hip_full/corr') if i.startswith(\"HIP\")])\n",
    "print('HIP:', len(hip))\n",
    "#Keck cohort\n",
    "Keck = set([i[: -4] for i in os.listdir('/projects/fmba_covid/hip_full/corr') if i.startswith(\"Keck\")])\n",
    "print('Keck:', len(Keck))"
   ]
  },
  {
   "cell_type": "markdown",
   "metadata": {},
   "source": [
    "### 1) Find the values of alpha_diversity_shannon for FMBA TRB samples"
   ]
  },
  {
   "cell_type": "code",
   "execution_count": 41,
   "metadata": {},
   "outputs": [
    {
     "name": "stdout",
     "output_type": "stream",
     "text": [
      "START\n",
      "DONE\n"
     ]
    }
   ],
   "source": [
    "folder_with_samples=\"/projects/fmba_covid/fmba_new/corr\"\n",
    "output_file_name=\"alpha_diversity_shannon_fmba_trb.tsv\"\n",
    "chain=\"TRB\"\n",
    "\n",
    "#----------read sample names----------\n",
    "samples=[i for i in os.listdir(folder_with_samples) if i.endswith(f\"{chain}.txt\")]\n",
    "#-------------------------------------\n",
    "\n",
    "def get_alpha_diversity_shannon_wrapper(sample_name, path_to_folder_with_sample=folder_with_samples):\n",
    "    \n",
    "    return get_alpha_diversity_shannon(sample_name, path_to_folder_with_sample=path_to_folder_with_sample)\n",
    "\n",
    "\n",
    "\n",
    "print(\"START\")    \n",
    "pool = mp.Pool(processes = (mp.cpu_count())) #SET THE NUMBER OF CORES THAT YOU GOING TO USE\n",
    "results=pool.map(get_alpha_diversity_shannon_wrapper, samples)\n",
    "pool.close()\n",
    "diversity_shannon_in_samples=list(results)\n",
    "print(\"DONE\")\n",
    "\n",
    "samples_short_names = list(map(lambda x: int(x[:12]), samples)) \n",
    "diversity=pd.DataFrame({'alpha_diversity_shannon': diversity_shannon_in_samples}, index = samples_short_names)\n",
    "diversity.index.name='sample_name'\n",
    "diversity.to_csv(output_file_name, sep = '\\t')"
   ]
  },
  {
   "cell_type": "markdown",
   "metadata": {},
   "source": [
    "### 2) Find the values of alpha_diversity_shannon for Adaptive samples"
   ]
  },
  {
   "cell_type": "code",
   "execution_count": 42,
   "metadata": {},
   "outputs": [
    {
     "name": "stdout",
     "output_type": "stream",
     "text": [
      "START\n",
      "DONE\n"
     ]
    }
   ],
   "source": [
    "folder_with_samples=\"/projects/fmba_covid/adaptive_new/corr\"\n",
    "output_file_name=\"alpha_diversity_shannon_adaptive.tsv\"\n",
    "\n",
    "\n",
    "#----------read sample names----------\n",
    "samples=os.listdir(folder_with_samples)\n",
    "#-------------------------------------\n",
    "\n",
    "def get_alpha_diversity_shannon_wrapper(sample_name, path_to_folder_with_sample=folder_with_samples):\n",
    "    \n",
    "    return get_alpha_diversity_shannon(sample_name, path_to_folder_with_sample=path_to_folder_with_sample)\n",
    "\n",
    "\n",
    "\n",
    "print(\"START\")    \n",
    "pool = mp.Pool(processes = (mp.cpu_count())) #SET THE NUMBER OF CORES THAT YOU GOING TO USE\n",
    "results=pool.map(get_alpha_diversity_shannon_wrapper, samples)\n",
    "pool.close()\n",
    "diversity_shannon_in_samples=list(results)\n",
    "print(\"DONE\")\n",
    "\n",
    "samples_short_names = list(map(lambda x: x[: -13], samples))  \n",
    "diversity=pd.DataFrame({'alpha_diversity_shannon': diversity_shannon_in_samples}, index = samples_short_names)\n",
    "diversity.index.name='sample_name'\n",
    "diversity.to_csv(output_file_name, sep = '\\t')"
   ]
  },
  {
   "cell_type": "markdown",
   "metadata": {},
   "source": [
    "### 3) Find the values of alpha_diversity_shannon for HIP, Keck samples"
   ]
  },
  {
   "cell_type": "code",
   "execution_count": 43,
   "metadata": {},
   "outputs": [
    {
     "name": "stdout",
     "output_type": "stream",
     "text": [
      "START\n",
      "DONE\n"
     ]
    }
   ],
   "source": [
    "folder_with_samples=\"/projects/fmba_covid/hip_full/corr\"\n",
    "output_file_name=\"alpha_diversity_shannon_hip_keck.tsv\"\n",
    "\n",
    "\n",
    "#----------read sample names----------\n",
    "samples=os.listdir(folder_with_samples)\n",
    "#-------------------------------------\n",
    "\n",
    "def get_alpha_diversity_shannon_wrapper(sample_name, path_to_folder_with_sample=folder_with_samples):\n",
    "    \n",
    "    return get_alpha_diversity_shannon(sample_name, path_to_folder_with_sample=path_to_folder_with_sample)\n",
    "\n",
    "\n",
    "\n",
    "print(\"START\")    \n",
    "pool = mp.Pool(processes = (mp.cpu_count())) #SET THE NUMBER OF CORES THAT YOU GOING TO USE\n",
    "results=pool.map(get_alpha_diversity_shannon_wrapper, samples)\n",
    "pool.close()\n",
    "diversity_shannon_in_samples=list(results)\n",
    "print(\"DONE\")\n",
    "\n",
    "samples_short_names = list(map(lambda x: x[: -4], samples))   \n",
    "diversity=pd.DataFrame({'alpha_diversity_shannon': diversity_shannon_in_samples}, index = samples_short_names)\n",
    "diversity.index.name='sample_name'\n",
    "diversity.to_csv(output_file_name, sep = '\\t')"
   ]
  },
  {
   "cell_type": "code",
   "execution_count": 44,
   "metadata": {},
   "outputs": [],
   "source": [
    "#concat dataframes\n",
    "a=pd.read_csv('alpha_diversity_shannon_fmba_trb.tsv', sep='\\t', index_col=0)\n",
    "b=pd.read_csv('alpha_diversity_shannon_adaptive.tsv', sep='\\t', index_col=0)\n",
    "c=pd.read_csv('alpha_diversity_shannon_hip_keck.tsv', sep='\\t',  index_col=0)\n",
    "output_file_name=\"alpha_diversity_shannon_all_cohorts.tsv\"\n",
    "\n",
    "\n",
    "all_data=pd.concat([a, b, c], axis=0)\n",
    "\n",
    "#Make a column with cohorts\n",
    "all_data['cohorts'] = 'FMBA_healthy'\n",
    "all_data.loc[set(all_data.index.values)&fmba_IgM_yes, 'cohorts'] = 'FMBA_IgM+'\n",
    "all_data.loc[set(all_data.index.values)&fmba_IgM_no_IgG_yes, 'cohorts'] = 'FMBA_IgM-_IgG+'\n",
    "all_data.loc[set(all_data.index.values)&AB_acute, 'cohorts'] = 'AB_acute'\n",
    "all_data.loc[set(all_data.index.values)&AB_recovered, 'cohorts'] = 'AB_recovered'\n",
    "all_data.loc[set(all_data.index.values)&AB_exposed, 'cohorts'] = 'AB_exposed'\n",
    "all_data.loc[set(all_data.index.values)&hip, 'cohorts'] = 'HIP'\n",
    "all_data.loc[set(all_data.index.values)&Keck, 'cohorts'] = 'Keck'\n",
    "#fmba_healthy: 409\n",
    "#fmba_IgM_yes: 410\n",
    "#fmba_IgM_no_IgG_yes: 340\n",
    "#AB_acute: 1140\n",
    "#AB_recovered: 239\n",
    "#AB_baseline: 74\n",
    "#AB_exposed: 26\n",
    "#HIP: 666\n",
    "#Keck: 120\n",
    "all_data['alpha_diversity_shannon'] = all_data['alpha_diversity_shannon'].map(lambda x: float(x[1:-1]))\n",
    "#all_data.apply(lambda x: x[1:-1], index='alpha_diversity_shannon', axis=1)\n",
    "all_data.to_csv(output_file_name, sep = '\\t')"
   ]
  },
  {
   "cell_type": "code",
   "execution_count": 37,
   "metadata": {},
   "outputs": [
    {
     "data": {
      "image/png": "[encoded data removed]"
     },
     "metadata": {},
     "output_type": "display_data"
    }
   ],
   "source": [
    "%%R -w 800 -h 400\n",
    "all_data=read.csv('alpha_diversity_shannon_all_cohorts.tsv', sep=\"\\t\", header=TRUE)\n",
    "all_data$cohorts=factor(all_data$cohorts,\n",
    "                        levels=c(\"AB_acute\", \"AB_recovered\", \"AB_exposed\", \"HIP\",\n",
    "                                 \"Keck\", \"FMBA_IgM+\", \"FMBA_IgM-_IgG+\", \"FMBA_healthy\"))\n",
    "\n",
    "ggplot(all_data, aes(x=cohorts, y=alpha_diversity_shannon, fill=cohorts) ) + \n",
    "  geom_boxplot( notch=FALSE,outlier.size = 0.7, lwd=0.7) + theme_bw()"
   ]
  },
  {
   "cell_type": "markdown",
   "metadata": {},
   "source": [
    "### Find the correlation between the number of reads and the frequency of features"
   ]
  },
  {
   "cell_type": "code",
   "execution_count": 197,
   "metadata": {},
   "outputs": [],
   "source": [
    "def get_mean_count_and_feat_freq(sample_name, path_to_folder_with_sample, clones_for_analyse):\n",
    "    #------read clonotype tabel\n",
    "    mean_count_dict={\"mean_count\": 0, \"feature_frequency\": 0}\n",
    "    with open(str(path_to_folder_with_sample)+\"/\"+str(sample_name),\"r\") as clonotype_file:\n",
    "        total_counts=0\n",
    "        #clone_counts=0\n",
    "        local_sample_count_array=[]\n",
    "        local_sample_clone_array=[]\n",
    "        for clone in clonotype_file.readlines()[1:]: #skip header\n",
    "            count=clone.split('\\t')[0]\n",
    "            clone=clone.split('\\t')[3]\n",
    "            local_sample_count_array.append(float(count))\n",
    "            local_sample_clone_array.append(clone)\n",
    "            total_counts+=1\n",
    "        if total_counts>=treshold:   \n",
    "            #medi=skbio.diversity.alpha.chao1(local_sample_count_array, bias_corrected=True)\n",
    "            mean_count=mean(local_sample_count_array)\n",
    "            #medi=skbio.diversity.alpha.shannon(local_sample_count_array, base=2)\n",
    "            founded_features=set(local_sample_clone_array)&set(clones_for_analyse)\n",
    "            total_freq = len(founded_features)/(total_counts*10)\n",
    "     \n",
    "            mean_count_dict.update({\"mean_count\":float(mean_count)})\n",
    "            mean_count_dict.update({\"feature_frequency\":float(total_freq)})\n",
    "            \n",
    "        else:\n",
    "            mean_count_dict.update({\"mean_count\":np.nan})\n",
    "            mean_count_dict.update({\"feature_frequency\":np.nan})\n",
    "    \n",
    "        return mean_count_dict"
   ]
  },
  {
   "cell_type": "code",
   "execution_count": 54,
   "metadata": {},
   "outputs": [],
   "source": [
    "#import associated clones\n",
    "associated_clones_fmba = pd.read_csv('../../fmba/COVID_status_TRB_fmba_full_v2_pv.txt', sep='\\t')\n",
    "associated_clones_fmba = list(associated_clones_fmba.cdr3aa)[:1000]\n",
    "\n",
    "associated_clones_AB = pd.read_csv('../../adaptive/covid_status_top.txt', sep='\\t')\n",
    "associated_clones_AB = list(associated_clones_AB.cdr3aa)[:1000]\n",
    "\n",
    "associated_clones_AB_FMBA = pd.read_csv(\"../graph_leven_distance/incidence_of_features_AB_vs_FMBA_sorted.tsv\", sep = '\\t', index_col=0)\n",
    "associated_clones_AB_FMBA=list(associated_clones_AB_FMBA.index.values) \n",
    "associated_clones_AB_FMBA=[x for x in associated_clones_AB_FMBA if '_' not in x]\n",
    "associated_clones_AB_FMBA=associated_clones_AB_FMBA[:1000]\n",
    "\n",
    "associated_clones_fmba_trb_ttest=pd.read_csv(\"../../fmba/FMBA_TRB_sign_clones_ttest_top2000.tsv\", sep=\"\\t\",index_col=0)\n",
    "associated_clones_fmba_trb_ttest=list(associated_clones_fmba_trb_ttest.index.values)[:1000]\n",
    "\n",
    "associated_clones_fmba_tra_ttest=pd.read_csv(\"../../fmba/FMBA_TRA_sign_clones_ttest_top2000.tsv\", sep=\"\\t\",index_col=0)\n",
    "associated_clones_fmba_tra_ttest=list(associated_clones_fmba_tra_ttest.index.values)[:1000]\n",
    "\n",
    "#associated_clones_fmba_tra_fisher=pd.read_csv(\"../../fmba/COVID_status_TRA_fmba_full_v2_pv.txt\", sep=\"\\t\",index_col=0)\n",
    "#associated_clones_fmba_tra_fisher=list(associated_clones_fmba_tra_fisher.index.values)[:200]"
   ]
  },
  {
   "cell_type": "markdown",
   "metadata": {},
   "source": [
    "#### 1) Features FMBA(TRB) T-test"
   ]
  },
  {
   "cell_type": "markdown",
   "metadata": {},
   "source": [
    "#### 1.1) FMBA samples"
   ]
  },
  {
   "cell_type": "code",
   "execution_count": 199,
   "metadata": {},
   "outputs": [
    {
     "name": "stdout",
     "output_type": "stream",
     "text": [
      "START\n",
      "DONE\n",
      "CPU times: user 513 ms, sys: 3.11 s, total: 3.62 s\n",
      "Wall time: 3.94 s\n"
     ]
    }
   ],
   "source": [
    "%%time\n",
    "treshold=100\n",
    "folder_with_samples=\"/projects/fmba_covid/fmba_new/corr\"\n",
    "output_file_name=\"correlation_of_reads_number_and_feature_freq/reads_number_and_feature_freq_fmba.tsv\"\n",
    "clones_for_analyse=associated_clones_fmba_trb_ttest  \n",
    "chain=\"TRB\"\n",
    "\n",
    "#----------read sample names----------\n",
    "samples=[i for i in os.listdir(folder_with_samples) if i.endswith(f\"{chain}.txt\")]\n",
    "\n",
    "def get_mean_count_and_feat_freq_wrapper(sample_name, \n",
    "                                        path_to_folder_with_sample=folder_with_samples, cones_for_analyse=clones_for_analyse):\n",
    "    \n",
    "    return get_mean_count_and_feat_freq(sample_name, \n",
    "                                       path_to_folder_with_sample=path_to_folder_with_sample, clones_for_analyse=clones_for_analyse)\n",
    "\n",
    "\n",
    "\n",
    "print(\"START\")    \n",
    "pool = mp.Pool(processes = (mp.cpu_count())) #SET THE NUMBER OF CORES THAT YOU GOING TO USE\n",
    "results=pool.map(get_mean_count_and_feat_freq_wrapper, samples)\n",
    "pool.close()\n",
    "read_num_and_ffreq_in_samples=results\n",
    "print(\"DONE\")\n",
    "\n",
    "samples_short_names=list(map(lambda x: int(x[:12]), samples)) \n",
    "read_num_and_ffreq=pd.DataFrame(read_num_and_ffreq_in_samples, index = samples_short_names)\n",
    "read_num_and_ffreq.index.name='sample_name'\n",
    "read_num_and_ffreq=read_num_and_ffreq.dropna()\n",
    "read_num_and_ffreq.to_csv(output_file_name, sep = '\\t')"
   ]
  },
  {
   "cell_type": "markdown",
   "metadata": {},
   "source": [
    "#### 1.2) Adaptive samples"
   ]
  },
  {
   "cell_type": "code",
   "execution_count": 201,
   "metadata": {},
   "outputs": [
    {
     "name": "stdout",
     "output_type": "stream",
     "text": [
      "START\n",
      "DONE\n",
      "CPU times: user 1.68 s, sys: 11 s, total: 12.7 s\n",
      "Wall time: 42 s\n"
     ]
    }
   ],
   "source": [
    "%%time\n",
    "treshold=100\n",
    "folder_with_samples=\"/projects/fmba_covid/adaptive_new/corr\"\n",
    "output_file_name=\"correlation_of_reads_number_and_feature_freq/reads_number_and_feature_freq_adaptive.tsv\"\n",
    "clones_for_analyse=associated_clones_fmba_trb_ttest  \n",
    "#chain=\"TRB\"\n",
    "\n",
    "#----------read sample names----------\n",
    "samples=os.listdir(folder_with_samples)\n",
    "samples_short_names = list(map(lambda x: x[: -13], samples)) \n",
    "\n",
    "def get_mean_count_and_feat_freq_wrapper(sample_name, \n",
    "                                        path_to_folder_with_sample=folder_with_samples, cones_for_analyse=clones_for_analyse):\n",
    "    \n",
    "    return get_mean_count_and_feat_freq(sample_name, \n",
    "                                       path_to_folder_with_sample=path_to_folder_with_sample, clones_for_analyse=clones_for_analyse)\n",
    "\n",
    "\n",
    "\n",
    "print(\"START\")    \n",
    "pool = mp.Pool(processes = (mp.cpu_count())) #SET THE NUMBER OF CORES THAT YOU GOING TO USE\n",
    "results=pool.map(get_mean_count_and_feat_freq_wrapper, samples)\n",
    "pool.close()\n",
    "read_num_and_ffreq_in_samples=results\n",
    "print(\"DONE\")\n",
    "\n",
    "\n",
    "read_num_and_ffreq=pd.DataFrame(read_num_and_ffreq_in_samples, index = samples_short_names)\n",
    "read_num_and_ffreq.index.name='sample_name'\n",
    "read_num_and_ffreq=read_num_and_ffreq.dropna()\n",
    "read_num_and_ffreq.to_csv(output_file_name, sep = '\\t')"
   ]
  },
  {
   "cell_type": "markdown",
   "metadata": {},
   "source": [
    "#### 1.3) HIP/Keck samples"
   ]
  },
  {
   "cell_type": "code",
   "execution_count": 202,
   "metadata": {},
   "outputs": [
    {
     "name": "stdout",
     "output_type": "stream",
     "text": [
      "START\n",
      "DONE\n",
      "CPU times: user 4.38 s, sys: 29.2 s, total: 33.6 s\n",
      "Wall time: 2min 12s\n"
     ]
    }
   ],
   "source": [
    "%%time\n",
    "treshold=100\n",
    "folder_with_samples=\"/projects/fmba_covid/hip_full/corr\"\n",
    "output_file_name=\"correlation_of_reads_number_and_feature_freq/reads_number_and_feature_freq_hip_keck.tsv\"\n",
    "clones_for_analyse=associated_clones_fmba_trb_ttest  \n",
    "#chain=\"TRB\"\n",
    "\n",
    "#----------read sample names----------\n",
    "samples=os.listdir(folder_with_samples)\n",
    "samples_short_names = list(map(lambda x: x[: -4], samples))    \n",
    "\n",
    "def get_mean_count_and_feat_freq_wrapper(sample_name, \n",
    "                                        path_to_folder_with_sample=folder_with_samples, cones_for_analyse=clones_for_analyse):\n",
    "    \n",
    "    return get_mean_count_and_feat_freq(sample_name, \n",
    "                                       path_to_folder_with_sample=path_to_folder_with_sample, clones_for_analyse=clones_for_analyse)\n",
    "\n",
    "\n",
    "\n",
    "print(\"START\")    \n",
    "pool = mp.Pool(processes = (mp.cpu_count())) #SET THE NUMBER OF CORES THAT YOU GOING TO USE\n",
    "results=pool.map(get_mean_count_and_feat_freq_wrapper, samples)\n",
    "pool.close()\n",
    "read_num_and_ffreq_in_samples=results\n",
    "print(\"DONE\")\n",
    "\n",
    "\n",
    "read_num_and_ffreq=pd.DataFrame(read_num_and_ffreq_in_samples, index = samples_short_names)\n",
    "read_num_and_ffreq.index.name='sample_name'\n",
    "read_num_and_ffreq=read_num_and_ffreq.dropna()\n",
    "read_num_and_ffreq.to_csv(output_file_name, sep = '\\t')"
   ]
  },
  {
   "cell_type": "code",
   "execution_count": 203,
   "metadata": {},
   "outputs": [
    {
     "data": {
      "text/plain": [
       "Text(0, 0.5, 'Feature frequency')"
      ]
     },
     "execution_count": 203,
     "metadata": {},
     "output_type": "execute_result"
    },
    {
     "data": {
      "image/png": "[encoded data removed]",
      "text/plain": [
       "<Figure size 720x360 with 1 Axes>"
      ]
     },
     "metadata": {
      "needs_background": "light"
     },
     "output_type": "display_data"
    }
   ],
   "source": [
    "read_num_and_ffreq=pd.read_csv(\"correlation_of_reads_number_and_feature_freq/reads_number_and_feature_freq_fmba.tsv\", sep='\\t')\n",
    "plt.rcParams['figure.figsize'] = [10, 5]\n",
    "plt.scatter(x=list(read_num_and_ffreq.mean_count), y=list(read_num_and_ffreq.feature_frequency), c=\"dimgray\")\n",
    "plt.xlabel(\"Number of reads mean\")\n",
    "plt.ylabel(\"Feature frequency\")"
   ]
  },
  {
   "cell_type": "code",
   "execution_count": 205,
   "metadata": {},
   "outputs": [
    {
     "data": {
      "text/plain": [
       "Text(0, 0.5, 'Feature frequency')"
      ]
     },
     "execution_count": 205,
     "metadata": {},
     "output_type": "execute_result"
    },
    {
     "data": {
      "image/png": "[encoded data removed]",
      "text/plain": [
       "<Figure size 720x360 with 1 Axes>"
      ]
     },
     "metadata": {
      "needs_background": "light"
     },
     "output_type": "display_data"
    }
   ],
   "source": [
    "read_num_and_ffreq=pd.read_csv(\"correlation_of_reads_number_and_feature_freq/reads_number_and_feature_freq_adaptive.tsv\", sep='\\t')\n",
    "plt.rcParams['figure.figsize'] = [10, 5]\n",
    "plt.scatter(x=list(read_num_and_ffreq.mean_count), y=list(read_num_and_ffreq.feature_frequency), c=\"dimgray\")\n",
    "plt.xlabel(\"Number of reads mean\")\n",
    "plt.ylabel(\"Feature frequency\")"
   ]
  },
  {
   "cell_type": "code",
   "execution_count": 206,
   "metadata": {},
   "outputs": [
    {
     "data": {
      "text/plain": [
       "Text(0, 0.5, 'Feature frequency')"
      ]
     },
     "execution_count": 206,
     "metadata": {},
     "output_type": "execute_result"
    },
    {
     "data": {
      "image/png": "[encoded data removed]",
      "text/plain": [
       "<Figure size 720x360 with 1 Axes>"
      ]
     },
     "metadata": {
      "needs_background": "light"
     },
     "output_type": "display_data"
    }
   ],
   "source": [
    "read_num_and_ffreq=pd.read_csv(\"correlation_of_reads_number_and_feature_freq/reads_number_and_feature_freq_hip_keck.tsv\", sep='\\t')\n",
    "plt.rcParams['figure.figsize'] = [10, 5]\n",
    "plt.scatter(x=list(read_num_and_ffreq.mean_count), y=list(read_num_and_ffreq.feature_frequency), c=\"dimgray\")\n",
    "plt.xlabel(\"Number of reads mean\")\n",
    "plt.ylabel(\"Feature frequency\")"
   ]
  },
  {
   "cell_type": "markdown",
   "metadata": {},
   "source": [
    "### Find the values of alpha_diversity_chao"
   ]
  },
  {
   "cell_type": "code",
   "execution_count": 207,
   "metadata": {},
   "outputs": [],
   "source": [
    "#get_alpha_diversity_chao \n",
    "def get_alpha_diversity_chao(sample_name, path_to_folder_with_sample):\n",
    "    #------read clonotype tabel\n",
    "    diversity_chao_array=0\n",
    "    with open(str(path_to_folder_with_sample)+\"/\"+str(sample_name),\"r\") as clonotype_file:\n",
    "        total_counts=0\n",
    "        #clone_counts=0\n",
    "        local_sample_clone_array=[]\n",
    "        for clone in clonotype_file.readlines()[1:]: #skip header\n",
    "            clone=clone.split('\\t')[0]\n",
    "            local_sample_clone_array.append(float(clone))\n",
    "            total_counts+=1\n",
    "        if total_counts>=treshold:\n",
    "            diversity_chao=skbio.diversity.alpha.chao1(local_sample_clone_array, bias_corrected=True)\n",
    "   \n",
    "            diversity_chao_array=diversity_chao\n",
    "        else: \n",
    "            diversity_chao_array=np.nan \n",
    "    \n",
    "    return diversity_chao_array"
   ]
  },
  {
   "cell_type": "code",
   "execution_count": null,
   "metadata": {},
   "outputs": [],
   "source": [
    "folder_with_samples=\"/projects/fmba_covid/fmba_new/corr\"\n",
    "output_file_name=\"alpha_diversity_shannon_fmba_trb.tsv\"\n",
    "chain=\"TRB\"\n",
    "\n",
    "#----------read sample names----------\n",
    "samples=[i for i in os.listdir(folder_with_samples) if i.endswith(f\"{chain}.txt\")]\n",
    "#-------------------------------------\n",
    "\n",
    "def get_alpha_diversity_shannon_wrapper(sample_name, path_to_folder_with_sample=folder_with_samples):\n",
    "    \n",
    "    return get_alpha_diversity_shannon(sample_name, path_to_folder_with_sample=path_to_folder_with_sample)\n",
    "\n",
    "\n",
    "\n",
    "print(\"START\")    \n",
    "pool = mp.Pool(processes = (mp.cpu_count())) #SET THE NUMBER OF CORES THAT YOU GOING TO USE\n",
    "results=pool.map(get_alpha_diversity_shannon_wrapper, samples)\n",
    "pool.close()\n",
    "diversity_shannon_in_samples=list(results)\n",
    "print(\"DONE\")\n",
    "\n",
    "samples_short_names = list(map(lambda x: int(x[:12]), samples)) \n",
    "diversity=pd.DataFrame({'alpha_diversity_shannon': diversity_shannon_in_samples}, index = samples_short_names)\n",
    "diversity.index.name='sample_name'\n",
    "diversity.to_csv(output_file_name, sep = '\\t')"
   ]
  }
 ],
 "metadata": {
  "kernelspec": {
   "display_name": "Python 3",
   "language": "python",
   "name": "python3"
  },
  "language_info": {
   "codemirror_mode": {
    "name": "ipython",
    "version": 3
   },
   "file_extension": ".py",
   "mimetype": "text/x-python",
   "name": "python",
   "nbconvert_exporter": "python",
   "pygments_lexer": "ipython3",
   "version": "3.6.9"
  }
 },
 "nbformat": 4,
 "nbformat_minor": 4
}
