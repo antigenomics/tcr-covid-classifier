{
 "cells": [
  {
   "cell_type": "code",
   "execution_count": 2,
   "metadata": {},
   "outputs": [],
   "source": [
    "import os #\n",
    "import re\n",
    "import pandas as pd#\n",
    "import numpy as np #\n",
    "import multiprocessing as mp #\n",
    "#from subprocess import Popen, PIPE\n",
    "#from multiprocessing import Pool\n",
    "from matplotlib import pyplot as plt #\n",
    "import statsmodels.stats.multitest as multitest #\n",
    "from skbio.diversity import alpha_diversity\n",
    "import skbio.diversity"
   ]
  },
  {
   "cell_type": "code",
   "execution_count": 8,
   "metadata": {},
   "outputs": [],
   "source": [
    "%load_ext rpy2.ipython"
   ]
  },
  {
   "cell_type": "code",
   "execution_count": 9,
   "metadata": {},
   "outputs": [],
   "source": [
    "%%R\n",
    "library(ggplot2)"
   ]
  },
  {
   "cell_type": "markdown",
   "metadata": {},
   "source": [
    "### Examples"
   ]
  },
  {
   "cell_type": "code",
   "execution_count": 6,
   "metadata": {},
   "outputs": [],
   "source": [
    "data = [[23, 23, 14, 14, 5, 5, 1],\n",
    "        [0, 3, 35, 42, 0, 12, 1],\n",
    "        [0, 5, 5, 0, 40, 40, 0],\n",
    "        [44, 35, 9, 0, 1, 0, 0],\n",
    "        [0, 2, 8, 0, 35, 45, 1],\n",
    "        [25, 25, 0, 25, 25, 25, 25]]\n",
    "ids = list('ABCDEF')"
   ]
  },
  {
   "cell_type": "code",
   "execution_count": 7,
   "metadata": {},
   "outputs": [
    {
     "data": {
      "text/plain": [
       "A    7\n",
       "B    5\n",
       "C    4\n",
       "D    4\n",
       "E    5\n",
       "F    6\n",
       "dtype: int64"
      ]
     },
     "execution_count": 7,
     "metadata": {},
     "output_type": "execute_result"
    }
   ],
   "source": [
    "adiv_obs_otus = alpha_diversity('observed_otus', data, ids)\n",
    "adiv_obs_otus     "
   ]
  },
  {
   "cell_type": "code",
   "execution_count": 10,
   "metadata": {},
   "outputs": [
    {
     "data": {
      "text/plain": [
       "1.4390006014597043"
      ]
     },
     "execution_count": 10,
     "metadata": {},
     "output_type": "execute_result"
    }
   ],
   "source": [
    "skbio.diversity.alpha.shannon(data[3], base=2)"
   ]
  },
  {
   "cell_type": "markdown",
   "metadata": {},
   "source": [
    "### Let's start"
   ]
  },
  {
   "cell_type": "code",
   "execution_count": 3,
   "metadata": {},
   "outputs": [],
   "source": [
    "#get_alpha_diversity_shannon based on frequencies\n",
    "def get_alpha_diversity_shannon(sample_name, path_to_folder_with_sample):\n",
    "    #------read clonotype tabel\n",
    "    diversity_shannon_array=[]\n",
    "    with open(str(path_to_folder_with_sample)+\"/\"+str(sample_name),\"r\") as clonotype_file:\n",
    "        #total_counts=0\n",
    "        #clone_counts=0\n",
    "        local_sample_clone_array=[]\n",
    "        for clone in clonotype_file.readlines()[1:]: #skip header\n",
    "            clone=clone.split('\\t')[1]\n",
    "            local_sample_clone_array.append(float(clone))\n",
    "            #total_counts+=1\n",
    "        diversity_shannon=skbio.diversity.alpha.shannon(local_sample_clone_array, base=2)\n",
    "   \n",
    "    diversity_shannon_array.append(diversity_shannon)  \n",
    "    \n",
    "    return diversity_shannon_array"
   ]
  },
  {
   "cell_type": "code",
   "execution_count": 40,
   "metadata": {},
   "outputs": [],
   "source": [
    "#get_alpha_diversity_shannon based on count\n",
    "def get_alpha_diversity_shannon(sample_name, path_to_folder_with_sample):\n",
    "    #------read clonotype tabel\n",
    "    diversity_shannon_array=[]\n",
    "    with open(str(path_to_folder_with_sample)+\"/\"+str(sample_name),\"r\") as clonotype_file:\n",
    "        #total_counts=0\n",
    "        #clone_counts=0\n",
    "        local_sample_clone_array=[]\n",
    "        for clone in clonotype_file.readlines()[1:]: #skip header\n",
    "            clone=clone.split('\\t')[0]\n",
    "            local_sample_clone_array.append(float(clone))\n",
    "            #total_counts+=1\n",
    "        diversity_shannon=skbio.diversity.alpha.shannon(local_sample_clone_array, base=2)\n",
    "   \n",
    "    diversity_shannon_array.append(diversity_shannon)  \n",
    "    \n",
    "    return diversity_shannon_array"
   ]
  },
  {
   "cell_type": "code",
   "execution_count": 6,
   "metadata": {},
   "outputs": [],
   "source": [
    "#Metadata import\n",
    "metadata_fmba = pd.read_csv('/projects/fmba_covid/metadata_fmba_full_v2.txt', sep='\\t')\n",
    "metadata_fmba = metadata_fmba.rename(columns={\"sample.COVID_status\": \"COVID_status\"})\n",
    "\n",
    "metadata_AB = pd.read_csv('../../random_forest_v2/AB_prediction/adaptive-metadata-edited.tsv', sep='\\t')\n",
    "metadata_AB[\"sample_short_name\"] = metadata_AB[\"sample_name\"].apply(lambda x: x[:-5]) #remove _TCRB from end of names"
   ]
  },
  {
   "cell_type": "code",
   "execution_count": 7,
   "metadata": {},
   "outputs": [
    {
     "name": "stdout",
     "output_type": "stream",
     "text": [
      "fmba_healthy: 409\n",
      "fmba_IgM_yes: 410\n",
      "fmba_IgM_no_IgG_yes: 340\n",
      "AB_acute: 1140\n",
      "AB_recovered: 239\n",
      "AB_baseline: 74\n",
      "AB_exposed: 26\n",
      "HIP: 666\n",
      "Keck: 120\n"
     ]
    }
   ],
   "source": [
    "#Make a cohorts of FMBA\n",
    "fmba_healthy = set(metadata_fmba.loc[metadata_fmba.COVID_status == 'healthy', \"CSP\"])\n",
    "print('fmba_healthy:', len(fmba_healthy))\n",
    "fmba_IgM_yes = set(metadata_fmba.loc[metadata_fmba['sample.COVID_IgM'] == 'yes', \"CSP\"])\n",
    "print('fmba_IgM_yes:', len(fmba_IgM_yes))\n",
    "fmba_IgM_no_IgG_yes = set(metadata_fmba.loc[(metadata_fmba['sample.COVID_IgM'] == 'no')\n",
    "                       & (metadata_fmba['sample.COVID_IgG'] == 'yes'), \"CSP\"])\n",
    "print('fmba_IgM_no_IgG_yes:', len(fmba_IgM_no_IgG_yes))\n",
    "\n",
    "#Make a cohorts of Adaptive\n",
    "AB_acute = set(metadata_AB.loc[(metadata_AB[\"COVID-19-status\"]=='acute', \"sample_short_name\")])\n",
    "print('AB_acute:', len(AB_acute))\n",
    "AB_recovered = set(metadata_AB.loc[(metadata_AB[\"COVID-19-status\"]=='recovered', \"sample_short_name\")])\n",
    "print('AB_recovered:', len(AB_recovered))\n",
    "AB_baseline = set(metadata_AB.loc[(metadata_AB[\"COVID-19-status\"]=='baseline', \"sample_short_name\")])\n",
    "print('AB_baseline:', len(AB_baseline))\n",
    "AB_exposed = set(metadata_AB.loc[(metadata_AB[\"COVID-19-status\"]=='exposed', \"sample_short_name\")])\n",
    "print('AB_exposed:', len(AB_exposed))\n",
    "\n",
    "#HIP cohort\n",
    "hip = set([i[: -4] for i in os.listdir('/projects/fmba_covid/hip_full/corr') if i.startswith(\"HIP\")])\n",
    "print('HIP:', len(hip))\n",
    "#Keck cohort\n",
    "Keck = set([i[: -4] for i in os.listdir('/projects/fmba_covid/hip_full/corr') if i.startswith(\"Keck\")])\n",
    "print('Keck:', len(Keck))"
   ]
  },
  {
   "cell_type": "markdown",
   "metadata": {},
   "source": [
    "### 1) Find the values of alpha_diversity_shannon for FMBA TRB samples"
   ]
  },
  {
   "cell_type": "code",
   "execution_count": 41,
   "metadata": {},
   "outputs": [
    {
     "name": "stdout",
     "output_type": "stream",
     "text": [
      "START\n",
      "DONE\n"
     ]
    }
   ],
   "source": [
    "folder_with_samples=\"/projects/fmba_covid/fmba_new/corr\"\n",
    "output_file_name=\"alpha_diversity_shannon_fmba_trb.tsv\"\n",
    "chain=\"TRB\"\n",
    "\n",
    "#----------read sample names----------\n",
    "samples=[i for i in os.listdir(folder_with_samples) if i.endswith(f\"{chain}.txt\")]\n",
    "#-------------------------------------\n",
    "\n",
    "def get_alpha_diversity_shannon_wrapper(sample_name, path_to_folder_with_sample=folder_with_samples):\n",
    "    \n",
    "    return get_alpha_diversity_shannon(sample_name, path_to_folder_with_sample=path_to_folder_with_sample)\n",
    "\n",
    "\n",
    "\n",
    "print(\"START\")    \n",
    "pool = mp.Pool(processes = (mp.cpu_count())) #SET THE NUMBER OF CORES THAT YOU GOING TO USE\n",
    "results=pool.map(get_alpha_diversity_shannon_wrapper, samples)\n",
    "pool.close()\n",
    "diversity_shannon_in_samples=list(results)\n",
    "print(\"DONE\")\n",
    "\n",
    "samples_short_names = list(map(lambda x: int(x[:12]), samples)) \n",
    "diversity=pd.DataFrame({'alpha_diversity_shannon': diversity_shannon_in_samples}, index = samples_short_names)\n",
    "diversity.index.name='sample_name'\n",
    "diversity.to_csv(output_file_name, sep = '\\t')"
   ]
  },
  {
   "cell_type": "markdown",
   "metadata": {},
   "source": [
    "### 2) Find the values of alpha_diversity_shannon for Adaptive samples"
   ]
  },
  {
   "cell_type": "code",
   "execution_count": 42,
   "metadata": {},
   "outputs": [
    {
     "name": "stdout",
     "output_type": "stream",
     "text": [
      "START\n",
      "DONE\n"
     ]
    }
   ],
   "source": [
    "folder_with_samples=\"/projects/fmba_covid/adaptive_new/corr\"\n",
    "output_file_name=\"alpha_diversity_shannon_adaptive.tsv\"\n",
    "\n",
    "\n",
    "#----------read sample names----------\n",
    "samples=os.listdir(folder_with_samples)\n",
    "#-------------------------------------\n",
    "\n",
    "def get_alpha_diversity_shannon_wrapper(sample_name, path_to_folder_with_sample=folder_with_samples):\n",
    "    \n",
    "    return get_alpha_diversity_shannon(sample_name, path_to_folder_with_sample=path_to_folder_with_sample)\n",
    "\n",
    "\n",
    "\n",
    "print(\"START\")    \n",
    "pool = mp.Pool(processes = (mp.cpu_count())) #SET THE NUMBER OF CORES THAT YOU GOING TO USE\n",
    "results=pool.map(get_alpha_diversity_shannon_wrapper, samples)\n",
    "pool.close()\n",
    "diversity_shannon_in_samples=list(results)\n",
    "print(\"DONE\")\n",
    "\n",
    "samples_short_names = list(map(lambda x: x[: -13], samples))  \n",
    "diversity=pd.DataFrame({'alpha_diversity_shannon': diversity_shannon_in_samples}, index = samples_short_names)\n",
    "diversity.index.name='sample_name'\n",
    "diversity.to_csv(output_file_name, sep = '\\t')"
   ]
  },
  {
   "cell_type": "markdown",
   "metadata": {},
   "source": [
    "### 3) Find the values of alpha_diversity_shannon for HIP, Keck samples"
   ]
  },
  {
   "cell_type": "code",
   "execution_count": 43,
   "metadata": {},
   "outputs": [
    {
     "name": "stdout",
     "output_type": "stream",
     "text": [
      "START\n",
      "DONE\n"
     ]
    }
   ],
   "source": [
    "folder_with_samples=\"/projects/fmba_covid/hip_full/corr\"\n",
    "output_file_name=\"alpha_diversity_shannon_hip_keck.tsv\"\n",
    "\n",
    "\n",
    "#----------read sample names----------\n",
    "samples=os.listdir(folder_with_samples)\n",
    "#-------------------------------------\n",
    "\n",
    "def get_alpha_diversity_shannon_wrapper(sample_name, path_to_folder_with_sample=folder_with_samples):\n",
    "    \n",
    "    return get_alpha_diversity_shannon(sample_name, path_to_folder_with_sample=path_to_folder_with_sample)\n",
    "\n",
    "\n",
    "\n",
    "print(\"START\")    \n",
    "pool = mp.Pool(processes = (mp.cpu_count())) #SET THE NUMBER OF CORES THAT YOU GOING TO USE\n",
    "results=pool.map(get_alpha_diversity_shannon_wrapper, samples)\n",
    "pool.close()\n",
    "diversity_shannon_in_samples=list(results)\n",
    "print(\"DONE\")\n",
    "\n",
    "samples_short_names = list(map(lambda x: x[: -4], samples))   \n",
    "diversity=pd.DataFrame({'alpha_diversity_shannon': diversity_shannon_in_samples}, index = samples_short_names)\n",
    "diversity.index.name='sample_name'\n",
    "diversity.to_csv(output_file_name, sep = '\\t')"
   ]
  },
  {
   "cell_type": "code",
   "execution_count": 44,
   "metadata": {},
   "outputs": [],
   "source": [
    "#concat dataframes\n",
    "a=pd.read_csv('alpha_diversity_shannon_fmba_trb.tsv', sep='\\t', index_col=0)\n",
    "b=pd.read_csv('alpha_diversity_shannon_adaptive.tsv', sep='\\t', index_col=0)\n",
    "c=pd.read_csv('alpha_diversity_shannon_hip_keck.tsv', sep='\\t',  index_col=0)\n",
    "output_file_name=\"alpha_diversity_shannon_all_cohorts.tsv\"\n",
    "\n",
    "\n",
    "all_data=pd.concat([a, b, c], axis=0)\n",
    "\n",
    "#Make a column with cohorts\n",
    "all_data['cohorts'] = 'FMBA_healthy'\n",
    "all_data.loc[set(all_data.index.values)&fmba_IgM_yes, 'cohorts'] = 'FMBA_IgM+'\n",
    "all_data.loc[set(all_data.index.values)&fmba_IgM_no_IgG_yes, 'cohorts'] = 'FMBA_IgM-_IgG+'\n",
    "all_data.loc[set(all_data.index.values)&AB_acute, 'cohorts'] = 'AB_acute'\n",
    "all_data.loc[set(all_data.index.values)&AB_recovered, 'cohorts'] = 'AB_recovered'\n",
    "all_data.loc[set(all_data.index.values)&AB_exposed, 'cohorts'] = 'AB_exposed'\n",
    "all_data.loc[set(all_data.index.values)&hip, 'cohorts'] = 'HIP'\n",
    "all_data.loc[set(all_data.index.values)&Keck, 'cohorts'] = 'Keck'\n",
    "#fmba_healthy: 409\n",
    "#fmba_IgM_yes: 410\n",
    "#fmba_IgM_no_IgG_yes: 340\n",
    "#AB_acute: 1140\n",
    "#AB_recovered: 239\n",
    "#AB_baseline: 74\n",
    "#AB_exposed: 26\n",
    "#HIP: 666\n",
    "#Keck: 120\n",
    "all_data['alpha_diversity_shannon'] = all_data['alpha_diversity_shannon'].map(lambda x: float(x[1:-1]))\n",
    "#all_data.apply(lambda x: x[1:-1], index='alpha_diversity_shannon', axis=1)\n",
    "all_data.to_csv(output_file_name, sep = '\\t')"
   ]
  },
  {
   "cell_type": "code",
   "execution_count": 37,
   "metadata": {},
   "outputs": [
    {
     "data": {
      "image/png": "[encoded data removed]"
     },
     "metadata": {},
     "output_type": "display_data"
    }
   ],
   "source": [
    "%%R -w 800 -h 400\n",
    "all_data=read.csv('alpha_diversity_shannon_all_cohorts.tsv', sep=\"\\t\", header=TRUE)\n",
    "all_data$cohorts=factor(all_data$cohorts,\n",
    "                        levels=c(\"AB_acute\", \"AB_recovered\", \"AB_exposed\", \"HIP\",\n",
    "                                 \"Keck\", \"FMBA_IgM+\", \"FMBA_IgM-_IgG+\", \"FMBA_healthy\"))\n",
    "\n",
    "ggplot(all_data, aes(x=cohorts, y=alpha_diversity_shannon, fill=cohorts) ) + \n",
    "  geom_boxplot( notch=FALSE,outlier.size = 0.7, lwd=0.7) + theme_bw()"
   ]
  },
  {
   "cell_type": "code",
   "execution_count": 45,
   "metadata": {},
   "outputs": [
    {
     "data": {
      "image/png": "[encoded data removed]"
     },
     "metadata": {},
     "output_type": "display_data"
    }
   ],
   "source": [
    "%%R -w 800 -h 400\n",
    "all_data=read.csv('alpha_diversity_shannon_all_cohorts.tsv', sep=\"\\t\", header=TRUE)\n",
    "all_data$cohorts=factor(all_data$cohorts,\n",
    "                        levels=c(\"AB_acute\", \"AB_recovered\", \"AB_exposed\", \"HIP\",\n",
    "                                 \"Keck\", \"FMBA_IgM+\", \"FMBA_IgM-_IgG+\", \"FMBA_healthy\"))\n",
    "\n",
    "ggplot(all_data, aes(x=cohorts, y=alpha_diversity_shannon, fill=cohorts) ) + \n",
    "  geom_boxplot( notch=FALSE,outlier.size = 0.7, lwd=0.7) + theme_bw()"
   ]
  }
 ],
 "metadata": {
  "kernelspec": {
   "display_name": "Python 3",
   "language": "python",
   "name": "python3"
  },
  "language_info": {
   "codemirror_mode": {
    "name": "ipython",
    "version": 3
   },
   "file_extension": ".py",
   "mimetype": "text/x-python",
   "name": "python",
   "nbconvert_exporter": "python",
   "pygments_lexer": "ipython3",
   "version": "3.6.9"
  }
 },
 "nbformat": 4,
 "nbformat_minor": 4
}
