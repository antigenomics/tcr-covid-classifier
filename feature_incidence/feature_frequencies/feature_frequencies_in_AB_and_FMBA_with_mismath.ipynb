{
 "cells": [
  {
   "cell_type": "code",
   "execution_count": 1,
   "metadata": {},
   "outputs": [],
   "source": [
    "import pandas as pd\n",
    "import numpy as np\n",
    "import os\n",
    "import multiprocessing as mp\n",
    "from polyleven import levenshtein\n",
    "import random "
   ]
  },
  {
   "cell_type": "code",
   "execution_count": 2,
   "metadata": {},
   "outputs": [],
   "source": [
    "%load_ext rpy2.ipython"
   ]
  },
  {
   "cell_type": "code",
   "execution_count": 3,
   "metadata": {},
   "outputs": [],
   "source": [
    "%%R\n",
    "library(ggplot2)"
   ]
  },
  {
   "cell_type": "code",
   "execution_count": 4,
   "metadata": {},
   "outputs": [],
   "source": [
    "#Metadata import\n",
    "metadata_fmba = pd.read_csv('/projects/fmba_covid/metadata_fmba_full_v2.txt', sep='\\t')\n",
    "metadata_fmba = metadata_fmba.rename(columns={\"sample.COVID_status\": \"COVID_status\"})\n",
    "\n",
    "metadata_AB = pd.read_csv('../../random_forest_v2/AB_prediction/adaptive-metadata-edited.tsv', sep='\\t')\n",
    "metadata_AB[\"sample_short_name\"] = metadata_AB[\"sample_name\"].apply(lambda x: x[:-5]) #remove _TCRB from end of names"
   ]
  },
  {
   "cell_type": "code",
   "execution_count": 85,
   "metadata": {
    "scrolled": true
   },
   "outputs": [
    {
     "name": "stdout",
     "output_type": "stream",
     "text": [
      "fmba_healthy: 409\n",
      "fmba_IgM_yes: 410\n",
      "fmba_IgM_no_IgG_yes: 340\n",
      "AB_acute: 1140\n",
      "AB_recovered: 239\n",
      "AB_baseline: 74\n",
      "AB_exposed: 26\n",
      "HIP: 664\n",
      "Keck: 119\n"
     ]
    }
   ],
   "source": [
    "# Cohorts of downsampling data\n",
    "#Make a cohorts of FMBA\n",
    "fmba_healthy = set(metadata_fmba.loc[metadata_fmba.COVID_status == 'healthy', \"CSP\"])\n",
    "print('fmba_healthy:', len(fmba_healthy))\n",
    "fmba_IgM_yes = set(metadata_fmba.loc[metadata_fmba['sample.COVID_IgM'] == 'yes', \"CSP\"])\n",
    "print('fmba_IgM_yes:', len(fmba_IgM_yes))\n",
    "fmba_IgM_no_IgG_yes = set(metadata_fmba.loc[(metadata_fmba['sample.COVID_IgM'] == 'no')\n",
    "                       & (metadata_fmba['sample.COVID_IgG'] == 'yes'), \"CSP\"])\n",
    "print('fmba_IgM_no_IgG_yes:', len(fmba_IgM_no_IgG_yes))\n",
    "\n",
    "#Make a cohorts of Adaptive\n",
    "AB_acute = set(metadata_AB.loc[(metadata_AB[\"COVID-19-status\"]=='acute', \"sample_short_name\")])\n",
    "print('AB_acute:', len(AB_acute))\n",
    "AB_recovered = set(metadata_AB.loc[(metadata_AB[\"COVID-19-status\"]=='recovered', \"sample_short_name\")])\n",
    "print('AB_recovered:', len(AB_recovered))\n",
    "AB_baseline = set(metadata_AB.loc[(metadata_AB[\"COVID-19-status\"]=='baseline', \"sample_short_name\")])\n",
    "print('AB_baseline:', len(AB_baseline))\n",
    "AB_exposed = set(metadata_AB.loc[(metadata_AB[\"COVID-19-status\"]=='exposed', \"sample_short_name\")])\n",
    "print('AB_exposed:', len(AB_exposed))\n",
    "\n",
    "#HIP cohort\n",
    "hip = set([i[: -4] for i in os.listdir('../../random_forest_v2/hip_corr_functional_random2000AA') if i.startswith(\"HIP\")])\n",
    "print('HIP:', len(hip))\n",
    "#Keck cohort\n",
    "Keck = set([i[: -4] for i in os.listdir('../../random_forest_v2/hip_corr_functional_random2000AA') if i.startswith(\"Keck\")])\n",
    "print('Keck:', len(Keck))"
   ]
  },
  {
   "cell_type": "code",
   "execution_count": 5,
   "metadata": {},
   "outputs": [
    {
     "name": "stdout",
     "output_type": "stream",
     "text": [
      "fmba_healthy: 409\n",
      "fmba_IgM_yes: 410\n",
      "fmba_IgM_no_IgG_yes: 340\n",
      "AB_acute: 1140\n",
      "AB_recovered: 239\n",
      "AB_baseline: 74\n",
      "AB_exposed: 26\n",
      "HIP: 666\n",
      "Keck: 120\n"
     ]
    }
   ],
   "source": [
    "#Cohorts of initial data\n",
    "#Make a cohorts of FMBA initial data\n",
    "fmba_healthy = set(metadata_fmba.loc[metadata_fmba.COVID_status == 'healthy', \"CSP\"])\n",
    "print('fmba_healthy:', len(fmba_healthy))\n",
    "fmba_IgM_yes = set(metadata_fmba.loc[metadata_fmba['sample.COVID_IgM'] == 'yes', \"CSP\"])\n",
    "print('fmba_IgM_yes:', len(fmba_IgM_yes))\n",
    "fmba_IgM_no_IgG_yes = set(metadata_fmba.loc[(metadata_fmba['sample.COVID_IgM'] == 'no')\n",
    "                       & (metadata_fmba['sample.COVID_IgG'] == 'yes'), \"CSP\"])\n",
    "print('fmba_IgM_no_IgG_yes:', len(fmba_IgM_no_IgG_yes))\n",
    "\n",
    "#Make a cohorts of Adaptive\n",
    "AB_acute = set(metadata_AB.loc[(metadata_AB[\"COVID-19-status\"]=='acute', \"sample_short_name\")])\n",
    "print('AB_acute:', len(AB_acute))\n",
    "AB_recovered = set(metadata_AB.loc[(metadata_AB[\"COVID-19-status\"]=='recovered', \"sample_short_name\")])\n",
    "print('AB_recovered:', len(AB_recovered))\n",
    "AB_baseline = set(metadata_AB.loc[(metadata_AB[\"COVID-19-status\"]=='baseline', \"sample_short_name\")])\n",
    "print('AB_baseline:', len(AB_baseline))\n",
    "AB_exposed = set(metadata_AB.loc[(metadata_AB[\"COVID-19-status\"]=='exposed', \"sample_short_name\")])\n",
    "print('AB_exposed:', len(AB_exposed))\n",
    "\n",
    "#HIP cohort\n",
    "hip = set([i[: -4] for i in os.listdir('/projects/fmba_covid/hip_full/corr') if i.startswith(\"HIP\")])\n",
    "print('HIP:', len(hip))\n",
    "#Keck cohort\n",
    "Keck = set([i[: -4] for i in os.listdir('/projects/fmba_covid/hip_full/corr') if i.startswith(\"Keck\")])\n",
    "print('Keck:', len(Keck))"
   ]
  },
  {
   "cell_type": "code",
   "execution_count": 9,
   "metadata": {},
   "outputs": [],
   "source": [
    "#Import public clones\n",
    "pool_AB=pd.read_csv(\"/projects/fmba_covid/adaptive_new/pool/pool.aa.table.20+.txt\", sep = '\\t') \n",
    "pool_FMBA=pd.read_csv(\"/projects/fmba_covid/fmba_new/pool/TRB.pool.aa.table.txt\", sep = '\\t') \\\n",
    "\n",
    "random_clones_AB=[x for x in  list(pool_AB.cdr3aa) if '_' not in x] \n",
    "random_clones_AB=random.sample(random_clones_AB, 1000)\n",
    "\n",
    "random_clones_FMBA=[x for x in  list(pool_FMBA.cdr3aa) if '_' not in x] \n",
    "random_clones_FMBA=random.sample(random_clones_FMBA, 1000)"
   ]
  },
  {
   "cell_type": "code",
   "execution_count": 6,
   "metadata": {},
   "outputs": [],
   "source": [
    "#import associated clones\n",
    "associated_clones_fmba = pd.read_csv('../../fmba/COVID_status_TRB_fmba_full_v2_pv.txt', sep='\\t')\n",
    "associated_clones_fmba = list(associated_clones_fmba.cdr3aa)[:1000]\n",
    "\n",
    "associated_clones_AB = pd.read_csv('../../adaptive/covid_status_top.txt', sep='\\t')\n",
    "associated_clones_AB = list(associated_clones_AB.cdr3aa)[:1000]\n",
    "\n",
    "associated_clones_AB_FMBA = pd.read_csv(\"../graph_leven_distance/incidence_of_features_AB_vs_FMBA_sorted.tsv\", sep = '\\t', index_col=0)\n",
    "associated_clones_AB_FMBA=list(associated_clones_AB_FMBA.index.values) \n",
    "associated_clones_AB_FMBA=[x for x in associated_clones_AB_FMBA if '_' not in x]\n",
    "associated_clones_AB_FMBA=associated_clones_AB_FMBA[:1000]\n",
    "\n",
    "associated_clones_fmba_trb_ttest=pd.read_csv(\"../../fmba/FMBA_TRB_sign_clones_ttest_top2000.tsv\", sep=\"\\t\",index_col=0)\n",
    "associated_clones_fmba_trb_ttest=list(associated_clones_fmba_trb_ttest.index.values)[:1000]\n",
    "\n",
    "associated_clones_fmba_tra_ttest=pd.read_csv(\"../../fmba/FMBA_TRA_sign_clones_ttest_top2000.tsv\", sep=\"\\t\",index_col=0)\n",
    "associated_clones_fmba_tra_ttest=list(associated_clones_fmba_tra_ttest.index.values)[:1000]\n",
    "\n",
    "associated_clones_fmba_tra_fisher=pd.read_csv(\"../../fmba/COVID_status_TRA_fmba_full_v2_pv.txt\", sep=\"\\t\",index_col=0)\n",
    "associated_clones_fmba_tra_fisher=list(associated_clones_fmba_tra_fisher.index.values)[:200]"
   ]
  },
  {
   "cell_type": "code",
   "execution_count": 14,
   "metadata": {},
   "outputs": [],
   "source": [
    "#Get features frequences by levenshtein\n",
    "def get_features_frequences_levenshtein1(sample_name, path_to_folder_with_sample, clones_for_analyse):\n",
    "    #------read clonotype tabel    \n",
    "    with open(str(path_to_folder_with_sample)+\"/\"+str(sample_name),\"r\") as clonotype_file:\n",
    "        total_counts=0\n",
    "        clone_counts=0\n",
    "        for clone in clonotype_file.readlines()[1:]: #skip header\n",
    "            clone=clone.strip().split(\"\\t\")\n",
    "            total_counts+=1 \n",
    "            #zero or one mismatch/indel (clone[2] is amino acid CDR3 sequence)\n",
    "            for feature_of_interest in clones_for_analyse:\n",
    "                if levenshtein(feature_of_interest, clone[2], 1)<=1: #!!!FUNCTION FOR UPPER BOUNDED LEVENSHTIEN!!!\n",
    "                    clone_counts+=1 \n",
    "    total_freq = clone_counts/(total_counts*10)\n",
    "    return total_freq"
   ]
  },
  {
   "cell_type": "code",
   "execution_count": 8,
   "metadata": {},
   "outputs": [],
   "source": [
    "#Get features frequences without mismath \n",
    "def get_features_frequences(sample_name, path_to_folder_with_sample, clones_for_analyse):\n",
    "    #------read clonotype tabel    \n",
    "    with open(str(path_to_folder_with_sample)+\"/\"+str(sample_name),\"r\") as clonotype_file:\n",
    "        total_counts=0\n",
    "        clone_counts=0\n",
    "        for clone in clonotype_file.readlines()[1:]: #skip header\n",
    "            clone=clone.strip().split(\"\\t\")\n",
    "            total_counts+=1\n",
    "            if total_counts > treshhold:\n",
    "                break\n",
    "            #zero or one mismatch/indel (clone[2] is amino acid CDR3 sequence)\n",
    "            for feature_of_interest in clones_for_analyse:\n",
    "                if feature_of_interest == clone[3]:\n",
    "                    clone_counts+=1 \n",
    "    total_freq = clone_counts/(2000*10)\n",
    "    return total_freq"
   ]
  },
  {
   "cell_type": "code",
   "execution_count": 19,
   "metadata": {},
   "outputs": [],
   "source": [
    "#Hamming distance\n",
    "# Return the Hamming distance between string1 and string2.\n",
    "def hamming_distance(string1, string2): \n",
    "    if len(string1)!=len(string2): \n",
    "        return 10 \n",
    "        \n",
    "    else: \n",
    "    # Start with a distance of zero, and count up\n",
    "            distance = 0\n",
    "            # Loop over the indices of the string\n",
    "            L = len(string1)\n",
    "            for i in range(L):\n",
    "                # Add 1 to the distance if these two characters are not equal\n",
    "                if string1[i] != string2[i]:\n",
    "                    distance += 1\n",
    "            return distance\n",
    "                    \n",
    "# Return the final count of differences    "
   ]
  },
  {
   "cell_type": "code",
   "execution_count": 20,
   "metadata": {},
   "outputs": [],
   "source": [
    "#Get features frequences by Hamming distance\n",
    "def get_features_frequences_hamming(sample_name, path_to_folder_with_sample, clones_for_analyse):\n",
    "    #------read clonotype tabel    \n",
    "    with open(str(path_to_folder_with_sample)+\"/\"+str(sample_name),\"r\") as clonotype_file:\n",
    "        total_counts=0\n",
    "        clone_counts=0\n",
    "        for clone in clonotype_file.readlines()[1:]: #skip header\n",
    "            clone=clone.strip().split(\"\\t\")\n",
    "            total_counts+=1\n",
    "            if total_counts > treshhold:\n",
    "                break\n",
    "            #zero or one mismatch/indel (clone[2] is amino acid CDR3 sequence)\n",
    "            for feature_of_interest in clones_for_analyse:\n",
    "                if hamming_distance(feature_of_interest, clone[3])<=1: #!!!FUNCTION FOR UPPER BOUNDED LEVENSHTIEN!!!\n",
    "                    clone_counts+=1 \n",
    "    total_freq = clone_counts/(2000*2)\n",
    "    return total_freq"
   ]
  },
  {
   "cell_type": "markdown",
   "metadata": {},
   "source": [
    "#### Get FMBA features frequences in FMBA data"
   ]
  },
  {
   "cell_type": "code",
   "execution_count": 104,
   "metadata": {},
   "outputs": [
    {
     "name": "stdout",
     "output_type": "stream",
     "text": [
      "START\n",
      "DONE\n",
      "CPU times: user 315 ms, sys: 1.82 s, total: 2.14 s\n",
      "Wall time: 11.9 s\n"
     ]
    }
   ],
   "source": [
    "%%time\n",
    "treshhold=2000\n",
    "#folder_with_samples = \"../../random_forest_v2/fmba_new_corr_TRB_functional_random2000AA\"\n",
    "\n",
    "\n",
    "#----------read sample names----------\n",
    "#samples=pd.read_csv(str(folder_with_samples)+\"/metadata.txt\",sep=\"\\t\",\n",
    "#                  header=None)\n",
    "#samples=list(samples[0])\n",
    "#-------------------------------------\n",
    "folder_with_samples=\"/projects/fmba_covid/fmba_new/corr\"\n",
    "chain=\"TRB\"\n",
    "\n",
    "#----------read sample names----------\n",
    "samples=[i for i in os.listdir(folder_with_samples) if i.endswith(f\"{chain}.txt\")]\n",
    "#-------------------------------------\n",
    "\n",
    "\n",
    "\n",
    "\n",
    "def get_features_frequences_wrapper(sample_name,\n",
    "                                                   path_to_folder_with_sample=folder_with_samples,\n",
    "                                                   clones_for_analyse=associated_clones_fmba):\n",
    "    return  get_features_frequences(sample_name,\n",
    "                                                  path_to_folder_with_sample=path_to_folder_with_sample,\n",
    "                                                  clones_for_analyse=clones_for_analyse)\n",
    "\n",
    "\n",
    "\n",
    "\n",
    "#result=list(map(get_features_frequences_levenshtein1_wrapper, samples))\n",
    "print(\"START\")    \n",
    "pool = mp.Pool(processes = (mp.cpu_count())) #SET THE NUMBER OF CORES THAT YOU GOING TO USE\n",
    "results=pool.map(get_features_frequences_wrapper, samples)\n",
    "pool.close()\n",
    "clones_in_samples=list(results)\n",
    "print(\"DONE\")"
   ]
  },
  {
   "cell_type": "code",
   "execution_count": 105,
   "metadata": {},
   "outputs": [],
   "source": [
    "samples_short_names = list(map(lambda x: int(x[:12]), samples)) \n",
    "fmba_feat_freq_fmba = pd.DataFrame({'feature frequency': clones_in_samples}, index = samples_short_names)\n",
    "fmba_feat_freq_fmba.index.name='sample_name'\n",
    "fmba_feat_freq_fmba.to_csv('fmba_feat_freq_fmba.tsv', sep = '\\t')"
   ]
  },
  {
   "cell_type": "markdown",
   "metadata": {},
   "source": [
    "#### Get FMBA features frequences in Adaptive data"
   ]
  },
  {
   "cell_type": "code",
   "execution_count": 106,
   "metadata": {},
   "outputs": [
    {
     "name": "stdout",
     "output_type": "stream",
     "text": [
      "START\n",
      "DONE\n",
      "CPU times: user 760 ms, sys: 3.51 s, total: 4.27 s\n",
      "Wall time: 35.8 s\n"
     ]
    }
   ],
   "source": [
    "%%time\n",
    "#folder_with_samples = \"../../random_forest_v2/AB_corr_functional_random2000AA\"\n",
    "\n",
    "\n",
    "#----------read sample names----------\n",
    "#samples=pd.read_csv(str(folder_with_samples)+\"/metadata.txt\",sep=\"\\t\",\n",
    "#                   header=None)\n",
    "#samples=list(samples[0])\n",
    "#-------------------------------------\n",
    "folder_with_samples=\"/projects/fmba_covid/adaptive_new/corr\"\n",
    "\n",
    "\n",
    "#----------read sample names----------\n",
    "samples=os.listdir(folder_with_samples)\n",
    "#-------------------------------------\n",
    "\n",
    "\n",
    "def get_features_frequences_wrapper(sample_name,\n",
    "                                                   path_to_folder_with_sample=folder_with_samples,\n",
    "                                                   clones_for_analyse=associated_clones_fmba ):\n",
    "    return  get_features_frequences(sample_name,\n",
    "                                                  path_to_folder_with_sample=path_to_folder_with_sample,\n",
    "                                                  clones_for_analyse=clones_for_analyse)\n",
    "\n",
    "\n",
    "\n",
    "\n",
    "#result=list(map(get_features_frequences_levenshtein1_wrapper, samples))\n",
    "print(\"START\")    \n",
    "pool = mp.Pool(processes = (mp.cpu_count())) #SET THE NUMBER OF CORES THAT YOU GOING TO USE\n",
    "results=pool.map(get_features_frequences_wrapper, samples)\n",
    "pool.close()\n",
    "clones_in_samples=list(results)\n",
    "print(\"DONE\")\n"
   ]
  },
  {
   "cell_type": "code",
   "execution_count": 107,
   "metadata": {},
   "outputs": [],
   "source": [
    "samples_short_names = list(map(lambda x: x[: -13], samples)) \n",
    "fmba_feat_freq_AB = pd.DataFrame({'feature frequency': clones_in_samples}, index = samples_short_names)\n",
    "fmba_feat_freq_AB.index.name='sample_name'\n",
    "fmba_feat_freq_AB.to_csv('fmba_feat_freq_AB.tsv', sep = '\\t')"
   ]
  },
  {
   "cell_type": "markdown",
   "metadata": {},
   "source": [
    "#### Get FMBA features frequences in HIP and Keck data"
   ]
  },
  {
   "cell_type": "code",
   "execution_count": 108,
   "metadata": {},
   "outputs": [
    {
     "name": "stdout",
     "output_type": "stream",
     "text": [
      "START\n",
      "DONE\n",
      "CPU times: user 386 ms, sys: 2.16 s, total: 2.55 s\n",
      "Wall time: 16.8 s\n"
     ]
    }
   ],
   "source": [
    "%%time\n",
    "folder_with_samples=\"/projects/fmba_covid/hip_full/corr\"\n",
    "\n",
    "\n",
    "#----------read sample names----------\n",
    "samples=os.listdir(folder_with_samples)\n",
    "#-------------------------------------\n",
    "\n",
    "\n",
    "\n",
    "def get_features_frequences_wrapper(sample_name,\n",
    "                                                   path_to_folder_with_sample=folder_with_samples,\n",
    "                                                   clones_for_analyse=associated_clones_fmba ):\n",
    "    return  get_features_frequences(sample_name,\n",
    "                                                  path_to_folder_with_sample=path_to_folder_with_sample,\n",
    "                                                  clones_for_analyse=clones_for_analyse)\n",
    "\n",
    "\n",
    "\n",
    "\n",
    "#result=list(map(get_features_frequences_levenshtein1_wrapper, samples))\n",
    "print(\"START\")    \n",
    "pool = mp.Pool(processes = (mp.cpu_count())) #SET THE NUMBER OF CORES THAT YOU GOING TO USE\n",
    "results=pool.map(get_features_frequences_wrapper, samples)\n",
    "pool.close()\n",
    "clones_in_samples=list(results)\n",
    "print(\"DONE\")"
   ]
  },
  {
   "cell_type": "code",
   "execution_count": 109,
   "metadata": {},
   "outputs": [],
   "source": [
    "samples_short_names = list(map(lambda x: x[: -4], samples)) \n",
    "fmba_feat_freq_HIP_Keck = pd.DataFrame({'feature frequency': clones_in_samples}, index = samples_short_names)\n",
    "fmba_feat_freq_HIP_Keck.index.name='sample_name'\n",
    "fmba_feat_freq_HIP_Keck.to_csv('fmba_feat_freq_HIP_Keck.tsv', sep = '\\t')"
   ]
  },
  {
   "cell_type": "code",
   "execution_count": 110,
   "metadata": {},
   "outputs": [],
   "source": [
    "#concat dataframes\n",
    "fmba_feat_freq_all_data = pd.concat([fmba_feat_freq_fmba, fmba_feat_freq_AB, fmba_feat_freq_HIP_Keck], axis=0)\n",
    "\n",
    "#Make a column with cohorts\n",
    "fmba_feat_freq_all_data['cohorts'] = 'FMBA_healthy'\n",
    "fmba_feat_freq_all_data.loc[set(fmba_feat_freq_all_data.index.values)&fmba_IgM_yes, 'cohorts'] = 'FMBA_IgM+'\n",
    "fmba_feat_freq_all_data.loc[set(fmba_feat_freq_all_data.index.values)&fmba_IgM_no_IgG_yes, 'cohorts'] = 'FMBA_IgM-_IgG+'\n",
    "fmba_feat_freq_all_data.loc[set(fmba_feat_freq_all_data.index.values)&AB_acute, 'cohorts'] = 'AB_acute'\n",
    "fmba_feat_freq_all_data.loc[set(fmba_feat_freq_all_data.index.values)&AB_recovered, 'cohorts'] = 'AB_recovered'\n",
    "fmba_feat_freq_all_data.loc[set(fmba_feat_freq_all_data.index.values)&AB_exposed, 'cohorts'] = 'AB_exposed'\n",
    "fmba_feat_freq_all_data.loc[set(fmba_feat_freq_all_data.index.values)&hip, 'cohorts'] = 'HIP'\n",
    "fmba_feat_freq_all_data.loc[set(fmba_feat_freq_all_data.index.values)&Keck, 'cohorts'] = 'Keck'\n",
    "#fmba_healthy: 409\n",
    "#fmba_IgM_yes: 410\n",
    "#fmba_IgM_no_IgG_yes: 340\n",
    "#AB_acute: 1140\n",
    "#AB_recovered: 239\n",
    "#AB_baseline: 74\n",
    "#AB_exposed: 26\n",
    "#HIP: 664\n",
    "#Keck: 119\n",
    "fmba_feat_freq_all_data.to_csv('fmba_feat_freq_all_cohorts.tsv', sep = '\\t')"
   ]
  },
  {
   "cell_type": "code",
   "execution_count": 163,
   "metadata": {},
   "outputs": [
    {
     "data": {
      "image/png": "[encoded data removed]"
     },
     "metadata": {},
     "output_type": "display_data"
    }
   ],
   "source": [
    "%%R -w 800 -h 400\n",
    "fmba_feat_freq_all_data=read.csv('fmba_feat_freq_all_cohorts.tsv', sep=\"\\t\", header=TRUE)\n",
    "fmba_feat_freq_all_data$cohorts=factor(fmba_feat_freq_all_data$cohorts,  \n",
    "                                       levels=c(\"AB_acute\", \"AB_recovered\", \"AB_exposed\", \"HIP\",\n",
    "                                                   \"Keck\", \"FMBA_IgM+\", \"FMBA_IgM-_IgG+\", \"FMBA_healthy\"))\n",
    "ggplot(fmba_feat_freq_all_data, aes(x=cohorts, y=log10(feature.frequency), fill=cohorts) ) + \n",
    "  geom_boxplot( notch=FALSE,outlier.size = 0.7, lwd=0.7) + theme_bw()\n",
    "\n",
    "#Features - FMBA, all cohorts (leven1)"
   ]
  },
  {
   "cell_type": "code",
   "execution_count": 88,
   "metadata": {},
   "outputs": [
    {
     "data": {
      "image/png": "[encoded data removed]"
     },
     "metadata": {},
     "output_type": "display_data"
    }
   ],
   "source": [
    "%%R -w 800 -h 400\n",
    "fmba_feat_freq_all_data=read.csv('fmba_feat_freq_all_cohorts.tsv', sep=\"\\t\", header=TRUE)\n",
    "fmba_feat_freq_all_data$cohorts=factor(fmba_feat_freq_all_data$cohorts,  \n",
    "                                       levels=c(\"AB_acute\", \"AB_recovered\", \"AB_exposed\", \"HIP\",\n",
    "                                                   \"Keck\", \"FMBA_IgM+\", \"FMBA_IgM-_IgG+\", \"FMBA_healthy\"))\n",
    "ggplot(fmba_feat_freq_all_data, aes(x=cohorts, y=log10(feature.frequency), fill=cohorts) ) + \n",
    "  geom_boxplot( notch=FALSE,outlier.size = 0.7, lwd=0.7) + theme_bw()\n",
    "\n",
    "#Features - FMBA, all cohorts (without mismathes)"
   ]
  },
  {
   "cell_type": "code",
   "execution_count": 111,
   "metadata": {},
   "outputs": [
    {
     "data": {
      "image/png": "[encoded data removed]"
     },
     "metadata": {},
     "output_type": "display_data"
    }
   ],
   "source": [
    "%%R -w 800 -h 400\n",
    "fmba_feat_freq_all_data=read.csv('fmba_feat_freq_all_cohorts.tsv', sep=\"\\t\", header=TRUE)\n",
    "fmba_feat_freq_all_data$cohorts=factor(fmba_feat_freq_all_data$cohorts,  \n",
    "                                       levels=c(\"AB_acute\", \"AB_recovered\", \"AB_exposed\", \"HIP\",\n",
    "                                                   \"Keck\", \"FMBA_IgM+\", \"FMBA_IgM-_IgG+\", \"FMBA_healthy\"))\n",
    "ggplot(fmba_feat_freq_all_data, aes(x=cohorts, y=log10(feature.frequency), fill=cohorts) ) + \n",
    "  geom_boxplot( notch=FALSE,outlier.size = 0.7, lwd=0.7) + theme_bw()\n",
    "\n",
    "#Features - FMBA, all cohorts (without mismathes, initial data)"
   ]
  },
  {
   "cell_type": "markdown",
   "metadata": {},
   "source": [
    "#### Get AB features frequences in FMBA data"
   ]
  },
  {
   "cell_type": "code",
   "execution_count": 20,
   "metadata": {},
   "outputs": [
    {
     "name": "stdout",
     "output_type": "stream",
     "text": [
      "START\n",
      "DONE\n",
      "CPU times: user 48.5 ms, sys: 65.1 ms, total: 114 ms\n",
      "Wall time: 1min 1s\n"
     ]
    }
   ],
   "source": [
    "%%time\n",
    "folder_with_samples = \"../../random_forest_v2/fmba_new_corr_TRB_functional_random2000AA\"\n",
    "\n",
    "\n",
    "#----------read sample names----------\n",
    "samples=pd.read_csv(str(folder_with_samples)+\"/metadata.txt\",sep=\"\\t\",\n",
    "                   header=None)\n",
    "samples=list(samples[0])\n",
    "#-------------------------------------\n",
    "\n",
    "\n",
    "def get_features_frequences_levenshtein1_wrapper(sample_name,\n",
    "                                                   path_to_folder_with_sample=folder_with_samples,\n",
    "                                                   clones_for_analyse=associated_clones_AB):\n",
    "    return  get_features_frequences_levenshtein1(sample_name,\n",
    "                                                  path_to_folder_with_sample=path_to_folder_with_sample,\n",
    "                                                  clones_for_analyse=clones_for_analyse)\n",
    "\n",
    "\n",
    "\n",
    "\n",
    "#result=list(map(get_features_frequences_levenshtein1_wrapper, samples))\n",
    "print(\"START\")    \n",
    "pool = mp.Pool(processes = (mp.cpu_count())) #SET THE NUMBER OF CORES THAT YOU GOING TO USE\n",
    "results=pool.map(get_features_frequences_levenshtein1_wrapper, samples)\n",
    "pool.close()\n",
    "clones_in_samples=list(results)\n",
    "print(\"DONE\")"
   ]
  },
  {
   "cell_type": "code",
   "execution_count": 21,
   "metadata": {},
   "outputs": [],
   "source": [
    "samples_short_names = list(map(lambda x: int(x[:12]), samples)) \n",
    "AB_feat_freq_fmba = pd.DataFrame({'feature frequency': clones_in_samples}, index = samples_short_names)\n",
    "AB_feat_freq_fmba.index.name='sample_name'\n",
    "AB_feat_freq_fmba.to_csv('AB_feat_freq_fmba.tsv', sep = '\\t')"
   ]
  },
  {
   "cell_type": "markdown",
   "metadata": {},
   "source": [
    "#### Get AB features frequences in Adaptive data"
   ]
  },
  {
   "cell_type": "code",
   "execution_count": 22,
   "metadata": {},
   "outputs": [
    {
     "name": "stdout",
     "output_type": "stream",
     "text": [
      "START\n",
      "DONE\n",
      "CPU times: user 44.9 ms, sys: 82.3 ms, total: 127 ms\n",
      "Wall time: 1min 45s\n"
     ]
    }
   ],
   "source": [
    "%%time\n",
    "folder_with_samples = \"../../random_forest_v2/AB_corr_functional_random2000AA\"\n",
    "\n",
    "\n",
    "#----------read sample names----------\n",
    "samples=pd.read_csv(str(folder_with_samples)+\"/metadata.txt\",sep=\"\\t\",\n",
    "                   header=None)\n",
    "samples=list(samples[0])\n",
    "#-------------------------------------\n",
    "\n",
    "\n",
    "def get_features_frequences_levenshtein1_wrapper(sample_name,\n",
    "                                                   path_to_folder_with_sample=folder_with_samples,\n",
    "                                                   clones_for_analyse=associated_clones_AB):\n",
    "    return  get_features_frequences_levenshtein1(sample_name,\n",
    "                                                  path_to_folder_with_sample=path_to_folder_with_sample,\n",
    "                                                  clones_for_analyse=clones_for_analyse)\n",
    "\n",
    "\n",
    "\n",
    "\n",
    "#result=list(map(get_features_frequences_levenshtein1_wrapper, samples))\n",
    "print(\"START\")    \n",
    "pool = mp.Pool(processes = (mp.cpu_count())) #SET THE NUMBER OF CORES THAT YOU GOING TO USE\n",
    "results=pool.map(get_features_frequences_levenshtein1_wrapper, samples)\n",
    "pool.close()\n",
    "clones_in_samples=list(results)\n",
    "print(\"DONE\")"
   ]
  },
  {
   "cell_type": "code",
   "execution_count": 24,
   "metadata": {},
   "outputs": [],
   "source": [
    "samples_short_names = list(map(lambda x: x[: -13], samples)) \n",
    "AB_feat_freq_AB = pd.DataFrame({'feature frequency': clones_in_samples}, index = samples_short_names)\n",
    "AB_feat_freq_AB.index.name='sample_name'\n",
    "AB_feat_freq_AB.to_csv('AB_feat_freq_AB.tsv', sep = '\\t')"
   ]
  },
  {
   "cell_type": "markdown",
   "metadata": {},
   "source": [
    "#### Get AB features frequences in HIP and Keck data¶"
   ]
  },
  {
   "cell_type": "code",
   "execution_count": 25,
   "metadata": {},
   "outputs": [
    {
     "name": "stdout",
     "output_type": "stream",
     "text": [
      "START\n",
      "DONE\n",
      "CPU times: user 42.7 ms, sys: 74.5 ms, total: 117 ms\n",
      "Wall time: 1min\n"
     ]
    }
   ],
   "source": [
    "%%time\n",
    "folder_with_samples = \"../../random_forest_v2/hip_corr_functional_random2000AA\"\n",
    "\n",
    "\n",
    "#----------read sample names----------\n",
    "samples=pd.read_csv(str(folder_with_samples)+\"/metadata.txt\",sep=\"\\t\",\n",
    "                   header=None)\n",
    "samples=list(samples[0])\n",
    "#-------------------------------------\n",
    "\n",
    "\n",
    "def get_features_frequences_levenshtein1_wrapper(sample_name,\n",
    "                                                   path_to_folder_with_sample=folder_with_samples,\n",
    "                                                   clones_for_analyse=associated_clones_AB):\n",
    "    return  get_features_frequences_levenshtein1(sample_name,\n",
    "                                                  path_to_folder_with_sample=path_to_folder_with_sample,\n",
    "                                                  clones_for_analyse=clones_for_analyse)\n",
    "\n",
    "\n",
    "\n",
    "\n",
    "#result=list(map(get_features_frequences_levenshtein1_wrapper, samples))\n",
    "print(\"START\")    \n",
    "pool = mp.Pool(processes = (mp.cpu_count())) #SET THE NUMBER OF CORES THAT YOU GOING TO USE\n",
    "results=pool.map(get_features_frequences_levenshtein1_wrapper, samples)\n",
    "pool.close()\n",
    "clones_in_samples=list(results)\n",
    "print(\"DONE\")"
   ]
  },
  {
   "cell_type": "code",
   "execution_count": 26,
   "metadata": {},
   "outputs": [],
   "source": [
    "samples_short_names = list(map(lambda x: x[: -4], samples)) \n",
    "AB_feat_freq_HIP_Keck = pd.DataFrame({'feature frequency': clones_in_samples}, index = samples_short_names)\n",
    "AB_feat_freq_HIP_Keck.index.name='sample_name'\n",
    "AB_feat_freq_HIP_Keck.to_csv('AB_feat_freq_HIP_Keck.tsv', sep = '\\t')"
   ]
  },
  {
   "cell_type": "code",
   "execution_count": 27,
   "metadata": {},
   "outputs": [],
   "source": [
    "#concat dataframes\n",
    "AB_feat_freq_all_data = pd.concat([AB_feat_freq_fmba, AB_feat_freq_AB, AB_feat_freq_HIP_Keck], axis=0)\n",
    "\n",
    "#Make a column with cohorts\n",
    "AB_feat_freq_all_data['cohorts'] = 'FMBA_healthy'\n",
    "AB_feat_freq_all_data.loc[set(AB_feat_freq_all_data.index.values)&fmba_IgM_yes, 'cohorts'] = 'FMBA_IgM+'\n",
    "AB_feat_freq_all_data.loc[set(AB_feat_freq_all_data.index.values)&fmba_IgM_no_IgG_yes, 'cohorts'] = 'FMBA_IgM-_IgG+'\n",
    "AB_feat_freq_all_data.loc[set(AB_feat_freq_all_data.index.values)&AB_acute, 'cohorts'] = 'AB_acute'\n",
    "AB_feat_freq_all_data.loc[set(AB_feat_freq_all_data.index.values)&AB_recovered, 'cohorts'] = 'AB_recovered'\n",
    "AB_feat_freq_all_data.loc[set(AB_feat_freq_all_data.index.values)&AB_exposed, 'cohorts'] = 'AB_exposed'\n",
    "AB_feat_freq_all_data.loc[set(AB_feat_freq_all_data.index.values)&hip, 'cohorts'] = 'HIP'\n",
    "AB_feat_freq_all_data.loc[set(AB_feat_freq_all_data.index.values)&Keck, 'cohorts'] = 'Keck'\n",
    "#fmba_healthy: 409\n",
    "#fmba_IgM_yes: 410\n",
    "#fmba_IgM_no_IgG_yes: 340\n",
    "#AB_acute: 1140\n",
    "#AB_recovered: 239\n",
    "#AB_baseline: 74\n",
    "#AB_exposed: 26\n",
    "#HIP: 664\n",
    "#Keck: 119\n",
    "AB_feat_freq_all_data.to_csv('AB_feat_freq_all_cohorts.tsv', sep = '\\t')"
   ]
  },
  {
   "cell_type": "code",
   "execution_count": 89,
   "metadata": {
    "scrolled": true
   },
   "outputs": [
    {
     "data": {
      "image/png": "[encoded data removed]"
     },
     "metadata": {},
     "output_type": "display_data"
    }
   ],
   "source": [
    "%%R -w 800 -h 400\n",
    "AB_feat_freq_all_data=read.csv('AB_feat_freq_all_cohorts.tsv', sep=\"\\t\", header=TRUE)\n",
    "AB_feat_freq_all_data$cohorts=factor(AB_feat_freq_all_data$cohorts,  \n",
    "                                     levels=c(\"AB_acute\", \"AB_recovered\", \"AB_exposed\", \"HIP\",\n",
    "                                                   \"Keck\", \"FMBA_IgM+\", \"FMBA_IgM-_IgG+\", \"FMBA_healthy\"))\n",
    "ggplot(AB_feat_freq_all_data, aes(x=cohorts, y=log10(feature.frequency), fill=cohorts) ) + \n",
    "  geom_boxplot( notch=FALSE,outlier.size = 0.7, lwd=0.7) + theme_bw()\n",
    "\n",
    "#Features - AB, all cohorts"
   ]
  },
  {
   "cell_type": "code",
   "execution_count": 42,
   "metadata": {},
   "outputs": [],
   "source": [
    "fmba_feat_freq_all_data['features']='FMBA_features'\n",
    "AB_feat_freq_all_data['features']='AB_features'\n",
    "fmba_AB_feat_freq_all_data=pd.concat([fmba_feat_freq_all_data, AB_feat_freq_all_data], axis=0)\n",
    "fmba_AB_feat_freq_all_data.to_csv('FMBA_AB_feat_freq_all_cohorts.tsv', sep = '\\t')"
   ]
  },
  {
   "cell_type": "code",
   "execution_count": 88,
   "metadata": {},
   "outputs": [
    {
     "data": {
      "image/png": "[encoded data removed]"
     },
     "metadata": {},
     "output_type": "display_data"
    }
   ],
   "source": [
    "%%R -w 1000 -h 400\n",
    "fmba_AB_feat_freq_all_data=read.csv('FMBA_AB_feat_freq_all_cohorts.tsv', sep=\"\\t\", header=TRUE)\n",
    "fmba_AB_feat_freq_all_data$cohorts=factor(fmba_AB_feat_freq_all_data$cohorts,  \n",
    "                                             levels=c(\"AB_acute\", \"AB_recovered\", \"AB_exposed\", \"HIP\",\n",
    "                                                   \"Keck\", \"FMBA_IgM+\", \"FMBA_IgM-_IgG+\", \"FMBA_healthy\"))\n",
    "fmba_AB_feat_freq_all_data$features=as.factor(fmba_AB_feat_freq_all_data$features)\n",
    "\n",
    "\n",
    "    \n",
    "ggplot(fmba_AB_feat_freq_all_data, aes(x=cohorts, y=log10(feature.frequency), fill=cohorts) ) + \n",
    "  geom_boxplot( notch=FALSE,outlier.size = 0.7, lwd=0.7) + facet_wrap(~features, nrow=1) + theme_bw() + theme(axis.text.x=element_blank())\n",
    "    "
   ]
  },
  {
   "cell_type": "markdown",
   "metadata": {},
   "source": [
    "### AB-FMBA mix features"
   ]
  },
  {
   "cell_type": "markdown",
   "metadata": {},
   "source": [
    "#### Get AB-FMBA features frequences in FMBA data"
   ]
  },
  {
   "cell_type": "code",
   "execution_count": 69,
   "metadata": {},
   "outputs": [
    {
     "name": "stdout",
     "output_type": "stream",
     "text": [
      "START\n",
      "DONE\n",
      "CPU times: user 31.2 ms, sys: 101 ms, total: 132 ms\n",
      "Wall time: 1min 1s\n"
     ]
    }
   ],
   "source": [
    "%%time\n",
    "folder_with_samples = \"../../random_forest_v2/fmba_new_corr_TRB_functional_random2000AA\"\n",
    "\n",
    "\n",
    "#----------read sample names----------\n",
    "samples=pd.read_csv(str(folder_with_samples)+\"/metadata.txt\",sep=\"\\t\",\n",
    "                   header=None)\n",
    "samples=list(samples[0])\n",
    "#-------------------------------------\n",
    "\n",
    "\n",
    "def get_features_frequences_levenshtein1_wrapper(sample_name,\n",
    "                                                   path_to_folder_with_sample=folder_with_samples,\n",
    "                                                   clones_for_analyse=associated_clones_AB_FMBA):\n",
    "    return  get_features_frequences_levenshtein1(sample_name,\n",
    "                                                  path_to_folder_with_sample=path_to_folder_with_sample,\n",
    "                                                  clones_for_analyse=clones_for_analyse)\n",
    "\n",
    "\n",
    "\n",
    "\n",
    "#result=list(map(get_features_frequences_levenshtein1_wrapper, samples))\n",
    "print(\"START\")    \n",
    "pool = mp.Pool(processes = (mp.cpu_count())) #SET THE NUMBER OF CORES THAT YOU GOING TO USE\n",
    "results=pool.map(get_features_frequences_levenshtein1_wrapper, samples)\n",
    "pool.close()\n",
    "clones_in_samples=list(results)\n",
    "print(\"DONE\")"
   ]
  },
  {
   "cell_type": "code",
   "execution_count": 70,
   "metadata": {},
   "outputs": [],
   "source": [
    "samples_short_names = list(map(lambda x: int(x[:12]), samples)) \n",
    "AB_fmba_feat_freq_fmba = pd.DataFrame({'feature frequency': clones_in_samples}, index = samples_short_names)\n",
    "AB_fmba_feat_freq_fmba.index.name='sample_name'\n",
    "AB_fmba_feat_freq_fmba.to_csv('AB_fmba_feat_freq_fmba.tsv', sep = '\\t')"
   ]
  },
  {
   "cell_type": "markdown",
   "metadata": {},
   "source": [
    "#### Get AB-FMBA features frequences in Adaptive data"
   ]
  },
  {
   "cell_type": "code",
   "execution_count": 71,
   "metadata": {},
   "outputs": [
    {
     "name": "stdout",
     "output_type": "stream",
     "text": [
      "START\n",
      "DONE\n",
      "CPU times: user 74.3 ms, sys: 83.3 ms, total: 158 ms\n",
      "Wall time: 1min 46s\n"
     ]
    }
   ],
   "source": [
    "%%time\n",
    "folder_with_samples = \"../../random_forest_v2/AB_corr_functional_random2000AA\"\n",
    "\n",
    "\n",
    "#----------read sample names----------\n",
    "samples=pd.read_csv(str(folder_with_samples)+\"/metadata.txt\",sep=\"\\t\",\n",
    "                   header=None)\n",
    "samples=list(samples[0])\n",
    "#-------------------------------------\n",
    "\n",
    "\n",
    "def get_features_frequences_levenshtein1_wrapper(sample_name,\n",
    "                                                   path_to_folder_with_sample=folder_with_samples,\n",
    "                                                   clones_for_analyse=associated_clones_AB_FMBA):\n",
    "    return  get_features_frequences_levenshtein1(sample_name,\n",
    "                                                  path_to_folder_with_sample=path_to_folder_with_sample,\n",
    "                                                  clones_for_analyse=clones_for_analyse)\n",
    "\n",
    "\n",
    "\n",
    "\n",
    "#result=list(map(get_features_frequences_levenshtein1_wrapper, samples))\n",
    "print(\"START\")    \n",
    "pool = mp.Pool(processes = (mp.cpu_count())) #SET THE NUMBER OF CORES THAT YOU GOING TO USE\n",
    "results=pool.map(get_features_frequences_levenshtein1_wrapper, samples)\n",
    "pool.close()\n",
    "clones_in_samples=list(results)\n",
    "print(\"DONE\")"
   ]
  },
  {
   "cell_type": "code",
   "execution_count": 73,
   "metadata": {},
   "outputs": [],
   "source": [
    "samples_short_names = list(map(lambda x: x[: -13], samples)) \n",
    "AB_fmba_feat_freq_AB = pd.DataFrame({'feature frequency': clones_in_samples}, index = samples_short_names)\n",
    "AB_fmba_feat_freq_AB.index.name='sample_name'\n",
    "AB_fmba_feat_freq_AB.to_csv('AB_fmba_feat_freq_AB.tsv', sep = '\\t')"
   ]
  },
  {
   "cell_type": "markdown",
   "metadata": {},
   "source": [
    "#### Get AB-FMBA features frequences in HIP and Keck data¶¶"
   ]
  },
  {
   "cell_type": "code",
   "execution_count": 74,
   "metadata": {},
   "outputs": [
    {
     "name": "stdout",
     "output_type": "stream",
     "text": [
      "START\n",
      "DONE\n",
      "CPU times: user 38.9 ms, sys: 93.2 ms, total: 132 ms\n",
      "Wall time: 1min\n"
     ]
    }
   ],
   "source": [
    "%%time\n",
    "folder_with_samples = \"../../random_forest_v2/hip_corr_functional_random2000AA\"\n",
    "\n",
    "\n",
    "#----------read sample names----------\n",
    "samples=pd.read_csv(str(folder_with_samples)+\"/metadata.txt\",sep=\"\\t\",\n",
    "                   header=None)\n",
    "samples=list(samples[0])\n",
    "#-------------------------------------\n",
    "\n",
    "\n",
    "def get_features_frequences_levenshtein1_wrapper(sample_name,\n",
    "                                                   path_to_folder_with_sample=folder_with_samples,\n",
    "                                                   clones_for_analyse=associated_clones_AB_FMBA):\n",
    "    return  get_features_frequences_levenshtein1(sample_name,\n",
    "                                                  path_to_folder_with_sample=path_to_folder_with_sample,\n",
    "                                                  clones_for_analyse=clones_for_analyse)\n",
    "\n",
    "\n",
    "\n",
    "\n",
    "#result=list(map(get_features_frequences_levenshtein1_wrapper, samples))\n",
    "print(\"START\")    \n",
    "pool = mp.Pool(processes = (mp.cpu_count())) #SET THE NUMBER OF CORES THAT YOU GOING TO USE\n",
    "results=pool.map(get_features_frequences_levenshtein1_wrapper, samples)\n",
    "pool.close()\n",
    "clones_in_samples=list(results)\n",
    "print(\"DONE\")"
   ]
  },
  {
   "cell_type": "code",
   "execution_count": 79,
   "metadata": {},
   "outputs": [],
   "source": [
    "samples_short_names = list(map(lambda x: x[: -4], samples)) \n",
    "AB_fmba_feat_freq_HIP_Keck = pd.DataFrame({'feature frequency': clones_in_samples}, index = samples_short_names)\n",
    "AB_fmba_feat_freq_HIP_Keck.index.name='sample_name'\n",
    "AB_fmba_feat_freq_HIP_Keck.to_csv('AB_fmba_feat_freq_HIP_Keck.tsv', sep = '\\t')"
   ]
  },
  {
   "cell_type": "code",
   "execution_count": 80,
   "metadata": {},
   "outputs": [],
   "source": [
    "#concat dataframes\n",
    "AB_fmba_feat_freq_all_data = pd.concat([AB_fmba_feat_freq_fmba, AB_fmba_feat_freq_AB, AB_fmba_feat_freq_HIP_Keck], axis=0)\n",
    "\n",
    "#Make a column with cohorts\n",
    "AB_fmba_feat_freq_all_data['cohorts'] = 'FMBA_healthy'\n",
    "AB_fmba_feat_freq_all_data.loc[set(AB_fmba_feat_freq_all_data.index.values)&fmba_IgM_yes, 'cohorts'] = 'FMBA_IgM+'\n",
    "AB_fmba_feat_freq_all_data.loc[set(AB_fmba_feat_freq_all_data.index.values)&fmba_IgM_no_IgG_yes, 'cohorts'] = 'FMBA_IgM-_IgG+'\n",
    "AB_fmba_feat_freq_all_data.loc[set(AB_fmba_feat_freq_all_data.index.values)&AB_acute, 'cohorts'] = 'AB_acute'\n",
    "AB_fmba_feat_freq_all_data.loc[set(AB_fmba_feat_freq_all_data.index.values)&AB_recovered, 'cohorts'] = 'AB_recovered'\n",
    "AB_fmba_feat_freq_all_data.loc[set(AB_fmba_feat_freq_all_data.index.values)&AB_exposed, 'cohorts'] = 'AB_exposed'\n",
    "AB_fmba_feat_freq_all_data.loc[set(AB_fmba_feat_freq_all_data.index.values)&hip, 'cohorts'] = 'HIP'\n",
    "AB_fmba_feat_freq_all_data.loc[set(AB_fmba_feat_freq_all_data.index.values)&Keck, 'cohorts'] = 'Keck'\n",
    "#fmba_healthy: 409\n",
    "#fmba_IgM_yes: 410\n",
    "#fmba_IgM_no_IgG_yes: 340\n",
    "#AB_acute: 1140\n",
    "#AB_recovered: 239\n",
    "#AB_baseline: 74\n",
    "#AB_exposed: 26\n",
    "#HIP: 664\n",
    "#Keck: 119\n",
    "AB_fmba_feat_freq_all_data.to_csv('AB_FMBA_mix_feat_freq_all_cohorts.tsv', sep = '\\t')"
   ]
  },
  {
   "cell_type": "code",
   "execution_count": 132,
   "metadata": {},
   "outputs": [
    {
     "data": {
      "image/png": "[encoded data removed]"
     },
     "metadata": {},
     "output_type": "display_data"
    }
   ],
   "source": [
    "%%R -w 800 -h 400\n",
    "AB_fmba_feat_freq_all_data=read.csv('AB_FMBA_mix_feat_freq_all_cohorts.tsv', sep=\"\\t\", header=TRUE)\n",
    "AB_fmba_feat_freq_all_data$cohorts=factor(AB_fmba_feat_freq_all_data$cohorts,\n",
    "                                          levels=c(\"AB_acute\", \"AB_recovered\", \"AB_exposed\", \"HIP\",\n",
    "                                                   \"Keck\", \"FMBA_IgM+\", \"FMBA_IgM-_IgG+\", \"FMBA_healthy\"))\n",
    "#AB_fmba_feat_freq_all_data$features=as.factor(AB_fmba_feat_freq_all_data$features)\n",
    "\n",
    "ggplot(AB_fmba_feat_freq_all_data, aes(x=cohorts, y=log10(feature.frequency), fill=cohorts) ) + \n",
    "  geom_boxplot( notch=FALSE,outlier.size = 0.7, lwd=0.7) + theme_bw()\n",
    "    "
   ]
  },
  {
   "cell_type": "markdown",
   "metadata": {},
   "source": [
    "### 4) Random AB clones"
   ]
  },
  {
   "cell_type": "markdown",
   "metadata": {},
   "source": [
    "#### Take random public clones AB and get their frequences in FMBA data¶"
   ]
  },
  {
   "cell_type": "code",
   "execution_count": 123,
   "metadata": {},
   "outputs": [
    {
     "name": "stdout",
     "output_type": "stream",
     "text": [
      "START\n",
      "DONE\n",
      "CPU times: user 47.5 ms, sys: 425 ms, total: 473 ms\n",
      "Wall time: 1min 5s\n"
     ]
    }
   ],
   "source": [
    "%%time\n",
    "folder_with_samples = \"../../random_forest_v2/fmba_new_corr_TRB_functional_random2000AA\"\n",
    "\n",
    "\n",
    "#----------read sample names----------\n",
    "samples=pd.read_csv(str(folder_with_samples)+\"/metadata.txt\",sep=\"\\t\",\n",
    "                   header=None)\n",
    "samples=list(samples[0])\n",
    "#-------------------------------------\n",
    "\n",
    "\n",
    "def get_features_frequences_levenshtein1_wrapper(sample_name,\n",
    "                                                   path_to_folder_with_sample=folder_with_samples,\n",
    "                                                   clones_for_analyse=random_clones_AB):\n",
    "    return  get_features_frequences_levenshtein1(sample_name,\n",
    "                                                  path_to_folder_with_sample=path_to_folder_with_sample,\n",
    "                                                  clones_for_analyse=clones_for_analyse)\n",
    "\n",
    "\n",
    "\n",
    "\n",
    "#result=list(map(get_features_frequences_levenshtein1_wrapper, samples))\n",
    "print(\"START\")    \n",
    "pool = mp.Pool(processes = (mp.cpu_count())) #SET THE NUMBER OF CORES THAT YOU GOING TO USE\n",
    "results=pool.map(get_features_frequences_levenshtein1_wrapper, samples)\n",
    "pool.close()\n",
    "clones_in_samples=list(results)\n",
    "print(\"DONE\")"
   ]
  },
  {
   "cell_type": "code",
   "execution_count": 124,
   "metadata": {},
   "outputs": [],
   "source": [
    "samples_short_names = list(map(lambda x: int(x[:12]), samples)) \n",
    "random_AB_freq_fmba = pd.DataFrame({'feature frequency': clones_in_samples}, index = samples_short_names)\n",
    "random_AB_freq_fmba.index.name='sample_name'\n",
    "random_AB_freq_fmba.to_csv('random_AB_freq_fmba.tsv', sep = '\\t')"
   ]
  },
  {
   "cell_type": "markdown",
   "metadata": {},
   "source": [
    "#### Take random public clones AB and get their frequences in AB data"
   ]
  },
  {
   "cell_type": "code",
   "execution_count": 125,
   "metadata": {},
   "outputs": [
    {
     "name": "stdout",
     "output_type": "stream",
     "text": [
      "START\n",
      "DONE\n",
      "CPU times: user 78.5 ms, sys: 444 ms, total: 522 ms\n",
      "Wall time: 1min 51s\n"
     ]
    }
   ],
   "source": [
    "%%time\n",
    "folder_with_samples = \"../../random_forest_v2/AB_corr_functional_random2000AA\"\n",
    "\n",
    "\n",
    "#----------read sample names----------\n",
    "samples=pd.read_csv(str(folder_with_samples)+\"/metadata.txt\",sep=\"\\t\",\n",
    "                   header=None)\n",
    "samples=list(samples[0])\n",
    "#-------------------------------------\n",
    "\n",
    "\n",
    "def get_features_frequences_levenshtein1_wrapper(sample_name,\n",
    "                                                   path_to_folder_with_sample=folder_with_samples,\n",
    "                                                   clones_for_analyse=random_clones_AB):\n",
    "    return  get_features_frequences_levenshtein1(sample_name,\n",
    "                                                  path_to_folder_with_sample=path_to_folder_with_sample,\n",
    "                                                  clones_for_analyse=clones_for_analyse)\n",
    "\n",
    "\n",
    "\n",
    "\n",
    "#result=list(map(get_features_frequences_levenshtein1_wrapper, samples))\n",
    "print(\"START\")    \n",
    "pool = mp.Pool(processes = (mp.cpu_count())) #SET THE NUMBER OF CORES THAT YOU GOING TO USE\n",
    "results=pool.map(get_features_frequences_levenshtein1_wrapper, samples)\n",
    "pool.close()\n",
    "clones_in_samples=list(results)\n",
    "print(\"DONE\")"
   ]
  },
  {
   "cell_type": "code",
   "execution_count": 126,
   "metadata": {},
   "outputs": [],
   "source": [
    "samples_short_names = list(map(lambda x: x[: -13], samples)) \n",
    "random_AB_freq_AB = pd.DataFrame({'feature frequency': clones_in_samples}, index = samples_short_names)\n",
    "random_AB_freq_AB.index.name='sample_name'\n",
    "random_AB_freq_AB.to_csv('random_AB_freq_AB.tsv', sep = '\\t')"
   ]
  },
  {
   "cell_type": "markdown",
   "metadata": {},
   "source": [
    "#### Take random public clones AB and get their frequences in HIP and Keck data"
   ]
  },
  {
   "cell_type": "code",
   "execution_count": 127,
   "metadata": {},
   "outputs": [
    {
     "name": "stdout",
     "output_type": "stream",
     "text": [
      "START\n",
      "DONE\n",
      "CPU times: user 10.9 ms, sys: 467 ms, total: 478 ms\n",
      "Wall time: 1min 3s\n"
     ]
    }
   ],
   "source": [
    "%%time\n",
    "folder_with_samples = \"../../random_forest_v2/hip_corr_functional_random2000AA\"\n",
    "\n",
    "\n",
    "#----------read sample names----------\n",
    "samples=pd.read_csv(str(folder_with_samples)+\"/metadata.txt\",sep=\"\\t\",\n",
    "                   header=None)\n",
    "samples=list(samples[0])\n",
    "#-------------------------------------\n",
    "\n",
    "\n",
    "def get_features_frequences_levenshtein1_wrapper(sample_name,\n",
    "                                                   path_to_folder_with_sample=folder_with_samples,\n",
    "                                                   clones_for_analyse=random_clones_AB):\n",
    "    return  get_features_frequences_levenshtein1(sample_name,\n",
    "                                                  path_to_folder_with_sample=path_to_folder_with_sample,\n",
    "                                                  clones_for_analyse=clones_for_analyse)\n",
    "\n",
    "\n",
    "\n",
    "\n",
    "#result=list(map(get_features_frequences_levenshtein1_wrapper, samples))\n",
    "print(\"START\")    \n",
    "pool = mp.Pool(processes = (mp.cpu_count())) #SET THE NUMBER OF CORES THAT YOU GOING TO USE\n",
    "results=pool.map(get_features_frequences_levenshtein1_wrapper, samples)\n",
    "pool.close()\n",
    "clones_in_samples=list(results)\n",
    "print(\"DONE\")"
   ]
  },
  {
   "cell_type": "code",
   "execution_count": 128,
   "metadata": {},
   "outputs": [],
   "source": [
    "samples_short_names = list(map(lambda x: x[: -4], samples)) \n",
    "random_AB_freq_HIP_Keck = pd.DataFrame({'feature frequency': clones_in_samples}, index = samples_short_names)\n",
    "random_AB_freq_HIP_Keck.index.name='sample_name'\n",
    "random_AB_freq_HIP_Keck.to_csv('random_AB_freq_HIP_Keck.tsv', sep = '\\t')"
   ]
  },
  {
   "cell_type": "code",
   "execution_count": 129,
   "metadata": {},
   "outputs": [],
   "source": [
    "#concat dataframes\n",
    "random_AB_freq_all_data = pd.concat([random_AB_freq_fmba, random_AB_freq_AB, random_AB_freq_HIP_Keck], axis=0)\n",
    "\n",
    "#Make a column with cohorts\n",
    "random_AB_freq_all_data['cohorts'] = 'FMBA_healthy'\n",
    "random_AB_freq_all_data.loc[set(random_AB_freq_all_data.index.values)&fmba_IgM_yes, 'cohorts'] = 'FMBA_IgM+'\n",
    "random_AB_freq_all_data.loc[set(random_AB_freq_all_data.index.values)&fmba_IgM_no_IgG_yes, 'cohorts'] = 'FMBA_IgM-_IgG+'\n",
    "random_AB_freq_all_data.loc[set(random_AB_freq_all_data.index.values)&AB_acute, 'cohorts'] = 'AB_acute'\n",
    "random_AB_freq_all_data.loc[set(random_AB_freq_all_data.index.values)&AB_recovered, 'cohorts'] = 'AB_recovered'\n",
    "random_AB_freq_all_data.loc[set(random_AB_freq_all_data.index.values)&AB_exposed, 'cohorts'] = 'AB_exposed'\n",
    "random_AB_freq_all_data.loc[set(random_AB_freq_all_data.index.values)&hip, 'cohorts'] = 'HIP'\n",
    "random_AB_freq_all_data.loc[set(random_AB_freq_all_data.index.values)&Keck, 'cohorts'] = 'Keck'\n",
    "#fmba_healthy: 409\n",
    "#fmba_IgM_yes: 410\n",
    "#fmba_IgM_no_IgG_yes: 340\n",
    "#AB_acute: 1140\n",
    "#AB_recovered: 239\n",
    "#AB_baseline: 74\n",
    "#AB_exposed: 26\n",
    "#HIP: 664\n",
    "#Keck: 119\n",
    "random_AB_freq_all_data.to_csv('random_AB_freq_all_cohorts.tsv', sep = '\\t')"
   ]
  },
  {
   "cell_type": "code",
   "execution_count": 131,
   "metadata": {},
   "outputs": [
    {
     "data": {
      "image/png": "[encoded data removed]"
     },
     "metadata": {},
     "output_type": "display_data"
    }
   ],
   "source": [
    "%%R -w 800 -h 400\n",
    "random_AB_freq_all_data=read.csv('random_AB_freq_all_cohorts.tsv', sep=\"\\t\", header=TRUE)\n",
    "random_AB_freq_all_data$cohorts=factor(random_AB_freq_all_data$cohorts,\n",
    "                                          levels=c(\"AB_acute\", \"AB_recovered\", \"AB_exposed\", \"HIP\",\n",
    "                                                   \"Keck\", \"FMBA_IgM+\", \"FMBA_IgM-_IgG+\", \"FMBA_healthy\"))\n",
    "#AB_fmba_feat_freq_all_data$features=as.factor(AB_fmba_feat_freq_all_data$features)\n",
    "\n",
    "ggplot(random_AB_freq_all_data, aes(x=cohorts, y=log10(feature.frequency), fill=cohorts) ) + \n",
    "  geom_boxplot( notch=FALSE,outlier.size = 0.7, lwd=0.7) + theme_bw()"
   ]
  },
  {
   "cell_type": "markdown",
   "metadata": {},
   "source": [
    "### 5) Random FMBA"
   ]
  },
  {
   "cell_type": "markdown",
   "metadata": {},
   "source": [
    "#### Take random public clones FMBA and get their frequences in FMBA data¶"
   ]
  },
  {
   "cell_type": "code",
   "execution_count": 151,
   "metadata": {},
   "outputs": [
    {
     "name": "stdout",
     "output_type": "stream",
     "text": [
      "START\n",
      "DONE\n",
      "CPU times: user 35.3 ms, sys: 439 ms, total: 474 ms\n",
      "Wall time: 1min 4s\n"
     ]
    }
   ],
   "source": [
    "%%time\n",
    "folder_with_samples = \"../../random_forest_v2/fmba_new_corr_TRB_functional_random2000AA\"\n",
    "\n",
    "\n",
    "#----------read sample names----------\n",
    "samples=pd.read_csv(str(folder_with_samples)+\"/metadata.txt\",sep=\"\\t\",\n",
    "                   header=None)\n",
    "samples=list(samples[0])\n",
    "#-------------------------------------\n",
    "\n",
    "\n",
    "def get_features_frequences_levenshtein1_wrapper(sample_name,\n",
    "                                                   path_to_folder_with_sample=folder_with_samples,\n",
    "                                                   clones_for_analyse=random_clones_FMBA):\n",
    "    return  get_features_frequences_levenshtein1(sample_name,\n",
    "                                                  path_to_folder_with_sample=path_to_folder_with_sample,\n",
    "                                                  clones_for_analyse=clones_for_analyse)\n",
    "\n",
    "\n",
    "\n",
    "\n",
    "#result=list(map(get_features_frequences_levenshtein1_wrapper, samples))\n",
    "print(\"START\")    \n",
    "pool = mp.Pool(processes = (mp.cpu_count())) #SET THE NUMBER OF CORES THAT YOU GOING TO USE\n",
    "results=pool.map(get_features_frequences_levenshtein1_wrapper, samples)\n",
    "pool.close()\n",
    "clones_in_samples=list(results)\n",
    "print(\"DONE\")"
   ]
  },
  {
   "cell_type": "code",
   "execution_count": 144,
   "metadata": {},
   "outputs": [],
   "source": [
    "samples_short_names = list(map(lambda x: int(x[:12]), samples)) \n",
    "random_FMBA_freq_fmba = pd.DataFrame({'feature frequency': clones_in_samples}, index = samples_short_names)\n",
    "random_FMBA_freq_fmba.index.name='sample_name'\n",
    "random_FMBA_freq_fmba.to_csv('random_FMBA_freq_fmba.tsv', sep = '\\t')"
   ]
  },
  {
   "cell_type": "markdown",
   "metadata": {},
   "source": [
    "#### Take random public clones FMBA and get their frequences in AB data"
   ]
  },
  {
   "cell_type": "code",
   "execution_count": 145,
   "metadata": {},
   "outputs": [
    {
     "name": "stdout",
     "output_type": "stream",
     "text": [
      "START\n",
      "DONE\n",
      "CPU times: user 40.2 ms, sys: 442 ms, total: 482 ms\n",
      "Wall time: 1min 50s\n"
     ]
    }
   ],
   "source": [
    "%%time\n",
    "folder_with_samples = \"../../random_forest_v2/AB_corr_functional_random2000AA\"\n",
    "\n",
    "\n",
    "#----------read sample names----------\n",
    "samples=pd.read_csv(str(folder_with_samples)+\"/metadata.txt\",sep=\"\\t\",\n",
    "                   header=None)\n",
    "samples=list(samples[0])\n",
    "#-------------------------------------\n",
    "\n",
    "\n",
    "def get_features_frequences_levenshtein1_wrapper(sample_name,\n",
    "                                                   path_to_folder_with_sample=folder_with_samples,\n",
    "                                                   clones_for_analyse=random_clones_FMBA):\n",
    "    return  get_features_frequences_levenshtein1(sample_name,\n",
    "                                                  path_to_folder_with_sample=path_to_folder_with_sample,\n",
    "                                                  clones_for_analyse=clones_for_analyse)\n",
    "\n",
    "\n",
    "\n",
    "\n",
    "#result=list(map(get_features_frequences_levenshtein1_wrapper, samples))\n",
    "print(\"START\")    \n",
    "pool = mp.Pool(processes = (mp.cpu_count())) #SET THE NUMBER OF CORES THAT YOU GOING TO USE\n",
    "results=pool.map(get_features_frequences_levenshtein1_wrapper, samples)\n",
    "pool.close()\n",
    "clones_in_samples=list(results)\n",
    "print(\"DONE\")"
   ]
  },
  {
   "cell_type": "code",
   "execution_count": 146,
   "metadata": {},
   "outputs": [],
   "source": [
    "samples_short_names = list(map(lambda x: x[: -13], samples)) \n",
    "random_FMBA_freq_AB = pd.DataFrame({'feature frequency': clones_in_samples}, index = samples_short_names)\n",
    "random_FMBA_freq_AB.index.name='sample_name'\n",
    "random_FMBA_freq_AB.to_csv('random_FMBA_freq_AB.tsv', sep = '\\t')"
   ]
  },
  {
   "cell_type": "markdown",
   "metadata": {},
   "source": [
    "#### Take random public clones FMBA and get their frequences in HIP and Keck data"
   ]
  },
  {
   "cell_type": "code",
   "execution_count": 147,
   "metadata": {},
   "outputs": [
    {
     "name": "stdout",
     "output_type": "stream",
     "text": [
      "START\n",
      "DONE\n",
      "CPU times: user 34.3 ms, sys: 428 ms, total: 462 ms\n",
      "Wall time: 1min 3s\n"
     ]
    }
   ],
   "source": [
    "%%time\n",
    "folder_with_samples = \"../../random_forest_v2/hip_corr_functional_random2000AA\"\n",
    "\n",
    "\n",
    "#----------read sample names----------\n",
    "samples=pd.read_csv(str(folder_with_samples)+\"/metadata.txt\",sep=\"\\t\",\n",
    "                   header=None)\n",
    "samples=list(samples[0])\n",
    "#-------------------------------------\n",
    "\n",
    "\n",
    "def get_features_frequences_levenshtein1_wrapper(sample_name,\n",
    "                                                   path_to_folder_with_sample=folder_with_samples,\n",
    "                                                   clones_for_analyse=random_clones_FMBA):\n",
    "    return  get_features_frequences_levenshtein1(sample_name,\n",
    "                                                  path_to_folder_with_sample=path_to_folder_with_sample,\n",
    "                                                  clones_for_analyse=clones_for_analyse)\n",
    "\n",
    "\n",
    "\n",
    "\n",
    "#result=list(map(get_features_frequences_levenshtein1_wrapper, samples))\n",
    "print(\"START\")    \n",
    "pool = mp.Pool(processes = (mp.cpu_count())) #SET THE NUMBER OF CORES THAT YOU GOING TO USE\n",
    "results=pool.map(get_features_frequences_levenshtein1_wrapper, samples)\n",
    "pool.close()\n",
    "clones_in_samples=list(results)\n",
    "print(\"DONE\")"
   ]
  },
  {
   "cell_type": "code",
   "execution_count": 148,
   "metadata": {},
   "outputs": [],
   "source": [
    "samples_short_names = list(map(lambda x: x[: -4], samples)) \n",
    "random_FMBA_freq_HIP_Keck = pd.DataFrame({'feature frequency': clones_in_samples}, index = samples_short_names)\n",
    "random_FMBA_freq_HIP_Keck.index.name='sample_name'\n",
    "random_FMBA_freq_HIP_Keck.to_csv('random_FMBA_freq_HIP_Keck.tsv', sep = '\\t')"
   ]
  },
  {
   "cell_type": "code",
   "execution_count": 152,
   "metadata": {},
   "outputs": [],
   "source": [
    "#concat dataframes\n",
    "random_FMBA_freq_all_data = pd.concat([random_FMBA_freq_fmba, random_FMBA_freq_AB, random_FMBA_freq_HIP_Keck], axis=0)\n",
    "\n",
    "#Make a column with cohorts\n",
    "random_FMBA_freq_all_data['cohorts'] = 'FMBA_healthy'\n",
    "random_FMBA_freq_all_data.loc[set(random_FMBA_freq_all_data.index.values)&fmba_IgM_yes, 'cohorts'] = 'FMBA_IgM+'\n",
    "random_FMBA_freq_all_data.loc[set(random_FMBA_freq_all_data.index.values)&fmba_IgM_no_IgG_yes, 'cohorts'] = 'FMBA_IgM-_IgG+'\n",
    "random_FMBA_freq_all_data.loc[set(random_FMBA_freq_all_data.index.values)&AB_acute, 'cohorts'] = 'AB_acute'\n",
    "random_FMBA_freq_all_data.loc[set(random_FMBA_freq_all_data.index.values)&AB_recovered, 'cohorts'] = 'AB_recovered'\n",
    "random_FMBA_freq_all_data.loc[set(random_FMBA_freq_all_data.index.values)&AB_exposed, 'cohorts'] = 'AB_exposed'\n",
    "random_FMBA_freq_all_data.loc[set(random_FMBA_freq_all_data.index.values)&hip, 'cohorts'] = 'HIP'\n",
    "random_FMBA_freq_all_data.loc[set(random_FMBA_freq_all_data.index.values)&Keck, 'cohorts'] = 'Keck'\n",
    "#fmba_healthy: 409\n",
    "#fmba_IgM_yes: 410\n",
    "#fmba_IgM_no_IgG_yes: 340\n",
    "#AB_acute: 1140\n",
    "#AB_recovered: 239\n",
    "#AB_baseline: 74\n",
    "#AB_exposed: 26\n",
    "#HIP: 664\n",
    "#Keck: 119\n",
    "random_FMBA_freq_all_data.to_csv('random_FMBA_freq_all_cohorts.tsv', sep = '\\t')"
   ]
  },
  {
   "cell_type": "code",
   "execution_count": 153,
   "metadata": {},
   "outputs": [
    {
     "data": {
      "image/png": "[encoded data removed]"
     },
     "metadata": {},
     "output_type": "display_data"
    }
   ],
   "source": [
    "%%R -w 800 -h 400\n",
    "random_FMBA_freq_all_data=read.csv('random_FMBA_freq_all_cohorts.tsv', sep=\"\\t\", header=TRUE)\n",
    "random_FMBA_freq_all_data$cohorts=factor(random_FMBA_freq_all_data$cohorts,\n",
    "                                          levels=c(\"AB_acute\", \"AB_recovered\", \"AB_exposed\", \"HIP\",\n",
    "                                                   \"Keck\", \"FMBA_IgM+\", \"FMBA_IgM-_IgG+\", \"FMBA_healthy\"))\n",
    "#AB_fmba_feat_freq_all_data$features=as.factor(AB_fmba_feat_freq_all_data$features)\n",
    "\n",
    "ggplot(random_FMBA_freq_all_data, aes(x=cohorts, y=log10(feature.frequency), fill=cohorts) ) + \n",
    "  geom_boxplot( notch=FALSE,outlier.size = 0.7, lwd=0.7) + theme_bw()"
   ]
  },
  {
   "cell_type": "markdown",
   "metadata": {},
   "source": [
    "### 6) Associated clones FMBA founded by ttest"
   ]
  },
  {
   "cell_type": "markdown",
   "metadata": {},
   "source": [
    "#### Get FMBA features frequences in FMBA data"
   ]
  },
  {
   "cell_type": "code",
   "execution_count": 35,
   "metadata": {},
   "outputs": [
    {
     "name": "stdout",
     "output_type": "stream",
     "text": [
      "START\n",
      "DONE\n",
      "CPU times: user 219 ms, sys: 701 ms, total: 920 ms\n",
      "Wall time: 5.29 s\n"
     ]
    }
   ],
   "source": [
    "%%time\n",
    "#folder_with_samples = \"../../random_forest_v2/fmba_new_corr_TRB_functional_random2000AA\"\n",
    "\n",
    "\n",
    "#----------read sample names----------\n",
    "#samples=pd.read_csv(str(folder_with_samples)+\"/metadata.txt\",sep=\"\\t\",\n",
    "#                   header=None)\n",
    "#samples=list(samples[0])\n",
    "#-------------------------------------\n",
    "folder_with_samples=\"/projects/fmba_covid/fmba_new/corr\"\n",
    "chain=\"TRB\"\n",
    "\n",
    "#----------read sample names----------\n",
    "samples=[i for i in os.listdir(folder_with_samples) if i.endswith(f\"{chain}.txt\")]\n",
    "#-------------------------------------\n",
    "\n",
    "\n",
    "\n",
    "def get_features_frequences_wrapper(sample_name,\n",
    "                                                   path_to_folder_with_sample=folder_with_samples,\n",
    "                                                   clones_for_analyse=associated_clones_fmba_ttest):\n",
    "    return  get_features_frequences(sample_name,\n",
    "                                                  path_to_folder_with_sample=path_to_folder_with_sample,\n",
    "                                                  clones_for_analyse=clones_for_analyse)\n",
    "\n",
    "\n",
    "\n",
    "\n",
    "#result=list(map(get_features_frequences_levenshtein1_wrapper, samples))\n",
    "print(\"START\")    \n",
    "pool = mp.Pool(processes = (mp.cpu_count())) #SET THE NUMBER OF CORES THAT YOU GOING TO USE\n",
    "results=pool.map(get_features_frequences_wrapper, samples)\n",
    "pool.close()\n",
    "clones_in_samples=list(results)\n",
    "print(\"DONE\")"
   ]
  },
  {
   "cell_type": "code",
   "execution_count": 36,
   "metadata": {},
   "outputs": [],
   "source": [
    "samples_short_names = list(map(lambda x: int(x[:12]), samples)) \n",
    "FMBA_ttest_freq_fmba = pd.DataFrame({'feature frequency': clones_in_samples}, index = samples_short_names)\n",
    "FMBA_ttest_freq_fmba.index.name='sample_name'\n",
    "FMBA_ttest_freq_fmba.to_csv('FMBA_ttest_freq_fmba.tsv', sep = '\\t')"
   ]
  },
  {
   "cell_type": "markdown",
   "metadata": {},
   "source": [
    "#### Get FMBA features frequences in Adaptive data"
   ]
  },
  {
   "cell_type": "code",
   "execution_count": 37,
   "metadata": {},
   "outputs": [
    {
     "name": "stdout",
     "output_type": "stream",
     "text": [
      "START\n",
      "DONE\n",
      "CPU times: user 229 ms, sys: 966 ms, total: 1.2 s\n",
      "Wall time: 11.5 s\n"
     ]
    }
   ],
   "source": [
    "%%time\n",
    "treshhold=2000\n",
    "#folder_with_samples = \"../../random_forest_v2/AB_corr_functional_random2000AA\"\n",
    "\n",
    "\n",
    "#----------read sample names----------\n",
    "#samples=pd.read_csv(str(folder_with_samples)+\"/metadata.txt\",sep=\"\\t\",\n",
    "#                   header=None)\n",
    "#samples=list(samples[0])\n",
    "#-------------------------------------\n",
    "folder_with_samples=\"/projects/fmba_covid/adaptive_new/corr\"\n",
    "\n",
    "\n",
    "#----------read sample names----------\n",
    "samples=os.listdir(folder_with_samples)\n",
    "#-------------------------------------\n",
    "\n",
    "\n",
    "\n",
    "def get_features_frequences_wrapper(sample_name,\n",
    "                                                   path_to_folder_with_sample=folder_with_samples,\n",
    "                                                   clones_for_analyse=associated_clones_fmba_ttest):\n",
    "    return  get_features_frequences(sample_name,\n",
    "                                                  path_to_folder_with_sample=path_to_folder_with_sample,\n",
    "                                                  clones_for_analyse=clones_for_analyse)\n",
    "\n",
    "\n",
    "\n",
    "#result=list(map(get_features_frequences_levenshtein1_wrapper, samples))\n",
    "print(\"START\")    \n",
    "pool = mp.Pool(processes = (mp.cpu_count())) #SET THE NUMBER OF CORES THAT YOU GOING TO USE\n",
    "results=pool.map(get_features_frequences_wrapper, samples)\n",
    "pool.close()\n",
    "clones_in_samples=list(results)\n",
    "print(\"DONE\")"
   ]
  },
  {
   "cell_type": "code",
   "execution_count": 38,
   "metadata": {},
   "outputs": [],
   "source": [
    "samples_short_names = list(map(lambda x: x[: -13], samples)) \n",
    "FMBA_ttest_freq_AB = pd.DataFrame({'feature frequency': clones_in_samples}, index = samples_short_names)\n",
    "FMBA_ttest_freq_AB.index.name='sample_name'\n",
    "FMBA_ttest_freq_AB.to_csv('FMBA_ttest_freq_AB.tsv', sep = '\\t')"
   ]
  },
  {
   "cell_type": "markdown",
   "metadata": {},
   "source": [
    "#### Get FMBA features frequences in HIP, Keck data"
   ]
  },
  {
   "cell_type": "code",
   "execution_count": 39,
   "metadata": {},
   "outputs": [
    {
     "name": "stdout",
     "output_type": "stream",
     "text": [
      "START\n",
      "DONE\n",
      "CPU times: user 231 ms, sys: 809 ms, total: 1.04 s\n",
      "Wall time: 7.24 s\n"
     ]
    }
   ],
   "source": [
    "%%time\n",
    "#folder_with_samples = \"../../random_forest_v2/hip_corr_functional_random2000AA\"\n",
    "\n",
    "\n",
    "#----------read sample names----------\n",
    "#samples=pd.read_csv(str(folder_with_samples)+\"/metadata.txt\",sep=\"\\t\",\n",
    "#                   header=None)\n",
    "#samples=list(samples[0])\n",
    "#-------------------------------------\n",
    "\n",
    "folder_with_samples=\"/projects/fmba_covid/hip_full/corr\"\n",
    "\n",
    "\n",
    "#----------read sample names----------\n",
    "samples=os.listdir(folder_with_samples)\n",
    "#-------------------------------------\n",
    "\n",
    "def get_features_frequences_wrapper(sample_name,\n",
    "                                                   path_to_folder_with_sample=folder_with_samples,\n",
    "                                                   clones_for_analyse=associated_clones_fmba_ttest):\n",
    "    return  get_features_frequences(sample_name,\n",
    "                                                  path_to_folder_with_sample=path_to_folder_with_sample,\n",
    "                                                  clones_for_analyse=clones_for_analyse)\n",
    "\n",
    "\n",
    "\n",
    "#result=list(map(get_features_frequences_levenshtein1_wrapper, samples))\n",
    "print(\"START\")    \n",
    "pool = mp.Pool(processes = (mp.cpu_count())) #SET THE NUMBER OF CORES THAT YOU GOING TO USE\n",
    "results=pool.map(get_features_frequences_wrapper, samples)\n",
    "pool.close()\n",
    "clones_in_samples=list(results)\n",
    "print(\"DONE\")"
   ]
  },
  {
   "cell_type": "code",
   "execution_count": 40,
   "metadata": {},
   "outputs": [],
   "source": [
    "samples_short_names = list(map(lambda x: x[: -4], samples)) \n",
    "FMBA_ttest_freq_HIP_Keck = pd.DataFrame({'feature frequency': clones_in_samples}, index = samples_short_names)\n",
    "FMBA_ttest_freq_HIP_Keck.index.name='sample_name'\n",
    "FMBA_ttest_freq_HIP_Keck.to_csv('FMBA_ttest_freq_HIP_Keck.tsv', sep = '\\t')"
   ]
  },
  {
   "cell_type": "code",
   "execution_count": 41,
   "metadata": {},
   "outputs": [],
   "source": [
    "#concat dataframes\n",
    "FMBA_ttest_freq_all_data = pd.concat([FMBA_ttest_freq_fmba, FMBA_ttest_freq_AB, FMBA_ttest_freq_HIP_Keck], axis=0)\n",
    "\n",
    "#Make a column with cohorts\n",
    "FMBA_ttest_freq_all_data['cohorts'] = 'FMBA_healthy'\n",
    "FMBA_ttest_freq_all_data.loc[set(FMBA_ttest_freq_all_data.index.values)&fmba_IgM_yes, 'cohorts'] = 'FMBA_IgM+'\n",
    "FMBA_ttest_freq_all_data.loc[set(FMBA_ttest_freq_all_data.index.values)&fmba_IgM_no_IgG_yes, 'cohorts'] = 'FMBA_IgM-_IgG+'\n",
    "FMBA_ttest_freq_all_data.loc[set(FMBA_ttest_freq_all_data.index.values)&AB_acute, 'cohorts'] = 'AB_acute'\n",
    "FMBA_ttest_freq_all_data.loc[set(FMBA_ttest_freq_all_data.index.values)&AB_recovered, 'cohorts'] = 'AB_recovered'\n",
    "FMBA_ttest_freq_all_data.loc[set(FMBA_ttest_freq_all_data.index.values)&AB_exposed, 'cohorts'] = 'AB_exposed'\n",
    "FMBA_ttest_freq_all_data.loc[set(FMBA_ttest_freq_all_data.index.values)&hip, 'cohorts'] = 'HIP'\n",
    "FMBA_ttest_freq_all_data.loc[set(FMBA_ttest_freq_all_data.index.values)&Keck, 'cohorts'] = 'Keck'\n",
    "#fmba_healthy: 409\n",
    "#fmba_IgM_yes: 410\n",
    "#fmba_IgM_no_IgG_yes: 340\n",
    "#AB_acute: 1140\n",
    "#AB_recovered: 239\n",
    "#AB_baseline: 74\n",
    "#AB_exposed: 26\n",
    "#HIP: 664\n",
    "#Keck: 119\n",
    "FMBA_ttest_freq_all_data.to_csv('FMBA_ttest_freq_all_cohorts.tsv', sep = '\\t')"
   ]
  },
  {
   "cell_type": "code",
   "execution_count": 20,
   "metadata": {},
   "outputs": [
    {
     "data": {
      "image/png": "[encoded data removed]"
     },
     "metadata": {},
     "output_type": "display_data"
    }
   ],
   "source": [
    "%%R -w 800 -h 400\n",
    "FMBA_ttest_freq_all_data=read.csv('FMBA_ttest_freq_all_cohorts.tsv', sep=\"\\t\", header=TRUE)\n",
    "FMBA_ttest_freq_all_data$cohorts=factor(FMBA_ttest_freq_all_data$cohorts,\n",
    "                                          levels=c(\"AB_acute\", \"AB_recovered\", \"AB_exposed\", \"HIP\",\n",
    "                                                   \"Keck\", \"FMBA_IgM+\", \"FMBA_IgM-_IgG+\", \"FMBA_healthy\"))\n",
    "#AB_fmba_feat_freq_all_data$features=as.factor(AB_fmba_feat_freq_all_data$features)\n",
    "\n",
    "ggplot(FMBA_ttest_freq_all_data, aes(x=cohorts, y=log10(feature.frequency), fill=cohorts) ) + \n",
    "  geom_boxplot( notch=FALSE,outlier.size = 0.7, lwd=0.7) + theme_bw()\n",
    "#Downsampling top2000, leven1 "
   ]
  },
  {
   "cell_type": "code",
   "execution_count": 42,
   "metadata": {},
   "outputs": [
    {
     "data": {
      "image/png": "[encoded data removed]"
     },
     "metadata": {},
     "output_type": "display_data"
    }
   ],
   "source": [
    "%%R -w 800 -h 400\n",
    "FMBA_ttest_freq_all_data=read.csv('FMBA_ttest_freq_all_cohorts.tsv', sep=\"\\t\", header=TRUE)\n",
    "FMBA_ttest_freq_all_data$cohorts=factor(FMBA_ttest_freq_all_data$cohorts,\n",
    "                                          levels=c(\"AB_acute\", \"AB_recovered\", \"AB_exposed\", \"HIP\",\n",
    "                                                   \"Keck\", \"FMBA_IgM+\", \"FMBA_IgM-_IgG+\", \"FMBA_healthy\"))\n",
    "#AB_fmba_feat_freq_all_data$features=as.factor(AB_fmba_feat_freq_all_data$features)\n",
    "\n",
    "ggplot(FMBA_ttest_freq_all_data, aes(x=cohorts, y=feature.frequency, fill=cohorts) ) + \n",
    "  geom_boxplot( notch=FALSE,outlier.size = 0.7, lwd=0.7) + theme_bw()\n",
    "#Initial data, top2000, without mismatch"
   ]
  },
  {
   "cell_type": "code",
   "execution_count": 43,
   "metadata": {},
   "outputs": [
    {
     "data": {
      "image/png": "[encoded data removed]"
     },
     "metadata": {},
     "output_type": "display_data"
    }
   ],
   "source": [
    "%%R -w 800 -h 400\n",
    "FMBA_ttest_freq_all_data=read.csv('FMBA_ttest_freq_all_cohorts.tsv', sep=\"\\t\", header=TRUE)\n",
    "FMBA_ttest_freq_all_data$cohorts=factor(FMBA_ttest_freq_all_data$cohorts,\n",
    "                                          levels=c(\"AB_acute\", \"AB_recovered\", \"AB_exposed\", \"HIP\",\n",
    "                                                   \"Keck\", \"FMBA_IgM+\", \"FMBA_IgM-_IgG+\", \"FMBA_healthy\"))\n",
    "#AB_fmba_feat_freq_all_data$features=as.factor(AB_fmba_feat_freq_all_data$features)\n",
    "\n",
    "ggplot(FMBA_ttest_freq_all_data, aes(x=cohorts, y=log10(feature.frequency), fill=cohorts) ) + \n",
    "  geom_boxplot( notch=FALSE,outlier.size = 0.7, lwd=0.7) + theme_bw()\n",
    "#Initial data, top2000, without mismatch"
   ]
  },
  {
   "cell_type": "code",
   "execution_count": 32,
   "metadata": {},
   "outputs": [
    {
     "data": {
      "image/png": "[encoded data removed]"
     },
     "metadata": {},
     "output_type": "display_data"
    }
   ],
   "source": [
    "%%R -w 800 -h 400\n",
    "FMBA_ttest_freq_all_data=read.csv('FMBA_ttest_freq_all_cohorts.tsv', sep=\"\\t\", header=TRUE)\n",
    "FMBA_ttest_freq_all_data$cohorts=factor(FMBA_ttest_freq_all_data$cohorts,\n",
    "                                          levels=c(\"AB_acute\", \"AB_recovered\", \"AB_exposed\", \"HIP\",\n",
    "                                                   \"Keck\", \"FMBA_IgM+\", \"FMBA_IgM-_IgG+\", \"FMBA_healthy\"))\n",
    "#AB_fmba_feat_freq_all_data$features=as.factor(AB_fmba_feat_freq_all_data$features)\n",
    "\n",
    "ggplot(FMBA_ttest_freq_all_data, aes(x=cohorts, y=feature.frequency, fill=cohorts) ) + \n",
    "  geom_boxplot( notch=FALSE,outlier.size = 0.7, lwd=0.7) + theme_bw()\n",
    "#initial data, top2000, hamming"
   ]
  },
  {
   "cell_type": "code",
   "execution_count": 34,
   "metadata": {},
   "outputs": [
    {
     "data": {
      "image/png": "[encoded data removed]"
     },
     "metadata": {},
     "output_type": "display_data"
    }
   ],
   "source": [
    "%%R -w 800 -h 400\n",
    "FMBA_ttest_freq_all_data=read.csv('FMBA_ttest_freq_all_cohorts.tsv', sep=\"\\t\", header=TRUE)\n",
    "FMBA_ttest_freq_all_data$cohorts=factor(FMBA_ttest_freq_all_data$cohorts,\n",
    "                                          levels=c(\"AB_acute\", \"AB_recovered\", \"AB_exposed\", \"HIP\",\n",
    "                                                   \"Keck\", \"FMBA_IgM+\", \"FMBA_IgM-_IgG+\", \"FMBA_healthy\"))\n",
    "#AB_fmba_feat_freq_all_data$features=as.factor(AB_fmba_feat_freq_all_data$features)\n",
    "\n",
    "ggplot(FMBA_ttest_freq_all_data, aes(x=cohorts, y=log10(feature.frequency), fill=cohorts) ) + \n",
    "  geom_boxplot( notch=FALSE,outlier.size = 0.7, lwd=0.7) + theme_bw()\n",
    "#Initial data, top2000, hamming, log-scale"
   ]
  },
  {
   "cell_type": "markdown",
   "metadata": {},
   "source": [
    "### 7) Associated clones FMBA TRA founded by ttest"
   ]
  },
  {
   "cell_type": "code",
   "execution_count": 40,
   "metadata": {},
   "outputs": [
    {
     "name": "stdout",
     "output_type": "stream",
     "text": [
      "START\n",
      "DONE\n",
      "CPU times: user 484 ms, sys: 1.08 s, total: 1.56 s\n",
      "Wall time: 45.9 s\n"
     ]
    }
   ],
   "source": [
    "%%time\n",
    "treshhold=2000\n",
    "folder_with_samples = \"/projects/fmba_covid/fmba_new/corr\"\n",
    "\n",
    "\n",
    "#----------read sample names----------\n",
    "samples=[i for i in os.listdir(\"/projects/fmba_covid/fmba_new/corr\") if i.endswith(\"TRA.txt\")]\n",
    "#-------------------------------------\n",
    "\n",
    "\n",
    "def get_features_frequences_hamming_wrapper(sample_name,\n",
    "                                                   path_to_folder_with_sample=folder_with_samples,\n",
    "                                                   clones_for_analyse=associated_clones_fmba_tra_ttest):\n",
    "    return  get_features_frequences_hamming(sample_name,\n",
    "                                                  path_to_folder_with_sample=path_to_folder_with_sample,\n",
    "                                                  clones_for_analyse=clones_for_analyse)\n",
    "\n",
    "\n",
    "\n",
    "\n",
    "#result=list(map(get_features_frequences_levenshtein1_wrapper, samples))\n",
    "print(\"START\")    \n",
    "pool = mp.Pool(processes = (mp.cpu_count())) #SET THE NUMBER OF CORES THAT YOU GOING TO USE\n",
    "results=pool.map(get_features_frequences_hamming_wrapper, samples)\n",
    "pool.close()\n",
    "clones_in_samples=list(results)\n",
    "print(\"DONE\")"
   ]
  },
  {
   "cell_type": "code",
   "execution_count": 41,
   "metadata": {},
   "outputs": [],
   "source": [
    "samples_short_names = list(map(lambda x: int(x[:12]), samples)) \n",
    "FMBA_tra_ttest_freq_fmba = pd.DataFrame({'feature frequency': clones_in_samples}, index = samples_short_names)\n",
    "FMBA_tra_ttest_freq_fmba.index.name='sample_name'\n",
    "FMBA_tra_ttest_freq_fmba.to_csv('FMBA_tra_ttest_freq_fmba.tsv', sep = '\\t')"
   ]
  },
  {
   "cell_type": "code",
   "execution_count": 45,
   "metadata": {},
   "outputs": [],
   "source": [
    "#Make a column with cohorts\n",
    "FMBA_tra_ttest_freq_fmba['cohorts'] = 'FMBA_healthy'\n",
    "FMBA_tra_ttest_freq_fmba.loc[set(FMBA_tra_ttest_freq_fmba.index.values)&fmba_IgM_yes, 'cohorts'] = 'FMBA_IgM+'\n",
    "FMBA_tra_ttest_freq_fmba.loc[set(FMBA_tra_ttest_freq_fmba.index.values)&fmba_IgM_no_IgG_yes, 'cohorts'] = 'FMBA_IgM-_IgG+'\n",
    "\n",
    "FMBA_tra_ttest_freq_fmba.to_csv('FMBA_tra_ttest_freq_fmba_cohorts.tsv', sep = '\\t')"
   ]
  },
  {
   "cell_type": "code",
   "execution_count": 50,
   "metadata": {},
   "outputs": [
    {
     "data": {
      "image/png": "[encoded data removed]"
     },
     "metadata": {},
     "output_type": "display_data"
    }
   ],
   "source": [
    "%%R -w 800 -h 400\n",
    "FMBA_tra_ttest_freq_fmba=read.csv('FMBA_tra_ttest_freq_fmba_cohorts.tsv', sep=\"\\t\", header=TRUE)\n",
    "FMBA_tra_ttest_freq_fmba$cohorts=factor(FMBA_tra_ttest_freq_fmba$cohorts,\n",
    "                                          levels=c(\"FMBA_IgM+\", \"FMBA_IgM-_IgG+\", \"FMBA_healthy\"))\n",
    "#AB_fmba_feat_freq_all_data$features=as.factor(AB_fmba_feat_freq_all_data$features)\n",
    "\n",
    "ggplot(FMBA_tra_ttest_freq_fmba, aes(x=cohorts, y=log10(feature.frequency), fill=cohorts) ) + \n",
    "  geom_boxplot( notch=FALSE,outlier.size = 0.7, lwd=0.7) + theme_bw()"
   ]
  },
  {
   "cell_type": "markdown",
   "metadata": {},
   "source": [
    "#### Without mismach  "
   ]
  },
  {
   "cell_type": "code",
   "execution_count": 59,
   "metadata": {},
   "outputs": [
    {
     "name": "stdout",
     "output_type": "stream",
     "text": [
      "START\n",
      "DONE\n",
      "CPU times: user 133 ms, sys: 580 ms, total: 713 ms\n",
      "Wall time: 5.84 s\n"
     ]
    }
   ],
   "source": [
    "%%time\n",
    "treshhold=2000\n",
    "folder_with_samples = \"/projects/fmba_covid/fmba_new/corr\"\n",
    "\n",
    "\n",
    "#----------read sample names----------\n",
    "samples=[i for i in os.listdir(\"/projects/fmba_covid/fmba_new/corr\") if i.endswith(\"TRA.txt\")]\n",
    "#-------------------------------------\n",
    "\n",
    "\n",
    "def get_features_frequences_wrapper(sample_name,\n",
    "                                                   path_to_folder_with_sample=folder_with_samples,\n",
    "                                                   clones_for_analyse=associated_clones_fmba_tra_ttest):\n",
    "    return  get_features_frequences(sample_name,\n",
    "                                                  path_to_folder_with_sample=path_to_folder_with_sample,\n",
    "                                                  clones_for_analyse=clones_for_analyse)\n",
    "\n",
    "\n",
    "\n",
    "\n",
    "#result=list(map(get_features_frequences_levenshtein1_wrapper, samples))\n",
    "print(\"START\")    \n",
    "pool = mp.Pool(processes = (mp.cpu_count())) #SET THE NUMBER OF CORES THAT YOU GOING TO USE\n",
    "results=pool.map(get_features_frequences_wrapper, samples)\n",
    "pool.close()\n",
    "clones_in_samples=list(results)\n",
    "print(\"DONE\")"
   ]
  },
  {
   "cell_type": "code",
   "execution_count": 60,
   "metadata": {},
   "outputs": [],
   "source": [
    "samples_short_names = list(map(lambda x: int(x[:12]), samples)) \n",
    "FMBA_tra_ttest_freq_fmba = pd.DataFrame({'feature frequency': clones_in_samples}, index = samples_short_names)\n",
    "FMBA_tra_ttest_freq_fmba.index.name='sample_name'\n",
    "FMBA_tra_ttest_freq_fmba.to_csv('FMBA_tra_ttest_freq_fmba_without_mismath.tsv', sep = '\\t')"
   ]
  },
  {
   "cell_type": "code",
   "execution_count": 61,
   "metadata": {},
   "outputs": [],
   "source": [
    "#Make a column with cohorts\n",
    "FMBA_tra_ttest_freq_fmba['cohorts'] = 'FMBA_healthy'\n",
    "FMBA_tra_ttest_freq_fmba.loc[set(FMBA_tra_ttest_freq_fmba.index.values)&fmba_IgM_yes, 'cohorts'] = 'FMBA_IgM+'\n",
    "FMBA_tra_ttest_freq_fmba.loc[set(FMBA_tra_ttest_freq_fmba.index.values)&fmba_IgM_no_IgG_yes, 'cohorts'] = 'FMBA_IgM-_IgG+'\n",
    "\n",
    "FMBA_tra_ttest_freq_fmba.to_csv('FMBA_tra_ttest_freq_fmba_cohorts_without_mismath.tsv', sep = '\\t')"
   ]
  },
  {
   "cell_type": "code",
   "execution_count": 63,
   "metadata": {},
   "outputs": [
    {
     "data": {
      "image/png": "[encoded data removed]"
     },
     "metadata": {},
     "output_type": "display_data"
    }
   ],
   "source": [
    "%%R -w 800 -h 400\n",
    "FMBA_tra_ttest_freq_fmba=read.csv('FMBA_tra_ttest_freq_fmba_cohorts_without_mismath.tsv', sep=\"\\t\", header=TRUE)\n",
    "FMBA_tra_ttest_freq_fmba$cohorts=factor(FMBA_tra_ttest_freq_fmba$cohorts,\n",
    "                                          levels=c(\"FMBA_IgM+\", \"FMBA_IgM-_IgG+\", \"FMBA_healthy\"))\n",
    "#AB_fmba_feat_freq_all_data$features=as.factor(AB_fmba_feat_freq_all_data$features)\n",
    "\n",
    "ggplot(FMBA_tra_ttest_freq_fmba, aes(x=cohorts, y=log10(feature.frequency), fill=cohorts) ) + \n",
    "  geom_boxplot( notch=FALSE,outlier.size = 0.7, lwd=0.7) + theme_bw()"
   ]
  },
  {
   "cell_type": "markdown",
   "metadata": {},
   "source": [
    "### 8) Associated clones FMBA TRA founded by Fisher"
   ]
  },
  {
   "cell_type": "code",
   "execution_count": 54,
   "metadata": {},
   "outputs": [
    {
     "name": "stdout",
     "output_type": "stream",
     "text": [
      "START\n",
      "DONE\n",
      "CPU times: user 202 ms, sys: 609 ms, total: 811 ms\n",
      "Wall time: 10.7 s\n"
     ]
    }
   ],
   "source": [
    "%%time\n",
    "treshhold=2000\n",
    "folder_with_samples = \"/projects/fmba_covid/fmba_new/corr\"\n",
    "\n",
    "\n",
    "#----------read sample names----------\n",
    "samples=[i for i in os.listdir(\"/projects/fmba_covid/fmba_new/corr\") if i.endswith(\"TRA.txt\")]\n",
    "#-------------------------------------\n",
    "\n",
    "\n",
    "def get_features_frequences_hamming_wrapper(sample_name,\n",
    "                                                   path_to_folder_with_sample=folder_with_samples,\n",
    "                                                   clones_for_analyse=associated_clones_fmba_tra_fisher):\n",
    "    return  get_features_frequences_hamming(sample_name,\n",
    "                                                  path_to_folder_with_sample=path_to_folder_with_sample,\n",
    "                                                  clones_for_analyse=clones_for_analyse)\n",
    "\n",
    "\n",
    "\n",
    "\n",
    "#result=list(map(get_features_frequences_levenshtein1_wrapper, samples))\n",
    "print(\"START\")    \n",
    "pool = mp.Pool(processes = (mp.cpu_count())) #SET THE NUMBER OF CORES THAT YOU GOING TO USE\n",
    "results=pool.map(get_features_frequences_hamming_wrapper, samples)\n",
    "pool.close()\n",
    "clones_in_samples=list(results)\n",
    "print(\"DONE\")"
   ]
  },
  {
   "cell_type": "code",
   "execution_count": 55,
   "metadata": {},
   "outputs": [],
   "source": [
    "samples_short_names = list(map(lambda x: int(x[:12]), samples)) \n",
    "FMBA_tra_ttest_freq_fmba = pd.DataFrame({'feature frequency': clones_in_samples}, index = samples_short_names)\n",
    "FMBA_tra_ttest_freq_fmba.index.name='sample_name'\n",
    "FMBA_tra_ttest_freq_fmba.to_csv('FMBA_tra_fisher_freq_fmba.tsv', sep = '\\t')"
   ]
  },
  {
   "cell_type": "code",
   "execution_count": 56,
   "metadata": {},
   "outputs": [],
   "source": [
    "#Make a column with cohorts\n",
    "FMBA_tra_ttest_freq_fmba['cohorts'] = 'FMBA_healthy'\n",
    "FMBA_tra_ttest_freq_fmba.loc[set(FMBA_tra_ttest_freq_fmba.index.values)&fmba_IgM_yes, 'cohorts'] = 'FMBA_IgM+'\n",
    "FMBA_tra_ttest_freq_fmba.loc[set(FMBA_tra_ttest_freq_fmba.index.values)&fmba_IgM_no_IgG_yes, 'cohorts'] = 'FMBA_IgM-_IgG+'\n",
    "\n",
    "FMBA_tra_ttest_freq_fmba.to_csv('FMBA_tra_fisher_freq_fmba_cohorts.tsv', sep = '\\t')"
   ]
  },
  {
   "cell_type": "code",
   "execution_count": 57,
   "metadata": {},
   "outputs": [
    {
     "data": {
      "image/png": "[encoded data removed]"
     },
     "metadata": {},
     "output_type": "display_data"
    }
   ],
   "source": [
    "%%R -w 800 -h 400\n",
    "FMBA_tra_ttest_freq_fmba=read.csv('FMBA_tra_fisher_freq_fmba_cohorts.tsv', sep=\"\\t\", header=TRUE)\n",
    "FMBA_tra_ttest_freq_fmba$cohorts=factor(FMBA_tra_ttest_freq_fmba$cohorts,\n",
    "                                          levels=c(\"FMBA_IgM+\", \"FMBA_IgM-_IgG+\", \"FMBA_healthy\"))\n",
    "#AB_fmba_feat_freq_all_data$features=as.factor(AB_fmba_feat_freq_all_data$features)\n",
    "\n",
    "ggplot(FMBA_tra_ttest_freq_fmba, aes(x=cohorts, y=log10(feature.frequency), fill=cohorts) ) + \n",
    "  geom_boxplot( notch=FALSE,outlier.size = 0.7, lwd=0.7) + theme_bw()"
   ]
  },
  {
   "cell_type": "markdown",
   "metadata": {},
   "source": [
    "#### Without mismath "
   ]
  },
  {
   "cell_type": "code",
   "execution_count": 65,
   "metadata": {},
   "outputs": [
    {
     "name": "stdout",
     "output_type": "stream",
     "text": [
      "START\n",
      "DONE\n",
      "CPU times: user 106 ms, sys: 530 ms, total: 636 ms\n",
      "Wall time: 2.01 s\n"
     ]
    }
   ],
   "source": [
    "%%time\n",
    "treshhold=2000\n",
    "folder_with_samples = \"/projects/fmba_covid/fmba_new/corr\"\n",
    "\n",
    "\n",
    "#----------read sample names----------\n",
    "samples=[i for i in os.listdir(\"/projects/fmba_covid/fmba_new/corr\") if i.endswith(\"TRA.txt\")]\n",
    "#-------------------------------------\n",
    "\n",
    "\n",
    "def get_features_frequences_wrapper(sample_name,\n",
    "                                                   path_to_folder_with_sample=folder_with_samples,\n",
    "                                                   clones_for_analyse=associated_clones_fmba_tra_fisher):\n",
    "    return  get_features_frequences(sample_name,\n",
    "                                                  path_to_folder_with_sample=path_to_folder_with_sample,\n",
    "                                                  clones_for_analyse=clones_for_analyse)\n",
    "\n",
    "\n",
    "\n",
    "\n",
    "#result=list(map(get_features_frequences_levenshtein1_wrapper, samples))\n",
    "print(\"START\")    \n",
    "pool = mp.Pool(processes = (mp.cpu_count())) #SET THE NUMBER OF CORES THAT YOU GOING TO USE\n",
    "results=pool.map(get_features_frequences_wrapper, samples)\n",
    "pool.close()\n",
    "clones_in_samples=list(results)\n",
    "print(\"DONE\")"
   ]
  },
  {
   "cell_type": "code",
   "execution_count": 66,
   "metadata": {},
   "outputs": [],
   "source": [
    "samples_short_names = list(map(lambda x: int(x[:12]), samples)) \n",
    "FMBA_tra_ttest_freq_fmba = pd.DataFrame({'feature frequency': clones_in_samples}, index = samples_short_names)\n",
    "FMBA_tra_ttest_freq_fmba.index.name='sample_name'\n",
    "FMBA_tra_ttest_freq_fmba.to_csv('FMBA_tra_fisher_freq_fmba_without_mismath.tsv', sep = '\\t')"
   ]
  },
  {
   "cell_type": "code",
   "execution_count": 67,
   "metadata": {},
   "outputs": [],
   "source": [
    "#Make a column with cohorts\n",
    "FMBA_tra_ttest_freq_fmba['cohorts'] = 'FMBA_healthy'\n",
    "FMBA_tra_ttest_freq_fmba.loc[set(FMBA_tra_ttest_freq_fmba.index.values)&fmba_IgM_yes, 'cohorts'] = 'FMBA_IgM+'\n",
    "FMBA_tra_ttest_freq_fmba.loc[set(FMBA_tra_ttest_freq_fmba.index.values)&fmba_IgM_no_IgG_yes, 'cohorts'] = 'FMBA_IgM-_IgG+'\n",
    "\n",
    "FMBA_tra_ttest_freq_fmba.to_csv('FMBA_tra_fisher_freq_fmba_cohorts_without_mismath.tsv', sep = '\\t')"
   ]
  },
  {
   "cell_type": "code",
   "execution_count": 68,
   "metadata": {},
   "outputs": [
    {
     "data": {
      "image/png": "[encoded data removed]"
     },
     "metadata": {},
     "output_type": "display_data"
    }
   ],
   "source": [
    "%%R -w 800 -h 400\n",
    "FMBA_tra_ttest_freq_fmba=read.csv('FMBA_tra_fisher_freq_fmba_cohorts_without_mismath.tsv', sep=\"\\t\", header=TRUE)\n",
    "FMBA_tra_ttest_freq_fmba$cohorts=factor(FMBA_tra_ttest_freq_fmba$cohorts,\n",
    "                                          levels=c(\"FMBA_IgM+\", \"FMBA_IgM-_IgG+\", \"FMBA_healthy\"))\n",
    "#AB_fmba_feat_freq_all_data$features=as.factor(AB_fmba_feat_freq_all_data$features)\n",
    "\n",
    "ggplot(FMBA_tra_ttest_freq_fmba, aes(x=cohorts, y=log10(feature.frequency), fill=cohorts) ) + \n",
    "  geom_boxplot( notch=FALSE,outlier.size = 0.7, lwd=0.7) + theme_bw()"
   ]
  }
 ],
 "metadata": {
  "kernelspec": {
   "display_name": "Python 3",
   "language": "python",
   "name": "python3"
  },
  "language_info": {
   "codemirror_mode": {
    "name": "ipython",
    "version": 3
   },
   "file_extension": ".py",
   "mimetype": "text/x-python",
   "name": "python",
   "nbconvert_exporter": "python",
   "pygments_lexer": "ipython3",
   "version": "3.6.9"
  }
 },
 "nbformat": 4,
 "nbformat_minor": 4
}
