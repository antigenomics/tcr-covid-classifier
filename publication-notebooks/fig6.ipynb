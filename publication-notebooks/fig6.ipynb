{
 "cells": [
  {
   "cell_type": "code",
   "execution_count": 1,
   "id": "0755ee34-a05a-4b92-806e-da45cf56b1ea",
   "metadata": {},
   "outputs": [
    {
     "data": {
      "text/plain": [
       "<module 'utils.ml_utils' from '/home/evlasova/tcr-covid-classifier/utils/ml_utils.py'>"
      ]
     },
     "execution_count": 1,
     "metadata": {},
     "output_type": "execute_result"
    }
   ],
   "source": [
    "import os\n",
    "import sys\n",
    "\n",
    "# os.chdir('../')\n",
    "sys.path.append(os.getcwd())\n",
    "\n",
    "\n",
    "import pandas as pd\n",
    "import numpy as np\n",
    "import seaborn as sns\n",
    "import matplotlib.pyplot as plt\n",
    "from matplotlib.gridspec import GridSpec\n",
    "from sklearn.decomposition import PCA\n",
    "from scipy.stats import fisher_exact, chi2_contingency\n",
    "from sklearn.manifold import TSNE, MDS\n",
    "from tqdm import tqdm\n",
    "from sklearn.tree import DecisionTreeClassifier\n",
    "from sklearn.preprocessing import MinMaxScaler\n",
    "\n",
    "from sklearn.tree import DecisionTreeClassifier\n",
    "from sklearn.preprocessing import MinMaxScaler\n",
    "from sklearn.metrics import f1_score, precision_score, recall_score, roc_curve, PrecisionRecallDisplay\n",
    "from multipy.fwer import sidak, hochberg\n",
    "import random\n",
    "import logomaker\n",
    "\n",
    "from utils.viz_utils import plot_usage_matrix_pca, plot_boxplots_for_usage_matrix, _plot_feature_importance, plot_v_usage_hist, \\\n",
    "                                plot_cluster_map, significant_clones_distribution, plot_results_for_hla_class, plot_generated_to_real_distribution, \\\n",
    "                            plot_olga_cleanup_data, plot_clusters_of_clonotypes, plot_cooccurence_heatmap_with_epitopes_labeling, plot_waterfall_by_column, \\\n",
    "                            plot_feature_importances, plot_clonotype_clustering_with_epitope_labeling\n",
    "from utils.ml_utils import get_parameters, prepare_data, evaluate_models, split_data_by_batch, split_data, cross_validation_between_batches, make_hla_predictor\n",
    "from utils.data_utils import prepare_run_column\n",
    "from utils.stats_utils import evaluate_anova_testing, evaluate_mannwhitneyu_testing\n",
    "from utils.clustering_utils import seqs2hamming, check_significant_epitopes_for_cluster, get_most_frequent_cluster_by_vdjdb_occurence, \\\n",
    "                                    create_summary_stats_table\n",
    "from utils.weblogo_utils import create_web_logo\n",
    "\n",
    "import warnings\n",
    "warnings.filterwarnings('ignore')\n",
    "\n",
    "\n",
    "import importlib\n",
    "imported_module = importlib.import_module(\"utils.ml_utils\")\n",
    "importlib.reload(imported_module)"
   ]
  },
  {
   "cell_type": "code",
   "execution_count": 8,
   "id": "eaa0c0af-c8cb-447e-ac33-4e82645e6a1b",
   "metadata": {},
   "outputs": [],
   "source": [
    "pvals = pd.read_csv('data/covid_significant_clone_pvals_fmba_TRB_random_488.csv')\n",
    "pvals[pvals.pval < 0.0001]\n",
    "pvals[['clone']].to_csv('data/covid_significant_clones_fmba_TRB_random_488.csv', index=False)"
   ]
  },
  {
   "cell_type": "code",
   "execution_count": 3,
   "id": "8c6c24b9-6a17-4519-b9e0-b391c77fb0ba",
   "metadata": {},
   "outputs": [],
   "source": [
    "random.seed(42)\n",
    "selected_runs = random.sample(set(prepare_run_column(pd.read_csv('data/run_to_number_of_clones_fmba_TRB.csv')).run), 488)"
   ]
  },
  {
   "cell_type": "code",
   "execution_count": 4,
   "id": "0f737e80-196c-4eec-82f2-5ed5c7c67f61",
   "metadata": {},
   "outputs": [
    {
     "ename": "KeyboardInterrupt",
     "evalue": "",
     "output_type": "error",
     "traceback": [
      "\u001b[0;31m---------------------------------------------------------------------------\u001b[0m",
      "\u001b[0;31mKeyboardInterrupt\u001b[0m                         Traceback (most recent call last)",
      "File \u001b[0;32m~/.conda/envs/bio/lib/python3.9/site-packages/pandas/io/parsers/c_parser_wrapper.py:225\u001b[0m, in \u001b[0;36mCParserWrapper.read\u001b[0;34m(self, nrows)\u001b[0m\n\u001b[1;32m    224\u001b[0m \u001b[38;5;28;01mif\u001b[39;00m \u001b[38;5;28mself\u001b[39m\u001b[38;5;241m.\u001b[39mlow_memory:\n\u001b[0;32m--> 225\u001b[0m     chunks \u001b[38;5;241m=\u001b[39m \u001b[38;5;28;43mself\u001b[39;49m\u001b[38;5;241;43m.\u001b[39;49m\u001b[43m_reader\u001b[49m\u001b[38;5;241;43m.\u001b[39;49m\u001b[43mread_low_memory\u001b[49m\u001b[43m(\u001b[49m\u001b[43mnrows\u001b[49m\u001b[43m)\u001b[49m\n\u001b[1;32m    226\u001b[0m     \u001b[38;5;66;03m# destructive to chunks\u001b[39;00m\n",
      "File \u001b[0;32m~/.conda/envs/bio/lib/python3.9/site-packages/pandas/_libs/parsers.pyx:805\u001b[0m, in \u001b[0;36mpandas._libs.parsers.TextReader.read_low_memory\u001b[0;34m()\u001b[0m\n",
      "File \u001b[0;32m~/.conda/envs/bio/lib/python3.9/site-packages/pandas/_libs/parsers.pyx:883\u001b[0m, in \u001b[0;36mpandas._libs.parsers.TextReader._read_rows\u001b[0;34m()\u001b[0m\n",
      "File \u001b[0;32m~/.conda/envs/bio/lib/python3.9/site-packages/pandas/_libs/parsers.pyx:1026\u001b[0m, in \u001b[0;36mpandas._libs.parsers.TextReader._convert_column_data\u001b[0;34m()\u001b[0m\n",
      "File \u001b[0;32m~/.conda/envs/bio/lib/python3.9/site-packages/pandas/_libs/parsers.pyx:1072\u001b[0m, in \u001b[0;36mpandas._libs.parsers.TextReader._convert_tokens\u001b[0;34m()\u001b[0m\n",
      "File \u001b[0;32m~/.conda/envs/bio/lib/python3.9/site-packages/pandas/_libs/parsers.pyx:1147\u001b[0m, in \u001b[0;36mpandas._libs.parsers.TextReader._convert_with_dtype\u001b[0;34m()\u001b[0m\n",
      "File \u001b[0;32m~/.conda/envs/bio/lib/python3.9/site-packages/pandas/core/dtypes/common.py:1429\u001b[0m, in \u001b[0;36mis_extension_array_dtype\u001b[0;34m(arr_or_dtype)\u001b[0m\n\u001b[1;32m   1424\u001b[0m     \u001b[38;5;28;01mreturn\u001b[39;00m \u001b[38;5;28misinstance\u001b[39m(dtype, ExtensionDtype) \u001b[38;5;129;01mand\u001b[39;00m \u001b[38;5;129;01mnot\u001b[39;00m \u001b[38;5;28misinstance\u001b[39m(\n\u001b[1;32m   1425\u001b[0m         dtype, (DatetimeTZDtype, PeriodDtype)\n\u001b[1;32m   1426\u001b[0m     )\n\u001b[0;32m-> 1429\u001b[0m \u001b[38;5;28;01mdef\u001b[39;00m \u001b[38;5;21mis_extension_array_dtype\u001b[39m(arr_or_dtype) \u001b[38;5;241m-\u001b[39m\u001b[38;5;241m>\u001b[39m \u001b[38;5;28mbool\u001b[39m:\n\u001b[1;32m   1430\u001b[0m     \u001b[38;5;124;03m\"\"\"\u001b[39;00m\n\u001b[1;32m   1431\u001b[0m \u001b[38;5;124;03m    Check if an object is a pandas extension array type.\u001b[39;00m\n\u001b[1;32m   1432\u001b[0m \n\u001b[0;32m   (...)\u001b[0m\n\u001b[1;32m   1472\u001b[0m \u001b[38;5;124;03m    False\u001b[39;00m\n\u001b[1;32m   1473\u001b[0m \u001b[38;5;124;03m    \"\"\"\u001b[39;00m\n",
      "\u001b[0;31mKeyboardInterrupt\u001b[0m: ",
      "\nDuring handling of the above exception, another exception occurred:\n",
      "\u001b[0;31mKeyboardInterrupt\u001b[0m                         Traceback (most recent call last)",
      "Input \u001b[0;32mIn [4]\u001b[0m, in \u001b[0;36m<cell line: 1>\u001b[0;34m()\u001b[0m\n\u001b[0;32m----> 1\u001b[0m data_random_TRB \u001b[38;5;241m=\u001b[39m \u001b[43mprepare_data\u001b[49m\u001b[43m(\u001b[49m\u001b[43mrun_to_number_of_clones_path\u001b[49m\u001b[38;5;241;43m=\u001b[39;49m\u001b[38;5;124;43m'\u001b[39;49m\u001b[38;5;124;43mdata/run_to_number_of_clones_fmba_TRB.csv\u001b[39;49m\u001b[38;5;124;43m'\u001b[39;49m\u001b[43m,\u001b[49m\n\u001b[1;32m      2\u001b[0m \u001b[43m                     \u001b[49m\u001b[43mdesc_path\u001b[49m\u001b[38;5;241;43m=\u001b[39;49m\u001b[38;5;124;43m'\u001b[39;49m\u001b[38;5;124;43mdata/standardized_usage_matrix_fmba_TRA.csv\u001b[39;49m\u001b[38;5;124;43m'\u001b[39;49m\u001b[43m,\u001b[49m\n\u001b[1;32m      3\u001b[0m \u001b[43m                     \u001b[49m\u001b[43mclonotype_matrix_path\u001b[49m\u001b[38;5;241;43m=\u001b[39;49m\u001b[38;5;124;43m'\u001b[39;49m\u001b[38;5;124;43mdata/significant_clone_matrix_fisher_fmba_TRB_random_488.csv\u001b[39;49m\u001b[38;5;124;43m'\u001b[39;49m\u001b[43m,\u001b[49m\n\u001b[1;32m      4\u001b[0m \u001b[43m                     \u001b[49m\u001b[43mhla_keys_path\u001b[49m\u001b[38;5;241;43m=\u001b[39;49m\u001b[38;5;124;43m'\u001b[39;49m\u001b[38;5;124;43mdata/hla_keys.csv\u001b[39;49m\u001b[38;5;124;43m'\u001b[39;49m\u001b[43m,\u001b[49m\n\u001b[1;32m      5\u001b[0m \u001b[43m                     \u001b[49m\u001b[43mmake_freq\u001b[49m\u001b[38;5;241;43m=\u001b[39;49m\u001b[38;5;28;43;01mTrue\u001b[39;49;00m\u001b[43m,\u001b[49m\u001b[43m \u001b[49m\n\u001b[1;32m      6\u001b[0m \u001b[43m                     \u001b[49m\u001b[43muse_hla_clones\u001b[49m\u001b[38;5;241;43m=\u001b[39;49m\u001b[38;5;28;43;01mFalse\u001b[39;49;00m\u001b[43m,\u001b[49m\u001b[43m \u001b[49m\n\u001b[1;32m      7\u001b[0m \u001b[43m                     \u001b[49m\u001b[43muse_hla_bool\u001b[49m\u001b[38;5;241;43m=\u001b[39;49m\u001b[38;5;28;43;01mTrue\u001b[39;49;00m\u001b[43m,\u001b[49m\u001b[43m \u001b[49m\n\u001b[1;32m      8\u001b[0m \u001b[43m                     \u001b[49m\u001b[43mmake_all_features_bool\u001b[49m\u001b[38;5;241;43m=\u001b[39;49m\u001b[38;5;28;43;01mFalse\u001b[39;49;00m\u001b[43m,\u001b[49m\u001b[43m \u001b[49m\n\u001b[1;32m      9\u001b[0m \u001b[43m                     \u001b[49m\u001b[43muse_standardization\u001b[49m\u001b[38;5;241;43m=\u001b[39;49m\u001b[38;5;28;43;01mTrue\u001b[39;49;00m\u001b[43m,\u001b[49m\n\u001b[1;32m     10\u001b[0m \u001b[43m                     \u001b[49m\u001b[43mraw_target_column\u001b[49m\u001b[38;5;241;43m=\u001b[39;49m\u001b[38;5;124;43m'\u001b[39;49m\u001b[38;5;124;43mcovid\u001b[39;49m\u001b[38;5;124;43m'\u001b[39;49m\u001b[43m,\u001b[49m\n\u001b[1;32m     11\u001b[0m \u001b[43m                     \u001b[49m\u001b[43mraw_target_clumn_success_label\u001b[49m\u001b[38;5;241;43m=\u001b[39;49m\u001b[38;5;124;43m'\u001b[39;49m\u001b[38;5;124;43mcovid\u001b[39;49m\u001b[38;5;124;43m'\u001b[39;49m\u001b[43m,\u001b[49m\n\u001b[1;32m     12\u001b[0m \u001b[43m                     \u001b[49m\u001b[43mselected_runs\u001b[49m\u001b[38;5;241;43m=\u001b[39;49m\u001b[43mselected_runs\u001b[49m\u001b[43m)\u001b[49m\n",
      "File \u001b[0;32m~/tcr-covid-classifier/utils/ml_utils.py:128\u001b[0m, in \u001b[0;36mprepare_data\u001b[0;34m(run_to_number_of_clones_path, desc_path, clonotype_matrix_path, hla_keys_path, make_freq, use_hla_clones, use_hla_bool, make_all_features_bool, make_all_features_categorial, use_standardization, raw_target_column, raw_target_clumn_success_label, final_target_column, metadata_columns, selected_runs)\u001b[0m\n\u001b[1;32m    125\u001b[0m desc \u001b[38;5;241m=\u001b[39m desc[desc[raw_target_column] \u001b[38;5;241m!=\u001b[39m \u001b[38;5;124m'\u001b[39m\u001b[38;5;124munknown\u001b[39m\u001b[38;5;124m'\u001b[39m]\n\u001b[1;32m    126\u001b[0m desc[raw_target_column] \u001b[38;5;241m=\u001b[39m desc[raw_target_column]\u001b[38;5;241m.\u001b[39mapply(\u001b[38;5;28;01mlambda\u001b[39;00m x: \u001b[38;5;241m1\u001b[39m \u001b[38;5;28;01mif\u001b[39;00m raw_target_clumn_success_label \u001b[38;5;241m==\u001b[39m x \u001b[38;5;28;01melse\u001b[39;00m \u001b[38;5;241m0\u001b[39m)\n\u001b[0;32m--> 128\u001b[0m df \u001b[38;5;241m=\u001b[39m prepare_run_column(\u001b[43mpd\u001b[49m\u001b[38;5;241;43m.\u001b[39;49m\u001b[43mread_csv\u001b[49m\u001b[43m(\u001b[49m\u001b[43mclonotype_matrix_path\u001b[49m\u001b[43m)\u001b[49m\u001b[38;5;241m.\u001b[39mdrop(columns\u001b[38;5;241m=\u001b[39m[\u001b[38;5;124m'\u001b[39m\u001b[38;5;124mUnnamed: 0\u001b[39m\u001b[38;5;124m'\u001b[39m]))\n\u001b[1;32m    129\u001b[0m \u001b[38;5;28;01mif\u001b[39;00m use_hla_clones:\n\u001b[1;32m    130\u001b[0m     \u001b[38;5;28;01mif\u001b[39;00m hla_keys_path \u001b[38;5;129;01mis\u001b[39;00m \u001b[38;5;129;01mnot\u001b[39;00m \u001b[38;5;28;01mNone\u001b[39;00m:\n",
      "File \u001b[0;32m~/.conda/envs/bio/lib/python3.9/site-packages/pandas/util/_decorators.py:311\u001b[0m, in \u001b[0;36mdeprecate_nonkeyword_arguments.<locals>.decorate.<locals>.wrapper\u001b[0;34m(*args, **kwargs)\u001b[0m\n\u001b[1;32m    305\u001b[0m \u001b[38;5;28;01mif\u001b[39;00m \u001b[38;5;28mlen\u001b[39m(args) \u001b[38;5;241m>\u001b[39m num_allow_args:\n\u001b[1;32m    306\u001b[0m     warnings\u001b[38;5;241m.\u001b[39mwarn(\n\u001b[1;32m    307\u001b[0m         msg\u001b[38;5;241m.\u001b[39mformat(arguments\u001b[38;5;241m=\u001b[39marguments),\n\u001b[1;32m    308\u001b[0m         \u001b[38;5;167;01mFutureWarning\u001b[39;00m,\n\u001b[1;32m    309\u001b[0m         stacklevel\u001b[38;5;241m=\u001b[39mstacklevel,\n\u001b[1;32m    310\u001b[0m     )\n\u001b[0;32m--> 311\u001b[0m \u001b[38;5;28;01mreturn\u001b[39;00m \u001b[43mfunc\u001b[49m\u001b[43m(\u001b[49m\u001b[38;5;241;43m*\u001b[39;49m\u001b[43margs\u001b[49m\u001b[43m,\u001b[49m\u001b[43m \u001b[49m\u001b[38;5;241;43m*\u001b[39;49m\u001b[38;5;241;43m*\u001b[39;49m\u001b[43mkwargs\u001b[49m\u001b[43m)\u001b[49m\n",
      "File \u001b[0;32m~/.conda/envs/bio/lib/python3.9/site-packages/pandas/io/parsers/readers.py:680\u001b[0m, in \u001b[0;36mread_csv\u001b[0;34m(filepath_or_buffer, sep, delimiter, header, names, index_col, usecols, squeeze, prefix, mangle_dupe_cols, dtype, engine, converters, true_values, false_values, skipinitialspace, skiprows, skipfooter, nrows, na_values, keep_default_na, na_filter, verbose, skip_blank_lines, parse_dates, infer_datetime_format, keep_date_col, date_parser, dayfirst, cache_dates, iterator, chunksize, compression, thousands, decimal, lineterminator, quotechar, quoting, doublequote, escapechar, comment, encoding, encoding_errors, dialect, error_bad_lines, warn_bad_lines, on_bad_lines, delim_whitespace, low_memory, memory_map, float_precision, storage_options)\u001b[0m\n\u001b[1;32m    665\u001b[0m kwds_defaults \u001b[38;5;241m=\u001b[39m _refine_defaults_read(\n\u001b[1;32m    666\u001b[0m     dialect,\n\u001b[1;32m    667\u001b[0m     delimiter,\n\u001b[0;32m   (...)\u001b[0m\n\u001b[1;32m    676\u001b[0m     defaults\u001b[38;5;241m=\u001b[39m{\u001b[38;5;124m\"\u001b[39m\u001b[38;5;124mdelimiter\u001b[39m\u001b[38;5;124m\"\u001b[39m: \u001b[38;5;124m\"\u001b[39m\u001b[38;5;124m,\u001b[39m\u001b[38;5;124m\"\u001b[39m},\n\u001b[1;32m    677\u001b[0m )\n\u001b[1;32m    678\u001b[0m kwds\u001b[38;5;241m.\u001b[39mupdate(kwds_defaults)\n\u001b[0;32m--> 680\u001b[0m \u001b[38;5;28;01mreturn\u001b[39;00m \u001b[43m_read\u001b[49m\u001b[43m(\u001b[49m\u001b[43mfilepath_or_buffer\u001b[49m\u001b[43m,\u001b[49m\u001b[43m \u001b[49m\u001b[43mkwds\u001b[49m\u001b[43m)\u001b[49m\n",
      "File \u001b[0;32m~/.conda/envs/bio/lib/python3.9/site-packages/pandas/io/parsers/readers.py:581\u001b[0m, in \u001b[0;36m_read\u001b[0;34m(filepath_or_buffer, kwds)\u001b[0m\n\u001b[1;32m    578\u001b[0m     \u001b[38;5;28;01mreturn\u001b[39;00m parser\n\u001b[1;32m    580\u001b[0m \u001b[38;5;28;01mwith\u001b[39;00m parser:\n\u001b[0;32m--> 581\u001b[0m     \u001b[38;5;28;01mreturn\u001b[39;00m \u001b[43mparser\u001b[49m\u001b[38;5;241;43m.\u001b[39;49m\u001b[43mread\u001b[49m\u001b[43m(\u001b[49m\u001b[43mnrows\u001b[49m\u001b[43m)\u001b[49m\n",
      "File \u001b[0;32m~/.conda/envs/bio/lib/python3.9/site-packages/pandas/io/parsers/readers.py:1254\u001b[0m, in \u001b[0;36mTextFileReader.read\u001b[0;34m(self, nrows)\u001b[0m\n\u001b[1;32m   1252\u001b[0m nrows \u001b[38;5;241m=\u001b[39m validate_integer(\u001b[38;5;124m\"\u001b[39m\u001b[38;5;124mnrows\u001b[39m\u001b[38;5;124m\"\u001b[39m, nrows)\n\u001b[1;32m   1253\u001b[0m \u001b[38;5;28;01mtry\u001b[39;00m:\n\u001b[0;32m-> 1254\u001b[0m     index, columns, col_dict \u001b[38;5;241m=\u001b[39m \u001b[38;5;28;43mself\u001b[39;49m\u001b[38;5;241;43m.\u001b[39;49m\u001b[43m_engine\u001b[49m\u001b[38;5;241;43m.\u001b[39;49m\u001b[43mread\u001b[49m\u001b[43m(\u001b[49m\u001b[43mnrows\u001b[49m\u001b[43m)\u001b[49m\n\u001b[1;32m   1255\u001b[0m \u001b[38;5;28;01mexcept\u001b[39;00m \u001b[38;5;167;01mException\u001b[39;00m:\n\u001b[1;32m   1256\u001b[0m     \u001b[38;5;28mself\u001b[39m\u001b[38;5;241m.\u001b[39mclose()\n",
      "File \u001b[0;32m~/.conda/envs/bio/lib/python3.9/site-packages/pandas/io/parsers/c_parser_wrapper.py:225\u001b[0m, in \u001b[0;36mCParserWrapper.read\u001b[0;34m(self, nrows)\u001b[0m\n\u001b[1;32m    223\u001b[0m \u001b[38;5;28;01mtry\u001b[39;00m:\n\u001b[1;32m    224\u001b[0m     \u001b[38;5;28;01mif\u001b[39;00m \u001b[38;5;28mself\u001b[39m\u001b[38;5;241m.\u001b[39mlow_memory:\n\u001b[0;32m--> 225\u001b[0m         chunks \u001b[38;5;241m=\u001b[39m \u001b[38;5;28;43mself\u001b[39;49m\u001b[38;5;241;43m.\u001b[39;49m\u001b[43m_reader\u001b[49m\u001b[38;5;241;43m.\u001b[39;49m\u001b[43mread_low_memory\u001b[49m\u001b[43m(\u001b[49m\u001b[43mnrows\u001b[49m\u001b[43m)\u001b[49m\n\u001b[1;32m    226\u001b[0m         \u001b[38;5;66;03m# destructive to chunks\u001b[39;00m\n\u001b[1;32m    227\u001b[0m         data \u001b[38;5;241m=\u001b[39m _concatenate_chunks(chunks)\n",
      "\u001b[0;31mKeyboardInterrupt\u001b[0m: "
     ]
    }
   ],
   "source": [
    "data_random_TRB = prepare_data(run_to_number_of_clones_path='data/run_to_number_of_clones_fmba_TRB.csv',\n",
    "                     desc_path='data/standardized_usage_matrix_fmba_TRA.csv',\n",
    "                     clonotype_matrix_path='data/significant_clone_matrix_fisher_fmba_TRB_random_488.csv',\n",
    "                     hla_keys_path='data/hla_keys.csv',\n",
    "                     make_freq=True, \n",
    "                     use_hla_clones=False, \n",
    "                     use_hla_bool=True, \n",
    "                     make_all_features_bool=False, \n",
    "                     use_standardization=True,\n",
    "                     raw_target_column='covid',\n",
    "                     raw_target_clumn_success_label='covid',\n",
    "                     selected_runs=selected_runs)"
   ]
  },
  {
   "cell_type": "code",
   "execution_count": null,
   "id": "b4fc0472-0dd4-4543-9172-3d75160dbdf4",
   "metadata": {},
   "outputs": [],
   "source": [
    "data_random_TRA = prepare_data(run_to_number_of_clones_path='data/run_to_number_of_clones_fmba_TRA.csv',\n",
    "                     desc_path='data/standardized_usage_matrix_fmba_TRA.csv',\n",
    "                     clonotype_matrix_path='data/significant_clone_matrix_fisher_fmba_TRA_random_488.csv',\n",
    "                     hla_keys_path='data/hla_keys.csv',\n",
    "                     make_freq=True, \n",
    "                     use_hla_clones=False, \n",
    "                     use_hla_bool=True, \n",
    "                     make_all_features_bool=False, \n",
    "                     use_standardization=True,\n",
    "                     raw_target_column='covid',\n",
    "                     raw_target_clumn_success_label='covid',\n",
    "                     selected_runs=selected_runs)"
   ]
  },
  {
   "cell_type": "code",
   "execution_count": null,
   "id": "768cb081-50ce-46dd-b0e4-7ddf6398f0d7",
   "metadata": {},
   "outputs": [],
   "source": [
    "X_train_rb, y_train_rb, X_test_rb, y_test_rb = split_data(data=data_random_TRB, y_column='covid', by='is_test_run')\n",
    "best_clfs_rb = evaluate_models(X_train_rb, y_train_rb, X_test_rb, y_test_rb, \n",
    "                              get_parameters(), scoring_function='f1_weighted', debug=False)"
   ]
  },
  {
   "cell_type": "code",
   "execution_count": null,
   "id": "a284b5ba-a6da-4357-9d5b-44fd1bc7efbb",
   "metadata": {},
   "outputs": [],
   "source": [
    "X_train_ra, y_train_ra, X_test_ra, y_test_ra = split_data(data=data_random_TRA, y_column='covid', by='is_test_run')\n",
    "best_clfs_ra = evaluate_models(X_train_ra, y_train_ra, X_test_ra, y_test_ra, \n",
    "                              get_parameters(), scoring_function='f1_weighted', debug=False)"
   ]
  },
  {
   "cell_type": "code",
   "execution_count": null,
   "id": "9fadba95-8f41-4082-a394-025e18d2b33a",
   "metadata": {},
   "outputs": [],
   "source": [
    "a02_runs = prepare_run_column(pd.read_csv('data/hla_desc/fmba_desc_hla_A*02.csv')).run"
   ]
  },
  {
   "cell_type": "code",
   "execution_count": null,
   "id": "e2989b4e-f6fd-4fee-bad0-1a33572af3e2",
   "metadata": {},
   "outputs": [],
   "source": [
    "data_ab = prepare_data(run_to_number_of_clones_path='data/run_to_number_of_clones_fmba_TRB.csv',\n",
    "                     desc_path='data/standardized_usage_matrix_fmba_TRA.csv',\n",
    "                     clonotype_matrix_path='data/significant_clone_matrix_fisher_fmba_TRB_A02.csv',\n",
    "                     hla_keys_path='data/hla_keys.csv',\n",
    "                     make_freq=True, \n",
    "                     use_hla_clones=False, \n",
    "                     use_hla_bool=True, \n",
    "                     make_all_features_bool=False, \n",
    "                     use_standardization=True,\n",
    "                     raw_target_column='covid',\n",
    "                     raw_target_clumn_success_label='covid',\n",
    "                     selected_runs=a02_runs)"
   ]
  },
  {
   "cell_type": "code",
   "execution_count": null,
   "id": "9c4493b2-a20f-4c72-a818-fab40e2e0004",
   "metadata": {},
   "outputs": [],
   "source": [
    "data_aa = prepare_data(run_to_number_of_clones_path='data/run_to_number_of_clones_fmba_TRA.csv',\n",
    "                     desc_path='data/standardized_usage_matrix_fmba_TRA.csv',\n",
    "                     clonotype_matrix_path='data/significant_clone_matrix_fisher_fmba_TRA_A02.csv',\n",
    "                     hla_keys_path='data/hla_keys.csv',\n",
    "                     make_freq=True, \n",
    "                     use_hla_clones=False, \n",
    "                     use_hla_bool=True, \n",
    "                     make_all_features_bool=False, \n",
    "                     use_standardization=True,\n",
    "                     raw_target_column='covid',\n",
    "                     raw_target_clumn_success_label='covid',\n",
    "                     selected_runs=a02_runs)"
   ]
  },
  {
   "cell_type": "code",
   "execution_count": null,
   "id": "79f9ebd5-c3c3-4360-b0c5-f07291df96ef",
   "metadata": {},
   "outputs": [],
   "source": [
    "X_train_ab, y_train_ab, X_test_ab, y_test_ab = split_data(data=data_ab, y_column='covid', by='is_test_run')\n",
    "best_clfs_ab = evaluate_models(X_train_ab, y_train_ab, X_test_ab, y_test_ab, \n",
    "                              get_parameters(), scoring_function='f1_weighted', debug=False)"
   ]
  },
  {
   "cell_type": "code",
   "execution_count": null,
   "id": "d67d41c9-27b0-4446-88be-8f82f2ec109f",
   "metadata": {},
   "outputs": [],
   "source": [
    "X_train_aa, y_train_aa, X_test_aa, y_test_aa = split_data(data=data_aa, y_column='covid', by='is_test_run')\n",
    "best_clfs_aa = evaluate_models(X_train_aa, y_train_aa, X_test_aa, y_test_aa, \n",
    "                              get_parameters(), scoring_function='f1_weighted', debug=False)"
   ]
  },
  {
   "cell_type": "code",
   "execution_count": null,
   "id": "10d4ce56-8bae-421f-a6ba-13ac1dffda31",
   "metadata": {},
   "outputs": [],
   "source": [
    "vdjdb = pd.read_csv('data/vdjdb.txt', sep='\\t')"
   ]
  },
  {
   "cell_type": "code",
   "execution_count": null,
   "id": "416c47e7-f118-43b6-bc03-41489052d1ad",
   "metadata": {},
   "outputs": [],
   "source": [
    "ab_beta_clones = X_train_ab.columns[:-1]"
   ]
  },
  {
   "cell_type": "code",
   "execution_count": null,
   "id": "17a53789-f9dd-4d77-b41e-33bb47355a8e",
   "metadata": {},
   "outputs": [],
   "source": [
    "aa_alpha_clones = X_train_aa.columns[:-1]"
   ]
  },
  {
   "cell_type": "code",
   "execution_count": null,
   "id": "18cd03ec-f2c5-45ad-a078-d9cae655c4dc",
   "metadata": {},
   "outputs": [],
   "source": [
    "res_beta = seqs2hamming(ab_beta_clones, viz_method='graphopt')\n",
    "beta_cluster_to_epi = {}\n",
    "for cluster_index in range(res_beta.cluster.max()+1):\n",
    "    beta_cluster_to_epi[cluster_index] = check_significant_epitopes_for_cluster(vdjdb, res_beta, cluster_index, dist=1, gene='TRB', alpha=0.05)"
   ]
  },
  {
   "cell_type": "code",
   "execution_count": null,
   "id": "17f59c6c-e7c9-4c25-b4eb-8680bc72bd65",
   "metadata": {},
   "outputs": [],
   "source": [
    "plot_clonotype_clustering_with_epitope_labeling(res_beta, beta_cluster_to_epi, vdjdb, gene='TRB', dist_to_center=950, global_zero_based=True)\n",
    "plt.xlim(-1100, 1100)\n",
    "plt.ylim(-1100, 1100)\n",
    "plt.axis('off')\n",
    "plt.legend().remove()\n",
    "plt.title(f'TCRβ A*02 biomarkers clustering, {res_beta.cluster.max() + 1} clusters')"
   ]
  },
  {
   "cell_type": "code",
   "execution_count": null,
   "id": "da0db29f-7b53-478f-a90b-059e8a0f4fa5",
   "metadata": {},
   "outputs": [],
   "source": [
    "res_alpha = seqs2hamming(aa_alpha_clones, viz_method='graphopt')\n",
    "alpha_cluster_to_epi = {}\n",
    "for cluster_index in range(res_alpha.cluster.max()+1):\n",
    "    alpha_cluster_to_epi[cluster_index] = check_significant_epitopes_for_cluster(vdjdb, res_alpha, cluster_index, dist=1, gene='TRA', alpha=0.05)"
   ]
  },
  {
   "cell_type": "code",
   "execution_count": null,
   "id": "e3cd667c-253a-436e-8f10-f3afcbd6aed5",
   "metadata": {},
   "outputs": [],
   "source": [
    "plot_clonotype_clustering_with_epitope_labeling(res_alpha, alpha_cluster_to_epi, vdjdb, gene='TRA', dist_to_center=950, global_zero_based=True)\n",
    "plt.xlim(-1100, 1100)\n",
    "plt.ylim(-1100, 1100)\n",
    "plt.axis('off')\n",
    "plt.legend().remove()\n",
    "plt.title(f'TCRα A*02 biomarkers clustering, {res_alpha.cluster.max() + 1} clusters')"
   ]
  },
  {
   "cell_type": "code",
   "execution_count": null,
   "id": "a02501f5-eb05-44d3-8ddc-36e54ea7faad",
   "metadata": {},
   "outputs": [],
   "source": [
    "all_clfs = {\n",
    "     'random_beta': best_clfs_rb,\n",
    "     'a02_beta': best_clfs_ab,\n",
    "     'random_alpha': best_clfs_ra,\n",
    "     'a02_alpha': best_clfs_aa,\n",
    "}\n",
    "X_test_data={\n",
    "     'random_beta': X_test_rb,\n",
    "     'a02_beta': X_test_ab,\n",
    "     'random_alpha': X_test_ra,\n",
    "     'a02_alpha': X_test_aa,\n",
    "}\n",
    "y_test_data={\n",
    "     'random_beta': y_test_rb,\n",
    "     'a02_beta': y_test_ab,\n",
    "     'random_alpha': y_test_ra,\n",
    "     'a02_alpha': y_test_aa,\n",
    "}\n",
    "X_train_data={\n",
    "     'random_beta': X_train_rb,\n",
    "     'a02_beta': X_train_ab,\n",
    "     'random_alpha': X_train_ra,\n",
    "     'a02_alpha': X_train_aa,\n",
    "}\n",
    "y_train_data={\n",
    "     'random_beta': y_train_rb,\n",
    "     'a02_beta': y_train_ab,\n",
    "     'random_alpha': y_train_ra,\n",
    "     'a02_alpha': y_train_aa,\n",
    "}"
   ]
  },
  {
   "cell_type": "code",
   "execution_count": null,
   "id": "fb7c5b65-82ab-4069-b655-55b3a310f4cc",
   "metadata": {},
   "outputs": [],
   "source": [
    "model_df = []\n",
    "f1_df = []\n",
    "data_type_df = []\n",
    "for data_type in ['random_beta','a02_beta', 'random_alpha', 'a02_alpha']:\n",
    "    for model in ['svm', 'ab', 'knn', 'rfc', 'mlpclassifier', 'xgboost']:\n",
    "        cur_score = f1_score(y_test_data[data_type], all_clfs[data_type][0][model].predict(X_test_data[data_type]))\n",
    "        model_df.append(model)\n",
    "        data_type_df.append(data_type)\n",
    "        f1_df.append(cur_score)\n",
    "comparison_df = pd.DataFrame({'model':model_df, 'f1': f1_df, 'data_type':data_type_df})"
   ]
  },
  {
   "cell_type": "code",
   "execution_count": null,
   "id": "02311717-5526-455c-8469-fa3f7ac0e89c",
   "metadata": {},
   "outputs": [],
   "source": [
    "sns.stripplot(data=comparison_df, x=\"data_type\", y=\"f1\", hue=\"model\", s=10)\n",
    "sns.boxplot(data=comparison_df, x=\"data_type\", y=\"f1\", color='azure')"
   ]
  },
  {
   "cell_type": "code",
   "execution_count": null,
   "id": "706a6ec8-8c72-468a-beb8-d56b0244f5cb",
   "metadata": {},
   "outputs": [],
   "source": [
    "fig, ax = plt.subplots()\n",
    "for key in all_clfs:\n",
    "    PrecisionRecallDisplay.from_estimator(\n",
    "        all_clfs[key][0]['svm'], X_test_data[key], y_test_data[key], name=key, ax=ax\n",
    "    )"
   ]
  },
  {
   "cell_type": "code",
   "execution_count": null,
   "id": "f53f99e4-b630-4735-8849-71a37622243d",
   "metadata": {},
   "outputs": [],
   "source": [
    "fig = plt.figure(figsize=(15, 10))\n",
    "gs = GridSpec(nrows=2, \n",
    "              ncols=2)\n",
    "font_size=20\n",
    "delta_x=-0.1\n",
    "delta_y=1.14\n",
    "\n",
    "\n",
    "########################################################\n",
    "\n",
    "ax0 = fig.add_subplot(gs[0, 0])\n",
    "plot_clonotype_clustering_with_epitope_labeling(res_beta, beta_cluster_to_epi, vdjdb, gene='TRB', \n",
    "                                                dist_to_center=950, global_zero_based=True, ax=ax0)\n",
    "ax0.set_xlim(-1100, 1100)\n",
    "ax0.set_ylim(-1100, 1100)\n",
    "ax0.axis('off')\n",
    "ax0.legend().remove()\n",
    "ax0.set_title(f'TCRβ A*02 biomarkers clustering, {res_beta.cluster.max() + 1} clusters')\n",
    "ax0.text(delta_x, delta_y, 'A',\n",
    "     horizontalalignment='left',\n",
    "     verticalalignment='top',\n",
    "    transform=ax0.transAxes,\n",
    "        size=font_size)\n",
    "\n",
    "########################################################\n",
    "ax1 = fig.add_subplot(gs[0, 1])\n",
    "plot_clonotype_clustering_with_epitope_labeling(res_alpha, alpha_cluster_to_epi, vdjdb, gene='TRA', \n",
    "                                                dist_to_center=950, global_zero_based=True, ax=ax1)\n",
    "ax1.set_xlim(-1100, 1100)\n",
    "ax1.set_ylim(-1100, 1100)\n",
    "ax1.axis('off')\n",
    "ax1.legend().remove()\n",
    "ax1.set_title(f'TCRα A*02 biomarkers clustering, {res_alpha.cluster.max() + 1} clusters')\n",
    "ax1.text(delta_x, delta_y, 'B',\n",
    "     horizontalalignment='left',\n",
    "     verticalalignment='top',\n",
    "    transform=ax1.transAxes,\n",
    "        size=font_size)\n",
    "\n",
    "########################################################\n",
    "\n",
    "ax2 = fig.add_subplot(gs[1, 0])\n",
    "\n",
    "sns.stripplot(data=comparison_df, x=\"data_type\", y=\"f1\", hue=\"model\", s=10, ax=ax2)\n",
    "sns.boxplot(data=comparison_df, x=\"data_type\", y=\"f1\", color='azure', ax=ax2)\n",
    "ax2.text(delta_x, delta_y, 'C',\n",
    "     horizontalalignment='left',\n",
    "     verticalalignment='top',\n",
    "    transform=ax2.transAxes,\n",
    "        size=font_size)\n",
    "\n",
    "########################################################\n",
    "\n",
    "ax3 = fig.add_subplot(gs[1, 1])\n",
    "for key in all_clfs:\n",
    "    PrecisionRecallDisplay.from_estimator(\n",
    "        all_clfs[key][0]['svm'], X_test_data[key], y_test_data[key], name=key, ax=ax3\n",
    "    )\n",
    "ax3.text(delta_x, delta_y, 'D',\n",
    " horizontalalignment='left',\n",
    " verticalalignment='top',\n",
    "transform=ax3.transAxes,\n",
    "    size=font_size)\n",
    "\n",
    "########################################################\n",
    "\n",
    "plt.tight_layout()\n",
    "plt.savefig(\"figures/fig6.svg\")\n",
    "plt.savefig(\"figures/fig6.pdf\")\n",
    "plt.savefig(\"figures/fig6.png\")\n",
    "plt.show()\n"
   ]
  },
  {
   "cell_type": "code",
   "execution_count": null,
   "id": "7db6cc76-80c9-4c0a-8798-0b0a94dccc3f",
   "metadata": {},
   "outputs": [],
   "source": []
  },
  {
   "cell_type": "code",
   "execution_count": null,
   "id": "05e6cce6-9b6f-42c2-8183-b78f34aefbd2",
   "metadata": {},
   "outputs": [],
   "source": []
  },
  {
   "cell_type": "code",
   "execution_count": null,
   "id": "1f24ba1a-8b53-489b-a119-f7165d06bf8d",
   "metadata": {},
   "outputs": [],
   "source": []
  }
 ],
 "metadata": {
  "kernelspec": {
   "display_name": "Python [conda env:.conda-bio]",
   "language": "python",
   "name": "conda-env-.conda-bio-py"
  },
  "language_info": {
   "codemirror_mode": {
    "name": "ipython",
    "version": 3
   },
   "file_extension": ".py",
   "mimetype": "text/x-python",
   "name": "python",
   "nbconvert_exporter": "python",
   "pygments_lexer": "ipython3",
   "version": "3.9.12"
  }
 },
 "nbformat": 4,
 "nbformat_minor": 5
}
