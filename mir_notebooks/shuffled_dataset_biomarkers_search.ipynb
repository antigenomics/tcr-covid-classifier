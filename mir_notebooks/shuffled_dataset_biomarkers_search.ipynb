{
 "cells": [
  {
   "cell_type": "code",
   "execution_count": 1,
   "id": "aa22dcc9-c270-4530-afd3-92fb860539ef",
   "metadata": {},
   "outputs": [],
   "source": [
    "import sys\n",
    "sys.path.append(\"/home/evlasova/mirpy\")"
   ]
  },
  {
   "cell_type": "code",
   "execution_count": 2,
   "id": "8a56fd86-6c05-42b0-b298-747fb36e0f19",
   "metadata": {},
   "outputs": [],
   "source": [
    "import os\n",
    "\n",
    "os.chdir('../')"
   ]
  },
  {
   "cell_type": "code",
   "execution_count": 4,
   "id": "f91cebb0-48f1-497c-8c7c-3f073de97fe9",
   "metadata": {},
   "outputs": [],
   "source": [
    "from mir.common.parser import *\n",
    "from mir.common.repertoire import Repertoire\n",
    "from mir.common.repertoire_dataset import RepertoireDataset\n",
    "from mir.common.clonotype_dataset import ClonotypeDataset\n",
    "from mir.basic.segment_usage import *\n",
    "from mir.basic.sampling import RepertoireSampling\n",
    "from mir.biomarkers.fisher_biomarkers_detector import FisherBiomarkersDetector\n",
    "from mir.comparative.pair_matcher import ClonotypeRepresentation\n",
    "from mir.basic.pgen import OlgaModel\n",
    "import time"
   ]
  },
  {
   "cell_type": "code",
   "execution_count": 5,
   "id": "853296a7-42d8-4dbb-bd11-680293f46c65",
   "metadata": {},
   "outputs": [],
   "source": [
    "metadata_beta = pd.read_csv('data/desc_fmba_new_split_beta.csv').drop(columns=['Unnamed: 0']).dropna()"
   ]
  },
  {
   "cell_type": "code",
   "execution_count": 6,
   "id": "84561eb4-31fa-4a4d-ba29-1ce920ddaa78",
   "metadata": {},
   "outputs": [
    {
     "data": {
      "text/html": [
       "<div>\n",
       "<style scoped>\n",
       "    .dataframe tbody tr th:only-of-type {\n",
       "        vertical-align: middle;\n",
       "    }\n",
       "\n",
       "    .dataframe tbody tr th {\n",
       "        vertical-align: top;\n",
       "    }\n",
       "\n",
       "    .dataframe thead th {\n",
       "        text-align: right;\n",
       "    }\n",
       "</style>\n",
       "<table border=\"1\" class=\"dataframe\">\n",
       "  <thead>\n",
       "    <tr style=\"text-align: right;\">\n",
       "      <th></th>\n",
       "      <th>run</th>\n",
       "      <th>COVID_status</th>\n",
       "      <th>covid</th>\n",
       "      <th>folder</th>\n",
       "      <th>is_test_run</th>\n",
       "    </tr>\n",
       "  </thead>\n",
       "  <tbody>\n",
       "    <tr>\n",
       "      <th>0</th>\n",
       "      <td>050002290808_S117_L002</td>\n",
       "      <td>COVID</td>\n",
       "      <td>covid</td>\n",
       "      <td>#2</td>\n",
       "      <td>False</td>\n",
       "    </tr>\n",
       "    <tr>\n",
       "      <th>1</th>\n",
       "      <td>050002630808_S113_L002</td>\n",
       "      <td>COVID</td>\n",
       "      <td>covid</td>\n",
       "      <td>#2</td>\n",
       "      <td>False</td>\n",
       "    </tr>\n",
       "    <tr>\n",
       "      <th>2</th>\n",
       "      <td>050003120808_S112_L002</td>\n",
       "      <td>COVID</td>\n",
       "      <td>covid</td>\n",
       "      <td>#2</td>\n",
       "      <td>False</td>\n",
       "    </tr>\n",
       "    <tr>\n",
       "      <th>3</th>\n",
       "      <td>050003130808_S114_L002</td>\n",
       "      <td>COVID</td>\n",
       "      <td>covid</td>\n",
       "      <td>#2</td>\n",
       "      <td>False</td>\n",
       "    </tr>\n",
       "    <tr>\n",
       "      <th>4</th>\n",
       "      <td>050003450808_S118_L002</td>\n",
       "      <td>COVID</td>\n",
       "      <td>covid</td>\n",
       "      <td>#2</td>\n",
       "      <td>False</td>\n",
       "    </tr>\n",
       "    <tr>\n",
       "      <th>...</th>\n",
       "      <td>...</td>\n",
       "      <td>...</td>\n",
       "      <td>...</td>\n",
       "      <td>...</td>\n",
       "      <td>...</td>\n",
       "    </tr>\n",
       "    <tr>\n",
       "      <th>1220</th>\n",
       "      <td>p18_72_DNA_S88_L002</td>\n",
       "      <td>COVID</td>\n",
       "      <td>covid</td>\n",
       "      <td>#9</td>\n",
       "      <td>False</td>\n",
       "    </tr>\n",
       "    <tr>\n",
       "      <th>1221</th>\n",
       "      <td>p18_73_DNA_S89_L002</td>\n",
       "      <td>COVID</td>\n",
       "      <td>covid</td>\n",
       "      <td>#9</td>\n",
       "      <td>False</td>\n",
       "    </tr>\n",
       "    <tr>\n",
       "      <th>1222</th>\n",
       "      <td>p18_74_DNA_S90_L002</td>\n",
       "      <td>COVID</td>\n",
       "      <td>covid</td>\n",
       "      <td>#9</td>\n",
       "      <td>False</td>\n",
       "    </tr>\n",
       "    <tr>\n",
       "      <th>1223</th>\n",
       "      <td>p18_75_DNA_S91_L002</td>\n",
       "      <td>COVID</td>\n",
       "      <td>covid</td>\n",
       "      <td>#9</td>\n",
       "      <td>False</td>\n",
       "    </tr>\n",
       "    <tr>\n",
       "      <th>1224</th>\n",
       "      <td>p18_76_DNA_S92_L002</td>\n",
       "      <td>COVID</td>\n",
       "      <td>covid</td>\n",
       "      <td>#9</td>\n",
       "      <td>False</td>\n",
       "    </tr>\n",
       "  </tbody>\n",
       "</table>\n",
       "<p>1225 rows × 5 columns</p>\n",
       "</div>"
      ],
      "text/plain": [
       "                         run COVID_status  covid folder  is_test_run\n",
       "0     050002290808_S117_L002        COVID  covid     #2        False\n",
       "1     050002630808_S113_L002        COVID  covid     #2        False\n",
       "2     050003120808_S112_L002        COVID  covid     #2        False\n",
       "3     050003130808_S114_L002        COVID  covid     #2        False\n",
       "4     050003450808_S118_L002        COVID  covid     #2        False\n",
       "...                      ...          ...    ...    ...          ...\n",
       "1220     p18_72_DNA_S88_L002        COVID  covid     #9        False\n",
       "1221     p18_73_DNA_S89_L002        COVID  covid     #9        False\n",
       "1222     p18_74_DNA_S90_L002        COVID  covid     #9        False\n",
       "1223     p18_75_DNA_S91_L002        COVID  covid     #9        False\n",
       "1224     p18_76_DNA_S92_L002        COVID  covid     #9        False\n",
       "\n",
       "[1225 rows x 5 columns]"
      ]
     },
     "execution_count": 6,
     "metadata": {},
     "output_type": "execute_result"
    }
   ],
   "source": [
    "metadata_beta"
   ]
  },
  {
   "cell_type": "code",
   "execution_count": 7,
   "id": "ad6b9835-81ce-4956-a3a9-48504f884226",
   "metadata": {},
   "outputs": [
    {
     "data": {
      "text/html": [
       "<div>\n",
       "<style scoped>\n",
       "    .dataframe tbody tr th:only-of-type {\n",
       "        vertical-align: middle;\n",
       "    }\n",
       "\n",
       "    .dataframe tbody tr th {\n",
       "        vertical-align: top;\n",
       "    }\n",
       "\n",
       "    .dataframe thead th {\n",
       "        text-align: right;\n",
       "    }\n",
       "</style>\n",
       "<table border=\"1\" class=\"dataframe\">\n",
       "  <thead>\n",
       "    <tr style=\"text-align: right;\">\n",
       "      <th></th>\n",
       "      <th>run</th>\n",
       "      <th>COVID_status</th>\n",
       "      <th>covid</th>\n",
       "      <th>folder</th>\n",
       "      <th>is_test_run</th>\n",
       "    </tr>\n",
       "  </thead>\n",
       "  <tbody>\n",
       "    <tr>\n",
       "      <th>0</th>\n",
       "      <td>050002290808_S117_L002</td>\n",
       "      <td>COVID</td>\n",
       "      <td>covid</td>\n",
       "      <td>#2</td>\n",
       "      <td>False</td>\n",
       "    </tr>\n",
       "    <tr>\n",
       "      <th>1</th>\n",
       "      <td>050002630808_S113_L002</td>\n",
       "      <td>COVID</td>\n",
       "      <td>covid</td>\n",
       "      <td>#2</td>\n",
       "      <td>False</td>\n",
       "    </tr>\n",
       "    <tr>\n",
       "      <th>2</th>\n",
       "      <td>050003120808_S112_L002</td>\n",
       "      <td>COVID</td>\n",
       "      <td>covid</td>\n",
       "      <td>#2</td>\n",
       "      <td>False</td>\n",
       "    </tr>\n",
       "    <tr>\n",
       "      <th>3</th>\n",
       "      <td>050003130808_S114_L002</td>\n",
       "      <td>COVID</td>\n",
       "      <td>covid</td>\n",
       "      <td>#2</td>\n",
       "      <td>False</td>\n",
       "    </tr>\n",
       "    <tr>\n",
       "      <th>4</th>\n",
       "      <td>050003450808_S118_L002</td>\n",
       "      <td>COVID</td>\n",
       "      <td>covid</td>\n",
       "      <td>#2</td>\n",
       "      <td>False</td>\n",
       "    </tr>\n",
       "    <tr>\n",
       "      <th>...</th>\n",
       "      <td>...</td>\n",
       "      <td>...</td>\n",
       "      <td>...</td>\n",
       "      <td>...</td>\n",
       "      <td>...</td>\n",
       "    </tr>\n",
       "    <tr>\n",
       "      <th>1219</th>\n",
       "      <td>p18_72_DNA_S88_L002</td>\n",
       "      <td>COVID</td>\n",
       "      <td>covid</td>\n",
       "      <td>#9</td>\n",
       "      <td>False</td>\n",
       "    </tr>\n",
       "    <tr>\n",
       "      <th>1220</th>\n",
       "      <td>p18_73_DNA_S89_L002</td>\n",
       "      <td>COVID</td>\n",
       "      <td>covid</td>\n",
       "      <td>#9</td>\n",
       "      <td>False</td>\n",
       "    </tr>\n",
       "    <tr>\n",
       "      <th>1221</th>\n",
       "      <td>p18_74_DNA_S90_L002</td>\n",
       "      <td>COVID</td>\n",
       "      <td>covid</td>\n",
       "      <td>#9</td>\n",
       "      <td>False</td>\n",
       "    </tr>\n",
       "    <tr>\n",
       "      <th>1222</th>\n",
       "      <td>p18_75_DNA_S91_L002</td>\n",
       "      <td>COVID</td>\n",
       "      <td>covid</td>\n",
       "      <td>#9</td>\n",
       "      <td>False</td>\n",
       "    </tr>\n",
       "    <tr>\n",
       "      <th>1223</th>\n",
       "      <td>p18_76_DNA_S92_L002</td>\n",
       "      <td>COVID</td>\n",
       "      <td>covid</td>\n",
       "      <td>#9</td>\n",
       "      <td>False</td>\n",
       "    </tr>\n",
       "  </tbody>\n",
       "</table>\n",
       "<p>1224 rows × 5 columns</p>\n",
       "</div>"
      ],
      "text/plain": [
       "                         run COVID_status  covid folder  is_test_run\n",
       "0     050002290808_S117_L002        COVID  covid     #2        False\n",
       "1     050002630808_S113_L002        COVID  covid     #2        False\n",
       "2     050003120808_S112_L002        COVID  covid     #2        False\n",
       "3     050003130808_S114_L002        COVID  covid     #2        False\n",
       "4     050003450808_S118_L002        COVID  covid     #2        False\n",
       "...                      ...          ...    ...    ...          ...\n",
       "1219     p18_72_DNA_S88_L002        COVID  covid     #9        False\n",
       "1220     p18_73_DNA_S89_L002        COVID  covid     #9        False\n",
       "1221     p18_74_DNA_S90_L002        COVID  covid     #9        False\n",
       "1222     p18_75_DNA_S91_L002        COVID  covid     #9        False\n",
       "1223     p18_76_DNA_S92_L002        COVID  covid     #9        False\n",
       "\n",
       "[1224 rows x 5 columns]"
      ]
     },
     "execution_count": 7,
     "metadata": {},
     "output_type": "execute_result"
    }
   ],
   "source": [
    "metadata_alpha = pd.read_csv('data/desc_fmba_new_split_alpha.csv').drop(\n",
    "    columns=['Unnamed: 0']).dropna().reset_index(drop=True)\n",
    "metadata_alpha"
   ]
  },
  {
   "cell_type": "code",
   "execution_count": 8,
   "id": "acbe0549-2706-4bdd-a7e9-1475849c0443",
   "metadata": {},
   "outputs": [
    {
     "data": {
      "text/html": [
       "<div>\n",
       "<style scoped>\n",
       "    .dataframe tbody tr th:only-of-type {\n",
       "        vertical-align: middle;\n",
       "    }\n",
       "\n",
       "    .dataframe tbody tr th {\n",
       "        vertical-align: top;\n",
       "    }\n",
       "\n",
       "    .dataframe thead th {\n",
       "        text-align: right;\n",
       "    }\n",
       "</style>\n",
       "<table border=\"1\" class=\"dataframe\">\n",
       "  <thead>\n",
       "    <tr style=\"text-align: right;\">\n",
       "      <th></th>\n",
       "      <th>cdr3</th>\n",
       "      <th>cluster</th>\n",
       "      <th>has_covid_association</th>\n",
       "      <th>chain</th>\n",
       "      <th>v</th>\n",
       "      <th>j</th>\n",
       "    </tr>\n",
       "  </thead>\n",
       "  <tbody>\n",
       "    <tr>\n",
       "      <th>0</th>\n",
       "      <td>CASAPGGSYEQYF</td>\n",
       "      <td>0</td>\n",
       "      <td>False</td>\n",
       "      <td>beta</td>\n",
       "      <td>TRBV12-5/TRBV7-9/TRBV28</td>\n",
       "      <td>TRBJ2-7</td>\n",
       "    </tr>\n",
       "    <tr>\n",
       "      <th>1</th>\n",
       "      <td>CASIPGGSYEQYF</td>\n",
       "      <td>0</td>\n",
       "      <td>False</td>\n",
       "      <td>beta</td>\n",
       "      <td>TRBV6-5</td>\n",
       "      <td>TRBJ2-7</td>\n",
       "    </tr>\n",
       "    <tr>\n",
       "      <th>2</th>\n",
       "      <td>CASKPGGSYEQYF</td>\n",
       "      <td>0</td>\n",
       "      <td>False</td>\n",
       "      <td>beta</td>\n",
       "      <td>TRBV5-4/TRBV25-1/TRBV6-5</td>\n",
       "      <td>TRBJ2-7</td>\n",
       "    </tr>\n",
       "    <tr>\n",
       "      <th>3</th>\n",
       "      <td>CASLPGGSYEQYF</td>\n",
       "      <td>0</td>\n",
       "      <td>False</td>\n",
       "      <td>beta</td>\n",
       "      <td>TRBV28</td>\n",
       "      <td>TRBJ2-7</td>\n",
       "    </tr>\n",
       "    <tr>\n",
       "      <th>4</th>\n",
       "      <td>CASNPGGSYEQYF</td>\n",
       "      <td>0</td>\n",
       "      <td>False</td>\n",
       "      <td>beta</td>\n",
       "      <td>TRBV28</td>\n",
       "      <td>TRBJ2-7</td>\n",
       "    </tr>\n",
       "    <tr>\n",
       "      <th>...</th>\n",
       "      <td>...</td>\n",
       "      <td>...</td>\n",
       "      <td>...</td>\n",
       "      <td>...</td>\n",
       "      <td>...</td>\n",
       "      <td>...</td>\n",
       "    </tr>\n",
       "    <tr>\n",
       "      <th>4955</th>\n",
       "      <td>CVVSDLMEYGNKLVF</td>\n",
       "      <td>111</td>\n",
       "      <td>False</td>\n",
       "      <td>alpha</td>\n",
       "      <td>TRAV8-2</td>\n",
       "      <td>TRAJ47</td>\n",
       "    </tr>\n",
       "    <tr>\n",
       "      <th>4956</th>\n",
       "      <td>CVVSDRMEYGNKLVF</td>\n",
       "      <td>111</td>\n",
       "      <td>False</td>\n",
       "      <td>alpha</td>\n",
       "      <td>TRAV8-2</td>\n",
       "      <td>TRAJ47</td>\n",
       "    </tr>\n",
       "    <tr>\n",
       "      <th>4957</th>\n",
       "      <td>CVVSEPSGGYQKVTF</td>\n",
       "      <td>112</td>\n",
       "      <td>False</td>\n",
       "      <td>alpha</td>\n",
       "      <td>TRAV8-2/TRAV10</td>\n",
       "      <td>TRAJ13</td>\n",
       "    </tr>\n",
       "    <tr>\n",
       "      <th>4958</th>\n",
       "      <td>CVVSGYGAAGNKLTF</td>\n",
       "      <td>113</td>\n",
       "      <td>False</td>\n",
       "      <td>alpha</td>\n",
       "      <td>TRAV8-2/TRAV10</td>\n",
       "      <td>TRAJ17</td>\n",
       "    </tr>\n",
       "    <tr>\n",
       "      <th>4959</th>\n",
       "      <td>CVVSPASGTYKYIF</td>\n",
       "      <td>114</td>\n",
       "      <td>False</td>\n",
       "      <td>alpha</td>\n",
       "      <td>TRAV10</td>\n",
       "      <td>TRAJ40</td>\n",
       "    </tr>\n",
       "  </tbody>\n",
       "</table>\n",
       "<p>4960 rows × 6 columns</p>\n",
       "</div>"
      ],
      "text/plain": [
       "                 cdr3  cluster  has_covid_association  chain  \\\n",
       "0       CASAPGGSYEQYF        0                  False   beta   \n",
       "1       CASIPGGSYEQYF        0                  False   beta   \n",
       "2       CASKPGGSYEQYF        0                  False   beta   \n",
       "3       CASLPGGSYEQYF        0                  False   beta   \n",
       "4       CASNPGGSYEQYF        0                  False   beta   \n",
       "...               ...      ...                    ...    ...   \n",
       "4955  CVVSDLMEYGNKLVF      111                  False  alpha   \n",
       "4956  CVVSDRMEYGNKLVF      111                  False  alpha   \n",
       "4957  CVVSEPSGGYQKVTF      112                  False  alpha   \n",
       "4958  CVVSGYGAAGNKLTF      113                  False  alpha   \n",
       "4959   CVVSPASGTYKYIF      114                  False  alpha   \n",
       "\n",
       "                             v        j  \n",
       "0      TRBV12-5/TRBV7-9/TRBV28  TRBJ2-7  \n",
       "1                      TRBV6-5  TRBJ2-7  \n",
       "2     TRBV5-4/TRBV25-1/TRBV6-5  TRBJ2-7  \n",
       "3                       TRBV28  TRBJ2-7  \n",
       "4                       TRBV28  TRBJ2-7  \n",
       "...                        ...      ...  \n",
       "4955                   TRAV8-2   TRAJ47  \n",
       "4956                   TRAV8-2   TRAJ47  \n",
       "4957            TRAV8-2/TRAV10   TRAJ13  \n",
       "4958            TRAV8-2/TRAV10   TRAJ17  \n",
       "4959                    TRAV10   TRAJ40  \n",
       "\n",
       "[4960 rows x 6 columns]"
      ]
     },
     "execution_count": 8,
     "metadata": {},
     "output_type": "execute_result"
    }
   ],
   "source": [
    "markers = pd.read_csv('figures/covid_clonotypes.csv')\n",
    "markers"
   ]
  },
  {
   "cell_type": "code",
   "execution_count": 9,
   "id": "5d74e56c-9651-4af9-bfb1-1d7dff0a2987",
   "metadata": {},
   "outputs": [],
   "source": [
    "beta_markers = markers[markers.chain == 'beta']\n",
    "alpha_markers = markers[markers.chain == 'alpha']"
   ]
  },
  {
   "cell_type": "code",
   "execution_count": null,
   "id": "535f04aa-e27e-4517-a26c-146cf5567d9c",
   "metadata": {},
   "outputs": [],
   "source": [
    "beta_markers"
   ]
  },
  {
   "cell_type": "code",
   "execution_count": null,
   "id": "43515065-506f-4cef-9808-ca630d094b30",
   "metadata": {},
   "outputs": [],
   "source": [
    "alpha_markers"
   ]
  },
  {
   "cell_type": "code",
   "execution_count": null,
   "id": "8fb51ec2-e58c-4088-a692-204da43fb25b",
   "metadata": {},
   "outputs": [],
   "source": [
    "beta_representations = [ClonotypeRepresentation(cdr3aa=x[1].cdr3, \n",
    "                                                             v=x[1].v, \n",
    "                                                             j=x[1].j) for x in beta_markers.iterrows()]"
   ]
  },
  {
   "cell_type": "code",
   "execution_count": null,
   "id": "7d2192c6-0985-4f81-a8cd-688859e971af",
   "metadata": {},
   "outputs": [],
   "source": [
    "alpha_representations = [ClonotypeRepresentation(cdr3aa=x[1].cdr3, \n",
    "                                                             v=x[1].v, \n",
    "                                                             j=x[1].j) for x in alpha_markers.iterrows()]"
   ]
  },
  {
   "cell_type": "code",
   "execution_count": null,
   "id": "292077d0-f478-4ab3-851b-4a5c94d4aa59",
   "metadata": {},
   "outputs": [],
   "source": [
    "t0 = time.time()\n",
    "initial_dataset_TRB = RepertoireDataset.load(parser=VDJtoolsParser(sep=','), \n",
    "                                 metadata=metadata_beta,\n",
    "                                 threads=32,\n",
    "                                 paths=[f'/projects/fmba_covid/publication/fmba/{r[\"run\"]}.clonotypes.TRB.txt' for _, r in metadata_beta.iterrows()])\n",
    "print(time.time() - t0)"
   ]
  },
  {
   "cell_type": "code",
   "execution_count": null,
   "id": "b3fb8320-3a7a-4cbd-9505-b51da8dc86ba",
   "metadata": {},
   "outputs": [],
   "source": [
    "initial_dataset_TRB.clonotype_usage_matrix"
   ]
  },
  {
   "cell_type": "code",
   "execution_count": null,
   "id": "d7641025-2af8-434b-ad42-aaf30bea8e72",
   "metadata": {},
   "outputs": [],
   "source": [
    "len(initial_dataset_TRB.clonotype_usage_matrix.public_clonotypes)"
   ]
  },
  {
   "cell_type": "code",
   "execution_count": null,
   "id": "f2a7cfce-b76b-42fc-97de-bb022bc84cec",
   "metadata": {},
   "outputs": [],
   "source": [
    "healthy_dataset, ill_dataset = initial_dataset_TRB.split_by_metadata_function(lambda x: x.COVID_status == 'healthy')"
   ]
  },
  {
   "cell_type": "code",
   "execution_count": null,
   "id": "3b916b87-4e3e-40fc-8e37-4ad604964055",
   "metadata": {},
   "outputs": [],
   "source": [
    "healthy_dataset"
   ]
  },
  {
   "cell_type": "code",
   "execution_count": null,
   "id": "180cbac6-3f1b-4b82-a835-8cace3f2d01e",
   "metadata": {},
   "outputs": [],
   "source": [
    "ill_dataset"
   ]
  },
  {
   "cell_type": "code",
   "execution_count": null,
   "id": "6b882202-8ad7-443d-b495-9fce3b0a4f4f",
   "metadata": {},
   "outputs": [],
   "source": [
    "# healthy_dataset.threads = 2"
   ]
  },
  {
   "cell_type": "code",
   "execution_count": null,
   "id": "a0c754c6-120a-4435-a51b-e1cb335bc9f1",
   "metadata": {},
   "outputs": [],
   "source": [
    "healthy_dataset.clonotype_usage_matrix.clonotype_database_usage"
   ]
  },
  {
   "cell_type": "code",
   "execution_count": null,
   "id": "3ba573ee-a8ec-43e4-aaec-c6a4a0ce7248",
   "metadata": {},
   "outputs": [],
   "source": [
    "# ill_dataset.threads = 2"
   ]
  },
  {
   "cell_type": "code",
   "execution_count": null,
   "id": "85a81246-0734-4b17-ae25-6bdf230aea3c",
   "metadata": {},
   "outputs": [],
   "source": [
    "ill_dataset.clonotype_usage_matrix.clonotype_database_usage"
   ]
  },
  {
   "cell_type": "code",
   "execution_count": null,
   "id": "bf6cbe2b-ff67-4346-8209-267e71ef9658",
   "metadata": {},
   "outputs": [],
   "source": [
    "fbd = FisherBiomarkersDetector(control_repertoire_dataset=healthy_dataset,\n",
    "                               ill_repertoire_dataset=ill_dataset, \n",
    "                               adjusted_p_value=0.05, \n",
    "                               threads=16)"
   ]
  },
  {
   "cell_type": "code",
   "execution_count": null,
   "id": "94b17872-0e00-418a-8f51-955874de68f9",
   "metadata": {},
   "outputs": [],
   "source": [
    "t0 = time.time()\n",
    "biomarkers = fbd.detect_biomarkers(adjusted_p_value=0.05)\n",
    "print(time.time() - t0)"
   ]
  },
  {
   "cell_type": "code",
   "execution_count": null,
   "id": "78b25351-cb24-4cef-a79f-0c58ba019337",
   "metadata": {},
   "outputs": [],
   "source": [
    "len(biomarkers)"
   ]
  },
  {
   "cell_type": "code",
   "execution_count": null,
   "id": "0cb25b21-d542-4fa4-b4d5-766b4b91e516",
   "metadata": {},
   "outputs": [],
   "source": [
    "cd = ClonotypeDataset(clonotypes=[ClonotypeAA(cdr3aa=x.cdr3aa) for x in biomarkers])"
   ]
  },
  {
   "cell_type": "code",
   "execution_count": null,
   "id": "cd15bcb6-3812-490d-ac49-630870b90b71",
   "metadata": {},
   "outputs": [],
   "source": [
    "cd.clonotype_clustering"
   ]
  },
  {
   "cell_type": "code",
   "execution_count": null,
   "id": "1fe6d00a-a0f5-4c33-90a7-00190c3f5ed1",
   "metadata": {},
   "outputs": [],
   "source": [
    "fig, ax = plt.subplots()\n",
    "cd.plot_clonotype_clustering(color_by='cluster', ax=ax, plot_unclustered=True)\n",
    "ax.legend([])"
   ]
  },
  {
   "cell_type": "code",
   "execution_count": null,
   "id": "b4a713ac-1645-4b62-bab4-5c19bbca09ad",
   "metadata": {},
   "outputs": [],
   "source": [
    "initial_dataset_TRB.metadata"
   ]
  },
  {
   "cell_type": "code",
   "execution_count": null,
   "id": "f191bdc0-23e4-41fd-acd3-0d9f049ebc21",
   "metadata": {},
   "outputs": [],
   "source": [
    "import random"
   ]
  },
  {
   "cell_type": "code",
   "execution_count": null,
   "id": "38247aae-73f5-478e-9678-4b1fbca59c61",
   "metadata": {},
   "outputs": [],
   "source": [
    "r_dataset_1, r_dataset_2 = initial_dataset_TRB.split_by_metadata_function(lambda x: bool(random.choice([0, 1, 1])))"
   ]
  },
  {
   "cell_type": "code",
   "execution_count": null,
   "id": "3335453f-8c4f-479c-a456-15993ea592df",
   "metadata": {},
   "outputs": [],
   "source": [
    "r_dataset_1.threads = 2"
   ]
  },
  {
   "cell_type": "code",
   "execution_count": null,
   "id": "efad2a2b-9f93-4d68-aff9-e8a192a19ecd",
   "metadata": {},
   "outputs": [],
   "source": [
    "r_dataset_2.threads = 2"
   ]
  },
  {
   "cell_type": "code",
   "execution_count": null,
   "id": "19085de2-81b9-438d-a798-b51d35daf60d",
   "metadata": {},
   "outputs": [],
   "source": [
    "r_dataset_1.clonotype_usage_matrix.clonotype_database_usage"
   ]
  },
  {
   "cell_type": "code",
   "execution_count": null,
   "id": "63cdefb2-6154-4918-8875-ebc2486c723d",
   "metadata": {},
   "outputs": [],
   "source": [
    "r_dataset_2.clonotype_usage_matrix.clonotype_database_usage"
   ]
  },
  {
   "cell_type": "code",
   "execution_count": null,
   "id": "65a3e615-446a-4550-a3dd-2fcd00d402f7",
   "metadata": {},
   "outputs": [],
   "source": [
    "fbdr1 = FisherBiomarkersDetector(control_repertoire_dataset=r_dataset_1,\n",
    "                               ill_repertoire_dataset=r_dataset_2, \n",
    "                               adjusted_p_value=0.05, \n",
    "                               threads=16)"
   ]
  },
  {
   "cell_type": "code",
   "execution_count": null,
   "id": "e1707b82-dd3a-4d5f-b5a7-37cea9c34fe7",
   "metadata": {},
   "outputs": [],
   "source": [
    "fbdr2 = FisherBiomarkersDetector(control_repertoire_dataset=r_dataset_2,\n",
    "                               ill_repertoire_dataset=r_dataset_1, \n",
    "                               adjusted_p_value=0.05, \n",
    "                               threads=16)"
   ]
  },
  {
   "cell_type": "code",
   "execution_count": null,
   "id": "52744818-f6eb-49a4-8097-aff8f1a41c69",
   "metadata": {},
   "outputs": [],
   "source": [
    "biomarkers_1_2 = fbdr1.detect_biomarkers()"
   ]
  },
  {
   "cell_type": "code",
   "execution_count": null,
   "id": "80ebdea6-3766-4a98-979d-8e00324e5aaa",
   "metadata": {},
   "outputs": [],
   "source": [
    "biomarkers_2_1 = fbdr2.detect_biomarkers()"
   ]
  },
  {
   "cell_type": "code",
   "execution_count": null,
   "id": "93c1df3a-f869-463f-9f28-9a00298b25de",
   "metadata": {},
   "outputs": [],
   "source": [
    "biomarkers_1_2"
   ]
  },
  {
   "cell_type": "code",
   "execution_count": null,
   "id": "b8e83c2c-92a2-4a1b-9757-741b3782e640",
   "metadata": {},
   "outputs": [],
   "source": [
    "biomarkers_2_1"
   ]
  },
  {
   "cell_type": "code",
   "execution_count": null,
   "id": "138df6f1-412a-4000-bac1-bf2b7cc36de3",
   "metadata": {},
   "outputs": [],
   "source": []
  }
 ],
 "metadata": {
  "kernelspec": {
   "display_name": "bio2025",
   "language": "python",
   "name": "bio2025"
  },
  "language_info": {
   "codemirror_mode": {
    "name": "ipython",
    "version": 3
   },
   "file_extension": ".py",
   "mimetype": "text/x-python",
   "name": "python",
   "nbconvert_exporter": "python",
   "pygments_lexer": "ipython3",
   "version": "3.12.8"
  }
 },
 "nbformat": 4,
 "nbformat_minor": 5
}
