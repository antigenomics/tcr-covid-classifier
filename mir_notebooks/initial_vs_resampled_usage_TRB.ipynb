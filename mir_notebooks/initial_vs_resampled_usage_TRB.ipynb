{
 "cells": [
  {
   "cell_type": "code",
   "execution_count": 1,
   "id": "aa22dcc9-c270-4530-afd3-92fb860539ef",
   "metadata": {},
   "outputs": [],
   "source": [
    "import sys\n",
    "sys.path.append(\"/home/evlasova/mirpy\")"
   ]
  },
  {
   "cell_type": "code",
   "execution_count": 2,
   "id": "08c23d76-56c3-497a-ba96-0f69d804dd25",
   "metadata": {},
   "outputs": [],
   "source": [
    "import pandas as pd"
   ]
  },
  {
   "cell_type": "code",
   "execution_count": 3,
   "id": "8a56fd86-6c05-42b0-b298-747fb36e0f19",
   "metadata": {},
   "outputs": [],
   "source": [
    "import os\n",
    "\n",
    "os.chdir('../')"
   ]
  },
  {
   "cell_type": "code",
   "execution_count": 4,
   "id": "f91cebb0-48f1-497c-8c7c-3f073de97fe9",
   "metadata": {},
   "outputs": [
    {
     "name": "stderr",
     "output_type": "stream",
     "text": [
      "/home/evlasova/.conda/envs/bio2025/lib/python3.12/site-packages/tqdm/auto.py:21: TqdmWarning: IProgress not found. Please update jupyter and ipywidgets. See https://ipywidgets.readthedocs.io/en/stable/user_install.html\n",
      "  from .autonotebook import tqdm as notebook_tqdm\n"
     ]
    }
   ],
   "source": [
    "from mir.common.parser import *\n",
    "from mir.common.repertoire import Repertoire\n",
    "from mir.common.repertoire_dataset import RepertoireDataset\n",
    "from mir.common.clonotype_dataset import ClonotypeDataset\n",
    "from mir.basic.segment_usage import *\n",
    "from mir.basic.sampling import RepertoireSampling\n",
    "from mir.biomarkers.fisher_biomarkers_detector import FisherBiomarkersDetector\n",
    "from mir.comparative.pair_matcher import ClonotypeRepresentation\n",
    "from mir.basic.pgen import OlgaModel\n",
    "import time"
   ]
  },
  {
   "cell_type": "code",
   "execution_count": 5,
   "id": "853296a7-42d8-4dbb-bd11-680293f46c65",
   "metadata": {},
   "outputs": [],
   "source": [
    "metadata_beta = pd.read_csv('data/desc_fmba_new_split_beta.csv').drop(columns=['Unnamed: 0']).dropna()"
   ]
  },
  {
   "cell_type": "code",
   "execution_count": 6,
   "id": "84561eb4-31fa-4a4d-ba29-1ce920ddaa78",
   "metadata": {},
   "outputs": [
    {
     "data": {
      "text/html": [
       "<div>\n",
       "<style scoped>\n",
       "    .dataframe tbody tr th:only-of-type {\n",
       "        vertical-align: middle;\n",
       "    }\n",
       "\n",
       "    .dataframe tbody tr th {\n",
       "        vertical-align: top;\n",
       "    }\n",
       "\n",
       "    .dataframe thead th {\n",
       "        text-align: right;\n",
       "    }\n",
       "</style>\n",
       "<table border=\"1\" class=\"dataframe\">\n",
       "  <thead>\n",
       "    <tr style=\"text-align: right;\">\n",
       "      <th></th>\n",
       "      <th>run</th>\n",
       "      <th>COVID_status</th>\n",
       "      <th>covid</th>\n",
       "      <th>folder</th>\n",
       "      <th>is_test_run</th>\n",
       "    </tr>\n",
       "  </thead>\n",
       "  <tbody>\n",
       "    <tr>\n",
       "      <th>0</th>\n",
       "      <td>050002290808_S117_L002</td>\n",
       "      <td>COVID</td>\n",
       "      <td>covid</td>\n",
       "      <td>#2</td>\n",
       "      <td>False</td>\n",
       "    </tr>\n",
       "    <tr>\n",
       "      <th>1</th>\n",
       "      <td>050002630808_S113_L002</td>\n",
       "      <td>COVID</td>\n",
       "      <td>covid</td>\n",
       "      <td>#2</td>\n",
       "      <td>False</td>\n",
       "    </tr>\n",
       "    <tr>\n",
       "      <th>2</th>\n",
       "      <td>050003120808_S112_L002</td>\n",
       "      <td>COVID</td>\n",
       "      <td>covid</td>\n",
       "      <td>#2</td>\n",
       "      <td>False</td>\n",
       "    </tr>\n",
       "    <tr>\n",
       "      <th>3</th>\n",
       "      <td>050003130808_S114_L002</td>\n",
       "      <td>COVID</td>\n",
       "      <td>covid</td>\n",
       "      <td>#2</td>\n",
       "      <td>False</td>\n",
       "    </tr>\n",
       "    <tr>\n",
       "      <th>4</th>\n",
       "      <td>050003450808_S118_L002</td>\n",
       "      <td>COVID</td>\n",
       "      <td>covid</td>\n",
       "      <td>#2</td>\n",
       "      <td>False</td>\n",
       "    </tr>\n",
       "    <tr>\n",
       "      <th>...</th>\n",
       "      <td>...</td>\n",
       "      <td>...</td>\n",
       "      <td>...</td>\n",
       "      <td>...</td>\n",
       "      <td>...</td>\n",
       "    </tr>\n",
       "    <tr>\n",
       "      <th>1220</th>\n",
       "      <td>p18_72_DNA_S88_L002</td>\n",
       "      <td>COVID</td>\n",
       "      <td>covid</td>\n",
       "      <td>#9</td>\n",
       "      <td>False</td>\n",
       "    </tr>\n",
       "    <tr>\n",
       "      <th>1221</th>\n",
       "      <td>p18_73_DNA_S89_L002</td>\n",
       "      <td>COVID</td>\n",
       "      <td>covid</td>\n",
       "      <td>#9</td>\n",
       "      <td>False</td>\n",
       "    </tr>\n",
       "    <tr>\n",
       "      <th>1222</th>\n",
       "      <td>p18_74_DNA_S90_L002</td>\n",
       "      <td>COVID</td>\n",
       "      <td>covid</td>\n",
       "      <td>#9</td>\n",
       "      <td>False</td>\n",
       "    </tr>\n",
       "    <tr>\n",
       "      <th>1223</th>\n",
       "      <td>p18_75_DNA_S91_L002</td>\n",
       "      <td>COVID</td>\n",
       "      <td>covid</td>\n",
       "      <td>#9</td>\n",
       "      <td>False</td>\n",
       "    </tr>\n",
       "    <tr>\n",
       "      <th>1224</th>\n",
       "      <td>p18_76_DNA_S92_L002</td>\n",
       "      <td>COVID</td>\n",
       "      <td>covid</td>\n",
       "      <td>#9</td>\n",
       "      <td>False</td>\n",
       "    </tr>\n",
       "  </tbody>\n",
       "</table>\n",
       "<p>1225 rows × 5 columns</p>\n",
       "</div>"
      ],
      "text/plain": [
       "                         run COVID_status  covid folder  is_test_run\n",
       "0     050002290808_S117_L002        COVID  covid     #2        False\n",
       "1     050002630808_S113_L002        COVID  covid     #2        False\n",
       "2     050003120808_S112_L002        COVID  covid     #2        False\n",
       "3     050003130808_S114_L002        COVID  covid     #2        False\n",
       "4     050003450808_S118_L002        COVID  covid     #2        False\n",
       "...                      ...          ...    ...    ...          ...\n",
       "1220     p18_72_DNA_S88_L002        COVID  covid     #9        False\n",
       "1221     p18_73_DNA_S89_L002        COVID  covid     #9        False\n",
       "1222     p18_74_DNA_S90_L002        COVID  covid     #9        False\n",
       "1223     p18_75_DNA_S91_L002        COVID  covid     #9        False\n",
       "1224     p18_76_DNA_S92_L002        COVID  covid     #9        False\n",
       "\n",
       "[1225 rows x 5 columns]"
      ]
     },
     "execution_count": 6,
     "metadata": {},
     "output_type": "execute_result"
    }
   ],
   "source": [
    "metadata_beta"
   ]
  },
  {
   "cell_type": "code",
   "execution_count": 7,
   "id": "ad6b9835-81ce-4956-a3a9-48504f884226",
   "metadata": {},
   "outputs": [
    {
     "data": {
      "text/html": [
       "<div>\n",
       "<style scoped>\n",
       "    .dataframe tbody tr th:only-of-type {\n",
       "        vertical-align: middle;\n",
       "    }\n",
       "\n",
       "    .dataframe tbody tr th {\n",
       "        vertical-align: top;\n",
       "    }\n",
       "\n",
       "    .dataframe thead th {\n",
       "        text-align: right;\n",
       "    }\n",
       "</style>\n",
       "<table border=\"1\" class=\"dataframe\">\n",
       "  <thead>\n",
       "    <tr style=\"text-align: right;\">\n",
       "      <th></th>\n",
       "      <th>run</th>\n",
       "      <th>COVID_status</th>\n",
       "      <th>covid</th>\n",
       "      <th>folder</th>\n",
       "      <th>is_test_run</th>\n",
       "    </tr>\n",
       "  </thead>\n",
       "  <tbody>\n",
       "    <tr>\n",
       "      <th>0</th>\n",
       "      <td>050002290808_S117_L002</td>\n",
       "      <td>COVID</td>\n",
       "      <td>covid</td>\n",
       "      <td>#2</td>\n",
       "      <td>False</td>\n",
       "    </tr>\n",
       "    <tr>\n",
       "      <th>1</th>\n",
       "      <td>050002630808_S113_L002</td>\n",
       "      <td>COVID</td>\n",
       "      <td>covid</td>\n",
       "      <td>#2</td>\n",
       "      <td>False</td>\n",
       "    </tr>\n",
       "    <tr>\n",
       "      <th>2</th>\n",
       "      <td>050003120808_S112_L002</td>\n",
       "      <td>COVID</td>\n",
       "      <td>covid</td>\n",
       "      <td>#2</td>\n",
       "      <td>False</td>\n",
       "    </tr>\n",
       "    <tr>\n",
       "      <th>3</th>\n",
       "      <td>050003130808_S114_L002</td>\n",
       "      <td>COVID</td>\n",
       "      <td>covid</td>\n",
       "      <td>#2</td>\n",
       "      <td>False</td>\n",
       "    </tr>\n",
       "    <tr>\n",
       "      <th>4</th>\n",
       "      <td>050003450808_S118_L002</td>\n",
       "      <td>COVID</td>\n",
       "      <td>covid</td>\n",
       "      <td>#2</td>\n",
       "      <td>False</td>\n",
       "    </tr>\n",
       "    <tr>\n",
       "      <th>...</th>\n",
       "      <td>...</td>\n",
       "      <td>...</td>\n",
       "      <td>...</td>\n",
       "      <td>...</td>\n",
       "      <td>...</td>\n",
       "    </tr>\n",
       "    <tr>\n",
       "      <th>1219</th>\n",
       "      <td>p18_72_DNA_S88_L002</td>\n",
       "      <td>COVID</td>\n",
       "      <td>covid</td>\n",
       "      <td>#9</td>\n",
       "      <td>False</td>\n",
       "    </tr>\n",
       "    <tr>\n",
       "      <th>1220</th>\n",
       "      <td>p18_73_DNA_S89_L002</td>\n",
       "      <td>COVID</td>\n",
       "      <td>covid</td>\n",
       "      <td>#9</td>\n",
       "      <td>False</td>\n",
       "    </tr>\n",
       "    <tr>\n",
       "      <th>1221</th>\n",
       "      <td>p18_74_DNA_S90_L002</td>\n",
       "      <td>COVID</td>\n",
       "      <td>covid</td>\n",
       "      <td>#9</td>\n",
       "      <td>False</td>\n",
       "    </tr>\n",
       "    <tr>\n",
       "      <th>1222</th>\n",
       "      <td>p18_75_DNA_S91_L002</td>\n",
       "      <td>COVID</td>\n",
       "      <td>covid</td>\n",
       "      <td>#9</td>\n",
       "      <td>False</td>\n",
       "    </tr>\n",
       "    <tr>\n",
       "      <th>1223</th>\n",
       "      <td>p18_76_DNA_S92_L002</td>\n",
       "      <td>COVID</td>\n",
       "      <td>covid</td>\n",
       "      <td>#9</td>\n",
       "      <td>False</td>\n",
       "    </tr>\n",
       "  </tbody>\n",
       "</table>\n",
       "<p>1224 rows × 5 columns</p>\n",
       "</div>"
      ],
      "text/plain": [
       "                         run COVID_status  covid folder  is_test_run\n",
       "0     050002290808_S117_L002        COVID  covid     #2        False\n",
       "1     050002630808_S113_L002        COVID  covid     #2        False\n",
       "2     050003120808_S112_L002        COVID  covid     #2        False\n",
       "3     050003130808_S114_L002        COVID  covid     #2        False\n",
       "4     050003450808_S118_L002        COVID  covid     #2        False\n",
       "...                      ...          ...    ...    ...          ...\n",
       "1219     p18_72_DNA_S88_L002        COVID  covid     #9        False\n",
       "1220     p18_73_DNA_S89_L002        COVID  covid     #9        False\n",
       "1221     p18_74_DNA_S90_L002        COVID  covid     #9        False\n",
       "1222     p18_75_DNA_S91_L002        COVID  covid     #9        False\n",
       "1223     p18_76_DNA_S92_L002        COVID  covid     #9        False\n",
       "\n",
       "[1224 rows x 5 columns]"
      ]
     },
     "execution_count": 7,
     "metadata": {},
     "output_type": "execute_result"
    }
   ],
   "source": [
    "metadata_alpha = pd.read_csv('data/desc_fmba_new_split_alpha.csv').drop(\n",
    "    columns=['Unnamed: 0']).dropna().reset_index(drop=True)\n",
    "metadata_alpha"
   ]
  },
  {
   "cell_type": "code",
   "execution_count": 8,
   "id": "acbe0549-2706-4bdd-a7e9-1475849c0443",
   "metadata": {},
   "outputs": [
    {
     "data": {
      "text/html": [
       "<div>\n",
       "<style scoped>\n",
       "    .dataframe tbody tr th:only-of-type {\n",
       "        vertical-align: middle;\n",
       "    }\n",
       "\n",
       "    .dataframe tbody tr th {\n",
       "        vertical-align: top;\n",
       "    }\n",
       "\n",
       "    .dataframe thead th {\n",
       "        text-align: right;\n",
       "    }\n",
       "</style>\n",
       "<table border=\"1\" class=\"dataframe\">\n",
       "  <thead>\n",
       "    <tr style=\"text-align: right;\">\n",
       "      <th></th>\n",
       "      <th>cdr3</th>\n",
       "      <th>cluster</th>\n",
       "      <th>has_covid_association</th>\n",
       "      <th>chain</th>\n",
       "      <th>v</th>\n",
       "      <th>j</th>\n",
       "    </tr>\n",
       "  </thead>\n",
       "  <tbody>\n",
       "    <tr>\n",
       "      <th>0</th>\n",
       "      <td>CASAPGGSYEQYF</td>\n",
       "      <td>0</td>\n",
       "      <td>False</td>\n",
       "      <td>beta</td>\n",
       "      <td>TRBV12-5/TRBV7-9/TRBV28</td>\n",
       "      <td>TRBJ2-7</td>\n",
       "    </tr>\n",
       "    <tr>\n",
       "      <th>1</th>\n",
       "      <td>CASIPGGSYEQYF</td>\n",
       "      <td>0</td>\n",
       "      <td>False</td>\n",
       "      <td>beta</td>\n",
       "      <td>TRBV6-5</td>\n",
       "      <td>TRBJ2-7</td>\n",
       "    </tr>\n",
       "    <tr>\n",
       "      <th>2</th>\n",
       "      <td>CASKPGGSYEQYF</td>\n",
       "      <td>0</td>\n",
       "      <td>False</td>\n",
       "      <td>beta</td>\n",
       "      <td>TRBV5-4/TRBV25-1/TRBV6-5</td>\n",
       "      <td>TRBJ2-7</td>\n",
       "    </tr>\n",
       "    <tr>\n",
       "      <th>3</th>\n",
       "      <td>CASLPGGSYEQYF</td>\n",
       "      <td>0</td>\n",
       "      <td>False</td>\n",
       "      <td>beta</td>\n",
       "      <td>TRBV28</td>\n",
       "      <td>TRBJ2-7</td>\n",
       "    </tr>\n",
       "    <tr>\n",
       "      <th>4</th>\n",
       "      <td>CASNPGGSYEQYF</td>\n",
       "      <td>0</td>\n",
       "      <td>False</td>\n",
       "      <td>beta</td>\n",
       "      <td>TRBV28</td>\n",
       "      <td>TRBJ2-7</td>\n",
       "    </tr>\n",
       "    <tr>\n",
       "      <th>...</th>\n",
       "      <td>...</td>\n",
       "      <td>...</td>\n",
       "      <td>...</td>\n",
       "      <td>...</td>\n",
       "      <td>...</td>\n",
       "      <td>...</td>\n",
       "    </tr>\n",
       "    <tr>\n",
       "      <th>4955</th>\n",
       "      <td>CVVSDLMEYGNKLVF</td>\n",
       "      <td>111</td>\n",
       "      <td>False</td>\n",
       "      <td>alpha</td>\n",
       "      <td>TRAV8-2</td>\n",
       "      <td>TRAJ47</td>\n",
       "    </tr>\n",
       "    <tr>\n",
       "      <th>4956</th>\n",
       "      <td>CVVSDRMEYGNKLVF</td>\n",
       "      <td>111</td>\n",
       "      <td>False</td>\n",
       "      <td>alpha</td>\n",
       "      <td>TRAV8-2</td>\n",
       "      <td>TRAJ47</td>\n",
       "    </tr>\n",
       "    <tr>\n",
       "      <th>4957</th>\n",
       "      <td>CVVSEPSGGYQKVTF</td>\n",
       "      <td>112</td>\n",
       "      <td>False</td>\n",
       "      <td>alpha</td>\n",
       "      <td>TRAV8-2/TRAV10</td>\n",
       "      <td>TRAJ13</td>\n",
       "    </tr>\n",
       "    <tr>\n",
       "      <th>4958</th>\n",
       "      <td>CVVSGYGAAGNKLTF</td>\n",
       "      <td>113</td>\n",
       "      <td>False</td>\n",
       "      <td>alpha</td>\n",
       "      <td>TRAV8-2/TRAV10</td>\n",
       "      <td>TRAJ17</td>\n",
       "    </tr>\n",
       "    <tr>\n",
       "      <th>4959</th>\n",
       "      <td>CVVSPASGTYKYIF</td>\n",
       "      <td>114</td>\n",
       "      <td>False</td>\n",
       "      <td>alpha</td>\n",
       "      <td>TRAV10</td>\n",
       "      <td>TRAJ40</td>\n",
       "    </tr>\n",
       "  </tbody>\n",
       "</table>\n",
       "<p>4960 rows × 6 columns</p>\n",
       "</div>"
      ],
      "text/plain": [
       "                 cdr3  cluster  has_covid_association  chain  \\\n",
       "0       CASAPGGSYEQYF        0                  False   beta   \n",
       "1       CASIPGGSYEQYF        0                  False   beta   \n",
       "2       CASKPGGSYEQYF        0                  False   beta   \n",
       "3       CASLPGGSYEQYF        0                  False   beta   \n",
       "4       CASNPGGSYEQYF        0                  False   beta   \n",
       "...               ...      ...                    ...    ...   \n",
       "4955  CVVSDLMEYGNKLVF      111                  False  alpha   \n",
       "4956  CVVSDRMEYGNKLVF      111                  False  alpha   \n",
       "4957  CVVSEPSGGYQKVTF      112                  False  alpha   \n",
       "4958  CVVSGYGAAGNKLTF      113                  False  alpha   \n",
       "4959   CVVSPASGTYKYIF      114                  False  alpha   \n",
       "\n",
       "                             v        j  \n",
       "0      TRBV12-5/TRBV7-9/TRBV28  TRBJ2-7  \n",
       "1                      TRBV6-5  TRBJ2-7  \n",
       "2     TRBV5-4/TRBV25-1/TRBV6-5  TRBJ2-7  \n",
       "3                       TRBV28  TRBJ2-7  \n",
       "4                       TRBV28  TRBJ2-7  \n",
       "...                        ...      ...  \n",
       "4955                   TRAV8-2   TRAJ47  \n",
       "4956                   TRAV8-2   TRAJ47  \n",
       "4957            TRAV8-2/TRAV10   TRAJ13  \n",
       "4958            TRAV8-2/TRAV10   TRAJ17  \n",
       "4959                    TRAV10   TRAJ40  \n",
       "\n",
       "[4960 rows x 6 columns]"
      ]
     },
     "execution_count": 8,
     "metadata": {},
     "output_type": "execute_result"
    }
   ],
   "source": [
    "markers = pd.read_csv('figures/covid_clonotypes.csv')\n",
    "markers"
   ]
  },
  {
   "cell_type": "code",
   "execution_count": 9,
   "id": "5d74e56c-9651-4af9-bfb1-1d7dff0a2987",
   "metadata": {},
   "outputs": [],
   "source": [
    "beta_markers = markers[markers.chain == 'beta']\n",
    "alpha_markers = markers[markers.chain == 'alpha']"
   ]
  },
  {
   "cell_type": "code",
   "execution_count": 10,
   "id": "535f04aa-e27e-4517-a26c-146cf5567d9c",
   "metadata": {},
   "outputs": [
    {
     "data": {
      "text/html": [
       "<div>\n",
       "<style scoped>\n",
       "    .dataframe tbody tr th:only-of-type {\n",
       "        vertical-align: middle;\n",
       "    }\n",
       "\n",
       "    .dataframe tbody tr th {\n",
       "        vertical-align: top;\n",
       "    }\n",
       "\n",
       "    .dataframe thead th {\n",
       "        text-align: right;\n",
       "    }\n",
       "</style>\n",
       "<table border=\"1\" class=\"dataframe\">\n",
       "  <thead>\n",
       "    <tr style=\"text-align: right;\">\n",
       "      <th></th>\n",
       "      <th>cdr3</th>\n",
       "      <th>cluster</th>\n",
       "      <th>has_covid_association</th>\n",
       "      <th>chain</th>\n",
       "      <th>v</th>\n",
       "      <th>j</th>\n",
       "    </tr>\n",
       "  </thead>\n",
       "  <tbody>\n",
       "    <tr>\n",
       "      <th>0</th>\n",
       "      <td>CASAPGGSYEQYF</td>\n",
       "      <td>0</td>\n",
       "      <td>False</td>\n",
       "      <td>beta</td>\n",
       "      <td>TRBV12-5/TRBV7-9/TRBV28</td>\n",
       "      <td>TRBJ2-7</td>\n",
       "    </tr>\n",
       "    <tr>\n",
       "      <th>1</th>\n",
       "      <td>CASIPGGSYEQYF</td>\n",
       "      <td>0</td>\n",
       "      <td>False</td>\n",
       "      <td>beta</td>\n",
       "      <td>TRBV6-5</td>\n",
       "      <td>TRBJ2-7</td>\n",
       "    </tr>\n",
       "    <tr>\n",
       "      <th>2</th>\n",
       "      <td>CASKPGGSYEQYF</td>\n",
       "      <td>0</td>\n",
       "      <td>False</td>\n",
       "      <td>beta</td>\n",
       "      <td>TRBV5-4/TRBV25-1/TRBV6-5</td>\n",
       "      <td>TRBJ2-7</td>\n",
       "    </tr>\n",
       "    <tr>\n",
       "      <th>3</th>\n",
       "      <td>CASLPGGSYEQYF</td>\n",
       "      <td>0</td>\n",
       "      <td>False</td>\n",
       "      <td>beta</td>\n",
       "      <td>TRBV28</td>\n",
       "      <td>TRBJ2-7</td>\n",
       "    </tr>\n",
       "    <tr>\n",
       "      <th>4</th>\n",
       "      <td>CASNPGGSYEQYF</td>\n",
       "      <td>0</td>\n",
       "      <td>False</td>\n",
       "      <td>beta</td>\n",
       "      <td>TRBV28</td>\n",
       "      <td>TRBJ2-7</td>\n",
       "    </tr>\n",
       "    <tr>\n",
       "      <th>...</th>\n",
       "      <td>...</td>\n",
       "      <td>...</td>\n",
       "      <td>...</td>\n",
       "      <td>...</td>\n",
       "      <td>...</td>\n",
       "      <td>...</td>\n",
       "    </tr>\n",
       "    <tr>\n",
       "      <th>562</th>\n",
       "      <td>CSAKSGHEQYF</td>\n",
       "      <td>55</td>\n",
       "      <td>False</td>\n",
       "      <td>beta</td>\n",
       "      <td>TRBV20-1</td>\n",
       "      <td>TRBJ2-7</td>\n",
       "    </tr>\n",
       "    <tr>\n",
       "      <th>563</th>\n",
       "      <td>CSASSGHEQYF</td>\n",
       "      <td>55</td>\n",
       "      <td>False</td>\n",
       "      <td>beta</td>\n",
       "      <td>TRBV20-1</td>\n",
       "      <td>TRBJ2-7</td>\n",
       "    </tr>\n",
       "    <tr>\n",
       "      <th>564</th>\n",
       "      <td>CSATSGHEQYF</td>\n",
       "      <td>55</td>\n",
       "      <td>False</td>\n",
       "      <td>beta</td>\n",
       "      <td>TRBV20-1</td>\n",
       "      <td>TRBJ2-7</td>\n",
       "    </tr>\n",
       "    <tr>\n",
       "      <th>565</th>\n",
       "      <td>CSASDRGYEQYF</td>\n",
       "      <td>56</td>\n",
       "      <td>False</td>\n",
       "      <td>beta</td>\n",
       "      <td>TRBV20-1</td>\n",
       "      <td>TRBJ2-7</td>\n",
       "    </tr>\n",
       "    <tr>\n",
       "      <th>566</th>\n",
       "      <td>CSASGGGYEQYF</td>\n",
       "      <td>57</td>\n",
       "      <td>False</td>\n",
       "      <td>beta</td>\n",
       "      <td>TRBV20-1</td>\n",
       "      <td>TRBJ2-7</td>\n",
       "    </tr>\n",
       "  </tbody>\n",
       "</table>\n",
       "<p>567 rows × 6 columns</p>\n",
       "</div>"
      ],
      "text/plain": [
       "              cdr3  cluster  has_covid_association chain  \\\n",
       "0    CASAPGGSYEQYF        0                  False  beta   \n",
       "1    CASIPGGSYEQYF        0                  False  beta   \n",
       "2    CASKPGGSYEQYF        0                  False  beta   \n",
       "3    CASLPGGSYEQYF        0                  False  beta   \n",
       "4    CASNPGGSYEQYF        0                  False  beta   \n",
       "..             ...      ...                    ...   ...   \n",
       "562    CSAKSGHEQYF       55                  False  beta   \n",
       "563    CSASSGHEQYF       55                  False  beta   \n",
       "564    CSATSGHEQYF       55                  False  beta   \n",
       "565   CSASDRGYEQYF       56                  False  beta   \n",
       "566   CSASGGGYEQYF       57                  False  beta   \n",
       "\n",
       "                            v        j  \n",
       "0     TRBV12-5/TRBV7-9/TRBV28  TRBJ2-7  \n",
       "1                     TRBV6-5  TRBJ2-7  \n",
       "2    TRBV5-4/TRBV25-1/TRBV6-5  TRBJ2-7  \n",
       "3                      TRBV28  TRBJ2-7  \n",
       "4                      TRBV28  TRBJ2-7  \n",
       "..                        ...      ...  \n",
       "562                  TRBV20-1  TRBJ2-7  \n",
       "563                  TRBV20-1  TRBJ2-7  \n",
       "564                  TRBV20-1  TRBJ2-7  \n",
       "565                  TRBV20-1  TRBJ2-7  \n",
       "566                  TRBV20-1  TRBJ2-7  \n",
       "\n",
       "[567 rows x 6 columns]"
      ]
     },
     "execution_count": 10,
     "metadata": {},
     "output_type": "execute_result"
    }
   ],
   "source": [
    "beta_markers"
   ]
  },
  {
   "cell_type": "code",
   "execution_count": 11,
   "id": "43515065-506f-4cef-9808-ca630d094b30",
   "metadata": {},
   "outputs": [
    {
     "data": {
      "text/html": [
       "<div>\n",
       "<style scoped>\n",
       "    .dataframe tbody tr th:only-of-type {\n",
       "        vertical-align: middle;\n",
       "    }\n",
       "\n",
       "    .dataframe tbody tr th {\n",
       "        vertical-align: top;\n",
       "    }\n",
       "\n",
       "    .dataframe thead th {\n",
       "        text-align: right;\n",
       "    }\n",
       "</style>\n",
       "<table border=\"1\" class=\"dataframe\">\n",
       "  <thead>\n",
       "    <tr style=\"text-align: right;\">\n",
       "      <th></th>\n",
       "      <th>cdr3</th>\n",
       "      <th>cluster</th>\n",
       "      <th>has_covid_association</th>\n",
       "      <th>chain</th>\n",
       "      <th>v</th>\n",
       "      <th>j</th>\n",
       "    </tr>\n",
       "  </thead>\n",
       "  <tbody>\n",
       "    <tr>\n",
       "      <th>567</th>\n",
       "      <td>CAAADFNKFYF</td>\n",
       "      <td>0</td>\n",
       "      <td>True</td>\n",
       "      <td>alpha</td>\n",
       "      <td>TRAV13-1</td>\n",
       "      <td>TRAJ21</td>\n",
       "    </tr>\n",
       "    <tr>\n",
       "      <th>568</th>\n",
       "      <td>CAAANFNKFYF</td>\n",
       "      <td>0</td>\n",
       "      <td>True</td>\n",
       "      <td>alpha</td>\n",
       "      <td>TRAV23DV6</td>\n",
       "      <td>TRAJ21</td>\n",
       "    </tr>\n",
       "    <tr>\n",
       "      <th>569</th>\n",
       "      <td>CAADDFNKFYF</td>\n",
       "      <td>0</td>\n",
       "      <td>True</td>\n",
       "      <td>alpha</td>\n",
       "      <td>TRAV13-1</td>\n",
       "      <td>TRAJ21</td>\n",
       "    </tr>\n",
       "    <tr>\n",
       "      <th>570</th>\n",
       "      <td>CAAGDFNKFYF</td>\n",
       "      <td>0</td>\n",
       "      <td>True</td>\n",
       "      <td>alpha</td>\n",
       "      <td>TRAV13-1</td>\n",
       "      <td>TRAJ21</td>\n",
       "    </tr>\n",
       "    <tr>\n",
       "      <th>571</th>\n",
       "      <td>CAAHDFNKFYF</td>\n",
       "      <td>0</td>\n",
       "      <td>True</td>\n",
       "      <td>alpha</td>\n",
       "      <td>TRAV13-1</td>\n",
       "      <td>TRAJ21</td>\n",
       "    </tr>\n",
       "    <tr>\n",
       "      <th>...</th>\n",
       "      <td>...</td>\n",
       "      <td>...</td>\n",
       "      <td>...</td>\n",
       "      <td>...</td>\n",
       "      <td>...</td>\n",
       "      <td>...</td>\n",
       "    </tr>\n",
       "    <tr>\n",
       "      <th>4955</th>\n",
       "      <td>CVVSDLMEYGNKLVF</td>\n",
       "      <td>111</td>\n",
       "      <td>False</td>\n",
       "      <td>alpha</td>\n",
       "      <td>TRAV8-2</td>\n",
       "      <td>TRAJ47</td>\n",
       "    </tr>\n",
       "    <tr>\n",
       "      <th>4956</th>\n",
       "      <td>CVVSDRMEYGNKLVF</td>\n",
       "      <td>111</td>\n",
       "      <td>False</td>\n",
       "      <td>alpha</td>\n",
       "      <td>TRAV8-2</td>\n",
       "      <td>TRAJ47</td>\n",
       "    </tr>\n",
       "    <tr>\n",
       "      <th>4957</th>\n",
       "      <td>CVVSEPSGGYQKVTF</td>\n",
       "      <td>112</td>\n",
       "      <td>False</td>\n",
       "      <td>alpha</td>\n",
       "      <td>TRAV8-2/TRAV10</td>\n",
       "      <td>TRAJ13</td>\n",
       "    </tr>\n",
       "    <tr>\n",
       "      <th>4958</th>\n",
       "      <td>CVVSGYGAAGNKLTF</td>\n",
       "      <td>113</td>\n",
       "      <td>False</td>\n",
       "      <td>alpha</td>\n",
       "      <td>TRAV8-2/TRAV10</td>\n",
       "      <td>TRAJ17</td>\n",
       "    </tr>\n",
       "    <tr>\n",
       "      <th>4959</th>\n",
       "      <td>CVVSPASGTYKYIF</td>\n",
       "      <td>114</td>\n",
       "      <td>False</td>\n",
       "      <td>alpha</td>\n",
       "      <td>TRAV10</td>\n",
       "      <td>TRAJ40</td>\n",
       "    </tr>\n",
       "  </tbody>\n",
       "</table>\n",
       "<p>4393 rows × 6 columns</p>\n",
       "</div>"
      ],
      "text/plain": [
       "                 cdr3  cluster  has_covid_association  chain               v  \\\n",
       "567       CAAADFNKFYF        0                   True  alpha        TRAV13-1   \n",
       "568       CAAANFNKFYF        0                   True  alpha       TRAV23DV6   \n",
       "569       CAADDFNKFYF        0                   True  alpha        TRAV13-1   \n",
       "570       CAAGDFNKFYF        0                   True  alpha        TRAV13-1   \n",
       "571       CAAHDFNKFYF        0                   True  alpha        TRAV13-1   \n",
       "...               ...      ...                    ...    ...             ...   \n",
       "4955  CVVSDLMEYGNKLVF      111                  False  alpha         TRAV8-2   \n",
       "4956  CVVSDRMEYGNKLVF      111                  False  alpha         TRAV8-2   \n",
       "4957  CVVSEPSGGYQKVTF      112                  False  alpha  TRAV8-2/TRAV10   \n",
       "4958  CVVSGYGAAGNKLTF      113                  False  alpha  TRAV8-2/TRAV10   \n",
       "4959   CVVSPASGTYKYIF      114                  False  alpha          TRAV10   \n",
       "\n",
       "           j  \n",
       "567   TRAJ21  \n",
       "568   TRAJ21  \n",
       "569   TRAJ21  \n",
       "570   TRAJ21  \n",
       "571   TRAJ21  \n",
       "...      ...  \n",
       "4955  TRAJ47  \n",
       "4956  TRAJ47  \n",
       "4957  TRAJ13  \n",
       "4958  TRAJ17  \n",
       "4959  TRAJ40  \n",
       "\n",
       "[4393 rows x 6 columns]"
      ]
     },
     "execution_count": 11,
     "metadata": {},
     "output_type": "execute_result"
    }
   ],
   "source": [
    "alpha_markers"
   ]
  },
  {
   "cell_type": "code",
   "execution_count": 12,
   "id": "8fb51ec2-e58c-4088-a692-204da43fb25b",
   "metadata": {},
   "outputs": [],
   "source": [
    "beta_representations = [ClonotypeRepresentation(cdr3aa=x[1].cdr3, \n",
    "                                                             v=x[1].v, \n",
    "                                                             j=x[1].j) for x in beta_markers.iterrows()]"
   ]
  },
  {
   "cell_type": "code",
   "execution_count": 13,
   "id": "7d2192c6-0985-4f81-a8cd-688859e971af",
   "metadata": {},
   "outputs": [],
   "source": [
    "alpha_representations = [ClonotypeRepresentation(cdr3aa=x[1].cdr3, \n",
    "                                                             v=x[1].v, \n",
    "                                                             j=x[1].j) for x in alpha_markers.iterrows()]"
   ]
  },
  {
   "cell_type": "code",
   "execution_count": 14,
   "id": "a36cfb85-65a9-4485-a78e-a7f920320dff",
   "metadata": {},
   "outputs": [
    {
     "name": "stderr",
     "output_type": "stream",
     "text": [
      "loading Repertoire objects: 100%|██████████| 1225/1225 [02:05<00:00,  9.80it/s]"
     ]
    },
    {
     "name": "stdout",
     "output_type": "stream",
     "text": [
      "125.73484182357788\n"
     ]
    },
    {
     "name": "stderr",
     "output_type": "stream",
     "text": [
      "\n"
     ]
    }
   ],
   "source": [
    "t0 = time.time()\n",
    "resampled_dataset_TRB = RepertoireDataset.load(parser=VDJtoolsParser(sep=','), \n",
    "                                 metadata=metadata_beta,\n",
    "                                 threads=32,\n",
    "                                 paths=[f'/projects/fmba_covid/publication/downsampled_fmba_TRB/{r[\"run\"]}.clonotypes.TRB.txt' for _, r in metadata_beta.iterrows()])\n",
    "print(time.time() - t0)"
   ]
  },
  {
   "cell_type": "code",
   "execution_count": 15,
   "id": "6a6302c6-5e41-4f39-8c4b-b64ca9779e78",
   "metadata": {},
   "outputs": [
    {
     "name": "stderr",
     "output_type": "stream",
     "text": [
      "loading Repertoire objects: 100%|██████████| 1224/1224 [05:11<00:00,  3.93it/s]\n"
     ]
    },
    {
     "name": "stdout",
     "output_type": "stream",
     "text": [
      "317.59968161582947\n"
     ]
    }
   ],
   "source": [
    "t0 = time.time()\n",
    "resampled_dataset_TRA = RepertoireDataset.load(parser=VDJtoolsParser(sep=','), \n",
    "                                 metadata=metadata_alpha,\n",
    "                                 threads=32,\n",
    "                                 paths=[f'/projects/fmba_covid/publication/downsampled_fmba_TRA/{r[\"run\"]}.clonotypes.TRA.txt' for _, r in metadata_alpha.iterrows()])\n",
    "print(time.time() - t0)"
   ]
  },
  {
   "cell_type": "code",
   "execution_count": 16,
   "id": "292077d0-f478-4ab3-851b-4a5c94d4aa59",
   "metadata": {},
   "outputs": [
    {
     "name": "stderr",
     "output_type": "stream",
     "text": [
      "loading Repertoire objects: 100%|██████████| 1225/1225 [02:31<00:00,  8.08it/s]\n"
     ]
    },
    {
     "name": "stdout",
     "output_type": "stream",
     "text": [
      "162.74003338813782\n"
     ]
    }
   ],
   "source": [
    "t0 = time.time()\n",
    "initial_dataset_TRB = RepertoireDataset.load(parser=VDJtoolsParser(sep=','), \n",
    "                                 metadata=metadata_beta,\n",
    "                                 threads=32,\n",
    "                                 paths=[f'/projects/fmba_covid/publication/fmba/{r[\"run\"]}.clonotypes.TRB.txt' for _, r in metadata_beta.iterrows()])\n",
    "print(time.time() - t0)"
   ]
  },
  {
   "cell_type": "code",
   "execution_count": 17,
   "id": "7c3a9e15-d79a-4742-bfdd-2fad1c35dbdb",
   "metadata": {},
   "outputs": [
    {
     "name": "stderr",
     "output_type": "stream",
     "text": [
      "loading Repertoire objects: 100%|██████████| 1224/1224 [05:52<00:00,  3.47it/s]\n"
     ]
    },
    {
     "name": "stdout",
     "output_type": "stream",
     "text": [
      "365.24679231643677\n"
     ]
    }
   ],
   "source": [
    "t0 = time.time()\n",
    "initial_dataset_TRA = RepertoireDataset.load(parser=VDJtoolsParser(sep=','), \n",
    "                                 metadata=metadata_alpha,\n",
    "                                 threads=32,\n",
    "                                 paths=[f'/projects/fmba_covid/publication/fmba/{r[\"run\"]}.clonotypes.TRA.txt' for _, r in metadata_alpha.iterrows()])\n",
    "print(time.time() - t0)"
   ]
  },
  {
   "cell_type": "code",
   "execution_count": 18,
   "id": "60c9b672-b955-4c49-88d5-e0669d4f929e",
   "metadata": {},
   "outputs": [
    {
     "name": "stderr",
     "output_type": "stream",
     "text": [
      "repertoire dataset serialization: 1224it [04:03,  5.03it/s]\n",
      "repertoire dataset serialization: 1225it [02:01, 10.06it/s]\n",
      "repertoire dataset serialization: 1224it [03:53,  5.25it/s]\n",
      "repertoire dataset serialization: 1225it [02:14,  9.12it/s]\n"
     ]
    }
   ],
   "source": [
    "for dtst in [initial_dataset_TRA, initial_dataset_TRB, resampled_dataset_TRA, resampled_dataset_TRB]:\n",
    "    dtst.serialize_repertoires()"
   ]
  },
  {
   "cell_type": "code",
   "execution_count": 19,
   "id": "e14a19fb-3fb7-4eb7-89ff-b9084d4209af",
   "metadata": {},
   "outputs": [],
   "source": [
    "def get_clonotype_usages_for_dataset(dataset, representations):\n",
    "    dataset.repertoire_matrix_public_clonotypes = representations\n",
    "    dataset.threads = 12\n",
    "    dataset.clonotype_usage_matrix\n",
    "    usages = []\n",
    "    for seq in representations:\n",
    "        usages.append(dataset.clonotype_usage_matrix.get_clone_usage(seq))\n",
    "    return usages"
   ]
  },
  {
   "cell_type": "code",
   "execution_count": 20,
   "id": "2fc60911-cb65-497a-8c54-0785e10ea941",
   "metadata": {},
   "outputs": [
    {
     "name": "stdout",
     "output_type": "stream",
     "text": [
      "clonotype usage matrix should be calculated. it would take a while\n",
      "there are 567 public clonotypes\n",
      "created MultipleRepertoireDenseMatcher\n",
      "started with 12 threads\n",
      "all in all 1225 reps, chunk size is 103, number of batches 12\n"
     ]
    },
    {
     "name": "stderr",
     "output_type": "stream",
     "text": [
      "clonotype usage matrix preparation: 100%|██████████| 12/12 [04:13<00:00, 21.12s/it]\n"
     ]
    }
   ],
   "source": [
    "beta_usages_resampled = get_clonotype_usages_for_dataset(resampled_dataset_TRB, beta_representations)"
   ]
  },
  {
   "cell_type": "code",
   "execution_count": 21,
   "id": "dbf79784-4f09-463c-b0a2-4f86b26aa916",
   "metadata": {},
   "outputs": [
    {
     "name": "stdout",
     "output_type": "stream",
     "text": [
      "clonotype usage matrix should be calculated. it would take a while\n",
      "there are 567 public clonotypes\n",
      "created MultipleRepertoireDenseMatcher\n",
      "started with 12 threads\n",
      "all in all 1225 reps, chunk size is 103, number of batches 12\n"
     ]
    },
    {
     "name": "stderr",
     "output_type": "stream",
     "text": [
      "clonotype usage matrix preparation: 100%|██████████| 12/12 [04:15<00:00, 21.26s/it]\n"
     ]
    }
   ],
   "source": [
    "beta_usages_initial = get_clonotype_usages_for_dataset(initial_dataset_TRB, beta_representations)"
   ]
  },
  {
   "cell_type": "code",
   "execution_count": 22,
   "id": "59b3ad81-c962-459f-a627-08a4bdafde03",
   "metadata": {},
   "outputs": [
    {
     "name": "stdout",
     "output_type": "stream",
     "text": [
      "clonotype usage matrix should be calculated. it would take a while\n",
      "there are 4393 public clonotypes\n",
      "created MultipleRepertoireDenseMatcher\n",
      "started with 12 threads\n",
      "all in all 1224 reps, chunk size is 102, number of batches 12\n"
     ]
    },
    {
     "name": "stderr",
     "output_type": "stream",
     "text": [
      "clonotype usage matrix preparation: 100%|██████████| 12/12 [06:01<00:00, 30.15s/it]\n"
     ]
    }
   ],
   "source": [
    "alpha_usages_resampled = get_clonotype_usages_for_dataset(resampled_dataset_TRA, alpha_representations)"
   ]
  },
  {
   "cell_type": "code",
   "execution_count": 23,
   "id": "9b7f1b49-6df3-4ef6-8e23-f67ab639a8ed",
   "metadata": {},
   "outputs": [
    {
     "name": "stdout",
     "output_type": "stream",
     "text": [
      "clonotype usage matrix should be calculated. it would take a while\n",
      "there are 4393 public clonotypes\n",
      "created MultipleRepertoireDenseMatcher\n",
      "started with 12 threads\n",
      "all in all 1224 reps, chunk size is 102, number of batches 12\n"
     ]
    },
    {
     "name": "stderr",
     "output_type": "stream",
     "text": [
      "clonotype usage matrix preparation: 100%|██████████| 12/12 [06:09<00:00, 30.83s/it]\n"
     ]
    }
   ],
   "source": [
    "alpha_usages_initial = get_clonotype_usages_for_dataset(initial_dataset_TRA, alpha_representations)"
   ]
  },
  {
   "cell_type": "code",
   "execution_count": 24,
   "id": "85f7a890-2b45-460d-801a-43b69538c008",
   "metadata": {},
   "outputs": [
    {
     "data": {
      "text/plain": [
       "<Compressed Sparse Column sparse array of dtype 'float64'\n",
       "\twith 1466134 stored elements and shape (1224, 4393)>"
      ]
     },
     "execution_count": 24,
     "metadata": {},
     "output_type": "execute_result"
    }
   ],
   "source": [
    "initial_dataset_TRA.clonotype_usage_matrix.clonotype_database_usage"
   ]
  },
  {
   "cell_type": "code",
   "execution_count": 25,
   "id": "db7a202e-0ea9-4c28-989a-7b0dfdf6c35a",
   "metadata": {},
   "outputs": [],
   "source": [
    "import seaborn as sns\n",
    "import matplotlib.pyplot as plt\n",
    "from scipy.stats import pearsonr"
   ]
  },
  {
   "cell_type": "code",
   "execution_count": 37,
   "id": "0d979e79-0b59-4f50-b2a3-503853d2bb79",
   "metadata": {},
   "outputs": [
    {
     "data": {
      "image/png": "[encoded data removed]",
      "text/plain": [
       "<Figure size 500x500 with 1 Axes>"
      ]
     },
     "metadata": {},
     "output_type": "display_data"
    },
    {
     "name": "stdout",
     "output_type": "stream",
     "text": [
      "Correlation coefficient (r): 0.9999916683271979\n",
      "P-value: 0.0\n"
     ]
    }
   ],
   "source": [
    "plt.figure(figsize=(5, 5))\n",
    "sns.scatterplot(x=beta_usages_initial, y=beta_usages_resampled, alpha=0.6)\n",
    "plt.title(\"TCRβ\")\n",
    "plt.xlabel(\"Initial usage\")\n",
    "plt.ylabel(\"Resampled usage\")\n",
    "plt.grid(True, linestyle='--', alpha=0.3)\n",
    "\n",
    "# Calculate Pearson correlation coefficient and p-value\n",
    "correlation_coeff, p_value = pearsonr(beta_usages_initial, beta_usages_resampled)\n",
    "\n",
    "# Display correlation coefficient and p-value\n",
    "plt.text(0.05, 0.95, f\"r = {correlation_coeff:.2f}\\nP = {p_value:.2e}\",\n",
    "         transform=plt.gca().transAxes, fontsize=12, verticalalignment='top')\n",
    "\n",
    "# Show plot\n",
    "plt.tight_layout()\n",
    "plt.savefig('beta_usage_init_vs_resampled.svg')\n",
    "plt.show()\n",
    "\n",
    "# Print correlation results to console\n",
    "print(f\"Correlation coefficient (r): {correlation_coeff}\")\n",
    "print(f\"P-value: {p_value}\")\n"
   ]
  },
  {
   "cell_type": "code",
   "execution_count": 38,
   "id": "0b9eaddd-f820-4fb2-a9d2-bc5639f301fc",
   "metadata": {},
   "outputs": [
    {
     "data": {
      "image/png": "[encoded data removed]",
      "text/plain": [
       "<Figure size 500x500 with 1 Axes>"
      ]
     },
     "metadata": {},
     "output_type": "display_data"
    },
    {
     "name": "stdout",
     "output_type": "stream",
     "text": [
      "Correlation coefficient (r): 0.9999585453551638\n",
      "P-value: 0.0\n"
     ]
    }
   ],
   "source": [
    "plt.figure(figsize=(5, 5))\n",
    "sns.scatterplot(x=alpha_usages_initial, y=alpha_usages_resampled, alpha=0.6)\n",
    "plt.title(\"TCRα\")\n",
    "plt.xlabel(\"Initial usage\")\n",
    "plt.ylabel(\"Resampled usage\")\n",
    "plt.grid(True, linestyle='--', alpha=0.3)\n",
    "\n",
    "# Calculate Pearson correlation coefficient and p-value\n",
    "correlation_coeff, p_value = pearsonr(alpha_usages_initial, alpha_usages_resampled)\n",
    "\n",
    "# Display correlation coefficient and p-value\n",
    "plt.text(0.05, 0.95, f\"r = {correlation_coeff:.2f}\\nP = {p_value:.2e}\",\n",
    "         transform=plt.gca().transAxes, fontsize=12, verticalalignment='top')\n",
    "\n",
    "# Show plot\n",
    "plt.tight_layout()\n",
    "plt.savefig('alpha_usage_init_vs_resampled.svg')\n",
    "plt.show()\n",
    "\n",
    "# Print correlation results to console\n",
    "print(f\"Correlation coefficient (r): {correlation_coeff}\")\n",
    "print(f\"P-value: {p_value}\")\n"
   ]
  },
  {
   "cell_type": "code",
   "execution_count": null,
   "id": "00783aeb-37b1-49e5-9671-4742e9329769",
   "metadata": {},
   "outputs": [],
   "source": []
  },
  {
   "cell_type": "code",
   "execution_count": 28,
   "id": "b3fb8320-3a7a-4cbd-9505-b51da8dc86ba",
   "metadata": {},
   "outputs": [
    {
     "data": {
      "text/plain": [
       "<Compressed Sparse Column sparse array of dtype 'float64'\n",
       "\twith 430971 stored elements and shape (1225, 567)>"
      ]
     },
     "execution_count": 28,
     "metadata": {},
     "output_type": "execute_result"
    }
   ],
   "source": [
    "initial_dataset_TRB.clonotype_usage_matrix.clonotype_database_usage"
   ]
  },
  {
   "cell_type": "code",
   "execution_count": null,
   "id": "8100e0ac-e1c5-4cb4-bf0b-2ab854e2b4a5",
   "metadata": {},
   "outputs": [],
   "source": []
  }
 ],
 "metadata": {
  "kernelspec": {
   "display_name": "bio2025",
   "language": "python",
   "name": "bio2025"
  },
  "language_info": {
   "codemirror_mode": {
    "name": "ipython",
    "version": 3
   },
   "file_extension": ".py",
   "mimetype": "text/x-python",
   "name": "python",
   "nbconvert_exporter": "python",
   "pygments_lexer": "ipython3",
   "version": "3.12.8"
  }
 },
 "nbformat": 4,
 "nbformat_minor": 5
}
